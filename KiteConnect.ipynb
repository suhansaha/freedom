{
 "cells": [
  {
   "cell_type": "markdown",
   "metadata": {},
   "source": [
    "## <span style=\"color:grey\">Initialization</span>"
   ]
  },
  {
   "cell_type": "code",
   "execution_count": 1,
   "metadata": {
    "scrolled": true
   },
   "outputs": [],
   "source": [
    "import pandas as pd\n",
    "import numpy as np\n",
    "import warnings\n",
    "import time\n",
    "import datetime\n",
    "import logging\n",
    "import copy \n",
    "import os\n",
    "from multiprocessing import Process\n",
    "warnings.filterwarnings('ignore')\n",
    "\n",
    "exchange = 'NSE'\n",
    "symbol = \"HDFC\"\n",
    "\n",
    "today = datetime.datetime.now()\n",
    "#configuration for downloading data\n",
    "days =  1\n",
    "years = 5\n",
    "\n",
    "if today.weekday() >= 5:\n",
    "    today = today - datetime.timedelta(days = today.weekday() - 4)\n",
    "    \n",
    "#today = datetime.datetime(2019, 4, 8, 15, 45, 0)\n",
    "\n",
    "\n",
    "toDate = today\n",
    "#toDate = today - datetime.timedelta(days=3)\n",
    "fromDate = toDate - datetime.timedelta(days = days)\n",
    "\n",
    "\n",
    "#if today.weekday() == 0:\n",
    "#    fromDate = toDate - datetime.timedelta(days = 3)\n",
    "\n",
    "freq = '1min'\n",
    "\n",
    "mode = \"Live\" # Backtesting/Live/Algo\n",
    "offline = False\n",
    "if mode ==\"Live\":\n",
    "    offline = False\n",
    "\n",
    "KiteAPIKey = \"b2w0sfnr1zr92nxm\"\n",
    "KiteAPISecret = \"jtga2mp2e5fn29h8w0pe2kb722g3dh1q\"\n",
    "\n",
    "from enum import Enum\n",
    "class S(Enum):\n",
    "    BUY = 1\n",
    "    SELL = 2\n",
    "    HOLD = 0\n",
    "\n",
    "%run \"KiteConnect_Library.ipynb\"    "
   ]
  },
  {
   "cell_type": "markdown",
   "metadata": {},
   "source": [
    "### Kite - OAuth Login"
   ]
  },
  {
   "cell_type": "code",
   "execution_count": 2,
   "metadata": {
    "scrolled": true
   },
   "outputs": [],
   "source": [
    "from kiteconnect import KiteConnect\n",
    "import platform\n",
    "from selenium import webdriver\n",
    "import re\n",
    "\n",
    "logging.basicConfig(filename=\"log/live_log.log\", filemode=\"a\", level=logging.DEBUG, format=\"[%(asctime)s: %(levelname)s]:%(message)s\")\n",
    "logger=logging.getLogger()\n",
    "\n",
    "kite = KiteConnect(api_key=KiteAPIKey)\n",
    "reauthentication = False\n",
    "\n",
    "f = open(\"kite_data/access_token.txt\", mode=\"r\")\n",
    "access_token = f.readlines()\n",
    "logger.info(access_token[0])\n",
    "kite.set_access_token(access_token[0])\n",
    "\n",
    "try:\n",
    "    logger.info(\"Welcome \"+kite.profile()['user_name'])\n",
    "except:\n",
    "    if platform.system() == \"Windows\":\n",
    "        driver = webdriver.Chrome(\"./automation/chromedriver.exe\")\n",
    "    else:\n",
    "        driver = webdriver.Chrome(\"./automation/chromedriver\")\n",
    "    driver.get(kite.login_url())\n",
    "    reauthentication = True\n",
    "    "
   ]
  },
  {
   "cell_type": "code",
   "execution_count": 3,
   "metadata": {},
   "outputs": [],
   "source": [
    "if reauthentication:\n",
    "    request_token = re.findall(\"request_token=(.*)&action\",driver.current_url)\n",
    "\n",
    "    data = kite.generate_session(request_token[0], api_secret=KiteAPISecret)\n",
    "    access_token = data[\"access_token\"]\n",
    "    kite.set_access_token(access_token)\n",
    "    f = open(\"kite_data/access_token.txt\", mode=\"w\")\n",
    "    f.write(access_token)\n",
    "    f.close()\n",
    "    driver.close()"
   ]
  },
  {
   "cell_type": "markdown",
   "metadata": {},
   "source": [
    "### Download NSE Stock Master List"
   ]
  },
  {
   "cell_type": "code",
   "execution_count": 4,
   "metadata": {
    "scrolled": true
   },
   "outputs": [],
   "source": [
    "if offline != True:\n",
    "    instruments_df = getInstruments(exchange)\n",
    "    instruments_df.to_hdf('kite_data/kite_data.h5', key=exchange, mode='w')\n",
    "\n",
    "instruments_df = pd.read_hdf('kite_data/kite_data.h5', key=exchange, mode='r')\n",
    "\n",
    "EQSYMBOL = lambda x:instruments_df[instruments_df['instrument_token']==x].index[0]\n",
    "EQTOKEN = lambda x:instruments_df.loc[x,'instrument_token']"
   ]
  },
  {
   "cell_type": "code",
   "execution_count": null,
   "metadata": {},
   "outputs": [],
   "source": []
  },
  {
   "cell_type": "code",
   "execution_count": 5,
   "metadata": {},
   "outputs": [
    {
     "data": {
      "text/html": [
       "<div>\n",
       "<style scoped>\n",
       "    .dataframe tbody tr th:only-of-type {\n",
       "        vertical-align: middle;\n",
       "    }\n",
       "\n",
       "    .dataframe tbody tr th {\n",
       "        vertical-align: top;\n",
       "    }\n",
       "\n",
       "    .dataframe thead th {\n",
       "        text-align: right;\n",
       "    }\n",
       "</style>\n",
       "<table border=\"1\" class=\"dataframe\">\n",
       "  <thead>\n",
       "    <tr style=\"text-align: right;\">\n",
       "      <th></th>\n",
       "      <th>instrument_token</th>\n",
       "      <th>exchange_token</th>\n",
       "      <th>name</th>\n",
       "      <th>last_price</th>\n",
       "      <th>expiry</th>\n",
       "      <th>strike</th>\n",
       "      <th>tick_size</th>\n",
       "      <th>lot_size</th>\n",
       "      <th>instrument_type</th>\n",
       "      <th>segment</th>\n",
       "      <th>exchange</th>\n",
       "    </tr>\n",
       "    <tr>\n",
       "      <th>tradingsymbol</th>\n",
       "      <th></th>\n",
       "      <th></th>\n",
       "      <th></th>\n",
       "      <th></th>\n",
       "      <th></th>\n",
       "      <th></th>\n",
       "      <th></th>\n",
       "      <th></th>\n",
       "      <th></th>\n",
       "      <th></th>\n",
       "      <th></th>\n",
       "    </tr>\n",
       "  </thead>\n",
       "  <tbody>\n",
       "    <tr>\n",
       "      <th>NIFTY 50</th>\n",
       "      <td>256265</td>\n",
       "      <td>1001</td>\n",
       "      <td>NIFTY 50</td>\n",
       "      <td>0.0</td>\n",
       "      <td></td>\n",
       "      <td>0.0</td>\n",
       "      <td>0.00</td>\n",
       "      <td>0</td>\n",
       "      <td>EQ</td>\n",
       "      <td>NSE-INDICES</td>\n",
       "      <td>NSE</td>\n",
       "    </tr>\n",
       "    <tr>\n",
       "      <th>NIFTY 50</th>\n",
       "      <td>256265</td>\n",
       "      <td>1001</td>\n",
       "      <td>NIFTY 50</td>\n",
       "      <td>0.0</td>\n",
       "      <td></td>\n",
       "      <td>0.0</td>\n",
       "      <td>0.00</td>\n",
       "      <td>0</td>\n",
       "      <td>EQ</td>\n",
       "      <td>INDICES</td>\n",
       "      <td>NSE</td>\n",
       "    </tr>\n",
       "    <tr>\n",
       "      <th>NIFTYEES</th>\n",
       "      <td>2319105</td>\n",
       "      <td>9059</td>\n",
       "      <td>EDELWEISS ETF - NIFTY 50</td>\n",
       "      <td>0.0</td>\n",
       "      <td></td>\n",
       "      <td>0.0</td>\n",
       "      <td>0.01</td>\n",
       "      <td>1</td>\n",
       "      <td>EQ</td>\n",
       "      <td>NSE</td>\n",
       "      <td>NSE</td>\n",
       "    </tr>\n",
       "    <tr>\n",
       "      <th>SETFNIF50</th>\n",
       "      <td>2605057</td>\n",
       "      <td>10176</td>\n",
       "      <td>SBI-ETF NIFTY 50</td>\n",
       "      <td>0.0</td>\n",
       "      <td></td>\n",
       "      <td>0.0</td>\n",
       "      <td>0.01</td>\n",
       "      <td>1</td>\n",
       "      <td>EQ</td>\n",
       "      <td>NSE</td>\n",
       "      <td>NSE</td>\n",
       "    </tr>\n",
       "  </tbody>\n",
       "</table>\n",
       "</div>"
      ],
      "text/plain": [
       "               instrument_token exchange_token                      name  \\\n",
       "tradingsymbol                                                              \n",
       "NIFTY 50                 256265           1001                  NIFTY 50   \n",
       "NIFTY 50                 256265           1001                  NIFTY 50   \n",
       "NIFTYEES                2319105           9059  EDELWEISS ETF - NIFTY 50   \n",
       "SETFNIF50               2605057          10176          SBI-ETF NIFTY 50   \n",
       "\n",
       "               last_price expiry  strike  tick_size  lot_size instrument_type  \\\n",
       "tradingsymbol                                                                   \n",
       "NIFTY 50              0.0            0.0       0.00         0              EQ   \n",
       "NIFTY 50              0.0            0.0       0.00         0              EQ   \n",
       "NIFTYEES              0.0            0.0       0.01         1              EQ   \n",
       "SETFNIF50             0.0            0.0       0.01         1              EQ   \n",
       "\n",
       "                   segment exchange  \n",
       "tradingsymbol                        \n",
       "NIFTY 50       NSE-INDICES      NSE  \n",
       "NIFTY 50           INDICES      NSE  \n",
       "NIFTYEES               NSE      NSE  \n",
       "SETFNIF50              NSE      NSE  "
      ]
     },
     "execution_count": 5,
     "metadata": {},
     "output_type": "execute_result"
    }
   ],
   "source": [
    "instruments_df[instruments_df.name.str.contains('.*NIFTY 50.*')]"
   ]
  },
  {
   "cell_type": "markdown",
   "metadata": {},
   "source": [
    "### Filter Stocks - portfolio maker"
   ]
  },
  {
   "cell_type": "code",
   "execution_count": 6,
   "metadata": {
    "scrolled": true
   },
   "outputs": [],
   "source": [
    "nifty50 = pd.read_csv(\"data/ind_nifty50list.csv\")\n",
    "niftynext50 = pd.read_csv(\"data/ind_niftynext50list.csv\")\n",
    "midcap50 = pd.read_csv(\"data/ind_niftymidcap50list.csv\")\n",
    "\n",
    "downloadlist = nifty50['Symbol']\n",
    "industry = niftynext50['Industry'].unique()"
   ]
  },
  {
   "cell_type": "code",
   "execution_count": 7,
   "metadata": {
    "scrolled": true
   },
   "outputs": [],
   "source": [
    "portfolio = pd.DataFrame(downloadlist.tolist())"
   ]
  },
  {
   "cell_type": "code",
   "execution_count": null,
   "metadata": {},
   "outputs": [],
   "source": []
  },
  {
   "cell_type": "code",
   "execution_count": 8,
   "metadata": {
    "scrolled": true
   },
   "outputs": [],
   "source": [
    "portfolio = pd.DataFrame(['TCS', 'RIIL', 'HDFC','NDTV'])\n",
    "\n",
    "#portfolio = portfolio.append(pd.DataFrame(data=['NIFTY 50']))\n",
    "\n",
    "portfolio = pd.DataFrame(['TATAMOTORS','CIPLA'])\n",
    "\n",
    "#portfolio = pd.DataFrame(downloadlist)\n",
    "#portfolio = pd.DataFrame(['BAJAJ-AUTO','CIPLA'])\n",
    "\n",
    "#portfolio = pd.DataFrame(['BAJAJ-AUTO'])\n",
    "portfolioToken = portfolio[0].apply(EQTOKEN)"
   ]
  },
  {
   "cell_type": "code",
   "execution_count": 9,
   "metadata": {
    "scrolled": true
   },
   "outputs": [
    {
     "data": {
      "text/html": [
       "<div>\n",
       "<style scoped>\n",
       "    .dataframe tbody tr th:only-of-type {\n",
       "        vertical-align: middle;\n",
       "    }\n",
       "\n",
       "    .dataframe tbody tr th {\n",
       "        vertical-align: top;\n",
       "    }\n",
       "\n",
       "    .dataframe thead th {\n",
       "        text-align: right;\n",
       "    }\n",
       "</style>\n",
       "<table border=\"1\" class=\"dataframe\">\n",
       "  <thead>\n",
       "    <tr style=\"text-align: right;\">\n",
       "      <th></th>\n",
       "      <th>0</th>\n",
       "    </tr>\n",
       "  </thead>\n",
       "  <tbody>\n",
       "    <tr>\n",
       "      <th>0</th>\n",
       "      <td>TATAMOTORS</td>\n",
       "    </tr>\n",
       "    <tr>\n",
       "      <th>1</th>\n",
       "      <td>CIPLA</td>\n",
       "    </tr>\n",
       "  </tbody>\n",
       "</table>\n",
       "</div>"
      ],
      "text/plain": [
       "            0\n",
       "0  TATAMOTORS\n",
       "1       CIPLA"
      ]
     },
     "execution_count": 9,
     "metadata": {},
     "output_type": "execute_result"
    }
   ],
   "source": [
    "portfolio"
   ]
  },
  {
   "cell_type": "markdown",
   "metadata": {},
   "source": [
    "### Download Historical Data - Equity"
   ]
  },
  {
   "cell_type": "code",
   "execution_count": null,
   "metadata": {},
   "outputs": [],
   "source": []
  },
  {
   "cell_type": "code",
   "execution_count": 10,
   "metadata": {},
   "outputs": [],
   "source": [
    "def portfolioDownload(stocklist, toDate):\n",
    "    stocklist_df = pd.DataFrame()\n",
    "    for index, row in stocklist.iterrows():\n",
    "        symbol = row[0]\n",
    "        logging.info(\"Downloading data for: \"+symbol)\n",
    "        temp_data = downloadData(symbol,  toDate - dt.timedelta(days = 5), toDate)\n",
    "        temp_data['symbol'] = symbol\n",
    "        temp_data.set_index(['symbol',temp_data.index], inplace=True)\n",
    "        #print(temp_data)\n",
    "        stocklist_df = stocklist_df.append(temp_data)\n",
    "    \n",
    "    #print(stocklist_df)\n",
    "    return stocklist_df    \n",
    "\n",
    "if False:\n",
    "    portfolio_df = pd.DataFrame()\n",
    "    portfolio_df = portfolioDownload(portfolio, today)\n",
    "    portfolio_df.to_hdf('kite_data/kite_data.h5', key=\"portfolio\",mode='a')\n",
    "\n",
    "#portfolio_df.loc['HDFC']"
   ]
  },
  {
   "cell_type": "markdown",
   "metadata": {},
   "source": [
    "### Batch Downloader"
   ]
  },
  {
   "cell_type": "code",
   "execution_count": 13,
   "metadata": {
    "scrolled": true
   },
   "outputs": [],
   "source": [
    "def batchDownload(downloadlist):\n",
    "    for symbol in downloadlist:\n",
    "        logging.info(\"Downloading data for: \"+symbol)\n",
    "\n",
    "        raw_data = downloadData(symbol, fromDate, toDate)\n",
    "        raw_data_day = downloadData(symbol,  toDate - dt.timedelta(days = years * 365),toDate, freq=\"day\")\n",
    "\n",
    "        raw_data_day.to_hdf('kite_data/kite_data.h5', key=symbol+\"day\",mode='a')\n",
    "        raw_data.to_hdf('kite_data/kite_data.h5', key=symbol,mode='a')"
   ]
  },
  {
   "cell_type": "markdown",
   "metadata": {},
   "source": [
    "### Incremental Download - untested"
   ]
  },
  {
   "cell_type": "code",
   "execution_count": 14,
   "metadata": {
    "scrolled": true
   },
   "outputs": [],
   "source": [
    "def incrementalDownload(downloadlist):\n",
    "    for symbol in downloadlist:\n",
    "        logging.info(\"Downloading data for: \"+symbol)\n",
    "        tempData = pd.read_hdf('kite_data/kite_data.h5', key=symbol,mode='r')\n",
    "        fromDate = tempData.index[-1]\n",
    "        toDate = datetime.datetime.now()\n",
    "        raw_data = downloadData(symbol, fromDate, toDate)\n",
    "        tempData = tempData.append(raw_data)\n",
    "        tempData.to_hdf('kite_data/kite_data.h5', key=symbol,mode='a')\n",
    "        \n",
    "        tempData = pd.read_hdf('kite_data/kite_data.h5', key=symbol+\"day\",mode='r')\n",
    "        fromDate = tempData.index[-1]\n",
    "        toDate = datetime.datetime.now()\n",
    "        raw_data = downloadData(symbol, fromDate, toDate, freq=\"day\")\n",
    "        \n",
    "        tempData.to_hdf('kite_data/kite_data.h5', key=symbol+\"day\",mode='a')\n",
    "    \n",
    "    "
   ]
  },
  {
   "cell_type": "markdown",
   "metadata": {},
   "source": [
    "### Historical Data storage strategy\n",
    "\n",
    "* minute level data and day level ohlc data is stored in the hd5\n",
    "* symbol name is used as a key in the hd5 file system\n",
    "\n",
    "### Tick Data storage strategy\n",
    "- Tick data should not be merged with the downloaded historical data\n",
    "- At the start of the trading session, last 60 candles from the historical data is fetched and stored in the dataframe for holding live data\n",
    "- Two DataFrames ares created for storing live data: 1 for storing timestamp and LTP, another for OHLC\n",
    "- OHLC data is created by grouping data first based on stock symbol and then based on timestamp(seconds and miliseconds are ignored)\n",
    "- Streaming data from all the stocks in portfolio are strored in a single table. During post-procession subset of the master table sliced based on symbol is used\n",
    "- Streaming data is resampled for minute frequency every minute to convert it to OHLC data which is stored in another dataframe\n",
    "- Symbol is used as a key for the streaming OHLC dataframe storage"
   ]
  },
  {
   "cell_type": "markdown",
   "metadata": {},
   "source": [
    "### Load Data from disk"
   ]
  },
  {
   "cell_type": "raw",
   "metadata": {
    "scrolled": true
   },
   "source": [
    "if mode==\"Live\":\n",
    "    raw_data = pd.read_hdf('kite_data/kite_data.h5', key=\"portfolio\",mode='r')\n",
    "else:\n",
    "    raw_data = pd.read_hdf('kite_data/kite_data.h5', key=\"portfolio\",mode='r')"
   ]
  },
  {
   "cell_type": "code",
   "execution_count": null,
   "metadata": {},
   "outputs": [],
   "source": []
  },
  {
   "cell_type": "markdown",
   "metadata": {},
   "source": [
    "##  <span style=\"color:green\">Trading Strategies </span>"
   ]
  },
  {
   "cell_type": "code",
   "execution_count": 11,
   "metadata": {
    "cell_style": "center",
    "code_folding": [
     38,
     55,
     58,
     61,
     64,
     72,
     77,
     80,
     83,
     89,
     92,
     95,
     103,
     106,
     110,
     113,
     130,
     203
    ],
    "scrolled": false
   },
   "outputs": [],
   "source": [
    "#pivotPoint(raw_data, pos=1, plot=False)\n",
    "#raw_data = calculateStats(raw_data)\n",
    "#raw_data = emasma(raw_data)\n",
    "#raw_data = adx(raw_data)\n",
    "#raw_data = detectCDPattern(raw_data,strPlot=\"hammer\", plot=True)\n",
    "#raw_data = stoch(raw_data)\n",
    "\n",
    "# ====== Tradescript Wrapper =======\n",
    "# Variables\n",
    "OPEN = 0\n",
    "CLOSE = 0\n",
    "HIGH = 0\n",
    "LOW = 0\n",
    "VOLUME = 0\n",
    "BBT = 0\n",
    "BBM = 0\n",
    "BBB = 0\n",
    "AroonUp = 0\n",
    "AroonDown = 0\n",
    "iMACD = 0\n",
    "iMACDhist = 0\n",
    "iMACDsignal = 0\n",
    "UP = 0\n",
    "DOWN = 1\n",
    "SD = 0\n",
    "iRSI = 0 \n",
    "atr = 0\n",
    "STATE = \"SELL\"\n",
    "\n",
    "# Methods\n",
    "REF = lambda df, i: df.shift(i)\n",
    "TREND_UP = lambda a, days: ROC(a,days) >= 0.01\n",
    "TREND_DOWN = lambda a, days: ROC(a,days) <= -0.01\n",
    "CROSSOVER = lambda a, b: (REF(a,1)<=REF(b,1)) & (a > b)\n",
    "profit = 0\n",
    "stoploss = 0\n",
    "squareoff = 0\n",
    "\n",
    "class algoTrade:\n",
    "    \n",
    "    def __init__(s, price):\n",
    "        #logging.debug(price.tail(10))\n",
    "        global OPEN, CLOSE, HIGH, LOW, VOLUME, BBT, BBM, BBB, AroonDown, AroonUp\n",
    "        global iMACD, iMACDhist, iMACDsignal, SD, iRSI\n",
    "        OPEN = price['open']\n",
    "        CLOSE = price['close']\n",
    "        HIGH = price['high']\n",
    "        LOW = price['low']\n",
    "        VOLUME = price['volume']\n",
    "        BBT, BBM, BBB = BBANDS( CLOSE, 20,2,2,1)\n",
    "        AroonDown, AroonUp = AROON(HIGH, LOW, 25)\n",
    "        iMACD, iMACDsignal, iMACDhist = MACDEXT(CLOSE, fastperiod=12, slowperiod=26, signalperiod=9,  fastmatype=1, slowmatype=1,signalmatype=1)\n",
    "        SD = STDDEV(CLOSE)\n",
    "        iRSI = RSI(CLOSE, timeperiod=14)\n",
    "        #atr = ATR(CLOSE)\n",
    "    \n",
    "    # Long Strategies\n",
    "    def long_bb(self):\n",
    "        return pd.DataFrame( (REF(CLOSE, 1) < REF(BBB, 1)) & (CLOSE > BBB), columns=[\"buy\"] )\n",
    "    \n",
    "    def long_bull_engulf_ema(self):\n",
    "        return pd.DataFrame( (EMA(CLOSE, 9) < EMA(CLOSE, 21)) & (CDLENGULFING(OPEN, HIGH, LOW, CLOSE) == 100) ,columns =[\"buy\"])\n",
    "    \n",
    "    def long_hammer(self):\n",
    "        return pd.DataFrame(TREND_DOWN(CLOSE, 10) & (CDLHAMMER(OPEN, HIGH, LOW, CLOSE) != 0), columns=[\"buy\"])\n",
    "    \n",
    "    def long_ichimoku(self):\n",
    "        C = ( SMA(HIGH, 9) + SMA(LOW, 9) )/2\n",
    "        D = ( SMA(HIGH, 26) + SMA(LOW, 26) )/2\n",
    "        A = (C+D)/2\n",
    "        B = (SMA(HIGH,52)+SMA(LOW,52))/2\n",
    "        \n",
    "        return pd.DataFrame( CROSSOVER(A,B) ,columns=[\"buy\"])\n",
    "    \n",
    "    def long_aroon(self):\n",
    "        return pd.DataFrame((AroonUp > 50) & (AroonDown<50), columns=[\"buy\"])\n",
    "        \n",
    "    \n",
    "    # Short Strategies\n",
    "    def short_bb(self):\n",
    "        return pd.DataFrame((REF(CLOSE,1) > REF(BBT,1)) & (CLOSE<BBT), columns=[\"sell\"])\n",
    "    \n",
    "    def short_bear_engulf(self):\n",
    "        return pd.DataFrame(TREND_UP(CLOSE,10) & (CDLENGULFING(OPEN, HIGH, LOW, CLOSE) == -100),columns=[\"sell\"])\n",
    "    \n",
    "    def short_hanging_man(self):\n",
    "        return pd.DataFrame(\n",
    "            TREND_UP(CLOSE, 10) &\n",
    "            (CDLHANGINGMAN(OPEN, HIGH, LOW, CLOSE) == -100)\n",
    "            , columns=[\"sell\"])\n",
    "    \n",
    "    def short_bear_kicking(self):\n",
    "        return pd.DataFrame(CDLKICKING(OPEN, HIGH, LOW, CLOSE) != 0, columns=[\"sell\"])\n",
    "        \n",
    "    def short_shooting_star(self):\n",
    "        return pd.DataFrame( TREND_UP(CLOSE, 5) & CDLSHOOTINGSTAR(OPEN, HIGH, LOW, CLOSE) != 0, columns=[\"sell\"])\n",
    "    \n",
    "    def short_ichimoku(self):\n",
    "        C = ( SMA(HIGH, 9) + SMA(LOW, 9) )/2\n",
    "        D = ( SMA(HIGH, 26) + SMA(LOW, 26) )/2\n",
    "        A = (C+D)/2\n",
    "        B = (SMA(HIGH,52)+SMA(LOW,52))/2\n",
    "        \n",
    "        return pd.DataFrame( CROSSOVER(B,A) ,columns=[\"sell\"])\n",
    "    \n",
    "    def short_aroon(self):\n",
    "        return pd.DataFrame((AroonUp < 50) & (AroonDown > 50), columns=[\"sell\"])\n",
    "    \n",
    "    def long_macd_crossover(self):\n",
    "        return pd.DataFrame(CROSSOVER(iMACD, iMACDsignal), columns=[\"buy\"])\n",
    "    \n",
    "    \n",
    "    def short_macd_crossover(self):\n",
    "        return pd.DataFrame(CROSSOVER(iMACDsignal, iMACD), columns=[\"sell\"])\n",
    "    \n",
    "    def tradeDecision(self):\n",
    "        buy  = self.long_macd_crossover() # | self.long_bb() #| self.long_ichimoku() #| self.long_bull_engulf_ema() #| self.long_ichimoku()\n",
    "        \n",
    "        sell = self.short_bb() # |self.short_macd_crossover() # | self.short_bb() #| self.short_bear_engulf() #| self.short_hanging_man() #|  self.short_ichimoku()\n",
    "        \n",
    "        buy['low'] = LOW\n",
    "        sell['high'] = HIGH\n",
    "        buy['close'] = sell['close'] = CLOSE\n",
    "        buy['sl'] = CLOSE - SD\n",
    "        sell['sl'] = CLOSE + SD\n",
    "        buy['so'] = CLOSE + 4 * SD\n",
    "        sell['so'] = CLOSE - 4 * SD\n",
    "\n",
    "        buy = buy[buy['buy']]\n",
    "        sell = sell[sell['sell']]\n",
    "        return (buy,sell)\n",
    "    \n",
    "    def tradeRecommendation(self):\n",
    "        buy, sell = self.tradeDecision()\n",
    "        timeNow = dt.datetime.now().replace(second=0, microsecond=0)\n",
    "        delT1 = timeNow - datetime.timedelta(minutes = 1)\n",
    "        delT2 = timeNow - datetime.timedelta(minutes = 2)\n",
    "        logging.debug(str(timeNow))\n",
    "        logging.debug(buy.tail(3))\n",
    "        logging.debug(sell.tail(3))\n",
    "        if (delT1 == buy.index[-1]) | (delT2 == buy.index[-1]) :\n",
    "            return \"buy,\"+str(timeNow) +\",\"+str(buy.iloc[-1]['low'])+\",\"+str(buy.iloc[-1]['close'])+\"\\n\"\n",
    "        elif (delT1 == sell.index[-1]) | (delT2 == sell.index[-1]) :  \n",
    "            return \"sell,\"+str(timeNow) +\",\"+str(sell.iloc[-1]['high'])+\",\"+str(sell.iloc[-1]['close'])+\"\\n\"\n",
    "        return \"\"\n",
    "\n",
    "    \n",
    "    def tradeBot(self, symbol):\n",
    "        global STATE\n",
    "        buy, sell = self.tradeDecision()\n",
    "        logger.debug(symbol+\",\"+STATE)\n",
    "        timeNow = dt.datetime.now().replace(second=0, microsecond=0)\n",
    "        delT1 = timeNow - datetime.timedelta(minutes = 1)\n",
    "        delT2 = timeNow - datetime.timedelta(minutes = 2)\n",
    "        \n",
    "        price = CLOSE[-1]\n",
    "        trigger = CLOSE[-1]\n",
    "        stoploss = SD[-1]\n",
    "        squareoff = 3 * SD[-1] \n",
    "        \n",
    "        logger.debug(buy)\n",
    "        logger.debug(sell)\n",
    "        \n",
    "        if buy.empty | sell.empty:\n",
    "            return\n",
    "        \n",
    "        if (buy.empty != True) & ((delT1 == buy.index[-1]) | (delT2 == buy.index[-1])) & (STATE != \"SELL\"):\n",
    "            #buy_bo(symbol, price, trigger, stoploss, squareoff, quantity=1)\n",
    "            buy_sl(symbol, price, stoploss, quantity=1)\n",
    "            STATE = \"SELL\"\n",
    "        elif (sell.empty != True) & ((delT1 == sell.index[-1]) | (delT2 == sell.index[-1])) & (STATE != \"BUY\"):\n",
    "            STATE = \"BUY\"\n",
    "            #sell_bo(symbol, price, trigger, stoploss, squareoff, quantity=1)\n",
    "            sell_sl(symbol, price, stoploss, quantity=1)\n",
    "            \n",
    "    def papertradeBot(self, symbol, timestamp):\n",
    "        global STATE, profit, squareoff, stoploss\n",
    "        buy, sell = self.tradeDecision()\n",
    "        #logger.debug(buy)\n",
    "\n",
    "        timeNow = timestamp\n",
    "        delT1 = timeNow - datetime.timedelta(minutes = 1)\n",
    "        delT2 = timeNow - datetime.timedelta(minutes = 2)\n",
    "\n",
    "        #logger.debug(timeNow)\n",
    "\n",
    "        price = CLOSE[-1]\n",
    "        trigger = CLOSE[-1]\n",
    "        stoploss = 2*SD[-1]\n",
    "        squareoff = 3 * SD[-1] \n",
    "        \n",
    "        if LOW[-1]<=stoploss:\n",
    "            profit = profit - stoploss\n",
    "            STATE = \"BUY\"\n",
    "            return\n",
    "        \n",
    "        #if HIGH[-1] >= squareoff:\n",
    "        #    profit = profit - squareoff\n",
    "        #    STATE = \"BUY\"\n",
    "        #    return\n",
    "\n",
    "        if buy.empty | sell.empty:\n",
    "            return\n",
    "        \n",
    "        if ((delT1 == buy.index[-1]) or (delT2 == buy.index[-1])) and (STATE != \"SELL\"):\n",
    "            profit = profit - price\n",
    "            #buy_bo(symbol, price, trigger, stoploss, squareoff, quantity=1)\n",
    "            buy_sl(symbol, price, stoploss, quantity=1)\n",
    "            STATE = \"SELL\"\n",
    "        elif ((delT1 == sell.index[-1]) | (delT2 == sell.index[-1])) and (STATE != \"BUY\"):\n",
    "            profit = profit + price\n",
    "            STATE = \"BUY\"\n",
    "            #sell_bo(symbol, price, trigger, stoploss, squareoff, quantity=1)\n",
    "            sell_sl(symbol, price, stoploss, quantity=1)\n",
    "            \n",
    "        \n",
    "papertrade = True\n",
    "if (mode==\"Algo\") & (papertrade == False):\n",
    "    global fig\n",
    "    noofcandles = 60\n",
    "    x = \"HDFC\"\n",
    "    temp_data = downloadData(x, fromDate = toDate - dt.timedelta(days=2), toDate=toDate, freq=\"minute\")\n",
    "    \n",
    "    #logger.debug(temp_data)\n",
    "    #temp_data = downloadData(x, fromDate, toDate, \"day\")\n",
    "    #logging.debug(temp_data)\n",
    "        \n",
    "    yMin = temp_data.iloc[-1*noofcandles:-1]['low'].min()-10\n",
    "    yMax = temp_data.iloc[-1*noofcandles:-1]['high'].max()\n",
    "\n",
    "    xMin = temp_data.index[-1*noofcandles]\n",
    "    xMax = temp_data.index[-1]\n",
    "    fig = createPlot(x)\n",
    "    fig['layout']['yaxis']['range'] = [yMin, yMax]\n",
    "    fig['layout']['yaxis']['range'] = [xMin, xMax]\n",
    "\n",
    "    #temp_data = resample2(temp_data.loc[symbol],\"1min\").dropna()[-20*noofcandles:-1]\n",
    "    temp_data = candlestick(temp_data,1,True)\n",
    "    temp_data = bbands(temp_data,1, True)\n",
    "\n",
    "    temp_data = macd(temp_data,3,True)\n",
    "    temp_data = rsi(temp_data,4, True)\n",
    "    temp_data = aroon(temp_data,5, True)\n",
    "    obv(temp_data,2, True)\n",
    "    \n",
    "\n",
    "    #print(temp_data.tail(200))\n",
    "    \n",
    "    a = algoTrade(temp_data)\n",
    "    buy, sell = a.tradeDecision()\n",
    "    #print(buy)\n",
    "    #print(sell)\n",
    "    #print(CLOSE)\n",
    "    \n",
    "    #a.tradeRecommendation()\n",
    "    buy_df = annotateBuySell(buy, \"Buy\")\n",
    "    sell_df = annotateBuySell(sell, \"Sell\")\n",
    "    plotData(x, True)\n"
   ]
  },
  {
   "cell_type": "code",
   "execution_count": 47,
   "metadata": {},
   "outputs": [
    {
     "name": "stdout",
     "output_type": "stream",
     "text": [
      "6.25\n"
     ]
    }
   ],
   "source": [
    "papertrade = True\n",
    "if papertrade:\n",
    "    profit = 0\n",
    "    STATE = \"BUY\"\n",
    "    squareoff = 0\n",
    "    stoploss = 0\n",
    "    global fig\n",
    "    noofcandles = 60\n",
    "    x = \"CIPLA\"\n",
    "    temp_data = downloadData(x, fromDate = toDate - dt.timedelta(days=2), toDate=toDate, freq=\"minute\")\n",
    "    rowSize = temp_data.shape[0]\n",
    "    \n",
    "    for i in np.linspace(120,rowSize-1, rowSize-121, dtype=\"int64\"):\n",
    "        a = algoTrade(temp_data.iloc[(i-120):i])\n",
    "        a.papertradeBot(x, temp_data.index[i])\n",
    "        #print(temp_data.iloc[(i-30):i])\n",
    "\n",
    "print(profit)"
   ]
  },
  {
   "cell_type": "code",
   "execution_count": null,
   "metadata": {},
   "outputs": [],
   "source": []
  },
  {
   "cell_type": "code",
   "execution_count": 15,
   "metadata": {
    "cell_style": "center"
   },
   "outputs": [],
   "source": [
    "temp_data = downloadData('HDFC', fromDate = toDate - dt.timedelta(days=365), toDate= toDate, freq=\"day\")"
   ]
  },
  {
   "cell_type": "code",
   "execution_count": null,
   "metadata": {},
   "outputs": [],
   "source": []
  },
  {
   "cell_type": "code",
   "execution_count": 16,
   "metadata": {},
   "outputs": [],
   "source": [
    "temp_data['atr'] = ATR(temp_data.high, temp_data.low, temp_data.close)\n",
    "#temp_data['sma'] = SMA(temp_data.close)\n",
    "temp_data['sd-'] = temp_data.shift(1).close - STDDEV(temp_data.shift(1).close)\n",
    "temp_data['sd+'] = temp_data.shift(1).close + STDDEV(temp_data.shift(1).close)\n",
    "temp_data['2sd-'] = temp_data.shift(1).close - 2*STDDEV(temp_data.shift(1).close)\n",
    "temp_data['2sd+'] = temp_data.shift(1).close + 2* STDDEV(temp_data.shift(1).close)\n",
    "\n",
    "from talib import TRANGE, NATR\n",
    "\n",
    "temp_data['tr'] = TRANGE(temp_data.high, temp_data.low, temp_data.close)\n",
    "temp_data['natr'] = NATR(temp_data.high, temp_data.low, temp_data.close)"
   ]
  },
  {
   "cell_type": "code",
   "execution_count": null,
   "metadata": {},
   "outputs": [],
   "source": []
  },
  {
   "cell_type": "markdown",
   "metadata": {
    "scrolled": true
   },
   "source": [
    "## <span style=\"color:blue\">BackTesting</span>"
   ]
  },
  {
   "cell_type": "code",
   "execution_count": 17,
   "metadata": {},
   "outputs": [],
   "source": [
    "logger.setLevel(logging.DEBUG)"
   ]
  },
  {
   "cell_type": "markdown",
   "metadata": {
    "heading_collapsed": true
   },
   "source": [
    "### Multithreaded"
   ]
  },
  {
   "cell_type": "code",
   "execution_count": 24,
   "metadata": {
    "hidden": true,
    "scrolled": false
   },
   "outputs": [],
   "source": [
    "import matplotlib.pyplot as plt\n",
    "import seaborn as sns\n",
    "import plotly.graph_objs as go\n",
    "from plotly import tools\n",
    "from plotly.offline import download_plotlyjs, init_notebook_mode, plot, iplot\n",
    "\n",
    "noofcandles = 50\n",
    "from multiprocessing import Pool\n",
    "def threadedBatchAnalysis(x):\n",
    "    fig = \"\"\n",
    "    temp_data = downloadData(x, fromDate=toDate - dt.timedelta(days=365), toDate=toDate, freq=\"day\")\n",
    "    #logging.debug(temp_data)\n",
    "        \n",
    "    yMin = temp_data.iloc[-1*noofcandles:-1]['low'].min()-10\n",
    "    yMax = temp_data.iloc[-1*noofcandles:-1]['high'].max()\n",
    "\n",
    "    xMin = temp_data.index[-1*noofcandles]\n",
    "    xMax = temp_data.index[-1]\n",
    "    fig = createPlot(x)\n",
    "    fig['layout']['yaxis']['range'] = [yMin, yMax]\n",
    "    fig['layout']['yaxis']['range'] = [xMin, xMax]\n",
    "\n",
    "    #print(temp_data.head())\n",
    "    #temp_data = resample2(temp_data.loc[symbol],\"1min\").dropna()[-20*noofcandles:-1]\n",
    "    temp_data = candlestick(temp_data,1,True)\n",
    "    temp_data = bbands(temp_data,1, True)\n",
    "\n",
    "    temp_data = macd(temp_data,3,True)\n",
    "    temp_data = rsi(temp_data,4, True)\n",
    "    temp_data = aroon(temp_data,5, True)\n",
    "    obv(temp_data,2, True)\n",
    "\n",
    "    a = algoTrade(temp_data)\n",
    "    buy, sell = a.tradeDecision()\n",
    "    buy_df = annotateBuySell(buy, \"Buy\")\n",
    "    sell_df = annotateBuySell(sell, \"Sell\")\n",
    "    #print(os.getcwd())\n",
    "    plotData(x, True)\n",
    "\n",
    "if __name__ == '__main__':\n",
    "    #if True | (mode == \"Algo\"):\n",
    "    logger.debug(\"Hello\")\n",
    "    p = Pool(10)\n",
    "    p.map_async(threadedBatchAnalysis, portfolio[0])\n",
    "    #p.apply_async(threadedBatchAnalysis, ['SBIN'])\n",
    "    #portfolio\n",
    "    \n",
    "#threadedBatchAnalysis()"
   ]
  },
  {
   "cell_type": "code",
   "execution_count": 33,
   "metadata": {
    "hidden": true
   },
   "outputs": [
    {
     "data": {
      "text/plain": [
       "(64, 1, 6)"
      ]
     },
     "execution_count": 33,
     "metadata": {},
     "output_type": "execute_result"
    }
   ],
   "source": [
    "import gc\n",
    "gc.get_count()"
   ]
  },
  {
   "cell_type": "code",
   "execution_count": null,
   "metadata": {
    "hidden": true
   },
   "outputs": [],
   "source": []
  },
  {
   "cell_type": "code",
   "execution_count": 34,
   "metadata": {
    "hidden": true
   },
   "outputs": [
    {
     "data": {
      "text/plain": [
       "15062"
      ]
     },
     "execution_count": 34,
     "metadata": {},
     "output_type": "execute_result"
    }
   ],
   "source": [
    "gc.collect()"
   ]
  },
  {
   "cell_type": "code",
   "execution_count": null,
   "metadata": {
    "hidden": true
   },
   "outputs": [],
   "source": []
  },
  {
   "cell_type": "markdown",
   "metadata": {
    "heading_collapsed": true
   },
   "source": [
    "### Backtesting - Single Threaded"
   ]
  },
  {
   "cell_type": "code",
   "execution_count": 32,
   "metadata": {
    "hidden": true
   },
   "outputs": [
    {
     "ename": "NetworkException",
     "evalue": "Request preparation failed (kitetrade-common).",
     "output_type": "error",
     "traceback": [
      "\u001b[1;31m---------------------------------------------------------------------------\u001b[0m",
      "\u001b[1;31mNetworkException\u001b[0m                          Traceback (most recent call last)",
      "\u001b[1;32m<ipython-input-32-47ede7572024>\u001b[0m in \u001b[0;36m<module>\u001b[1;34m\u001b[0m\n\u001b[0;32m     45\u001b[0m \u001b[1;33m\u001b[0m\u001b[0m\n\u001b[0;32m     46\u001b[0m \u001b[1;33m\u001b[0m\u001b[0m\n\u001b[1;32m---> 47\u001b[1;33m \u001b[0mbatchAnalysis\u001b[0m\u001b[1;33m(\u001b[0m\u001b[0mpd\u001b[0m\u001b[1;33m.\u001b[0m\u001b[0mDataFrame\u001b[0m\u001b[1;33m(\u001b[0m\u001b[1;33m[\u001b[0m\u001b[1;34m'NIFTY 50'\u001b[0m\u001b[1;33m]\u001b[0m\u001b[1;33m)\u001b[0m\u001b[1;33m)\u001b[0m\u001b[1;33m\u001b[0m\u001b[1;33m\u001b[0m\u001b[0m\n\u001b[0m",
      "\u001b[1;32m<ipython-input-32-47ede7572024>\u001b[0m in \u001b[0;36mbatchAnalysis\u001b[1;34m(portfolio)\u001b[0m\n\u001b[0;32m     12\u001b[0m         \u001b[0mfig\u001b[0m \u001b[1;33m=\u001b[0m \u001b[1;34m\"\"\u001b[0m\u001b[1;33m\u001b[0m\u001b[1;33m\u001b[0m\u001b[0m\n\u001b[0;32m     13\u001b[0m         \u001b[0msymbol\u001b[0m \u001b[1;33m=\u001b[0m \u001b[0mrow\u001b[0m\u001b[1;33m[\u001b[0m\u001b[1;36m0\u001b[0m\u001b[1;33m]\u001b[0m \u001b[1;31m#row.iloc[:,0]\u001b[0m\u001b[1;33m\u001b[0m\u001b[1;33m\u001b[0m\u001b[0m\n\u001b[1;32m---> 14\u001b[1;33m         \u001b[0mtemp_data\u001b[0m \u001b[1;33m=\u001b[0m \u001b[0mdownloadData\u001b[0m\u001b[1;33m(\u001b[0m\u001b[0msymbol\u001b[0m\u001b[1;33m,\u001b[0m \u001b[0mfromDate\u001b[0m\u001b[1;33m=\u001b[0m\u001b[0mtoDate\u001b[0m \u001b[1;33m-\u001b[0m \u001b[0mdt\u001b[0m\u001b[1;33m.\u001b[0m\u001b[0mtimedelta\u001b[0m\u001b[1;33m(\u001b[0m\u001b[0mdays\u001b[0m\u001b[1;33m=\u001b[0m\u001b[1;36m365\u001b[0m\u001b[1;33m)\u001b[0m\u001b[1;33m,\u001b[0m \u001b[0mtoDate\u001b[0m\u001b[1;33m=\u001b[0m\u001b[0mtoDate\u001b[0m\u001b[1;33m,\u001b[0m \u001b[0mfreq\u001b[0m\u001b[1;33m=\u001b[0m\u001b[1;34m\"day\"\u001b[0m\u001b[1;33m)\u001b[0m\u001b[1;33m\u001b[0m\u001b[1;33m\u001b[0m\u001b[0m\n\u001b[0m\u001b[0;32m     15\u001b[0m \u001b[1;33m\u001b[0m\u001b[0m\n\u001b[0;32m     16\u001b[0m         \u001b[1;31m#temp_data['symbol'] = symbol\u001b[0m\u001b[1;33m\u001b[0m\u001b[1;33m\u001b[0m\u001b[1;33m\u001b[0m\u001b[0m\n",
      "\u001b[1;32m<ipython-input-1-2dc2a0a9837e>\u001b[0m in \u001b[0;36mdownloadData\u001b[1;34m(symbol, fromDate, toDate, freq)\u001b[0m\n\u001b[0;32m      6\u001b[0m \u001b[1;32mdef\u001b[0m \u001b[0mdownloadData\u001b[0m\u001b[1;33m(\u001b[0m\u001b[0msymbol\u001b[0m\u001b[1;33m=\u001b[0m\u001b[1;34m\"HDFC\"\u001b[0m\u001b[1;33m,\u001b[0m \u001b[0mfromDate\u001b[0m\u001b[1;33m=\u001b[0m \u001b[0mdt\u001b[0m\u001b[1;33m.\u001b[0m\u001b[0mdatetime\u001b[0m\u001b[1;33m.\u001b[0m\u001b[0mnow\u001b[0m\u001b[1;33m(\u001b[0m\u001b[1;33m)\u001b[0m \u001b[1;33m-\u001b[0m \u001b[0mdt\u001b[0m\u001b[1;33m.\u001b[0m\u001b[0mtimedelta\u001b[0m\u001b[1;33m(\u001b[0m\u001b[0mdays\u001b[0m \u001b[1;33m=\u001b[0m \u001b[1;36m1\u001b[0m\u001b[1;33m)\u001b[0m\u001b[1;33m,\u001b[0m \u001b[0mtoDate\u001b[0m\u001b[1;33m=\u001b[0m\u001b[0mdt\u001b[0m\u001b[1;33m.\u001b[0m\u001b[0mdatetime\u001b[0m\u001b[1;33m.\u001b[0m\u001b[0mnow\u001b[0m\u001b[1;33m(\u001b[0m\u001b[1;33m)\u001b[0m\u001b[1;33m,\u001b[0m \u001b[0mfreq\u001b[0m\u001b[1;33m=\u001b[0m\u001b[1;34m\"minute\"\u001b[0m\u001b[1;33m)\u001b[0m\u001b[1;33m:\u001b[0m\u001b[1;33m\u001b[0m\u001b[1;33m\u001b[0m\u001b[0m\n\u001b[0;32m      7\u001b[0m     \u001b[0msymbolToken\u001b[0m \u001b[1;33m=\u001b[0m \u001b[0minstruments_df\u001b[0m\u001b[1;33m.\u001b[0m\u001b[0mloc\u001b[0m\u001b[1;33m[\u001b[0m\u001b[0msymbol\u001b[0m\u001b[1;33m,\u001b[0m\u001b[1;34m'instrument_token'\u001b[0m\u001b[1;33m]\u001b[0m\u001b[1;33m\u001b[0m\u001b[1;33m\u001b[0m\u001b[0m\n\u001b[1;32m----> 8\u001b[1;33m     \u001b[0mraw_data\u001b[0m \u001b[1;33m=\u001b[0m \u001b[0mpd\u001b[0m\u001b[1;33m.\u001b[0m\u001b[0mDataFrame\u001b[0m\u001b[1;33m(\u001b[0m\u001b[0mdata\u001b[0m\u001b[1;33m=\u001b[0m\u001b[0mkite\u001b[0m\u001b[1;33m.\u001b[0m\u001b[0mhistorical_data\u001b[0m\u001b[1;33m(\u001b[0m\u001b[0msymbolToken\u001b[0m\u001b[1;33m,\u001b[0m \u001b[0mfromDate\u001b[0m\u001b[1;33m,\u001b[0m \u001b[0mtoDate\u001b[0m\u001b[1;33m,\u001b[0m \u001b[0mfreq\u001b[0m\u001b[1;33m,\u001b[0m \u001b[0mcontinuous\u001b[0m\u001b[1;33m=\u001b[0m\u001b[1;32mFalse\u001b[0m\u001b[1;33m)\u001b[0m\u001b[1;33m)\u001b[0m\u001b[1;33m\u001b[0m\u001b[1;33m\u001b[0m\u001b[0m\n\u001b[0m\u001b[0;32m      9\u001b[0m     \u001b[0mraw_data\u001b[0m \u001b[1;33m=\u001b[0m \u001b[0mraw_data\u001b[0m\u001b[1;33m.\u001b[0m\u001b[0mset_index\u001b[0m\u001b[1;33m(\u001b[0m\u001b[1;34m'date'\u001b[0m\u001b[1;33m)\u001b[0m\u001b[1;33m.\u001b[0m\u001b[0mtz_localize\u001b[0m\u001b[1;33m(\u001b[0m\u001b[1;32mNone\u001b[0m\u001b[1;33m)\u001b[0m\u001b[1;33m\u001b[0m\u001b[1;33m\u001b[0m\u001b[0m\n\u001b[0;32m     10\u001b[0m     \u001b[1;32mreturn\u001b[0m \u001b[0mraw_data\u001b[0m\u001b[1;33m\u001b[0m\u001b[1;33m\u001b[0m\u001b[0m\n",
      "\u001b[1;32m~\\AppData\\Local\\Continuum\\anaconda3\\lib\\site-packages\\kiteconnect-3.7.7-py3.7.egg\\kiteconnect\\connect.py\u001b[0m in \u001b[0;36mhistorical_data\u001b[1;34m(self, instrument_token, from_date, to_date, interval, continuous)\u001b[0m\n\u001b[0;32m    606\u001b[0m             \u001b[1;34m\"to\"\u001b[0m\u001b[1;33m:\u001b[0m \u001b[0mto_date_string\u001b[0m\u001b[1;33m,\u001b[0m\u001b[1;33m\u001b[0m\u001b[1;33m\u001b[0m\u001b[0m\n\u001b[0;32m    607\u001b[0m             \u001b[1;34m\"interval\"\u001b[0m\u001b[1;33m:\u001b[0m \u001b[0minterval\u001b[0m\u001b[1;33m,\u001b[0m\u001b[1;33m\u001b[0m\u001b[1;33m\u001b[0m\u001b[0m\n\u001b[1;32m--> 608\u001b[1;33m             \u001b[1;34m\"continuous\"\u001b[0m\u001b[1;33m:\u001b[0m \u001b[1;36m1\u001b[0m \u001b[1;32mif\u001b[0m \u001b[0mcontinuous\u001b[0m \u001b[1;32melse\u001b[0m \u001b[1;36m0\u001b[0m\u001b[1;33m\u001b[0m\u001b[1;33m\u001b[0m\u001b[0m\n\u001b[0m\u001b[0;32m    609\u001b[0m         })\n\u001b[0;32m    610\u001b[0m \u001b[1;33m\u001b[0m\u001b[0m\n",
      "\u001b[1;32m~\\AppData\\Local\\Continuum\\anaconda3\\lib\\site-packages\\kiteconnect-3.7.7-py3.7.egg\\kiteconnect\\connect.py\u001b[0m in \u001b[0;36m_get\u001b[1;34m(self, route, params)\u001b[0m\n\u001b[0;32m    695\u001b[0m     \u001b[1;32mdef\u001b[0m \u001b[0m_get\u001b[0m\u001b[1;33m(\u001b[0m\u001b[0mself\u001b[0m\u001b[1;33m,\u001b[0m \u001b[0mroute\u001b[0m\u001b[1;33m,\u001b[0m \u001b[0mparams\u001b[0m\u001b[1;33m=\u001b[0m\u001b[1;32mNone\u001b[0m\u001b[1;33m)\u001b[0m\u001b[1;33m:\u001b[0m\u001b[1;33m\u001b[0m\u001b[1;33m\u001b[0m\u001b[0m\n\u001b[0;32m    696\u001b[0m         \u001b[1;34m\"\"\"Alias for sending a GET request.\"\"\"\u001b[0m\u001b[1;33m\u001b[0m\u001b[1;33m\u001b[0m\u001b[0m\n\u001b[1;32m--> 697\u001b[1;33m         \u001b[1;32mreturn\u001b[0m \u001b[0mself\u001b[0m\u001b[1;33m.\u001b[0m\u001b[0m_request\u001b[0m\u001b[1;33m(\u001b[0m\u001b[0mroute\u001b[0m\u001b[1;33m,\u001b[0m \u001b[1;34m\"GET\"\u001b[0m\u001b[1;33m,\u001b[0m \u001b[0mparams\u001b[0m\u001b[1;33m)\u001b[0m\u001b[1;33m\u001b[0m\u001b[1;33m\u001b[0m\u001b[0m\n\u001b[0m\u001b[0;32m    698\u001b[0m \u001b[1;33m\u001b[0m\u001b[0m\n\u001b[0;32m    699\u001b[0m     \u001b[1;32mdef\u001b[0m \u001b[0m_post\u001b[0m\u001b[1;33m(\u001b[0m\u001b[0mself\u001b[0m\u001b[1;33m,\u001b[0m \u001b[0mroute\u001b[0m\u001b[1;33m,\u001b[0m \u001b[0mparams\u001b[0m\u001b[1;33m=\u001b[0m\u001b[1;32mNone\u001b[0m\u001b[1;33m)\u001b[0m\u001b[1;33m:\u001b[0m\u001b[1;33m\u001b[0m\u001b[1;33m\u001b[0m\u001b[0m\n",
      "\u001b[1;32m~\\AppData\\Local\\Continuum\\anaconda3\\lib\\site-packages\\kiteconnect-3.7.7-py3.7.egg\\kiteconnect\\connect.py\u001b[0m in \u001b[0;36m_request\u001b[1;34m(self, route, method, parameters)\u001b[0m\n\u001b[0;32m    764\u001b[0m                 \u001b[1;31m# native Kite errors\u001b[0m\u001b[1;33m\u001b[0m\u001b[1;33m\u001b[0m\u001b[1;33m\u001b[0m\u001b[0m\n\u001b[0;32m    765\u001b[0m                 \u001b[0mexp\u001b[0m \u001b[1;33m=\u001b[0m \u001b[0mgetattr\u001b[0m\u001b[1;33m(\u001b[0m\u001b[0mex\u001b[0m\u001b[1;33m,\u001b[0m \u001b[0mdata\u001b[0m\u001b[1;33m[\u001b[0m\u001b[1;34m\"error_type\"\u001b[0m\u001b[1;33m]\u001b[0m\u001b[1;33m,\u001b[0m \u001b[0mex\u001b[0m\u001b[1;33m.\u001b[0m\u001b[0mGeneralException\u001b[0m\u001b[1;33m)\u001b[0m\u001b[1;33m\u001b[0m\u001b[1;33m\u001b[0m\u001b[0m\n\u001b[1;32m--> 766\u001b[1;33m                 \u001b[1;32mraise\u001b[0m \u001b[0mexp\u001b[0m\u001b[1;33m(\u001b[0m\u001b[0mdata\u001b[0m\u001b[1;33m[\u001b[0m\u001b[1;34m\"message\"\u001b[0m\u001b[1;33m]\u001b[0m\u001b[1;33m,\u001b[0m \u001b[0mcode\u001b[0m\u001b[1;33m=\u001b[0m\u001b[0mr\u001b[0m\u001b[1;33m.\u001b[0m\u001b[0mstatus_code\u001b[0m\u001b[1;33m)\u001b[0m\u001b[1;33m\u001b[0m\u001b[1;33m\u001b[0m\u001b[0m\n\u001b[0m\u001b[0;32m    767\u001b[0m \u001b[1;33m\u001b[0m\u001b[0m\n\u001b[0;32m    768\u001b[0m             \u001b[1;32mreturn\u001b[0m \u001b[0mdata\u001b[0m\u001b[1;33m[\u001b[0m\u001b[1;34m\"data\"\u001b[0m\u001b[1;33m]\u001b[0m\u001b[1;33m\u001b[0m\u001b[1;33m\u001b[0m\u001b[0m\n",
      "\u001b[1;31mNetworkException\u001b[0m: Request preparation failed (kitetrade-common)."
     ]
    }
   ],
   "source": [
    "import matplotlib.pyplot as plt\n",
    "import seaborn as sns\n",
    "import plotly.graph_objs as go\n",
    "from plotly import tools\n",
    "from plotly.offline import download_plotlyjs, init_notebook_mode, plot, iplot\n",
    "\n",
    "noofcandles = 50\n",
    "def batchAnalysis(portfolio=portfolio):\n",
    "    global fig, noofcandles\n",
    "    \n",
    "    for index, row in portfolio.iterrows():\n",
    "        fig = \"\"\n",
    "        symbol = row[0] #row.iloc[:,0]\n",
    "        temp_data = downloadData(symbol, fromDate=toDate - dt.timedelta(days=365), toDate=toDate, freq=\"day\")\n",
    "        \n",
    "        #temp_data['symbol'] = symbol\n",
    "        #temp_data.set_index(['temp_data.index], inplace=True)\n",
    "        #logging.debug(temp_data)\n",
    "        \n",
    "        yMin = temp_data.iloc[-1*noofcandles:-1]['low'].min()-10\n",
    "        yMax = temp_data.iloc[-1*noofcandles:-1]['high'].max()\n",
    "        \n",
    "        xMin = temp_data.index[-1*noofcandles]\n",
    "        xMax = temp_data.index[-1]\n",
    "        fig = createPlot(symbol)\n",
    "        fig['layout']['yaxis']['range'] = [yMin, yMax]\n",
    "        fig['layout']['yaxis']['range'] = [xMin, xMax]\n",
    "\n",
    "        #temp_data = resample2(temp_data.loc[symbol],\"1min\").dropna()[-20*noofcandles:-1]\n",
    "        temp_data = candlestick(temp_data,1,True)\n",
    "        temp_data = bbands(temp_data,1, True)\n",
    "\n",
    "        temp_data = macd(temp_data,3,True)\n",
    "        temp_data = rsi(temp_data,4, True)\n",
    "        temp_data = aroon(temp_data,5, True)\n",
    "        obv(temp_data,2, True)\n",
    "        \n",
    "        a = algoTrade(temp_data)\n",
    "        buy, sell = a.tradeDecision()\n",
    "        buy_df = annotateBuySell(buy, \"Buy\")\n",
    "        sell_df = annotateBuySell(sell, \"Sell\")\n",
    "        \n",
    "        plotData(symbol)\n",
    "        #input(\"Press Enter to continue\")\n",
    "    \n",
    "\n",
    "batchAnalysis()"
   ]
  },
  {
   "cell_type": "markdown",
   "metadata": {},
   "source": [
    "## <span style=\"color:red\"> Live Trading</span>"
   ]
  },
  {
   "cell_type": "markdown",
   "metadata": {},
   "source": [
    "### Order Management"
   ]
  },
  {
   "cell_type": "code",
   "execution_count": 40,
   "metadata": {
    "code_folding": [],
    "scrolled": true
   },
   "outputs": [],
   "source": [
    "papertrade =True\n",
    "\n",
    "#logging.critical(\"BUY\"+symbol)\n",
    "def buy_sl(symbol, price, stoploss,quantity=1): \n",
    "    logging.critical(\"BUY: \"+symbol+\", price: \"+str(price)+\", stoploss: \"+str(stoploss)+\", quantity: \"+str(quantity))\n",
    "    \n",
    "    if papertrade:\n",
    "        return\n",
    "    \n",
    "    try:\n",
    "        order_id = kite.place_order(tradingsymbol=symbol,\n",
    "                                exchange=kite.EXCHANGE_NSE,\n",
    "                                transaction_type=kite.TRANSACTION_TYPE_BUY,\n",
    "                                quantity=quantity,\n",
    "                                order_type=kite.ORDER_TYPE_SL,\n",
    "                                product=kite.PRODUCT_MIS,\n",
    "                                trigger_price=round(price-stoploss,1),\n",
    "                                #stoploss=round(stoploss,1),\n",
    "                                price=price,\n",
    "                                variety=kite.VARIETY_REGULAR\n",
    "                                )\n",
    "        logging.info(\"Order placed. ID is: {}\".format(order_id))\n",
    "    except Exception as e:\n",
    "        logging.info(\"Order placement failed: {}\".format(e.message))\n",
    "        \n",
    "def buy_bo(symbol, price, trigger, stoploss, squareoff, quantity=1): \n",
    "    logging.critical(\"BUY: \"+symbol+\", price: \"+str(price)+\", squareoff: \"+str(squareoff)+\", stoploss: \"+str(stoploss)+\", quantity: \"+str(quantity))\n",
    "    if papertrade:\n",
    "        return\n",
    "    \n",
    "    \n",
    "    try:\n",
    "        order_id = kite.place_order(tradingsymbol=symbol,\n",
    "                                exchange=kite.EXCHANGE_NSE,\n",
    "                                transaction_type=kite.TRANSACTION_TYPE_BUY,\n",
    "                                quantity=quantity,\n",
    "                                order_type=kite.ORDER_TYPE_SL,\n",
    "                                product=kite.PRODUCT_MIS,\n",
    "                                stoploss=stoploss,\n",
    "                                trigger_price=trigger,\n",
    "                                price=price,\n",
    "                                squareoff=squareoff,\n",
    "                                variety=kite.VARIETY_BO\n",
    "                                )\n",
    "        logging.info(\"Order placed. ID is: {}\".format(order_id))\n",
    "    except Exception as e:\n",
    "        logging.info(\"Order placement failed: {}\".format(e.message))\n",
    "\n",
    "\n",
    "def sell_sl(symbol, price, stoploss, quantity=1):\n",
    "    \n",
    "    logging.critical(\"SELL: \"+symbol+\", price: \"+str(price)+\", stoploss: \"+str(stoploss)+\", quantity: \"+str(quantity))\n",
    "       \n",
    "    if papertrade:\n",
    "         return\n",
    "    try:\n",
    "        order_id = kite.place_order(tradingsymbol=symbol,\n",
    "                            exchange=kite.EXCHANGE_NSE,\n",
    "                            transaction_type=kite.TRANSACTION_TYPE_SELL,\n",
    "                            quantity=quantity,\n",
    "                            order_type=kite.ORDER_TYPE_SLM,\n",
    "                            product=kite.PRODUCT_MIS,\n",
    "                            trigger_price=round(price+stoploss,1),\n",
    "                            #price=price,\n",
    "                            variety=kite.VARIETY_REGULAR)\n",
    "        logging.info(\"Order placed. ID is: {}\".format(order_id))\n",
    "    except Exception as e:\n",
    "        logging.info(\"Order placement failed: {}\".format(e.message))\n",
    "\n",
    "def sell_bo(symbol, price, trigger, stoploss, squareoff, quantity=1): \n",
    "    logging.critical(\"SELL: \"+symbol+\", price: \"+str(price)+\", squareoff: \"+str(squareoff)+\", stoploss: \"+str(stoploss)+\", quantity: \"+str(quantity))\n",
    "    if papertrade:\n",
    "        return\n",
    "    \n",
    "    \n",
    "    try:\n",
    "        order_id = kite.place_order(tradingsymbol=symbol,\n",
    "                                exchange=kite.EXCHANGE_NSE,\n",
    "                                transaction_type=kite.TRANSACTION_TYPE_SELL,\n",
    "                                quantity=quantity,\n",
    "                                order_type=kite.ORDER_TYPE_SL,\n",
    "                                product=kite.PRODUCT_MIS,\n",
    "                                stoploss=stoploss,\n",
    "                                trigger_price=trigger,\n",
    "                                price=price,\n",
    "                                squareoff=squareoff,\n",
    "                                variety=kite.VARIETY_BO\n",
    "                                )\n",
    "        logging.info(\"Order placed. ID is: {}\".format(order_id))\n",
    "    except Exception as e:\n",
    "        logging.info(\"Order placement failed: {}\".format(e.message))\n",
    "        \n",
    "def getOrders():    \n",
    "    # Fetch all orders\n",
    "    return pd.DataFrame(kite.orders())\n",
    "\n",
    "def cancelOrder(orderId):\n",
    "    if papertrade:\n",
    "        logging.critical(\"In Paper Trade Mode: Order cancellation not possible\")\n",
    "        return\n",
    "    \n",
    "    try:\n",
    "        kite.cancel_order(variety=kite.VARIETY_REGULAR, order_id=orderId, parent_order_id=None)    \n",
    "    except Exception as e:\n",
    "        logging.info(\"Order Cancellation failed: {}\".format(e.message))"
   ]
  },
  {
   "cell_type": "code",
   "execution_count": 50,
   "metadata": {},
   "outputs": [
    {
     "data": {
      "text/plain": [
       "6.25"
      ]
     },
     "execution_count": 50,
     "metadata": {},
     "output_type": "execute_result"
    }
   ],
   "source": [
    "profit"
   ]
  },
  {
   "cell_type": "code",
   "execution_count": 22,
   "metadata": {},
   "outputs": [
    {
     "data": {
      "text/plain": [
       "0.0"
      ]
     },
     "execution_count": 22,
     "metadata": {},
     "output_type": "execute_result"
    }
   ],
   "source": [
    "round(0.8133879766952922,2) - round(0.8133879766952922,2)"
   ]
  },
  {
   "cell_type": "code",
   "execution_count": 41,
   "metadata": {},
   "outputs": [],
   "source": [
    "buy_sl(\"CIPLA\",565.5, 1)"
   ]
  },
  {
   "cell_type": "code",
   "execution_count": 39,
   "metadata": {},
   "outputs": [],
   "source": [
    "sell_sl(\"CIPLA\",569,0)"
   ]
  },
  {
   "cell_type": "code",
   "execution_count": 34,
   "metadata": {},
   "outputs": [],
   "source": [
    "cancelOrder(190412002140702)"
   ]
  },
  {
   "cell_type": "code",
   "execution_count": 41,
   "metadata": {},
   "outputs": [],
   "source": [
    "if (mode == \"Live\"):\n",
    "    positions_df = pd.DataFrame(kite.positions()['net'])\n",
    "    positions_df"
   ]
  },
  {
   "cell_type": "code",
   "execution_count": 37,
   "metadata": {},
   "outputs": [],
   "source": [
    "if (mode == \"Live\"):\n",
    "    orders_df = getOrders()\n",
    "    if orders_df.empty != True:\n",
    "        orders_df[orders_df['status']!=''][['order_id','exchange','tradingsymbol','transaction_type','price','trigger_price', 'quantity', 'order_type', 'product', 'status']]\n",
    "    \n",
    "\n"
   ]
  },
  {
   "cell_type": "code",
   "execution_count": 44,
   "metadata": {},
   "outputs": [],
   "source": [
    "logger.debug(positions_df)"
   ]
  },
  {
   "cell_type": "code",
   "execution_count": null,
   "metadata": {
    "code_folding": []
   },
   "outputs": [],
   "source": [
    "if mode == \"Live\" & False:\n",
    "    kite.modify_order(variety=kite.VARIETY_REGULAR, \n",
    "                  order_id=190411002378318, quantity=1, price=282, \n",
    "                  order_type=kite.ORDER_TYPE_SL)\n",
    "\n"
   ]
  },
  {
   "cell_type": "code",
   "execution_count": 24,
   "metadata": {},
   "outputs": [],
   "source": [
    "logger.setLevel(logging.CRITICAL)"
   ]
  },
  {
   "cell_type": "markdown",
   "metadata": {},
   "source": [
    "### WebSocket: Tick Handler and sampler"
   ]
  },
  {
   "cell_type": "code",
   "execution_count": 13,
   "metadata": {
    "scrolled": false
   },
   "outputs": [],
   "source": [
    "import datetime\n",
    "\n",
    "def resample(ws, freq=\"1min\"):\n",
    "    #F = open(\"kite_data/recommendation.csv\",\"a\") \n",
    "    \n",
    "    logging.debug(str(ws.prevtimeStamp)+\": In resampler function\")\n",
    "    \n",
    "    if ws.LiveStream.empty:\n",
    "        logging.debug(str(ws.prevtimeStamp)+\": Empty dataframe, Exiting resampler\")\n",
    "        return\n",
    "      \n",
    "    LiveStream2 = ws.LiveStream.groupby(['symbol','date']).agg({'price':['first','max','min','last'], 'volume':['last']})\n",
    "    LiveStream2.columns = LiveStream2.columns.droplevel()\n",
    "    LiveStream2.columns = ['open', 'high','low','close', 'volume']\n",
    "\n",
    "    for index, data in LiveStream2.groupby(level=0):\n",
    "        sampled = data.loc[index].resample(freq).agg({'open':{'open':'first'},'high':{'high':'max'},'low':{'low':'min'},'close':{'close':'last'},'volume':{'volume':'last'}})\n",
    "        sampled.columns = sampled.columns.droplevel()\n",
    "\n",
    "        sampled['symbol'] = index\n",
    "        sampled.set_index(['symbol',sampled.index], inplace=True)\n",
    "\n",
    "        ws.LiveStreamOHLC = ws.LiveStreamOHLC.append(sampled)\n",
    "        \n",
    "    #logger.info(index+\":\\n\"+str(ws.LiveStreamOHLC.loc[portfolio.iloc[-1,0]].tail(240)))\n",
    "\n",
    "    ws.LiveStreamOHLC.to_csv(\"kite_data/livestreamohlc.csv\", mode='a')\n",
    "\n",
    "    a = algoTrade(ws.LiveStreamOHLC.loc[portfolio.iloc[-1,0]].tail(120))\n",
    "    #reco_df = a.tradeRecommendation()\n",
    "    a.tradeBot(portfolio.iloc[-1,0])\n",
    "    \n",
    "    #try:\n",
    "    #    if reco_df != \"\":\n",
    "    #        F.write(reco_df)\n",
    "    #except   Exception as e:\n",
    "    #    logging.critical(\"Not able to resample and analyse data\"+str(e))\n",
    "    #finally:\n",
    "    #    F.close()\n",
    "        \n",
    "\n",
    "\n",
    "\n",
    "def ticksHandler(ws, ticks):\n",
    "    timeStamp = dt.datetime.now().replace(second=0, microsecond=0)\n",
    "    tick_df = pd.DataFrame(ticks)\n",
    "    \n",
    "    #logging.debug(\"Prev: \"+str(ws.prevtimeStamp)+\"\\nNow: \"+str(timeStamp))\n",
    "    \n",
    "    try:\n",
    "        tick_df.loc[tick_df['timestamp'].isna(), 'timestamp'] = timeStamp\n",
    "        tick_df = tick_df[['timestamp','instrument_token','last_price','volume']]\n",
    "        tick_df.instrument_token = tick_df.instrument_token.apply(EQSYMBOL)\n",
    "        tick_df.columns = ['date','symbol','price','volume']\n",
    "        tick_df.set_index(['symbol','date'], inplace=True)\n",
    "        \n",
    "        timeStamp = tick_df.index[0][-1].to_pydatetime()\n",
    "        \n",
    "        #logging.info(str(timeStamp - ws.prevtimeStamp))\n",
    "        #print(type(timeStamp))\n",
    "        \n",
    "        #logging.debug(\"Exception: ticksHandler: \"+str(tick_df))\n",
    "        #timeStamp = tick_df.loc[portfolio.iloc[-1,0]].index[-1]\n",
    "    except  Exception as e:\n",
    "        logging.debug(\"Exception: ticksHandler: \"+str(e)+str(tick_df))\n",
    "        \n",
    "    if( (timeStamp - ws.prevtimeStamp) >= datetime.timedelta(minutes=1)):\n",
    "        ws.prevtimeStamp = timeStamp\n",
    "        \n",
    "        #ws.cbufferSampling = ws.cbufferAccum.copy(deep=True) #Copy accumulated stream to sampling buffer\n",
    "        #del ws.cbufferAccum\n",
    "        #gc.collect()\n",
    "        #ws.cbufferAccum = pd.DataFrame() #Reset accumulation buffer\n",
    "        #logging.debug(ws.cbufferSampling)\n",
    "        resample(ws)\n",
    "    \n",
    "    #ws.cbufferAccum = ws.cbufferAccum.append(tick_df)\n",
    "    \n",
    "    ws.LiveStream = ws.LiveStream.append(tick_df)\n",
    "    #ws.LiveStream.to_csv(\"kite_data/livestream.csv\", mode='a')\n",
    "\n",
    "def orderNotification(ws,data):\n",
    "    logger.debug(data)\n",
    "\n",
    "def initTrade(ws):\n",
    "    ws.prevtimeStamp = datetime.datetime.now() - dt.timedelta(minutes=10)\n",
    "    toDate = datetime.datetime.now()\n",
    "    #ws.cbufferAccum = pd.DataFrame()\n",
    "    #ws.cbufferSampling = pd.DataFrame()\n",
    "    ws.LiveStream = pd.DataFrame()\n",
    "    ws.LiveStreamOHLC = pd.DataFrame()\n",
    "    ws.LiveStreamOHLC = portfolioDownload(portfolio, toDate)\n",
    "    "
   ]
  },
  {
   "cell_type": "markdown",
   "metadata": {},
   "source": [
    "### WebSocket: Kite Integration"
   ]
  },
  {
   "cell_type": "code",
   "execution_count": 14,
   "metadata": {
    "scrolled": true
   },
   "outputs": [],
   "source": [
    "#!python\n",
    "from kiteconnect import KiteTicker\n",
    "\n",
    "#logging.basicConfig(level=logging.CRITICAL)\n",
    "logger.setLevel(logging.DEBUG)\n",
    "\n",
    "\n",
    "# Initialise\n",
    "kws = KiteTicker(KiteAPIKey, kite.access_token)\n",
    "\n",
    "def on_ticks(ws, ticks):\n",
    "    # Callback to receive ticks.\n",
    "    #logging.debug(\"Ticks: {}\".format(ticks))\n",
    "    ticksHandler(ws, ticks)\n",
    "\n",
    "\n",
    "def on_connect(ws, response):\n",
    "    initTrade(ws)\n",
    "    \n",
    "    # Callback on successful connect.\n",
    "    # Subscribe to a list of instrument_tokens (RELIANCE and ACC here).\n",
    "    ws.subscribe(portfolioToken.tolist())\n",
    "\n",
    "    ws.subscribe([225537])\n",
    "    \n",
    "    # Set RELIANCE to tick in `full` mode.\n",
    "    # MODE_LTP, MODE_QUOTE, or MODE_FULL\n",
    "\n",
    "    ws.set_mode(ws.MODE_FULL, portfolioToken.tolist())\n",
    "    ws.set_mode(ws.MODE_FULL, [225537]) \n",
    "    #ws.set_mode(ws.MODE_LTP, [225537, 3861249]) \n",
    "    #ws.set_mode(ws.MODE_MODE_QUOTE, [2714625,779521]) \n",
    "\n",
    "def on_close(ws, code, reason):\n",
    "    # On connection close stop the main loop\n",
    "    # Reconnection will not happen after executing `ws.stop()`\n",
    "    ws.stop()\n",
    "\n",
    "def on_order_update(ws, data):\n",
    "    logger.info(\"New Order Update\")\n",
    "    orderNotification(ws,data)\n",
    "\n",
    "# Assign the callbacks.\n",
    "kws.on_ticks = on_ticks\n",
    "kws.on_connect = on_connect\n",
    "kws.on_order_update = on_order_update\n",
    "\n",
    "#kws.on_close = on_close\n",
    "\n",
    "# Infinite loop on the main thread. Nothing after this will run.\n",
    "# You have to use the pre-defined callbacks to manage subscriptions."
   ]
  },
  {
   "cell_type": "markdown",
   "metadata": {},
   "source": [
    "### WebSocket: Start/Stop"
   ]
  },
  {
   "cell_type": "code",
   "execution_count": 15,
   "metadata": {
    "scrolled": true
   },
   "outputs": [],
   "source": [
    "if mode == \"Live\":\n",
    "    kws.connect(threaded=True)"
   ]
  },
  {
   "cell_type": "code",
   "execution_count": 45,
   "metadata": {},
   "outputs": [],
   "source": [
    "if mode == \"Live\":\n",
    "    kws.close()"
   ]
  },
  {
   "cell_type": "code",
   "execution_count": 16,
   "metadata": {
    "scrolled": true
   },
   "outputs": [
    {
     "name": "stdout",
     "output_type": "stream",
     "text": [
      "True\n"
     ]
    }
   ],
   "source": [
    "if mode == \"Live\":\n",
    "    print(kws.is_connected())"
   ]
  },
  {
   "cell_type": "code",
   "execution_count": null,
   "metadata": {},
   "outputs": [],
   "source": []
  },
  {
   "cell_type": "markdown",
   "metadata": {},
   "source": [
    "### Even wait"
   ]
  },
  {
   "cell_type": "code",
   "execution_count": 76,
   "metadata": {},
   "outputs": [
    {
     "name": "stdout",
     "output_type": "stream",
     "text": [
      "waiting for it ...\n",
      "waiting for it ...\n",
      "waiting for it ...\n",
      "waiting for it ...\n",
      "... got it!8\n",
      "... got it!4\n",
      "... got it!8\n",
      "... got it!8\n",
      "... got it!9\n",
      "... got it!8\n",
      "... got it!1\n",
      "... got it!10\n"
     ]
    }
   ],
   "source": [
    "import asyncio\n",
    "import random\n",
    "async def waiter(event):\n",
    "    print('waiting for it ...')\n",
    "    while(1):\n",
    "        await event.wait()\n",
    "        print('... got it!'+str(random.randint(1,10)))\n",
    "        event.clear()\n",
    "        \n",
    "\n",
    "async def main():\n",
    "    # Create an Event object.\n",
    "    \n",
    "    event = asyncio.Event()\n",
    "\n",
    "    # Spawn a Task to wait until 'event' is set.\n",
    "    waiter_task1 = asyncio.create_task(waiter(event))\n",
    "    waiter_task2 = asyncio.create_task(waiter(event))\n",
    "    waiter_task3 = asyncio.create_task(waiter(event))\n",
    "    waiter_task4 = asyncio.create_task(waiter(event))\n",
    "\n",
    "    # Sleep for 1 second and set the event.\n",
    "    await asyncio.sleep(1)\n",
    "    event.set()\n",
    "\n",
    "    await asyncio.sleep(1)\n",
    "    event.set()\n",
    "    \n",
    "    # Wait until the waiter task is finished.\n",
    "    #await asyncio.gather(waiter_task1, waiter_task2, waiter_task3, waiter_task4)\n",
    "    \n",
    "    #event.set()\n",
    "\n",
    "await main()\n",
    "\n",
    "#event.set()"
   ]
  },
  {
   "cell_type": "code",
   "execution_count": null,
   "metadata": {},
   "outputs": [],
   "source": []
  },
  {
   "cell_type": "code",
   "execution_count": 77,
   "metadata": {},
   "outputs": [],
   "source": [
    "for task in asyncio.all_tasks():\n",
    "    print(asyncio.gather(task))"
   ]
  },
  {
   "cell_type": "code",
   "execution_count": null,
   "metadata": {},
   "outputs": [],
   "source": [
    "for task i​sn asyncio.all_tasks():\n",
    "    task.cancel()"
   ]
  },
  {
   "cell_type": "code",
   "execution_count": 79,
   "metadata": {},
   "outputs": [
    {
     "data": {
      "text/plain": [
       "set()"
      ]
     },
     "execution_count": 79,
     "metadata": {},
     "output_type": "execute_result"
    }
   ],
   "source": [
    "asyncio.all_tasks()"
   ]
  },
  {
   "cell_type": "code",
   "execution_count": null,
   "metadata": {},
   "outputs": [],
   "source": [
    "from multiprocessing import Pool\n",
    "\n",
    "def f(x):\n",
    "    return x*x\n",
    "\n",
    "if __name__ == '__main__':\n",
    "    p = Pool(5)\n",
    "    print(p.map(f, [1, 2, 3]))\n"
   ]
  },
  {
   "cell_type": "code",
   "execution_count": null,
   "metadata": {},
   "outputs": [],
   "source": []
  }
 ],
 "metadata": {
  "kernelspec": {
   "display_name": "Python 3",
   "language": "python",
   "name": "python3"
  },
  "language_info": {
   "codemirror_mode": {
    "name": "ipython",
    "version": 3
   },
   "file_extension": ".py",
   "mimetype": "text/x-python",
   "name": "python",
   "nbconvert_exporter": "python",
   "pygments_lexer": "ipython3",
   "version": "3.7.1"
  },
  "varInspector": {
   "cols": {
    "lenName": 16,
    "lenType": 16,
    "lenVar": 40
   },
   "kernels_config": {
    "python": {
     "delete_cmd_postfix": "",
     "delete_cmd_prefix": "del ",
     "library": "var_list.py",
     "varRefreshCmd": "print(var_dic_list())"
    },
    "r": {
     "delete_cmd_postfix": ") ",
     "delete_cmd_prefix": "rm(",
     "library": "var_list.r",
     "varRefreshCmd": "cat(var_dic_list()) "
    }
   },
   "position": {
    "height": "433px",
    "left": "1016px",
    "right": "20px",
    "top": "120px",
    "width": "373px"
   },
   "types_to_exclude": [
    "module",
    "function",
    "builtin_function_or_method",
    "instance",
    "_Feature"
   ],
   "window_display": false
  }
 },
 "nbformat": 4,
 "nbformat_minor": 2
}
