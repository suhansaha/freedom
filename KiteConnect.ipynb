{
 "cells": [
  {
   "cell_type": "markdown",
   "metadata": {},
   "source": [
    "## <span style=\"color:grey\">Initialization</span>"
   ]
  },
  {
   "cell_type": "code",
   "execution_count": 32,
   "metadata": {
    "scrolled": true
   },
   "outputs": [],
   "source": [
    "import pandas as pd\n",
    "import numpy as np\n",
    "import warnings\n",
    "import time\n",
    "import datetime\n",
    "import logging\n",
    "import copy \n",
    "import os\n",
    "from multiprocessing import Process\n",
    "warnings.filterwarnings('ignore')\n",
    "\n",
    "exchange = 'NSE'\n",
    "symbol = \"HDFC\"\n",
    "\n",
    "today = datetime.datetime.now()\n",
    "\n",
    "if today.weekday() >= 5:\n",
    "    today = today - datetime.timedelta(days = today.weekday() - 4)\n",
    "\n",
    "#today = datetime.datetime(2019, 4, 8, 15, 45, 0)\n",
    "\n",
    "#configuration for downloading data\n",
    "days =  1\n",
    "years = 5\n",
    "#toDate = today\n",
    "toDate = today - datetime.timedelta(days=3)\n",
    "fromDate = toDate - datetime.timedelta(days = days)\n",
    "freq = '1min'\n",
    "\n",
    "mode = \"Algo\" # Backtesting/Live/Algo\n",
    "offline = False\n",
    "if mode ==\"Live\":\n",
    "    offline = False\n",
    "\n",
    "KiteAPIKey = \"b2w0sfnr1zr92nxm\"\n",
    "KiteAPISecret = \"jtga2mp2e5fn29h8w0pe2kb722g3dh1q\"\n",
    "\n",
    "from enum import Enum\n",
    "class S(Enum):\n",
    "    BUY = 1\n",
    "    SELL = 2\n",
    "    HOLD = 0\n",
    "\n",
    "%run \"KiteConnect_Library.ipynb\"    "
   ]
  },
  {
   "cell_type": "markdown",
   "metadata": {},
   "source": [
    "### Kite - OAuth Login"
   ]
  },
  {
   "cell_type": "code",
   "execution_count": 34,
   "metadata": {
    "scrolled": true
   },
   "outputs": [],
   "source": [
    "from kiteconnect import KiteConnect\n",
    "import platform\n",
    "from selenium import webdriver\n",
    "import re\n",
    "\n",
    "logging.basicConfig(filename=\"log/live_log.log\", filemode=\"a\", level=logging.DEBUG, format=\"[%(asctime)s: %(levelname)s]:%(message)s\")\n",
    "logger=logging.getLogger()\n",
    "\n",
    "kite = KiteConnect(api_key=KiteAPIKey)\n",
    "reauthentication = False\n",
    "\n",
    "f = open(\"kite_data/access_token.txt\", mode=\"r\")\n",
    "access_token = f.readlines()\n",
    "logger.info(access_token[0])\n",
    "kite.set_access_token(access_token[0])\n",
    "\n",
    "try:\n",
    "    logger.info(\"Welcome \"+kite.profile()['user_name'])\n",
    "except:\n",
    "    if platform.system() == \"Windows\":\n",
    "        driver = webdriver.Chrome(\"./automation/chromedriver.exe\")\n",
    "    else:\n",
    "        driver = webdriver.Chrome(\"./automation/chromedriver\")\n",
    "    driver.get(kite.login_url())\n",
    "    reauthentication = True\n",
    "    "
   ]
  },
  {
   "cell_type": "code",
   "execution_count": 35,
   "metadata": {},
   "outputs": [],
   "source": [
    "if reauthentication:\n",
    "    request_token = re.findall(\"request_token=(.*)&action\",driver.current_url)\n",
    "\n",
    "    data = kite.generate_session(request_token[0], api_secret=KiteAPISecret)\n",
    "    access_token = data[\"access_token\"]\n",
    "    kite.set_access_token(access_token)\n",
    "    f = open(\"kite_data/access_token.txt\", mode=\"w\")\n",
    "    f.write(access_token)\n",
    "    f.close()\n",
    "    driver.close()"
   ]
  },
  {
   "cell_type": "markdown",
   "metadata": {},
   "source": [
    "### Download NSE Stock Master List"
   ]
  },
  {
   "cell_type": "code",
   "execution_count": 46,
   "metadata": {
    "scrolled": true
   },
   "outputs": [],
   "source": [
    "if offline != True:\n",
    "    instruments_df = getInstruments(exchange)\n",
    "    instruments_df.to_hdf('kite_data/kite_data.h5', key=exchange, mode='w')\n",
    "\n",
    "instruments_df = pd.read_hdf('kite_data/kite_data.h5', key=exchange, mode='r')\n",
    "\n",
    "EQSYMBOL = lambda x:instruments_df[instruments_df['instrument_token']==x].index[0]\n",
    "EQTOKEN = lambda x:instruments_df.loc[x,'instrument_token']"
   ]
  },
  {
   "cell_type": "code",
   "execution_count": 49,
   "metadata": {},
   "outputs": [
    {
     "data": {
      "text/plain": [
       "tradingsymbol\n",
       "NIFTY 50    256265\n",
       "NIFTY 50    256265\n",
       "Name: instrument_token, dtype: int64"
      ]
     },
     "execution_count": 49,
     "metadata": {},
     "output_type": "execute_result"
    }
   ],
   "source": [
    "EQTOKEN('NIFTY 50')"
   ]
  },
  {
   "cell_type": "code",
   "execution_count": 37,
   "metadata": {},
   "outputs": [
    {
     "data": {
      "text/html": [
       "<div>\n",
       "<style scoped>\n",
       "    .dataframe tbody tr th:only-of-type {\n",
       "        vertical-align: middle;\n",
       "    }\n",
       "\n",
       "    .dataframe tbody tr th {\n",
       "        vertical-align: top;\n",
       "    }\n",
       "\n",
       "    .dataframe thead th {\n",
       "        text-align: right;\n",
       "    }\n",
       "</style>\n",
       "<table border=\"1\" class=\"dataframe\">\n",
       "  <thead>\n",
       "    <tr style=\"text-align: right;\">\n",
       "      <th></th>\n",
       "      <th>instrument_token</th>\n",
       "      <th>exchange_token</th>\n",
       "      <th>name</th>\n",
       "      <th>last_price</th>\n",
       "      <th>expiry</th>\n",
       "      <th>strike</th>\n",
       "      <th>tick_size</th>\n",
       "      <th>lot_size</th>\n",
       "      <th>instrument_type</th>\n",
       "      <th>segment</th>\n",
       "      <th>exchange</th>\n",
       "    </tr>\n",
       "    <tr>\n",
       "      <th>tradingsymbol</th>\n",
       "      <th></th>\n",
       "      <th></th>\n",
       "      <th></th>\n",
       "      <th></th>\n",
       "      <th></th>\n",
       "      <th></th>\n",
       "      <th></th>\n",
       "      <th></th>\n",
       "      <th></th>\n",
       "      <th></th>\n",
       "      <th></th>\n",
       "    </tr>\n",
       "  </thead>\n",
       "  <tbody>\n",
       "    <tr>\n",
       "      <th>NIFTY 50</th>\n",
       "      <td>256265</td>\n",
       "      <td>1001</td>\n",
       "      <td>NIFTY 50</td>\n",
       "      <td>0.0</td>\n",
       "      <td></td>\n",
       "      <td>0.0</td>\n",
       "      <td>0.00</td>\n",
       "      <td>0</td>\n",
       "      <td>EQ</td>\n",
       "      <td>NSE-INDICES</td>\n",
       "      <td>NSE</td>\n",
       "    </tr>\n",
       "    <tr>\n",
       "      <th>NIFTY 50</th>\n",
       "      <td>256265</td>\n",
       "      <td>1001</td>\n",
       "      <td>NIFTY 50</td>\n",
       "      <td>0.0</td>\n",
       "      <td></td>\n",
       "      <td>0.0</td>\n",
       "      <td>0.00</td>\n",
       "      <td>0</td>\n",
       "      <td>EQ</td>\n",
       "      <td>INDICES</td>\n",
       "      <td>NSE</td>\n",
       "    </tr>\n",
       "    <tr>\n",
       "      <th>SETFNIF50</th>\n",
       "      <td>2605057</td>\n",
       "      <td>10176</td>\n",
       "      <td>SBI-ETF NIFTY 50</td>\n",
       "      <td>0.0</td>\n",
       "      <td></td>\n",
       "      <td>0.0</td>\n",
       "      <td>0.01</td>\n",
       "      <td>1</td>\n",
       "      <td>EQ</td>\n",
       "      <td>NSE</td>\n",
       "      <td>NSE</td>\n",
       "    </tr>\n",
       "    <tr>\n",
       "      <th>NIFTYEES</th>\n",
       "      <td>2319105</td>\n",
       "      <td>9059</td>\n",
       "      <td>EDELWEISS ETF - NIFTY 50</td>\n",
       "      <td>0.0</td>\n",
       "      <td></td>\n",
       "      <td>0.0</td>\n",
       "      <td>0.01</td>\n",
       "      <td>1</td>\n",
       "      <td>EQ</td>\n",
       "      <td>NSE</td>\n",
       "      <td>NSE</td>\n",
       "    </tr>\n",
       "  </tbody>\n",
       "</table>\n",
       "</div>"
      ],
      "text/plain": [
       "               instrument_token exchange_token                      name  \\\n",
       "tradingsymbol                                                              \n",
       "NIFTY 50                 256265           1001                  NIFTY 50   \n",
       "NIFTY 50                 256265           1001                  NIFTY 50   \n",
       "SETFNIF50               2605057          10176          SBI-ETF NIFTY 50   \n",
       "NIFTYEES                2319105           9059  EDELWEISS ETF - NIFTY 50   \n",
       "\n",
       "               last_price expiry  strike  tick_size  lot_size instrument_type  \\\n",
       "tradingsymbol                                                                   \n",
       "NIFTY 50              0.0            0.0       0.00         0              EQ   \n",
       "NIFTY 50              0.0            0.0       0.00         0              EQ   \n",
       "SETFNIF50             0.0            0.0       0.01         1              EQ   \n",
       "NIFTYEES              0.0            0.0       0.01         1              EQ   \n",
       "\n",
       "                   segment exchange  \n",
       "tradingsymbol                        \n",
       "NIFTY 50       NSE-INDICES      NSE  \n",
       "NIFTY 50           INDICES      NSE  \n",
       "SETFNIF50              NSE      NSE  \n",
       "NIFTYEES               NSE      NSE  "
      ]
     },
     "execution_count": 37,
     "metadata": {},
     "output_type": "execute_result"
    }
   ],
   "source": [
    "instruments_df[instruments_df.name.str.contains('.*NIFTY 50.*')]"
   ]
  },
  {
   "cell_type": "markdown",
   "metadata": {},
   "source": [
    "### Filter Stocks - portfolio maker"
   ]
  },
  {
   "cell_type": "code",
   "execution_count": 38,
   "metadata": {
    "scrolled": true
   },
   "outputs": [],
   "source": [
    "nifty50 = pd.read_csv(\"data/ind_nifty50list.csv\")\n",
    "niftynext50 = pd.read_csv(\"data/ind_niftynext50list.csv\")\n",
    "midcap50 = pd.read_csv(\"data/ind_niftymidcap50list.csv\")\n",
    "\n",
    "downloadlist = nifty50['Symbol']\n",
    "industry = niftynext50['Industry'].unique()"
   ]
  },
  {
   "cell_type": "code",
   "execution_count": 39,
   "metadata": {
    "scrolled": true
   },
   "outputs": [],
   "source": [
    "portfolio = pd.DataFrame(downloadlist.tolist())"
   ]
  },
  {
   "cell_type": "code",
   "execution_count": null,
   "metadata": {},
   "outputs": [],
   "source": []
  },
  {
   "cell_type": "code",
   "execution_count": 50,
   "metadata": {
    "scrolled": true
   },
   "outputs": [],
   "source": [
    "portfolio = pd.DataFrame(['TCS', 'RIIL', 'HDFC','NDTV'])\n",
    "\n",
    "#portfolio = portfolio.append(pd.DataFrame(data=['NIFTY 50']))\n",
    "\n",
    "#portfolio = pd.DataFrame(['BAJAJ-AUTO','CIPLA','HINDUNILVR','M&M','WIPRO','SBIN','RIIL','TCS','INFY'])\n",
    "\n",
    "#portfolio = pd.DataFrame(downloadlist)\n",
    "#portfolio = pd.DataFrame(['BAJAJ-AUTO','CIPLA'])\n",
    "\n",
    "#portfolio = pd.DataFrame(['BAJAJ-AUTO'])\n",
    "portfolioToken = portfolio[0].apply(EQTOKEN)"
   ]
  },
  {
   "cell_type": "code",
   "execution_count": 51,
   "metadata": {
    "scrolled": true
   },
   "outputs": [
    {
     "data": {
      "text/html": [
       "<div>\n",
       "<style scoped>\n",
       "    .dataframe tbody tr th:only-of-type {\n",
       "        vertical-align: middle;\n",
       "    }\n",
       "\n",
       "    .dataframe tbody tr th {\n",
       "        vertical-align: top;\n",
       "    }\n",
       "\n",
       "    .dataframe thead th {\n",
       "        text-align: right;\n",
       "    }\n",
       "</style>\n",
       "<table border=\"1\" class=\"dataframe\">\n",
       "  <thead>\n",
       "    <tr style=\"text-align: right;\">\n",
       "      <th></th>\n",
       "      <th>0</th>\n",
       "    </tr>\n",
       "  </thead>\n",
       "  <tbody>\n",
       "    <tr>\n",
       "      <th>0</th>\n",
       "      <td>TCS</td>\n",
       "    </tr>\n",
       "    <tr>\n",
       "      <th>1</th>\n",
       "      <td>RIIL</td>\n",
       "    </tr>\n",
       "    <tr>\n",
       "      <th>2</th>\n",
       "      <td>HDFC</td>\n",
       "    </tr>\n",
       "    <tr>\n",
       "      <th>3</th>\n",
       "      <td>NDTV</td>\n",
       "    </tr>\n",
       "  </tbody>\n",
       "</table>\n",
       "</div>"
      ],
      "text/plain": [
       "      0\n",
       "0   TCS\n",
       "1  RIIL\n",
       "2  HDFC\n",
       "3  NDTV"
      ]
     },
     "execution_count": 51,
     "metadata": {},
     "output_type": "execute_result"
    }
   ],
   "source": [
    "portfolio"
   ]
  },
  {
   "cell_type": "markdown",
   "metadata": {},
   "source": [
    "### Download Historical Data - Equity"
   ]
  },
  {
   "cell_type": "code",
   "execution_count": null,
   "metadata": {},
   "outputs": [],
   "source": []
  },
  {
   "cell_type": "code",
   "execution_count": 52,
   "metadata": {},
   "outputs": [],
   "source": [
    "def portfolioDownload(stocklist, toDate):\n",
    "    stocklist_df = pd.DataFrame()\n",
    "    for index, row in stocklist.iterrows():\n",
    "        symbol = row[0]\n",
    "        logging.info(\"Downloading data for: \"+symbol)\n",
    "        temp_data = downloadData(symbol,  toDate - dt.timedelta(days = 5), toDate)\n",
    "        temp_data['symbol'] = symbol\n",
    "        temp_data.set_index(['symbol',temp_data.index], inplace=True)\n",
    "        #print(temp_data)\n",
    "        stocklist_df = stocklist_df.append(temp_data)\n",
    "    \n",
    "    #print(stocklist_df)\n",
    "    return stocklist_df    \n",
    "\n",
    "if offline != True:\n",
    "    portfolio_df = pd.DataFrame()\n",
    "    portfolio_df = portfolioDownload(portfolio, today)\n",
    "    portfolio_df.to_hdf('kite_data/kite_data.h5', key=\"portfolio\",mode='a')\n",
    "\n",
    "#portfolio_df.loc['HDFC']"
   ]
  },
  {
   "cell_type": "markdown",
   "metadata": {},
   "source": [
    "### Batch Downloader"
   ]
  },
  {
   "cell_type": "code",
   "execution_count": 53,
   "metadata": {
    "scrolled": true
   },
   "outputs": [],
   "source": [
    "def batchDownload(downloadlist):\n",
    "    for symbol in downloadlist:\n",
    "        logging.info(\"Downloading data for: \"+symbol)\n",
    "\n",
    "        raw_data = downloadData(symbol, fromDate, toDate)\n",
    "        raw_data_day = downloadData(symbol,  toDate - dt.timedelta(days = years * 365),toDate, freq=\"day\")\n",
    "\n",
    "        raw_data_day.to_hdf('kite_data/kite_data.h5', key=symbol+\"day\",mode='a')\n",
    "        raw_data.to_hdf('kite_data/kite_data.h5', key=symbol,mode='a')"
   ]
  },
  {
   "cell_type": "markdown",
   "metadata": {},
   "source": [
    "### Incremental Download - untested"
   ]
  },
  {
   "cell_type": "code",
   "execution_count": 54,
   "metadata": {
    "scrolled": true
   },
   "outputs": [],
   "source": [
    "def incrementalDownload(downloadlist):\n",
    "    for symbol in downloadlist:\n",
    "        logging.info(\"Downloading data for: \"+symbol)\n",
    "        tempData = pd.read_hdf('kite_data/kite_data.h5', key=symbol,mode='r')\n",
    "        fromDate = tempData.index[-1]\n",
    "        toDate = datetime.datetime.now()\n",
    "        raw_data = downloadData(symbol, fromDate, toDate)\n",
    "        tempData = tempData.append(raw_data)\n",
    "        tempData.to_hdf('kite_data/kite_data.h5', key=symbol,mode='a')\n",
    "        \n",
    "        tempData = pd.read_hdf('kite_data/kite_data.h5', key=symbol+\"day\",mode='r')\n",
    "        fromDate = tempData.index[-1]\n",
    "        toDate = datetime.datetime.now()\n",
    "        raw_data = downloadData(symbol, fromDate, toDate, freq=\"day\")\n",
    "        \n",
    "        tempData.to_hdf('kite_data/kite_data.h5', key=symbol+\"day\",mode='a')\n",
    "    \n",
    "    "
   ]
  },
  {
   "cell_type": "markdown",
   "metadata": {},
   "source": [
    "### Historical Data storage strategy\n",
    "\n",
    "* minute level data and day level ohlc data is stored in the hd5\n",
    "* symbol name is used as a key in the hd5 file system\n",
    "\n",
    "### Tick Data storage strategy\n",
    "- Tick data should not be merged with the downloaded historical data\n",
    "- At the start of the trading session, last 60 candles from the historical data is fetched and stored in the dataframe for holding live data\n",
    "- Two DataFrames ares created for storing live data: 1 for storing timestamp and LTP, another for OHLC\n",
    "- OHLC data is created by grouping data first based on stock symbol and then based on timestamp(seconds and miliseconds are ignored)\n",
    "- Streaming data from all the stocks in portfolio are strored in a single table. During post-procession subset of the master table sliced based on symbol is used\n",
    "- Streaming data is resampled for minute frequency every minute to convert it to OHLC data which is stored in another dataframe\n",
    "- Symbol is used as a key for the streaming OHLC dataframe storage"
   ]
  },
  {
   "cell_type": "markdown",
   "metadata": {},
   "source": [
    "### Load Data from disk"
   ]
  },
  {
   "cell_type": "code",
   "execution_count": 18,
   "metadata": {
    "scrolled": true
   },
   "outputs": [],
   "source": [
    "if mode==\"Live\":\n",
    "    raw_data = pd.read_hdf('kite_data/kite_data.h5', key=\"portfolio\",mode='r')\n",
    "else:\n",
    "    raw_data = pd.read_hdf('kite_data/kite_data.h5', key=\"portfolio\",mode='r')"
   ]
  },
  {
   "cell_type": "code",
   "execution_count": null,
   "metadata": {},
   "outputs": [],
   "source": []
  },
  {
   "cell_type": "markdown",
   "metadata": {},
   "source": [
    "##  <span style=\"color:green\">Trading Strategies </span>"
   ]
  },
  {
   "cell_type": "code",
   "execution_count": 56,
   "metadata": {
    "cell_style": "center",
    "code_folding": [
     197
    ],
    "scrolled": false
   },
   "outputs": [
    {
     "name": "stdout",
     "output_type": "stream",
     "text": [
      "This is the format of your plot grid:\n",
      "[ (1,1) x1,y1 ]\n",
      "[ (2,1) x1,y2 ]\n",
      "[ (3,1) x1,y3 ]\n",
      "[ (4,1) x1,y4 ]\n",
      "[ (5,1) x1,y5 ]\n",
      "\n"
     ]
    },
    {
     "data": {
      "text/html": [
       "<script type=\"text/javascript\">window.PlotlyConfig = {MathJaxConfig: 'local'};</script><script type=\"text/javascript\">if (window.MathJax) {MathJax.Hub.Config({SVG: {font: \"STIX-Web\"}});}</script><script>requirejs.config({paths: { 'plotly': ['https://cdn.plot.ly/plotly-latest.min']},});if(!window._Plotly) {require(['plotly'],function(plotly) {window._Plotly=plotly;});}</script>"
      ],
      "text/vnd.plotly.v1+html": [
       "<script type=\"text/javascript\">window.PlotlyConfig = {MathJaxConfig: 'local'};</script><script type=\"text/javascript\">if (window.MathJax) {MathJax.Hub.Config({SVG: {font: \"STIX-Web\"}});}</script><script>requirejs.config({paths: { 'plotly': ['https://cdn.plot.ly/plotly-latest.min']},});if(!window._Plotly) {require(['plotly'],function(plotly) {window._Plotly=plotly;});}</script>"
      ]
     },
     "metadata": {},
     "output_type": "display_data"
    }
   ],
   "source": [
    "#pivotPoint(raw_data, pos=1, plot=False)\n",
    "#raw_data = calculateStats(raw_data)\n",
    "#raw_data = emasma(raw_data)\n",
    "#raw_data = adx(raw_data)\n",
    "#raw_data = detectCDPattern(raw_data,strPlot=\"hammer\", plot=True)\n",
    "#raw_data = stoch(raw_data)\n",
    "\n",
    "# ====== Tradescript Wrapper =======\n",
    "# Variables\n",
    "OPEN = 0\n",
    "CLOSE = 0\n",
    "HIGH = 0\n",
    "LOW = 0\n",
    "VOLUME = 0\n",
    "BBT = 0\n",
    "BBM = 0\n",
    "BBB = 0\n",
    "AroonUp = 0\n",
    "AroonDown = 0\n",
    "iMACD = 0\n",
    "iMACDhist = 0\n",
    "iMACDsignal = 0\n",
    "UP = 0\n",
    "DOWN = 1\n",
    "SD = 0\n",
    "iRSI = 0 \n",
    "atr = 0\n",
    "STATE = \"\"\n",
    "\n",
    "# Methods\n",
    "REF = lambda df, i: df.shift(i)\n",
    "TREND_UP = lambda a, days: ROC(a,days) >= 0.01\n",
    "TREND_DOWN = lambda a, days: ROC(a,days) <= -0.01\n",
    "CROSSOVER = lambda a, b: (REF(a,1)<=REF(b,1)) & (a > b)\n",
    "\n",
    "class algoTrade:\n",
    "    \n",
    "    def __init__(s, price):\n",
    "        #logging.debug(price.tail(10))\n",
    "        global OPEN, CLOSE, HIGH, LOW, VOLUME, BBT, BBM, BBB, AroonDown, AroonUp\n",
    "        global iMACD, iMACDhist, iMACDsignal, SD, iRSI\n",
    "        OPEN = price['open']\n",
    "        CLOSE = price['close']\n",
    "        HIGH = price['high']\n",
    "        LOW = price['low']\n",
    "        VOLUME = price['volume']\n",
    "        BBT, BBM, BBB = BBANDS( CLOSE, 20,2,2,1)\n",
    "        AroonDown, AroonUp = AROON(HIGH, LOW, 25)\n",
    "        iMACD, iMACDsignal, iMACDhist = MACDEXT(CLOSE, fastperiod=12, slowperiod=26, signalperiod=9,  fastmatype=1, slowmatype=1,signalmatype=1)\n",
    "        SD = STDDEV(CLOSE)\n",
    "        iRSI = RSI(CLOSE, timeperiod=14)\n",
    "        #atr = ATR(CLOSE)\n",
    "    \n",
    "    # Long Strategies\n",
    "    def long_bb(self):\n",
    "        return pd.DataFrame( (REF(CLOSE, 1) < REF(BBB, 1)) & (CLOSE > BBB), columns=[\"buy\"] )\n",
    "    \n",
    "    def long_bull_engulf_ema(self):\n",
    "        return pd.DataFrame( (EMA(CLOSE, 9) < EMA(CLOSE, 21)) & (CDLENGULFING(OPEN, HIGH, LOW, CLOSE) == 100) ,columns =[\"buy\"])\n",
    "    \n",
    "    def long_hammer(self):\n",
    "        return pd.DataFrame(TREND_DOWN(CLOSE, 10) & (CDLHAMMER(OPEN, HIGH, LOW, CLOSE) != 0), columns=[\"buy\"])\n",
    "    \n",
    "    def long_ichimoku(self):\n",
    "        C = ( SMA(HIGH, 9) + SMA(LOW, 9) )/2\n",
    "        D = ( SMA(HIGH, 26) + SMA(LOW, 26) )/2\n",
    "        A = (C+D)/2\n",
    "        B = (SMA(HIGH,52)+SMA(LOW,52))/2\n",
    "        \n",
    "        return pd.DataFrame( CROSSOVER(A,B) ,columns=[\"buy\"])\n",
    "    \n",
    "    def long_aroon(self):\n",
    "        return pd.DataFrame((AroonUp > 50) & (AroonDown<50), columns=[\"buy\"])\n",
    "        \n",
    "    \n",
    "    # Short Strategies\n",
    "    def short_bb(self):\n",
    "        return pd.DataFrame((REF(CLOSE,1) > REF(BBT,1)) & (CLOSE<BBT), columns=[\"sell\"])\n",
    "    \n",
    "    def short_bear_engulf(self):\n",
    "        return pd.DataFrame(TREND_UP(CLOSE,10) & (CDLENGULFING(OPEN, HIGH, LOW, CLOSE) == -100),columns=[\"sell\"])\n",
    "    \n",
    "    def short_hanging_man(self):\n",
    "        return pd.DataFrame(\n",
    "            TREND_UP(CLOSE, 10) &\n",
    "            (CDLHANGINGMAN(OPEN, HIGH, LOW, CLOSE) == -100)\n",
    "            , columns=[\"sell\"])\n",
    "    \n",
    "    def short_bear_kicking(self):\n",
    "        return pd.DataFrame(CDLKICKING(OPEN, HIGH, LOW, CLOSE) != 0, columns=[\"sell\"])\n",
    "        \n",
    "    def short_shooting_star(self):\n",
    "        return pd.DataFrame( TREND_UP(CLOSE, 5) & CDLSHOOTINGSTAR(OPEN, HIGH, LOW, CLOSE) != 0, columns=[\"sell\"])\n",
    "    \n",
    "    def short_ichimoku(self):\n",
    "        C = ( SMA(HIGH, 9) + SMA(LOW, 9) )/2\n",
    "        D = ( SMA(HIGH, 26) + SMA(LOW, 26) )/2\n",
    "        A = (C+D)/2\n",
    "        B = (SMA(HIGH,52)+SMA(LOW,52))/2\n",
    "        \n",
    "        return pd.DataFrame( CROSSOVER(B,A) ,columns=[\"sell\"])\n",
    "    \n",
    "    def short_aroon(self):\n",
    "        return pd.DataFrame((AroonUp < 50) & (AroonDown > 50), columns=[\"sell\"])\n",
    "    \n",
    "    def long_macd_crossover(self):\n",
    "        return pd.DataFrame(CROSSOVER(iMACD, iMACDsignal), columns=[\"buy\"])\n",
    "    \n",
    "    \n",
    "    def short_macd_crossover(self):\n",
    "        return pd.DataFrame(CROSSOVER(iMACDsignal, iMACD), columns=[\"sell\"])\n",
    "    \n",
    "    def tradeDecision(self):\n",
    "        buy  = self.long_macd_crossover() # | self.long_bb() #| self.long_ichimoku() #| self.long_bull_engulf_ema() #| self.long_ichimoku()\n",
    "        \n",
    "        sell = self.short_bb() # |self.short_macd_crossover() # | self.short_bb() #| self.short_bear_engulf() #| self.short_hanging_man() #|  self.short_ichimoku()\n",
    "        \n",
    "        buy['low'] = LOW\n",
    "        sell['high'] = HIGH\n",
    "        buy['close'] = sell['close'] = CLOSE\n",
    "        buy['sl'] = CLOSE - SD\n",
    "        sell['sl'] = CLOSE + SD\n",
    "        buy['so'] = CLOSE + 4 * SD\n",
    "        sell['so'] = CLOSE - 4 * SD\n",
    "\n",
    "        buy = buy[buy['buy']]\n",
    "        sell = sell[sell['sell']]\n",
    "        return (buy,sell)\n",
    "    \n",
    "    def tradeRecommendation(self):\n",
    "        buy, sell = self.tradeDecision()\n",
    "        timeNow = dt.datetime.now().replace(second=0, microsecond=0)\n",
    "        delT1 = timeNow - datetime.timedelta(minutes = 1)\n",
    "        delT2 = timeNow - datetime.timedelta(minutes = 2)\n",
    "        logging.debug(str(timeNow))\n",
    "        logging.debug(buy.tail(3))\n",
    "        logging.debug(sell.tail(3))\n",
    "        if (delT1 == buy.index[-1]) | (delT2 == buy.index[-1]) :\n",
    "            return \"buy,\"+str(timeNow) +\",\"+str(buy.iloc[-1]['low'])+\",\"+str(buy.iloc[-1]['close'])+\"\\n\"\n",
    "        elif (delT1 == sell.index[-1]) | (delT2 == sell.index[-1]) :  \n",
    "            return \"sell,\"+str(timeNow) +\",\"+str(sell.iloc[-1]['high'])+\",\"+str(sell.iloc[-1]['close'])+\"\\n\"\n",
    "        return \"\"\n",
    "\n",
    "    \n",
    "    def tradeBot(self, symbol):\n",
    "        global STATE\n",
    "        buy, sell = self.tradeDecision()\n",
    "        logger.debug(buy)\n",
    "        timeNow = dt.datetime.now().replace(second=0, microsecond=0)\n",
    "        delT1 = timeNow - datetime.timedelta(minutes = 1)\n",
    "        delT2 = timeNow - datetime.timedelta(minutes = 2)\n",
    "        \n",
    "        price = CLOSE[-1]\n",
    "        trigger = CLOSE[-1]\n",
    "        stoploss = SD[-1]\n",
    "        squareoff = 3 * SD[-1] \n",
    "        \n",
    "        if buy.empty | sell.empty:\n",
    "            return\n",
    "        \n",
    "        if (buy.empty != True) & ((delT1 == buy.index[-1]) | (delT2 == buy.index[-1])) & (STATE != \"SELL\"):\n",
    "            buy_bo(symbol, price, trigger, stoploss, squareoff, quantity=1)\n",
    "            STATE = \"SELL\"\n",
    "        elif (sell.empty != True) & ((delT1 == sell.index[-1]) | (delT2 == sell.index[-1])) & (STATE != \"BUY\"):\n",
    "            STATE = \"BUY\"\n",
    "            sell_bo(symbol, price, trigger, stoploss, squareoff, quantity=1)\n",
    "            \n",
    "    def papertradeBot(self, symbol, timestamp):\n",
    "        global STATE\n",
    "        buy, sell = self.tradeDecision()\n",
    "        #logger.debug(buy)\n",
    "\n",
    "        timeNow = timestamp\n",
    "        delT1 = timeNow - datetime.timedelta(minutes = 1)\n",
    "        delT2 = timeNow - datetime.timedelta(minutes = 2)\n",
    "\n",
    "        #logger.debug(timeNow)\n",
    "\n",
    "        price = CLOSE[-1]\n",
    "        trigger = CLOSE[-1]\n",
    "        stoploss = SD[-1]\n",
    "        squareoff = 3 * SD[-1] \n",
    "\n",
    "        if buy.empty | sell.empty:\n",
    "            return\n",
    "        \n",
    "        if (buy.empty != True) & ((delT1 == buy.index[-1]) | (delT2 == buy.index[-1])) & (STATE != \"SELL\"):\n",
    "            logger.debug(STATE)\n",
    "            buy_bo(symbol, price, trigger, stoploss, squareoff, quantity=1)\n",
    "            STATE = \"SELL\"\n",
    "        elif (sell.empty != True) & ((delT1 == sell.index[-1]) | (delT2 == sell.index[-1])) & (STATE != \"BUY\"):\n",
    "            logger.debug(STATE)\n",
    "            STATE = \"BUY\"\n",
    "            sell_bo(symbol, price, trigger, stoploss, squareoff, quantity=1)\n",
    "            \n",
    "        \n",
    "\n",
    "        \n",
    "\n",
    "if (mode==\"Algo\"):\n",
    "    global fig\n",
    "    noofcandles = 60\n",
    "    x = \"HDFC\"\n",
    "    temp_data = downloadData(x, fromDate = toDate - dt.timedelta(days=2), toDate=toDate, freq=\"minute\")\n",
    "    \n",
    "    #logger.debug(temp_data)\n",
    "    #temp_data = downloadData(x, fromDate, toDate, \"day\")\n",
    "    #logging.debug(temp_data)\n",
    "        \n",
    "    yMin = temp_data.iloc[-1*noofcandles:-1]['low'].min()-10\n",
    "    yMax = temp_data.iloc[-1*noofcandles:-1]['high'].max()\n",
    "\n",
    "    xMin = temp_data.index[-1*noofcandles]\n",
    "    xMax = temp_data.index[-1]\n",
    "    fig = createPlot(x)\n",
    "    fig['layout']['yaxis']['range'] = [yMin, yMax]\n",
    "    fig['layout']['yaxis']['range'] = [xMin, xMax]\n",
    "\n",
    "    #temp_data = resample2(temp_data.loc[symbol],\"1min\").dropna()[-20*noofcandles:-1]\n",
    "    temp_data = candlestick(temp_data,1,True)\n",
    "    temp_data = bbands(temp_data,1, True)\n",
    "\n",
    "    temp_data = macd(temp_data,3,True)\n",
    "    temp_data = rsi(temp_data,4, True)\n",
    "    temp_data = aroon(temp_data,5, True)\n",
    "    obv(temp_data,2, True)\n",
    "    \n",
    "\n",
    "    #print(temp_data.tail(200))\n",
    "    \n",
    "    a = algoTrade(temp_data)\n",
    "    buy, sell = a.tradeDecision()\n",
    "    #print(buy)\n",
    "    #print(sell)\n",
    "    #print(CLOSE)\n",
    "    \n",
    "    #a.tradeRecommendation()\n",
    "    buy_df = annotateBuySell(buy, \"Buy\")\n",
    "    sell_df = annotateBuySell(sell, \"Sell\")\n",
    "    plotData(x, True)\n"
   ]
  },
  {
   "cell_type": "code",
   "execution_count": 88,
   "metadata": {},
   "outputs": [],
   "source": [
    "if papertrade:\n",
    "    global fig\n",
    "    noofcandles = 60\n",
    "    x = \"SBIN\"\n",
    "    temp_data = downloadData(x, fromDate = toDate - dt.timedelta(days=2), toDate=toDate, freq=\"minute\")\n",
    "    #print(temp_data.index[-1])\n",
    "    rowSize = temp_data.shape[0]\n",
    "    \n",
    "    for i in np.linspace(120,rowSize-1, rowSize-121, dtype=\"int64\"):\n",
    "        a = algoTrade(temp_data.iloc[(i-120):i])\n",
    "        a.papertradeBot(x, temp_data.index[i])\n",
    "        #print(temp_data.iloc[(i-30):i])"
   ]
  },
  {
   "cell_type": "code",
   "execution_count": null,
   "metadata": {},
   "outputs": [],
   "source": []
  },
  {
   "cell_type": "code",
   "execution_count": 23,
   "metadata": {
    "cell_style": "center"
   },
   "outputs": [],
   "source": [
    "temp_data = downloadData('HDFC', fromDate = toDate - dt.timedelta(days=365), toDate= toDate, freq=\"day\")"
   ]
  },
  {
   "cell_type": "code",
   "execution_count": null,
   "metadata": {},
   "outputs": [],
   "source": []
  },
  {
   "cell_type": "code",
   "execution_count": 34,
   "metadata": {},
   "outputs": [],
   "source": [
    "temp_data['atr'] = ATR(temp_data.high, temp_data.low, temp_data.close)\n",
    "#temp_data['sma'] = SMA(temp_data.close)\n",
    "temp_data['sd-'] = temp_data.shift(1).close - STDDEV(temp_data.shift(1).close)\n",
    "temp_data['sd+'] = temp_data.shift(1).close + STDDEV(temp_data.shift(1).close)\n",
    "temp_data['2sd-'] = temp_data.shift(1).close - 2*STDDEV(temp_data.shift(1).close)\n",
    "temp_data['2sd+'] = temp_data.shift(1).close + 2* STDDEV(temp_data.shift(1).close)\n",
    "\n",
    "from talib import TRANGE, NATR\n",
    "\n",
    "temp_data['tr'] = TRANGE(temp_data.high, temp_data.low, temp_data.close)\n",
    "temp_data['natr'] = NATR(temp_data.high, temp_data.low, temp_data.close)"
   ]
  },
  {
   "cell_type": "code",
   "execution_count": null,
   "metadata": {},
   "outputs": [],
   "source": []
  },
  {
   "cell_type": "markdown",
   "metadata": {
    "heading_collapsed": true,
    "scrolled": true
   },
   "source": [
    "## <span style=\"color:blue\">BackTesting</span>"
   ]
  },
  {
   "cell_type": "code",
   "execution_count": 24,
   "metadata": {
    "hidden": true
   },
   "outputs": [],
   "source": [
    "logger.setLevel(logging.DEBUG)"
   ]
  },
  {
   "cell_type": "markdown",
   "metadata": {
    "hidden": true
   },
   "source": [
    "### Multithreaded"
   ]
  },
  {
   "cell_type": "code",
   "execution_count": 14,
   "metadata": {
    "hidden": true,
    "scrolled": false
   },
   "outputs": [
    {
     "name": "stdout",
     "output_type": "stream",
     "text": [
      "This is the format of your plot grid:\n",
      "[ (1,1) x1,y1 ]\n",
      "[ (2,1) x1,y2 ]\n",
      "[ (3,1) x1,y3 ]\n",
      "[ (4,1) x1,y4 ]\n",
      "[ (5,1) x1,y5 ]\n",
      "This is the format of your plot grid:\n",
      "[ (1,1) x1,y1 ]\n",
      "[ (2,1) x1,y2 ]\n",
      "[ (3,1) x1,y3 ]\n",
      "[ (4,1) x1,y4 ]\n",
      "[ (5,1) x1,y5 ]\n",
      "\n",
      "\n",
      "This is the format of your plot grid:\n",
      "[ (1,1) x1,y1 ]\n",
      "[ (2,1) x1,y2 ]\n",
      "[ (3,1) x1,y3 ]\n",
      "[ (4,1) x1,y4 ]\n",
      "[ (5,1) x1,y5 ]\n",
      "\n",
      "This is the format of your plot grid:\n",
      "[ (1,1) x1,y1 ]\n",
      "[ (2,1) x1,y2 ]\n",
      "[ (3,1) x1,y3 ]\n",
      "[ (4,1) x1,y4 ]\n",
      "[ (5,1) x1,y5 ]\n",
      "\n",
      "This is the format of your plot grid:\n",
      "[ (1,1) x1,y1 ]\n",
      "[ (2,1) x1,y2 ]\n",
      "[ (3,1) x1,y3 ]\n",
      "[ (4,1) x1,y4 ]\n",
      "[ (5,1) x1,y5 ]\n",
      "\n",
      "This is the format of your plot grid:\n",
      "[ (1,1) x1,y1 ]\n",
      "[ (2,1) x1,y2 ]\n",
      "[ (3,1) x1,y3 ]\n",
      "[ (4,1) x1,y4 ]\n",
      "[ (5,1) x1,y5 ]\n",
      "\n",
      "This is the format of your plot grid:\n",
      "[ (1,1) x1,y1 ]\n",
      "[ (2,1) x1,y2 ]\n",
      "[ (3,1) x1,y3 ]\n",
      "[ (4,1) x1,y4 ]\n",
      "[ (5,1) x1,y5 ]\n",
      "\n",
      "This is the format of your plot grid:\n",
      "[ (1,1) x1,y1 ]\n",
      "[ (2,1) x1,y2 ]\n",
      "[ (3,1) x1,y3 ]\n",
      "[ (4,1) x1,y4 ]\n",
      "[ (5,1) x1,y5 ]\n",
      "\n",
      "This is the format of your plot grid:\n",
      "[ (1,1) x1,y1 ]\n",
      "[ (2,1) x1,y2 ]\n",
      "[ (3,1) x1,y3 ]\n",
      "[ (4,1) x1,y4 ]\n",
      "[ (5,1) x1,y5 ]\n",
      "\n",
      "This is the format of your plot grid:\n",
      "[ (1,1) x1,y1 ]\n",
      "[ (2,1) x1,y2 ]\n",
      "[ (3,1) x1,y3 ]\n",
      "[ (4,1) x1,y4 ]\n",
      "[ (5,1) x1,y5 ]\n",
      "\n"
     ]
    },
    {
     "data": {
      "text/html": [
       "<script type=\"text/javascript\">window.PlotlyConfig = {MathJaxConfig: 'local'};</script><script type=\"text/javascript\">if (window.MathJax) {MathJax.Hub.Config({SVG: {font: \"STIX-Web\"}});}</script><script>requirejs.config({paths: { 'plotly': ['https://cdn.plot.ly/plotly-latest.min']},});if(!window._Plotly) {require(['plotly'],function(plotly) {window._Plotly=plotly;});}</script>"
      ],
      "text/vnd.plotly.v1+html": [
       "<script type=\"text/javascript\">window.PlotlyConfig = {MathJaxConfig: 'local'};</script><script type=\"text/javascript\">if (window.MathJax) {MathJax.Hub.Config({SVG: {font: \"STIX-Web\"}});}</script><script>requirejs.config({paths: { 'plotly': ['https://cdn.plot.ly/plotly-latest.min']},});if(!window._Plotly) {require(['plotly'],function(plotly) {window._Plotly=plotly;});}</script>"
      ]
     },
     "metadata": {},
     "output_type": "display_data"
    },
    {
     "data": {
      "text/html": [
       "<script type=\"text/javascript\">window.PlotlyConfig = {MathJaxConfig: 'local'};</script><script type=\"text/javascript\">if (window.MathJax) {MathJax.Hub.Config({SVG: {font: \"STIX-Web\"}});}</script><script>requirejs.config({paths: { 'plotly': ['https://cdn.plot.ly/plotly-latest.min']},});if(!window._Plotly) {require(['plotly'],function(plotly) {window._Plotly=plotly;});}</script>"
      ],
      "text/vnd.plotly.v1+html": [
       "<script type=\"text/javascript\">window.PlotlyConfig = {MathJaxConfig: 'local'};</script><script type=\"text/javascript\">if (window.MathJax) {MathJax.Hub.Config({SVG: {font: \"STIX-Web\"}});}</script><script>requirejs.config({paths: { 'plotly': ['https://cdn.plot.ly/plotly-latest.min']},});if(!window._Plotly) {require(['plotly'],function(plotly) {window._Plotly=plotly;});}</script>"
      ]
     },
     "metadata": {},
     "output_type": "display_data"
    },
    {
     "data": {
      "text/html": [
       "<script type=\"text/javascript\">window.PlotlyConfig = {MathJaxConfig: 'local'};</script><script type=\"text/javascript\">if (window.MathJax) {MathJax.Hub.Config({SVG: {font: \"STIX-Web\"}});}</script><script>requirejs.config({paths: { 'plotly': ['https://cdn.plot.ly/plotly-latest.min']},});if(!window._Plotly) {require(['plotly'],function(plotly) {window._Plotly=plotly;});}</script>"
      ],
      "text/vnd.plotly.v1+html": [
       "<script type=\"text/javascript\">window.PlotlyConfig = {MathJaxConfig: 'local'};</script><script type=\"text/javascript\">if (window.MathJax) {MathJax.Hub.Config({SVG: {font: \"STIX-Web\"}});}</script><script>requirejs.config({paths: { 'plotly': ['https://cdn.plot.ly/plotly-latest.min']},});if(!window._Plotly) {require(['plotly'],function(plotly) {window._Plotly=plotly;});}</script>"
      ]
     },
     "metadata": {},
     "output_type": "display_data"
    },
    {
     "data": {
      "text/html": [
       "<script type=\"text/javascript\">window.PlotlyConfig = {MathJaxConfig: 'local'};</script><script type=\"text/javascript\">if (window.MathJax) {MathJax.Hub.Config({SVG: {font: \"STIX-Web\"}});}</script><script>requirejs.config({paths: { 'plotly': ['https://cdn.plot.ly/plotly-latest.min']},});if(!window._Plotly) {require(['plotly'],function(plotly) {window._Plotly=plotly;});}</script>"
      ],
      "text/vnd.plotly.v1+html": [
       "<script type=\"text/javascript\">window.PlotlyConfig = {MathJaxConfig: 'local'};</script><script type=\"text/javascript\">if (window.MathJax) {MathJax.Hub.Config({SVG: {font: \"STIX-Web\"}});}</script><script>requirejs.config({paths: { 'plotly': ['https://cdn.plot.ly/plotly-latest.min']},});if(!window._Plotly) {require(['plotly'],function(plotly) {window._Plotly=plotly;});}</script>"
      ]
     },
     "metadata": {},
     "output_type": "display_data"
    },
    {
     "data": {
      "text/html": [
       "<script type=\"text/javascript\">window.PlotlyConfig = {MathJaxConfig: 'local'};</script><script type=\"text/javascript\">if (window.MathJax) {MathJax.Hub.Config({SVG: {font: \"STIX-Web\"}});}</script><script>requirejs.config({paths: { 'plotly': ['https://cdn.plot.ly/plotly-latest.min']},});if(!window._Plotly) {require(['plotly'],function(plotly) {window._Plotly=plotly;});}</script>"
      ],
      "text/vnd.plotly.v1+html": [
       "<script type=\"text/javascript\">window.PlotlyConfig = {MathJaxConfig: 'local'};</script><script type=\"text/javascript\">if (window.MathJax) {MathJax.Hub.Config({SVG: {font: \"STIX-Web\"}});}</script><script>requirejs.config({paths: { 'plotly': ['https://cdn.plot.ly/plotly-latest.min']},});if(!window._Plotly) {require(['plotly'],function(plotly) {window._Plotly=plotly;});}</script>"
      ]
     },
     "metadata": {},
     "output_type": "display_data"
    },
    {
     "data": {
      "text/html": [
       "<script type=\"text/javascript\">window.PlotlyConfig = {MathJaxConfig: 'local'};</script><script type=\"text/javascript\">if (window.MathJax) {MathJax.Hub.Config({SVG: {font: \"STIX-Web\"}});}</script><script>requirejs.config({paths: { 'plotly': ['https://cdn.plot.ly/plotly-latest.min']},});if(!window._Plotly) {require(['plotly'],function(plotly) {window._Plotly=plotly;});}</script>"
      ],
      "text/vnd.plotly.v1+html": [
       "<script type=\"text/javascript\">window.PlotlyConfig = {MathJaxConfig: 'local'};</script><script type=\"text/javascript\">if (window.MathJax) {MathJax.Hub.Config({SVG: {font: \"STIX-Web\"}});}</script><script>requirejs.config({paths: { 'plotly': ['https://cdn.plot.ly/plotly-latest.min']},});if(!window._Plotly) {require(['plotly'],function(plotly) {window._Plotly=plotly;});}</script>"
      ]
     },
     "metadata": {},
     "output_type": "display_data"
    },
    {
     "data": {
      "text/html": [
       "<script type=\"text/javascript\">window.PlotlyConfig = {MathJaxConfig: 'local'};</script><script type=\"text/javascript\">if (window.MathJax) {MathJax.Hub.Config({SVG: {font: \"STIX-Web\"}});}</script><script>requirejs.config({paths: { 'plotly': ['https://cdn.plot.ly/plotly-latest.min']},});if(!window._Plotly) {require(['plotly'],function(plotly) {window._Plotly=plotly;});}</script>"
      ],
      "text/vnd.plotly.v1+html": [
       "<script type=\"text/javascript\">window.PlotlyConfig = {MathJaxConfig: 'local'};</script><script type=\"text/javascript\">if (window.MathJax) {MathJax.Hub.Config({SVG: {font: \"STIX-Web\"}});}</script><script>requirejs.config({paths: { 'plotly': ['https://cdn.plot.ly/plotly-latest.min']},});if(!window._Plotly) {require(['plotly'],function(plotly) {window._Plotly=plotly;});}</script>"
      ]
     },
     "metadata": {},
     "output_type": "display_data"
    },
    {
     "data": {
      "text/html": [
       "<script type=\"text/javascript\">window.PlotlyConfig = {MathJaxConfig: 'local'};</script><script type=\"text/javascript\">if (window.MathJax) {MathJax.Hub.Config({SVG: {font: \"STIX-Web\"}});}</script><script>requirejs.config({paths: { 'plotly': ['https://cdn.plot.ly/plotly-latest.min']},});if(!window._Plotly) {require(['plotly'],function(plotly) {window._Plotly=plotly;});}</script>"
      ],
      "text/vnd.plotly.v1+html": [
       "<script type=\"text/javascript\">window.PlotlyConfig = {MathJaxConfig: 'local'};</script><script type=\"text/javascript\">if (window.MathJax) {MathJax.Hub.Config({SVG: {font: \"STIX-Web\"}});}</script><script>requirejs.config({paths: { 'plotly': ['https://cdn.plot.ly/plotly-latest.min']},});if(!window._Plotly) {require(['plotly'],function(plotly) {window._Plotly=plotly;});}</script>"
      ]
     },
     "metadata": {},
     "output_type": "display_data"
    },
    {
     "data": {
      "text/html": [
       "<script type=\"text/javascript\">window.PlotlyConfig = {MathJaxConfig: 'local'};</script><script type=\"text/javascript\">if (window.MathJax) {MathJax.Hub.Config({SVG: {font: \"STIX-Web\"}});}</script><script>requirejs.config({paths: { 'plotly': ['https://cdn.plot.ly/plotly-latest.min']},});if(!window._Plotly) {require(['plotly'],function(plotly) {window._Plotly=plotly;});}</script>"
      ],
      "text/vnd.plotly.v1+html": [
       "<script type=\"text/javascript\">window.PlotlyConfig = {MathJaxConfig: 'local'};</script><script type=\"text/javascript\">if (window.MathJax) {MathJax.Hub.Config({SVG: {font: \"STIX-Web\"}});}</script><script>requirejs.config({paths: { 'plotly': ['https://cdn.plot.ly/plotly-latest.min']},});if(!window._Plotly) {require(['plotly'],function(plotly) {window._Plotly=plotly;});}</script>"
      ]
     },
     "metadata": {},
     "output_type": "display_data"
    },
    {
     "data": {
      "text/html": [
       "<script type=\"text/javascript\">window.PlotlyConfig = {MathJaxConfig: 'local'};</script><script type=\"text/javascript\">if (window.MathJax) {MathJax.Hub.Config({SVG: {font: \"STIX-Web\"}});}</script><script>requirejs.config({paths: { 'plotly': ['https://cdn.plot.ly/plotly-latest.min']},});if(!window._Plotly) {require(['plotly'],function(plotly) {window._Plotly=plotly;});}</script>"
      ],
      "text/vnd.plotly.v1+html": [
       "<script type=\"text/javascript\">window.PlotlyConfig = {MathJaxConfig: 'local'};</script><script type=\"text/javascript\">if (window.MathJax) {MathJax.Hub.Config({SVG: {font: \"STIX-Web\"}});}</script><script>requirejs.config({paths: { 'plotly': ['https://cdn.plot.ly/plotly-latest.min']},});if(!window._Plotly) {require(['plotly'],function(plotly) {window._Plotly=plotly;});}</script>"
      ]
     },
     "metadata": {},
     "output_type": "display_data"
    },
    {
     "name": "stdout",
     "output_type": "stream",
     "text": [
      "This is the format of your plot grid:\n",
      "[ (1,1) x1,y1 ]\n",
      "[ (2,1) x1,y2 ]\n",
      "[ (3,1) x1,y3 ]\n",
      "[ (4,1) x1,y4 ]\n",
      "[ (5,1) x1,y5 ]\n",
      "\n",
      "This is the format of your plot grid:\n",
      "[ (1,1) x1,y1 ]\n",
      "[ (2,1) x1,y2 ]\n",
      "[ (3,1) x1,y3 ]\n",
      "[ (4,1) x1,y4 ]\n",
      "[ (5,1) x1,y5 ]\n",
      "\n",
      "This is the format of your plot grid:\n",
      "[ (1,1) x1,y1 ]\n",
      "[ (2,1) x1,y2 ]\n",
      "[ (3,1) x1,y3 ]\n",
      "[ (4,1) x1,y4 ]\n",
      "[ (5,1) x1,y5 ]\n",
      "\n",
      "This is the format of your plot grid:\n",
      "[ (1,1) x1,y1 ]\n",
      "[ (2,1) x1,y2 ]\n",
      "[ (3,1) x1,y3 ]\n",
      "[ (4,1) x1,y4 ]\n",
      "[ (5,1) x1,y5 ]\n",
      "\n",
      "This is the format of your plot grid:\n",
      "[ (1,1) x1,y1 ]\n",
      "[ (2,1) x1,y2 ]\n",
      "[ (3,1) x1,y3 ]\n",
      "[ (4,1) x1,y4 ]\n",
      "[ (5,1) x1,y5 ]\n",
      "\n",
      "This is the format of your plot grid:\n",
      "[ (1,1) x1,y1 ]\n",
      "[ (2,1) x1,y2 ]\n",
      "[ (3,1) x1,y3 ]\n",
      "[ (4,1) x1,y4 ]\n",
      "[ (5,1) x1,y5 ]\n",
      "\n",
      "This is the format of your plot grid:\n",
      "[ (1,1) x1,y1 ]\n",
      "[ (2,1) x1,y2 ]\n",
      "[ (3,1) x1,y3 ]\n",
      "[ (4,1) x1,y4 ]\n",
      "[ (5,1) x1,y5 ]\n",
      "\n",
      "This is the format of your plot grid:\n",
      "[ (1,1) x1,y1 ]\n",
      "[ (2,1) x1,y2 ]\n",
      "[ (3,1) x1,y3 ]\n",
      "[ (4,1) x1,y4 ]\n",
      "[ (5,1) x1,y5 ]\n",
      "This is the format of your plot grid:\n",
      "[ (1,1) x1,y1 ]\n",
      "[ (2,1) x1,y2 ]\n",
      "[ (3,1) x1,y3 ]\n",
      "[ (4,1) x1,y4 ]\n",
      "[ (5,1) x1,y5 ]\n",
      "\n",
      "\n",
      "This is the format of your plot grid:\n",
      "[ (1,1) x1,y1 ]\n",
      "[ (2,1) x1,y2 ]\n",
      "[ (3,1) x1,y3 ]\n",
      "[ (4,1) x1,y4 ]\n",
      "[ (5,1) x1,y5 ]\n",
      "\n"
     ]
    },
    {
     "data": {
      "text/html": [
       "<script type=\"text/javascript\">window.PlotlyConfig = {MathJaxConfig: 'local'};</script><script type=\"text/javascript\">if (window.MathJax) {MathJax.Hub.Config({SVG: {font: \"STIX-Web\"}});}</script><script>requirejs.config({paths: { 'plotly': ['https://cdn.plot.ly/plotly-latest.min']},});if(!window._Plotly) {require(['plotly'],function(plotly) {window._Plotly=plotly;});}</script>"
      ],
      "text/vnd.plotly.v1+html": [
       "<script type=\"text/javascript\">window.PlotlyConfig = {MathJaxConfig: 'local'};</script><script type=\"text/javascript\">if (window.MathJax) {MathJax.Hub.Config({SVG: {font: \"STIX-Web\"}});}</script><script>requirejs.config({paths: { 'plotly': ['https://cdn.plot.ly/plotly-latest.min']},});if(!window._Plotly) {require(['plotly'],function(plotly) {window._Plotly=plotly;});}</script>"
      ]
     },
     "metadata": {},
     "output_type": "display_data"
    },
    {
     "data": {
      "text/html": [
       "<script type=\"text/javascript\">window.PlotlyConfig = {MathJaxConfig: 'local'};</script><script type=\"text/javascript\">if (window.MathJax) {MathJax.Hub.Config({SVG: {font: \"STIX-Web\"}});}</script><script>requirejs.config({paths: { 'plotly': ['https://cdn.plot.ly/plotly-latest.min']},});if(!window._Plotly) {require(['plotly'],function(plotly) {window._Plotly=plotly;});}</script>"
      ],
      "text/vnd.plotly.v1+html": [
       "<script type=\"text/javascript\">window.PlotlyConfig = {MathJaxConfig: 'local'};</script><script type=\"text/javascript\">if (window.MathJax) {MathJax.Hub.Config({SVG: {font: \"STIX-Web\"}});}</script><script>requirejs.config({paths: { 'plotly': ['https://cdn.plot.ly/plotly-latest.min']},});if(!window._Plotly) {require(['plotly'],function(plotly) {window._Plotly=plotly;});}</script>"
      ]
     },
     "metadata": {},
     "output_type": "display_data"
    },
    {
     "data": {
      "text/html": [
       "<script type=\"text/javascript\">window.PlotlyConfig = {MathJaxConfig: 'local'};</script><script type=\"text/javascript\">if (window.MathJax) {MathJax.Hub.Config({SVG: {font: \"STIX-Web\"}});}</script><script>requirejs.config({paths: { 'plotly': ['https://cdn.plot.ly/plotly-latest.min']},});if(!window._Plotly) {require(['plotly'],function(plotly) {window._Plotly=plotly;});}</script>"
      ],
      "text/vnd.plotly.v1+html": [
       "<script type=\"text/javascript\">window.PlotlyConfig = {MathJaxConfig: 'local'};</script><script type=\"text/javascript\">if (window.MathJax) {MathJax.Hub.Config({SVG: {font: \"STIX-Web\"}});}</script><script>requirejs.config({paths: { 'plotly': ['https://cdn.plot.ly/plotly-latest.min']},});if(!window._Plotly) {require(['plotly'],function(plotly) {window._Plotly=plotly;});}</script>"
      ]
     },
     "metadata": {},
     "output_type": "display_data"
    },
    {
     "data": {
      "text/html": [
       "<script type=\"text/javascript\">window.PlotlyConfig = {MathJaxConfig: 'local'};</script><script type=\"text/javascript\">if (window.MathJax) {MathJax.Hub.Config({SVG: {font: \"STIX-Web\"}});}</script><script>requirejs.config({paths: { 'plotly': ['https://cdn.plot.ly/plotly-latest.min']},});if(!window._Plotly) {require(['plotly'],function(plotly) {window._Plotly=plotly;});}</script>"
      ],
      "text/vnd.plotly.v1+html": [
       "<script type=\"text/javascript\">window.PlotlyConfig = {MathJaxConfig: 'local'};</script><script type=\"text/javascript\">if (window.MathJax) {MathJax.Hub.Config({SVG: {font: \"STIX-Web\"}});}</script><script>requirejs.config({paths: { 'plotly': ['https://cdn.plot.ly/plotly-latest.min']},});if(!window._Plotly) {require(['plotly'],function(plotly) {window._Plotly=plotly;});}</script>"
      ]
     },
     "metadata": {},
     "output_type": "display_data"
    },
    {
     "data": {
      "text/html": [
       "<script type=\"text/javascript\">window.PlotlyConfig = {MathJaxConfig: 'local'};</script><script type=\"text/javascript\">if (window.MathJax) {MathJax.Hub.Config({SVG: {font: \"STIX-Web\"}});}</script><script>requirejs.config({paths: { 'plotly': ['https://cdn.plot.ly/plotly-latest.min']},});if(!window._Plotly) {require(['plotly'],function(plotly) {window._Plotly=plotly;});}</script>"
      ],
      "text/vnd.plotly.v1+html": [
       "<script type=\"text/javascript\">window.PlotlyConfig = {MathJaxConfig: 'local'};</script><script type=\"text/javascript\">if (window.MathJax) {MathJax.Hub.Config({SVG: {font: \"STIX-Web\"}});}</script><script>requirejs.config({paths: { 'plotly': ['https://cdn.plot.ly/plotly-latest.min']},});if(!window._Plotly) {require(['plotly'],function(plotly) {window._Plotly=plotly;});}</script>"
      ]
     },
     "metadata": {},
     "output_type": "display_data"
    },
    {
     "data": {
      "text/html": [
       "<script type=\"text/javascript\">window.PlotlyConfig = {MathJaxConfig: 'local'};</script><script type=\"text/javascript\">if (window.MathJax) {MathJax.Hub.Config({SVG: {font: \"STIX-Web\"}});}</script><script>requirejs.config({paths: { 'plotly': ['https://cdn.plot.ly/plotly-latest.min']},});if(!window._Plotly) {require(['plotly'],function(plotly) {window._Plotly=plotly;});}</script>"
      ],
      "text/vnd.plotly.v1+html": [
       "<script type=\"text/javascript\">window.PlotlyConfig = {MathJaxConfig: 'local'};</script><script type=\"text/javascript\">if (window.MathJax) {MathJax.Hub.Config({SVG: {font: \"STIX-Web\"}});}</script><script>requirejs.config({paths: { 'plotly': ['https://cdn.plot.ly/plotly-latest.min']},});if(!window._Plotly) {require(['plotly'],function(plotly) {window._Plotly=plotly;});}</script>"
      ]
     },
     "metadata": {},
     "output_type": "display_data"
    },
    {
     "data": {
      "text/html": [
       "<script type=\"text/javascript\">window.PlotlyConfig = {MathJaxConfig: 'local'};</script><script type=\"text/javascript\">if (window.MathJax) {MathJax.Hub.Config({SVG: {font: \"STIX-Web\"}});}</script><script>requirejs.config({paths: { 'plotly': ['https://cdn.plot.ly/plotly-latest.min']},});if(!window._Plotly) {require(['plotly'],function(plotly) {window._Plotly=plotly;});}</script>"
      ],
      "text/vnd.plotly.v1+html": [
       "<script type=\"text/javascript\">window.PlotlyConfig = {MathJaxConfig: 'local'};</script><script type=\"text/javascript\">if (window.MathJax) {MathJax.Hub.Config({SVG: {font: \"STIX-Web\"}});}</script><script>requirejs.config({paths: { 'plotly': ['https://cdn.plot.ly/plotly-latest.min']},});if(!window._Plotly) {require(['plotly'],function(plotly) {window._Plotly=plotly;});}</script>"
      ]
     },
     "metadata": {},
     "output_type": "display_data"
    },
    {
     "data": {
      "text/html": [
       "<script type=\"text/javascript\">window.PlotlyConfig = {MathJaxConfig: 'local'};</script><script type=\"text/javascript\">if (window.MathJax) {MathJax.Hub.Config({SVG: {font: \"STIX-Web\"}});}</script><script>requirejs.config({paths: { 'plotly': ['https://cdn.plot.ly/plotly-latest.min']},});if(!window._Plotly) {require(['plotly'],function(plotly) {window._Plotly=plotly;});}</script>"
      ],
      "text/vnd.plotly.v1+html": [
       "<script type=\"text/javascript\">window.PlotlyConfig = {MathJaxConfig: 'local'};</script><script type=\"text/javascript\">if (window.MathJax) {MathJax.Hub.Config({SVG: {font: \"STIX-Web\"}});}</script><script>requirejs.config({paths: { 'plotly': ['https://cdn.plot.ly/plotly-latest.min']},});if(!window._Plotly) {require(['plotly'],function(plotly) {window._Plotly=plotly;});}</script>"
      ]
     },
     "metadata": {},
     "output_type": "display_data"
    },
    {
     "data": {
      "text/html": [
       "<script type=\"text/javascript\">window.PlotlyConfig = {MathJaxConfig: 'local'};</script><script type=\"text/javascript\">if (window.MathJax) {MathJax.Hub.Config({SVG: {font: \"STIX-Web\"}});}</script><script>requirejs.config({paths: { 'plotly': ['https://cdn.plot.ly/plotly-latest.min']},});if(!window._Plotly) {require(['plotly'],function(plotly) {window._Plotly=plotly;});}</script>"
      ],
      "text/vnd.plotly.v1+html": [
       "<script type=\"text/javascript\">window.PlotlyConfig = {MathJaxConfig: 'local'};</script><script type=\"text/javascript\">if (window.MathJax) {MathJax.Hub.Config({SVG: {font: \"STIX-Web\"}});}</script><script>requirejs.config({paths: { 'plotly': ['https://cdn.plot.ly/plotly-latest.min']},});if(!window._Plotly) {require(['plotly'],function(plotly) {window._Plotly=plotly;});}</script>"
      ]
     },
     "metadata": {},
     "output_type": "display_data"
    },
    {
     "data": {
      "text/html": [
       "<script type=\"text/javascript\">window.PlotlyConfig = {MathJaxConfig: 'local'};</script><script type=\"text/javascript\">if (window.MathJax) {MathJax.Hub.Config({SVG: {font: \"STIX-Web\"}});}</script><script>requirejs.config({paths: { 'plotly': ['https://cdn.plot.ly/plotly-latest.min']},});if(!window._Plotly) {require(['plotly'],function(plotly) {window._Plotly=plotly;});}</script>"
      ],
      "text/vnd.plotly.v1+html": [
       "<script type=\"text/javascript\">window.PlotlyConfig = {MathJaxConfig: 'local'};</script><script type=\"text/javascript\">if (window.MathJax) {MathJax.Hub.Config({SVG: {font: \"STIX-Web\"}});}</script><script>requirejs.config({paths: { 'plotly': ['https://cdn.plot.ly/plotly-latest.min']},});if(!window._Plotly) {require(['plotly'],function(plotly) {window._Plotly=plotly;});}</script>"
      ]
     },
     "metadata": {},
     "output_type": "display_data"
    },
    {
     "name": "stdout",
     "output_type": "stream",
     "text": [
      "This is the format of your plot grid:\n",
      "[ (1,1) x1,y1 ]\n",
      "[ (2,1) x1,y2 ]\n",
      "[ (3,1) x1,y3 ]\n",
      "[ (4,1) x1,y4 ]\n",
      "[ (5,1) x1,y5 ]\n",
      "\n",
      "This is the format of your plot grid:\n",
      "[ (1,1) x1,y1 ]\n",
      "[ (2,1) x1,y2 ]\n",
      "[ (3,1) x1,y3 ]\n",
      "[ (4,1) x1,y4 ]\n",
      "[ (5,1) x1,y5 ]\n",
      "This is the format of your plot grid:\n",
      "[ (1,1) x1,y1 ]\n",
      "[ (2,1) x1,y2 ]\n",
      "[ (3,1) x1,y3 ]\n",
      "[ (4,1) x1,y4 ]\n",
      "[ (5,1) x1,y5 ]\n",
      "\n",
      "\n",
      "This is the format of your plot grid:\n",
      "[ (1,1) x1,y1 ]\n",
      "[ (2,1) x1,y2 ]\n",
      "[ (3,1) x1,y3 ]\n",
      "[ (4,1) x1,y4 ]\n",
      "[ (5,1) x1,y5 ]\n",
      "\n",
      "This is the format of your plot grid:\n",
      "[ (1,1) x1,y1 ]\n",
      "[ (2,1) x1,y2 ]\n",
      "[ (3,1) x1,y3 ]\n",
      "[ (4,1) x1,y4 ]\n",
      "[ (5,1) x1,y5 ]\n",
      "\n",
      "This is the format of your plot grid:\n",
      "[ (1,1) x1,y1 ]\n",
      "[ (2,1) x1,y2 ]\n",
      "[ (3,1) x1,y3 ]\n",
      "[ (4,1) x1,y4 ]\n",
      "[ (5,1) x1,y5 ]\n",
      "\n",
      "This is the format of your plot grid:\n",
      "[ (1,1) x1,y1 ]\n",
      "[ (2,1) x1,y2 ]\n",
      "[ (3,1) x1,y3 ]\n",
      "[ (4,1) x1,y4 ]\n",
      "[ (5,1) x1,y5 ]\n",
      "\n",
      "This is the format of your plot grid:\n",
      "[ (1,1) x1,y1 ]\n",
      "[ (2,1) x1,y2 ]\n",
      "[ (3,1) x1,y3 ]\n",
      "[ (4,1) x1,y4 ]\n",
      "[ (5,1) x1,y5 ]\n",
      "\n",
      "This is the format of your plot grid:\n",
      "[ (1,1) x1,y1 ]\n",
      "[ (2,1) x1,y2 ]\n",
      "[ (3,1) x1,y3 ]\n",
      "[ (4,1) x1,y4 ]\n",
      "[ (5,1) x1,y5 ]\n",
      "\n",
      "This is the format of your plot grid:\n",
      "[ (1,1) x1,y1 ]\n",
      "[ (2,1) x1,y2 ]\n",
      "[ (3,1) x1,y3 ]\n",
      "[ (4,1) x1,y4 ]\n",
      "[ (5,1) x1,y5 ]\n",
      "\n"
     ]
    },
    {
     "data": {
      "text/html": [
       "<script type=\"text/javascript\">window.PlotlyConfig = {MathJaxConfig: 'local'};</script><script type=\"text/javascript\">if (window.MathJax) {MathJax.Hub.Config({SVG: {font: \"STIX-Web\"}});}</script><script>requirejs.config({paths: { 'plotly': ['https://cdn.plot.ly/plotly-latest.min']},});if(!window._Plotly) {require(['plotly'],function(plotly) {window._Plotly=plotly;});}</script>"
      ],
      "text/vnd.plotly.v1+html": [
       "<script type=\"text/javascript\">window.PlotlyConfig = {MathJaxConfig: 'local'};</script><script type=\"text/javascript\">if (window.MathJax) {MathJax.Hub.Config({SVG: {font: \"STIX-Web\"}});}</script><script>requirejs.config({paths: { 'plotly': ['https://cdn.plot.ly/plotly-latest.min']},});if(!window._Plotly) {require(['plotly'],function(plotly) {window._Plotly=plotly;});}</script>"
      ]
     },
     "metadata": {},
     "output_type": "display_data"
    },
    {
     "data": {
      "text/html": [
       "<script type=\"text/javascript\">window.PlotlyConfig = {MathJaxConfig: 'local'};</script><script type=\"text/javascript\">if (window.MathJax) {MathJax.Hub.Config({SVG: {font: \"STIX-Web\"}});}</script><script>requirejs.config({paths: { 'plotly': ['https://cdn.plot.ly/plotly-latest.min']},});if(!window._Plotly) {require(['plotly'],function(plotly) {window._Plotly=plotly;});}</script>"
      ],
      "text/vnd.plotly.v1+html": [
       "<script type=\"text/javascript\">window.PlotlyConfig = {MathJaxConfig: 'local'};</script><script type=\"text/javascript\">if (window.MathJax) {MathJax.Hub.Config({SVG: {font: \"STIX-Web\"}});}</script><script>requirejs.config({paths: { 'plotly': ['https://cdn.plot.ly/plotly-latest.min']},});if(!window._Plotly) {require(['plotly'],function(plotly) {window._Plotly=plotly;});}</script>"
      ]
     },
     "metadata": {},
     "output_type": "display_data"
    },
    {
     "data": {
      "text/html": [
       "<script type=\"text/javascript\">window.PlotlyConfig = {MathJaxConfig: 'local'};</script><script type=\"text/javascript\">if (window.MathJax) {MathJax.Hub.Config({SVG: {font: \"STIX-Web\"}});}</script><script>requirejs.config({paths: { 'plotly': ['https://cdn.plot.ly/plotly-latest.min']},});if(!window._Plotly) {require(['plotly'],function(plotly) {window._Plotly=plotly;});}</script>"
      ],
      "text/vnd.plotly.v1+html": [
       "<script type=\"text/javascript\">window.PlotlyConfig = {MathJaxConfig: 'local'};</script><script type=\"text/javascript\">if (window.MathJax) {MathJax.Hub.Config({SVG: {font: \"STIX-Web\"}});}</script><script>requirejs.config({paths: { 'plotly': ['https://cdn.plot.ly/plotly-latest.min']},});if(!window._Plotly) {require(['plotly'],function(plotly) {window._Plotly=plotly;});}</script>"
      ]
     },
     "metadata": {},
     "output_type": "display_data"
    },
    {
     "data": {
      "text/html": [
       "<script type=\"text/javascript\">window.PlotlyConfig = {MathJaxConfig: 'local'};</script><script type=\"text/javascript\">if (window.MathJax) {MathJax.Hub.Config({SVG: {font: \"STIX-Web\"}});}</script><script>requirejs.config({paths: { 'plotly': ['https://cdn.plot.ly/plotly-latest.min']},});if(!window._Plotly) {require(['plotly'],function(plotly) {window._Plotly=plotly;});}</script>"
      ],
      "text/vnd.plotly.v1+html": [
       "<script type=\"text/javascript\">window.PlotlyConfig = {MathJaxConfig: 'local'};</script><script type=\"text/javascript\">if (window.MathJax) {MathJax.Hub.Config({SVG: {font: \"STIX-Web\"}});}</script><script>requirejs.config({paths: { 'plotly': ['https://cdn.plot.ly/plotly-latest.min']},});if(!window._Plotly) {require(['plotly'],function(plotly) {window._Plotly=plotly;});}</script>"
      ]
     },
     "metadata": {},
     "output_type": "display_data"
    },
    {
     "data": {
      "text/html": [
       "<script type=\"text/javascript\">window.PlotlyConfig = {MathJaxConfig: 'local'};</script><script type=\"text/javascript\">if (window.MathJax) {MathJax.Hub.Config({SVG: {font: \"STIX-Web\"}});}</script><script>requirejs.config({paths: { 'plotly': ['https://cdn.plot.ly/plotly-latest.min']},});if(!window._Plotly) {require(['plotly'],function(plotly) {window._Plotly=plotly;});}</script>"
      ],
      "text/vnd.plotly.v1+html": [
       "<script type=\"text/javascript\">window.PlotlyConfig = {MathJaxConfig: 'local'};</script><script type=\"text/javascript\">if (window.MathJax) {MathJax.Hub.Config({SVG: {font: \"STIX-Web\"}});}</script><script>requirejs.config({paths: { 'plotly': ['https://cdn.plot.ly/plotly-latest.min']},});if(!window._Plotly) {require(['plotly'],function(plotly) {window._Plotly=plotly;});}</script>"
      ]
     },
     "metadata": {},
     "output_type": "display_data"
    },
    {
     "data": {
      "text/html": [
       "<script type=\"text/javascript\">window.PlotlyConfig = {MathJaxConfig: 'local'};</script><script type=\"text/javascript\">if (window.MathJax) {MathJax.Hub.Config({SVG: {font: \"STIX-Web\"}});}</script><script>requirejs.config({paths: { 'plotly': ['https://cdn.plot.ly/plotly-latest.min']},});if(!window._Plotly) {require(['plotly'],function(plotly) {window._Plotly=plotly;});}</script>"
      ],
      "text/vnd.plotly.v1+html": [
       "<script type=\"text/javascript\">window.PlotlyConfig = {MathJaxConfig: 'local'};</script><script type=\"text/javascript\">if (window.MathJax) {MathJax.Hub.Config({SVG: {font: \"STIX-Web\"}});}</script><script>requirejs.config({paths: { 'plotly': ['https://cdn.plot.ly/plotly-latest.min']},});if(!window._Plotly) {require(['plotly'],function(plotly) {window._Plotly=plotly;});}</script>"
      ]
     },
     "metadata": {},
     "output_type": "display_data"
    },
    {
     "data": {
      "text/html": [
       "<script type=\"text/javascript\">window.PlotlyConfig = {MathJaxConfig: 'local'};</script><script type=\"text/javascript\">if (window.MathJax) {MathJax.Hub.Config({SVG: {font: \"STIX-Web\"}});}</script><script>requirejs.config({paths: { 'plotly': ['https://cdn.plot.ly/plotly-latest.min']},});if(!window._Plotly) {require(['plotly'],function(plotly) {window._Plotly=plotly;});}</script>"
      ],
      "text/vnd.plotly.v1+html": [
       "<script type=\"text/javascript\">window.PlotlyConfig = {MathJaxConfig: 'local'};</script><script type=\"text/javascript\">if (window.MathJax) {MathJax.Hub.Config({SVG: {font: \"STIX-Web\"}});}</script><script>requirejs.config({paths: { 'plotly': ['https://cdn.plot.ly/plotly-latest.min']},});if(!window._Plotly) {require(['plotly'],function(plotly) {window._Plotly=plotly;});}</script>"
      ]
     },
     "metadata": {},
     "output_type": "display_data"
    },
    {
     "data": {
      "text/html": [
       "<script type=\"text/javascript\">window.PlotlyConfig = {MathJaxConfig: 'local'};</script><script type=\"text/javascript\">if (window.MathJax) {MathJax.Hub.Config({SVG: {font: \"STIX-Web\"}});}</script><script>requirejs.config({paths: { 'plotly': ['https://cdn.plot.ly/plotly-latest.min']},});if(!window._Plotly) {require(['plotly'],function(plotly) {window._Plotly=plotly;});}</script>"
      ],
      "text/vnd.plotly.v1+html": [
       "<script type=\"text/javascript\">window.PlotlyConfig = {MathJaxConfig: 'local'};</script><script type=\"text/javascript\">if (window.MathJax) {MathJax.Hub.Config({SVG: {font: \"STIX-Web\"}});}</script><script>requirejs.config({paths: { 'plotly': ['https://cdn.plot.ly/plotly-latest.min']},});if(!window._Plotly) {require(['plotly'],function(plotly) {window._Plotly=plotly;});}</script>"
      ]
     },
     "metadata": {},
     "output_type": "display_data"
    },
    {
     "data": {
      "text/html": [
       "<script type=\"text/javascript\">window.PlotlyConfig = {MathJaxConfig: 'local'};</script><script type=\"text/javascript\">if (window.MathJax) {MathJax.Hub.Config({SVG: {font: \"STIX-Web\"}});}</script><script>requirejs.config({paths: { 'plotly': ['https://cdn.plot.ly/plotly-latest.min']},});if(!window._Plotly) {require(['plotly'],function(plotly) {window._Plotly=plotly;});}</script>"
      ],
      "text/vnd.plotly.v1+html": [
       "<script type=\"text/javascript\">window.PlotlyConfig = {MathJaxConfig: 'local'};</script><script type=\"text/javascript\">if (window.MathJax) {MathJax.Hub.Config({SVG: {font: \"STIX-Web\"}});}</script><script>requirejs.config({paths: { 'plotly': ['https://cdn.plot.ly/plotly-latest.min']},});if(!window._Plotly) {require(['plotly'],function(plotly) {window._Plotly=plotly;});}</script>"
      ]
     },
     "metadata": {},
     "output_type": "display_data"
    },
    {
     "data": {
      "text/html": [
       "<script type=\"text/javascript\">window.PlotlyConfig = {MathJaxConfig: 'local'};</script><script type=\"text/javascript\">if (window.MathJax) {MathJax.Hub.Config({SVG: {font: \"STIX-Web\"}});}</script><script>requirejs.config({paths: { 'plotly': ['https://cdn.plot.ly/plotly-latest.min']},});if(!window._Plotly) {require(['plotly'],function(plotly) {window._Plotly=plotly;});}</script>"
      ],
      "text/vnd.plotly.v1+html": [
       "<script type=\"text/javascript\">window.PlotlyConfig = {MathJaxConfig: 'local'};</script><script type=\"text/javascript\">if (window.MathJax) {MathJax.Hub.Config({SVG: {font: \"STIX-Web\"}});}</script><script>requirejs.config({paths: { 'plotly': ['https://cdn.plot.ly/plotly-latest.min']},});if(!window._Plotly) {require(['plotly'],function(plotly) {window._Plotly=plotly;});}</script>"
      ]
     },
     "metadata": {},
     "output_type": "display_data"
    },
    {
     "name": "stdout",
     "output_type": "stream",
     "text": [
      "This is the format of your plot grid:\n",
      "[ (1,1) x1,y1 ]\n",
      "[ (2,1) x1,y2 ]\n",
      "[ (3,1) x1,y3 ]\n",
      "[ (4,1) x1,y4 ]\n",
      "[ (5,1) x1,y5 ]\n",
      "\n",
      "This is the format of your plot grid:\n",
      "[ (1,1) x1,y1 ]\n",
      "[ (2,1) x1,y2 ]\n",
      "[ (3,1) x1,y3 ]\n",
      "[ (4,1) x1,y4 ]\n",
      "[ (5,1) x1,y5 ]\n",
      "\n"
     ]
    },
    {
     "data": {
      "text/html": [
       "<script type=\"text/javascript\">window.PlotlyConfig = {MathJaxConfig: 'local'};</script><script type=\"text/javascript\">if (window.MathJax) {MathJax.Hub.Config({SVG: {font: \"STIX-Web\"}});}</script><script>requirejs.config({paths: { 'plotly': ['https://cdn.plot.ly/plotly-latest.min']},});if(!window._Plotly) {require(['plotly'],function(plotly) {window._Plotly=plotly;});}</script>"
      ],
      "text/vnd.plotly.v1+html": [
       "<script type=\"text/javascript\">window.PlotlyConfig = {MathJaxConfig: 'local'};</script><script type=\"text/javascript\">if (window.MathJax) {MathJax.Hub.Config({SVG: {font: \"STIX-Web\"}});}</script><script>requirejs.config({paths: { 'plotly': ['https://cdn.plot.ly/plotly-latest.min']},});if(!window._Plotly) {require(['plotly'],function(plotly) {window._Plotly=plotly;});}</script>"
      ]
     },
     "metadata": {},
     "output_type": "display_data"
    },
    {
     "data": {
      "text/html": [
       "<script type=\"text/javascript\">window.PlotlyConfig = {MathJaxConfig: 'local'};</script><script type=\"text/javascript\">if (window.MathJax) {MathJax.Hub.Config({SVG: {font: \"STIX-Web\"}});}</script><script>requirejs.config({paths: { 'plotly': ['https://cdn.plot.ly/plotly-latest.min']},});if(!window._Plotly) {require(['plotly'],function(plotly) {window._Plotly=plotly;});}</script>"
      ],
      "text/vnd.plotly.v1+html": [
       "<script type=\"text/javascript\">window.PlotlyConfig = {MathJaxConfig: 'local'};</script><script type=\"text/javascript\">if (window.MathJax) {MathJax.Hub.Config({SVG: {font: \"STIX-Web\"}});}</script><script>requirejs.config({paths: { 'plotly': ['https://cdn.plot.ly/plotly-latest.min']},});if(!window._Plotly) {require(['plotly'],function(plotly) {window._Plotly=plotly;});}</script>"
      ]
     },
     "metadata": {},
     "output_type": "display_data"
    },
    {
     "name": "stdout",
     "output_type": "stream",
     "text": [
      "This is the format of your plot grid:\n",
      "[ (1,1) x1,y1 ]\n",
      "[ (2,1) x1,y2 ]\n",
      "[ (3,1) x1,y3 ]\n",
      "[ (4,1) x1,y4 ]\n",
      "[ (5,1) x1,y5 ]\n",
      "\n",
      "This is the format of your plot grid:\n",
      "[ (1,1) x1,y1 ]\n",
      "[ (2,1) x1,y2 ]\n",
      "[ (3,1) x1,y3 ]\n",
      "[ (4,1) x1,y4 ]\n",
      "[ (5,1) x1,y5 ]\n",
      "\n",
      "This is the format of your plot grid:\n",
      "[ (1,1) x1,y1 ]\n",
      "[ (2,1) x1,y2 ]\n",
      "[ (3,1) x1,y3 ]\n",
      "[ (4,1) x1,y4 ]\n",
      "[ (5,1) x1,y5 ]\n",
      "\n",
      "This is the format of your plot grid:\n",
      "[ (1,1) x1,y1 ]\n",
      "[ (2,1) x1,y2 ]\n",
      "[ (3,1) x1,y3 ]\n",
      "[ (4,1) x1,y4 ]\n",
      "[ (5,1) x1,y5 ]\n",
      "\n",
      "This is the format of your plot grid:\n",
      "[ (1,1) x1,y1 ]\n",
      "[ (2,1) x1,y2 ]\n",
      "[ (3,1) x1,y3 ]\n",
      "[ (4,1) x1,y4 ]\n",
      "[ (5,1) x1,y5 ]\n",
      "\n",
      "This is the format of your plot grid:\n",
      "[ (1,1) x1,y1 ]\n",
      "[ (2,1) x1,y2 ]\n",
      "[ (3,1) x1,y3 ]\n",
      "[ (4,1) x1,y4 ]\n",
      "[ (5,1) x1,y5 ]\n",
      "\n",
      "This is the format of your plot grid:\n",
      "[ (1,1) x1,y1 ]\n",
      "[ (2,1) x1,y2 ]\n",
      "[ (3,1) x1,y3 ]\n",
      "[ (4,1) x1,y4 ]\n",
      "[ (5,1) x1,y5 ]\n",
      "\n",
      "This is the format of your plot grid:\n",
      "[ (1,1) x1,y1 ]\n",
      "[ (2,1) x1,y2 ]\n",
      "[ (3,1) x1,y3 ]\n",
      "[ (4,1) x1,y4 ]\n",
      "[ (5,1) x1,y5 ]\n",
      "\n",
      "This is the format of your plot grid:\n",
      "[ (1,1) x1,y1 ]\n",
      "[ (2,1) x1,y2 ]\n",
      "[ (3,1) x1,y3 ]\n",
      "[ (4,1) x1,y4 ]\n",
      "[ (5,1) x1,y5 ]\n",
      "\n",
      "This is the format of your plot grid:\n",
      "[ (1,1) x1,y1 ]\n",
      "[ (2,1) x1,y2 ]\n",
      "[ (3,1) x1,y3 ]\n",
      "[ (4,1) x1,y4 ]\n",
      "[ (5,1) x1,y5 ]\n",
      "\n"
     ]
    },
    {
     "data": {
      "text/html": [
       "<script type=\"text/javascript\">window.PlotlyConfig = {MathJaxConfig: 'local'};</script><script type=\"text/javascript\">if (window.MathJax) {MathJax.Hub.Config({SVG: {font: \"STIX-Web\"}});}</script><script>requirejs.config({paths: { 'plotly': ['https://cdn.plot.ly/plotly-latest.min']},});if(!window._Plotly) {require(['plotly'],function(plotly) {window._Plotly=plotly;});}</script>"
      ],
      "text/vnd.plotly.v1+html": [
       "<script type=\"text/javascript\">window.PlotlyConfig = {MathJaxConfig: 'local'};</script><script type=\"text/javascript\">if (window.MathJax) {MathJax.Hub.Config({SVG: {font: \"STIX-Web\"}});}</script><script>requirejs.config({paths: { 'plotly': ['https://cdn.plot.ly/plotly-latest.min']},});if(!window._Plotly) {require(['plotly'],function(plotly) {window._Plotly=plotly;});}</script>"
      ]
     },
     "metadata": {},
     "output_type": "display_data"
    },
    {
     "data": {
      "text/html": [
       "<script type=\"text/javascript\">window.PlotlyConfig = {MathJaxConfig: 'local'};</script><script type=\"text/javascript\">if (window.MathJax) {MathJax.Hub.Config({SVG: {font: \"STIX-Web\"}});}</script><script>requirejs.config({paths: { 'plotly': ['https://cdn.plot.ly/plotly-latest.min']},});if(!window._Plotly) {require(['plotly'],function(plotly) {window._Plotly=plotly;});}</script>"
      ],
      "text/vnd.plotly.v1+html": [
       "<script type=\"text/javascript\">window.PlotlyConfig = {MathJaxConfig: 'local'};</script><script type=\"text/javascript\">if (window.MathJax) {MathJax.Hub.Config({SVG: {font: \"STIX-Web\"}});}</script><script>requirejs.config({paths: { 'plotly': ['https://cdn.plot.ly/plotly-latest.min']},});if(!window._Plotly) {require(['plotly'],function(plotly) {window._Plotly=plotly;});}</script>"
      ]
     },
     "metadata": {},
     "output_type": "display_data"
    },
    {
     "data": {
      "text/html": [
       "<script type=\"text/javascript\">window.PlotlyConfig = {MathJaxConfig: 'local'};</script><script type=\"text/javascript\">if (window.MathJax) {MathJax.Hub.Config({SVG: {font: \"STIX-Web\"}});}</script><script>requirejs.config({paths: { 'plotly': ['https://cdn.plot.ly/plotly-latest.min']},});if(!window._Plotly) {require(['plotly'],function(plotly) {window._Plotly=plotly;});}</script>"
      ],
      "text/vnd.plotly.v1+html": [
       "<script type=\"text/javascript\">window.PlotlyConfig = {MathJaxConfig: 'local'};</script><script type=\"text/javascript\">if (window.MathJax) {MathJax.Hub.Config({SVG: {font: \"STIX-Web\"}});}</script><script>requirejs.config({paths: { 'plotly': ['https://cdn.plot.ly/plotly-latest.min']},});if(!window._Plotly) {require(['plotly'],function(plotly) {window._Plotly=plotly;});}</script>"
      ]
     },
     "metadata": {},
     "output_type": "display_data"
    },
    {
     "data": {
      "text/html": [
       "<script type=\"text/javascript\">window.PlotlyConfig = {MathJaxConfig: 'local'};</script><script type=\"text/javascript\">if (window.MathJax) {MathJax.Hub.Config({SVG: {font: \"STIX-Web\"}});}</script><script>requirejs.config({paths: { 'plotly': ['https://cdn.plot.ly/plotly-latest.min']},});if(!window._Plotly) {require(['plotly'],function(plotly) {window._Plotly=plotly;});}</script>"
      ],
      "text/vnd.plotly.v1+html": [
       "<script type=\"text/javascript\">window.PlotlyConfig = {MathJaxConfig: 'local'};</script><script type=\"text/javascript\">if (window.MathJax) {MathJax.Hub.Config({SVG: {font: \"STIX-Web\"}});}</script><script>requirejs.config({paths: { 'plotly': ['https://cdn.plot.ly/plotly-latest.min']},});if(!window._Plotly) {require(['plotly'],function(plotly) {window._Plotly=plotly;});}</script>"
      ]
     },
     "metadata": {},
     "output_type": "display_data"
    },
    {
     "data": {
      "text/html": [
       "<script type=\"text/javascript\">window.PlotlyConfig = {MathJaxConfig: 'local'};</script><script type=\"text/javascript\">if (window.MathJax) {MathJax.Hub.Config({SVG: {font: \"STIX-Web\"}});}</script><script>requirejs.config({paths: { 'plotly': ['https://cdn.plot.ly/plotly-latest.min']},});if(!window._Plotly) {require(['plotly'],function(plotly) {window._Plotly=plotly;});}</script>"
      ],
      "text/vnd.plotly.v1+html": [
       "<script type=\"text/javascript\">window.PlotlyConfig = {MathJaxConfig: 'local'};</script><script type=\"text/javascript\">if (window.MathJax) {MathJax.Hub.Config({SVG: {font: \"STIX-Web\"}});}</script><script>requirejs.config({paths: { 'plotly': ['https://cdn.plot.ly/plotly-latest.min']},});if(!window._Plotly) {require(['plotly'],function(plotly) {window._Plotly=plotly;});}</script>"
      ]
     },
     "metadata": {},
     "output_type": "display_data"
    },
    {
     "data": {
      "text/html": [
       "<script type=\"text/javascript\">window.PlotlyConfig = {MathJaxConfig: 'local'};</script><script type=\"text/javascript\">if (window.MathJax) {MathJax.Hub.Config({SVG: {font: \"STIX-Web\"}});}</script><script>requirejs.config({paths: { 'plotly': ['https://cdn.plot.ly/plotly-latest.min']},});if(!window._Plotly) {require(['plotly'],function(plotly) {window._Plotly=plotly;});}</script>"
      ],
      "text/vnd.plotly.v1+html": [
       "<script type=\"text/javascript\">window.PlotlyConfig = {MathJaxConfig: 'local'};</script><script type=\"text/javascript\">if (window.MathJax) {MathJax.Hub.Config({SVG: {font: \"STIX-Web\"}});}</script><script>requirejs.config({paths: { 'plotly': ['https://cdn.plot.ly/plotly-latest.min']},});if(!window._Plotly) {require(['plotly'],function(plotly) {window._Plotly=plotly;});}</script>"
      ]
     },
     "metadata": {},
     "output_type": "display_data"
    },
    {
     "data": {
      "text/html": [
       "<script type=\"text/javascript\">window.PlotlyConfig = {MathJaxConfig: 'local'};</script><script type=\"text/javascript\">if (window.MathJax) {MathJax.Hub.Config({SVG: {font: \"STIX-Web\"}});}</script><script>requirejs.config({paths: { 'plotly': ['https://cdn.plot.ly/plotly-latest.min']},});if(!window._Plotly) {require(['plotly'],function(plotly) {window._Plotly=plotly;});}</script>"
      ],
      "text/vnd.plotly.v1+html": [
       "<script type=\"text/javascript\">window.PlotlyConfig = {MathJaxConfig: 'local'};</script><script type=\"text/javascript\">if (window.MathJax) {MathJax.Hub.Config({SVG: {font: \"STIX-Web\"}});}</script><script>requirejs.config({paths: { 'plotly': ['https://cdn.plot.ly/plotly-latest.min']},});if(!window._Plotly) {require(['plotly'],function(plotly) {window._Plotly=plotly;});}</script>"
      ]
     },
     "metadata": {},
     "output_type": "display_data"
    },
    {
     "data": {
      "text/html": [
       "<script type=\"text/javascript\">window.PlotlyConfig = {MathJaxConfig: 'local'};</script><script type=\"text/javascript\">if (window.MathJax) {MathJax.Hub.Config({SVG: {font: \"STIX-Web\"}});}</script><script>requirejs.config({paths: { 'plotly': ['https://cdn.plot.ly/plotly-latest.min']},});if(!window._Plotly) {require(['plotly'],function(plotly) {window._Plotly=plotly;});}</script>"
      ],
      "text/vnd.plotly.v1+html": [
       "<script type=\"text/javascript\">window.PlotlyConfig = {MathJaxConfig: 'local'};</script><script type=\"text/javascript\">if (window.MathJax) {MathJax.Hub.Config({SVG: {font: \"STIX-Web\"}});}</script><script>requirejs.config({paths: { 'plotly': ['https://cdn.plot.ly/plotly-latest.min']},});if(!window._Plotly) {require(['plotly'],function(plotly) {window._Plotly=plotly;});}</script>"
      ]
     },
     "metadata": {},
     "output_type": "display_data"
    },
    {
     "data": {
      "text/html": [
       "<script type=\"text/javascript\">window.PlotlyConfig = {MathJaxConfig: 'local'};</script><script type=\"text/javascript\">if (window.MathJax) {MathJax.Hub.Config({SVG: {font: \"STIX-Web\"}});}</script><script>requirejs.config({paths: { 'plotly': ['https://cdn.plot.ly/plotly-latest.min']},});if(!window._Plotly) {require(['plotly'],function(plotly) {window._Plotly=plotly;});}</script>"
      ],
      "text/vnd.plotly.v1+html": [
       "<script type=\"text/javascript\">window.PlotlyConfig = {MathJaxConfig: 'local'};</script><script type=\"text/javascript\">if (window.MathJax) {MathJax.Hub.Config({SVG: {font: \"STIX-Web\"}});}</script><script>requirejs.config({paths: { 'plotly': ['https://cdn.plot.ly/plotly-latest.min']},});if(!window._Plotly) {require(['plotly'],function(plotly) {window._Plotly=plotly;});}</script>"
      ]
     },
     "metadata": {},
     "output_type": "display_data"
    },
    {
     "data": {
      "text/html": [
       "<script type=\"text/javascript\">window.PlotlyConfig = {MathJaxConfig: 'local'};</script><script type=\"text/javascript\">if (window.MathJax) {MathJax.Hub.Config({SVG: {font: \"STIX-Web\"}});}</script><script>requirejs.config({paths: { 'plotly': ['https://cdn.plot.ly/plotly-latest.min']},});if(!window._Plotly) {require(['plotly'],function(plotly) {window._Plotly=plotly;});}</script>"
      ],
      "text/vnd.plotly.v1+html": [
       "<script type=\"text/javascript\">window.PlotlyConfig = {MathJaxConfig: 'local'};</script><script type=\"text/javascript\">if (window.MathJax) {MathJax.Hub.Config({SVG: {font: \"STIX-Web\"}});}</script><script>requirejs.config({paths: { 'plotly': ['https://cdn.plot.ly/plotly-latest.min']},});if(!window._Plotly) {require(['plotly'],function(plotly) {window._Plotly=plotly;});}</script>"
      ]
     },
     "metadata": {},
     "output_type": "display_data"
    },
    {
     "name": "stdout",
     "output_type": "stream",
     "text": [
      "This is the format of your plot grid:\n",
      "[ (1,1) x1,y1 ]\n",
      "[ (2,1) x1,y2 ]\n",
      "[ (3,1) x1,y3 ]\n",
      "[ (4,1) x1,y4 ]\n",
      "[ (5,1) x1,y5 ]\n",
      "\n",
      "This is the format of your plot grid:\n",
      "[ (1,1) x1,y1 ]\n",
      "[ (2,1) x1,y2 ]\n",
      "[ (3,1) x1,y3 ]\n",
      "[ (4,1) x1,y4 ]\n",
      "[ (5,1) x1,y5 ]\n",
      "\n",
      "This is the format of your plot grid:\n",
      "[ (1,1) x1,y1 ]\n",
      "[ (2,1) x1,y2 ]\n",
      "[ (3,1) x1,y3 ]\n",
      "[ (4,1) x1,y4 ]\n",
      "[ (5,1) x1,y5 ]\n",
      "\n",
      "This is the format of your plot grid:\n",
      "[ (1,1) x1,y1 ]\n",
      "[ (2,1) x1,y2 ]\n",
      "[ (3,1) x1,y3 ]\n",
      "[ (4,1) x1,y4 ]\n",
      "[ (5,1) x1,y5 ]\n",
      "\n",
      "This is the format of your plot grid:\n",
      "[ (1,1) x1,y1 ]\n",
      "[ (2,1) x1,y2 ]\n",
      "[ (3,1) x1,y3 ]\n",
      "[ (4,1) x1,y4 ]\n",
      "[ (5,1) x1,y5 ]\n",
      "\n"
     ]
    },
    {
     "data": {
      "text/html": [
       "<script type=\"text/javascript\">window.PlotlyConfig = {MathJaxConfig: 'local'};</script><script type=\"text/javascript\">if (window.MathJax) {MathJax.Hub.Config({SVG: {font: \"STIX-Web\"}});}</script><script>requirejs.config({paths: { 'plotly': ['https://cdn.plot.ly/plotly-latest.min']},});if(!window._Plotly) {require(['plotly'],function(plotly) {window._Plotly=plotly;});}</script>"
      ],
      "text/vnd.plotly.v1+html": [
       "<script type=\"text/javascript\">window.PlotlyConfig = {MathJaxConfig: 'local'};</script><script type=\"text/javascript\">if (window.MathJax) {MathJax.Hub.Config({SVG: {font: \"STIX-Web\"}});}</script><script>requirejs.config({paths: { 'plotly': ['https://cdn.plot.ly/plotly-latest.min']},});if(!window._Plotly) {require(['plotly'],function(plotly) {window._Plotly=plotly;});}</script>"
      ]
     },
     "metadata": {},
     "output_type": "display_data"
    },
    {
     "data": {
      "text/html": [
       "<script type=\"text/javascript\">window.PlotlyConfig = {MathJaxConfig: 'local'};</script><script type=\"text/javascript\">if (window.MathJax) {MathJax.Hub.Config({SVG: {font: \"STIX-Web\"}});}</script><script>requirejs.config({paths: { 'plotly': ['https://cdn.plot.ly/plotly-latest.min']},});if(!window._Plotly) {require(['plotly'],function(plotly) {window._Plotly=plotly;});}</script>"
      ],
      "text/vnd.plotly.v1+html": [
       "<script type=\"text/javascript\">window.PlotlyConfig = {MathJaxConfig: 'local'};</script><script type=\"text/javascript\">if (window.MathJax) {MathJax.Hub.Config({SVG: {font: \"STIX-Web\"}});}</script><script>requirejs.config({paths: { 'plotly': ['https://cdn.plot.ly/plotly-latest.min']},});if(!window._Plotly) {require(['plotly'],function(plotly) {window._Plotly=plotly;});}</script>"
      ]
     },
     "metadata": {},
     "output_type": "display_data"
    },
    {
     "data": {
      "text/html": [
       "<script type=\"text/javascript\">window.PlotlyConfig = {MathJaxConfig: 'local'};</script><script type=\"text/javascript\">if (window.MathJax) {MathJax.Hub.Config({SVG: {font: \"STIX-Web\"}});}</script><script>requirejs.config({paths: { 'plotly': ['https://cdn.plot.ly/plotly-latest.min']},});if(!window._Plotly) {require(['plotly'],function(plotly) {window._Plotly=plotly;});}</script>"
      ],
      "text/vnd.plotly.v1+html": [
       "<script type=\"text/javascript\">window.PlotlyConfig = {MathJaxConfig: 'local'};</script><script type=\"text/javascript\">if (window.MathJax) {MathJax.Hub.Config({SVG: {font: \"STIX-Web\"}});}</script><script>requirejs.config({paths: { 'plotly': ['https://cdn.plot.ly/plotly-latest.min']},});if(!window._Plotly) {require(['plotly'],function(plotly) {window._Plotly=plotly;});}</script>"
      ]
     },
     "metadata": {},
     "output_type": "display_data"
    },
    {
     "data": {
      "text/html": [
       "<script type=\"text/javascript\">window.PlotlyConfig = {MathJaxConfig: 'local'};</script><script type=\"text/javascript\">if (window.MathJax) {MathJax.Hub.Config({SVG: {font: \"STIX-Web\"}});}</script><script>requirejs.config({paths: { 'plotly': ['https://cdn.plot.ly/plotly-latest.min']},});if(!window._Plotly) {require(['plotly'],function(plotly) {window._Plotly=plotly;});}</script>"
      ],
      "text/vnd.plotly.v1+html": [
       "<script type=\"text/javascript\">window.PlotlyConfig = {MathJaxConfig: 'local'};</script><script type=\"text/javascript\">if (window.MathJax) {MathJax.Hub.Config({SVG: {font: \"STIX-Web\"}});}</script><script>requirejs.config({paths: { 'plotly': ['https://cdn.plot.ly/plotly-latest.min']},});if(!window._Plotly) {require(['plotly'],function(plotly) {window._Plotly=plotly;});}</script>"
      ]
     },
     "metadata": {},
     "output_type": "display_data"
    },
    {
     "data": {
      "text/html": [
       "<script type=\"text/javascript\">window.PlotlyConfig = {MathJaxConfig: 'local'};</script><script type=\"text/javascript\">if (window.MathJax) {MathJax.Hub.Config({SVG: {font: \"STIX-Web\"}});}</script><script>requirejs.config({paths: { 'plotly': ['https://cdn.plot.ly/plotly-latest.min']},});if(!window._Plotly) {require(['plotly'],function(plotly) {window._Plotly=plotly;});}</script>"
      ],
      "text/vnd.plotly.v1+html": [
       "<script type=\"text/javascript\">window.PlotlyConfig = {MathJaxConfig: 'local'};</script><script type=\"text/javascript\">if (window.MathJax) {MathJax.Hub.Config({SVG: {font: \"STIX-Web\"}});}</script><script>requirejs.config({paths: { 'plotly': ['https://cdn.plot.ly/plotly-latest.min']},});if(!window._Plotly) {require(['plotly'],function(plotly) {window._Plotly=plotly;});}</script>"
      ]
     },
     "metadata": {},
     "output_type": "display_data"
    },
    {
     "name": "stdout",
     "output_type": "stream",
     "text": [
      "This is the format of your plot grid:\n",
      "[ (1,1) x1,y1 ]\n",
      "[ (2,1) x1,y2 ]\n",
      "[ (3,1) x1,y3 ]\n",
      "[ (4,1) x1,y4 ]\n",
      "[ (5,1) x1,y5 ]\n",
      "\n",
      "This is the format of your plot grid:\n",
      "[ (1,1) x1,y1 ]\n",
      "[ (2,1) x1,y2 ]\n",
      "[ (3,1) x1,y3 ]\n",
      "[ (4,1) x1,y4 ]\n",
      "[ (5,1) x1,y5 ]\n",
      "\n",
      "This is the format of your plot grid:\n",
      "[ (1,1) x1,y1 ]\n",
      "[ (2,1) x1,y2 ]\n",
      "[ (3,1) x1,y3 ]\n",
      "[ (4,1) x1,y4 ]\n",
      "[ (5,1) x1,y5 ]\n",
      "\n"
     ]
    },
    {
     "data": {
      "text/html": [
       "<script type=\"text/javascript\">window.PlotlyConfig = {MathJaxConfig: 'local'};</script><script type=\"text/javascript\">if (window.MathJax) {MathJax.Hub.Config({SVG: {font: \"STIX-Web\"}});}</script><script>requirejs.config({paths: { 'plotly': ['https://cdn.plot.ly/plotly-latest.min']},});if(!window._Plotly) {require(['plotly'],function(plotly) {window._Plotly=plotly;});}</script>"
      ],
      "text/vnd.plotly.v1+html": [
       "<script type=\"text/javascript\">window.PlotlyConfig = {MathJaxConfig: 'local'};</script><script type=\"text/javascript\">if (window.MathJax) {MathJax.Hub.Config({SVG: {font: \"STIX-Web\"}});}</script><script>requirejs.config({paths: { 'plotly': ['https://cdn.plot.ly/plotly-latest.min']},});if(!window._Plotly) {require(['plotly'],function(plotly) {window._Plotly=plotly;});}</script>"
      ]
     },
     "metadata": {},
     "output_type": "display_data"
    },
    {
     "data": {
      "text/html": [
       "<script type=\"text/javascript\">window.PlotlyConfig = {MathJaxConfig: 'local'};</script><script type=\"text/javascript\">if (window.MathJax) {MathJax.Hub.Config({SVG: {font: \"STIX-Web\"}});}</script><script>requirejs.config({paths: { 'plotly': ['https://cdn.plot.ly/plotly-latest.min']},});if(!window._Plotly) {require(['plotly'],function(plotly) {window._Plotly=plotly;});}</script>"
      ],
      "text/vnd.plotly.v1+html": [
       "<script type=\"text/javascript\">window.PlotlyConfig = {MathJaxConfig: 'local'};</script><script type=\"text/javascript\">if (window.MathJax) {MathJax.Hub.Config({SVG: {font: \"STIX-Web\"}});}</script><script>requirejs.config({paths: { 'plotly': ['https://cdn.plot.ly/plotly-latest.min']},});if(!window._Plotly) {require(['plotly'],function(plotly) {window._Plotly=plotly;});}</script>"
      ]
     },
     "metadata": {},
     "output_type": "display_data"
    },
    {
     "data": {
      "text/html": [
       "<script type=\"text/javascript\">window.PlotlyConfig = {MathJaxConfig: 'local'};</script><script type=\"text/javascript\">if (window.MathJax) {MathJax.Hub.Config({SVG: {font: \"STIX-Web\"}});}</script><script>requirejs.config({paths: { 'plotly': ['https://cdn.plot.ly/plotly-latest.min']},});if(!window._Plotly) {require(['plotly'],function(plotly) {window._Plotly=plotly;});}</script>"
      ],
      "text/vnd.plotly.v1+html": [
       "<script type=\"text/javascript\">window.PlotlyConfig = {MathJaxConfig: 'local'};</script><script type=\"text/javascript\">if (window.MathJax) {MathJax.Hub.Config({SVG: {font: \"STIX-Web\"}});}</script><script>requirejs.config({paths: { 'plotly': ['https://cdn.plot.ly/plotly-latest.min']},});if(!window._Plotly) {require(['plotly'],function(plotly) {window._Plotly=plotly;});}</script>"
      ]
     },
     "metadata": {},
     "output_type": "display_data"
    }
   ],
   "source": [
    "import matplotlib.pyplot as plt\n",
    "import seaborn as sns\n",
    "import plotly.graph_objs as go\n",
    "from plotly import tools\n",
    "from plotly.offline import download_plotlyjs, init_notebook_mode, plot, iplot\n",
    "\n",
    "noofcandles = 50\n",
    "from multiprocessing import Pool\n",
    "def threadedBatchAnalysis(x):\n",
    "    fig = \"\"\n",
    "    temp_data = downloadData(x, fromDate=toDate - dt.timedelta(days=365), toDate=toDate, freq=\"day\")\n",
    "    #logging.debug(temp_data)\n",
    "        \n",
    "    yMin = temp_data.iloc[-1*noofcandles:-1]['low'].min()-10\n",
    "    yMax = temp_data.iloc[-1*noofcandles:-1]['high'].max()\n",
    "\n",
    "    xMin = temp_data.index[-1*noofcandles]\n",
    "    xMax = temp_data.index[-1]\n",
    "    fig = createPlot(x)\n",
    "    fig['layout']['yaxis']['range'] = [yMin, yMax]\n",
    "    fig['layout']['yaxis']['range'] = [xMin, xMax]\n",
    "\n",
    "    #print(temp_data.head())\n",
    "    #temp_data = resample2(temp_data.loc[symbol],\"1min\").dropna()[-20*noofcandles:-1]\n",
    "    temp_data = candlestick(temp_data,1,True)\n",
    "    temp_data = bbands(temp_data,1, True)\n",
    "\n",
    "    temp_data = macd(temp_data,3,True)\n",
    "    temp_data = rsi(temp_data,4, True)\n",
    "    temp_data = aroon(temp_data,5, True)\n",
    "    obv(temp_data,2, True)\n",
    "\n",
    "    a = algoTrade(temp_data)\n",
    "    buy, sell = a.tradeDecision()\n",
    "    buy_df = annotateBuySell(buy, \"Buy\")\n",
    "    sell_df = annotateBuySell(sell, \"Sell\")\n",
    "    #print(os.getcwd())\n",
    "    plotData(x, True)\n",
    "\n",
    "if __name__ == '__main__':\n",
    "    #if mode == \"Algo\":\n",
    "    p = Pool(10)\n",
    "    p.map_async(threadedBatchAnalysis, portfolio[0])\n",
    "    #p.apply_async(threadedBatchAnalysis, ['SBIN'])\n",
    "    #portfolio\n",
    "    \n",
    "#threadedBatchAnalysis()"
   ]
  },
  {
   "cell_type": "code",
   "execution_count": 75,
   "metadata": {
    "hidden": true
   },
   "outputs": [
    {
     "data": {
      "text/plain": [
       "(82, 2, 30)"
      ]
     },
     "execution_count": 75,
     "metadata": {},
     "output_type": "execute_result"
    }
   ],
   "source": [
    "import gc\n",
    "gc.get_count()"
   ]
  },
  {
   "cell_type": "code",
   "execution_count": 76,
   "metadata": {
    "hidden": true
   },
   "outputs": [
    {
     "data": {
      "text/plain": [
       "20"
      ]
     },
     "execution_count": 76,
     "metadata": {},
     "output_type": "execute_result"
    }
   ],
   "source": [
    "gc.collect()"
   ]
  },
  {
   "cell_type": "code",
   "execution_count": null,
   "metadata": {
    "hidden": true
   },
   "outputs": [],
   "source": []
  },
  {
   "cell_type": "markdown",
   "metadata": {
    "hidden": true
   },
   "source": [
    "### Backtesting - Single Threaded"
   ]
  },
  {
   "cell_type": "code",
   "execution_count": 16,
   "metadata": {
    "hidden": true
   },
   "outputs": [],
   "source": [
    "import matplotlib.pyplot as plt\n",
    "import seaborn as sns\n",
    "import plotly.graph_objs as go\n",
    "from plotly import tools\n",
    "from plotly.offline import download_plotlyjs, init_notebook_mode, plot, iplot\n",
    "\n",
    "noofcandles = 50\n",
    "def batchAnalysis(portfolio=portfolio):\n",
    "    global fig, noofcandles\n",
    "    noofcandles = 50\n",
    "    \n",
    "    for index, row in portfolio.iterrows():\n",
    "        fig = \"\"\n",
    "        symbol = row[0] #row.iloc[:,0]\n",
    "        temp_data = downloadData(symbol, fromDate, toDate, \"day\")\n",
    "        \n",
    "        #temp_data['symbol'] = symbol\n",
    "        #temp_data.set_index(['temp_data.index], inplace=True)\n",
    "        logging.debug(temp_data)\n",
    "        \n",
    "        yMin = temp_data.iloc[-1*noofcandles:-1]['low'].min()-10\n",
    "        yMax = temp_data.iloc[-1*noofcandles:-1]['high'].max()\n",
    "        \n",
    "        xMin = temp_data.index[-1*noofcandles]\n",
    "        xMax = temp_data.index[-1]\n",
    "        fig = createPlot(symbol)\n",
    "        fig['layout']['yaxis']['range'] = [yMin, yMax]\n",
    "        fig['layout']['yaxis']['range'] = [xMin, xMax]\n",
    "\n",
    "        #temp_data = resample2(temp_data.loc[symbol],\"1min\").dropna()[-20*noofcandles:-1]\n",
    "        temp_data = candlestick(temp_data,1,True)\n",
    "        temp_data = bbands(temp_data,1, True)\n",
    "\n",
    "        temp_data = macd(temp_data,3,True)\n",
    "        temp_data = rsi(temp_data,4, True)\n",
    "        temp_data = aroon(temp_data,5, True)\n",
    "        obv(temp_data,2, True)\n",
    "        \n",
    "        a = algoTrade(temp_data)\n",
    "        buy, sell = a.tradeDecision()\n",
    "        buy_df = annotateBuySell(buy, \"Buy\")\n",
    "        sell_df = annotateBuySell(sell, \"Sell\")\n",
    "        \n",
    "        plotData(symbol)\n",
    "        #input(\"Press Enter to continue\")\n",
    "    \n",
    "\n",
    "#batchAnalysis()"
   ]
  },
  {
   "cell_type": "markdown",
   "metadata": {},
   "source": [
    "## <span style=\"color:red\"> Live Trading</span>"
   ]
  },
  {
   "cell_type": "markdown",
   "metadata": {
    "heading_collapsed": true
   },
   "source": [
    "### Order Management"
   ]
  },
  {
   "cell_type": "code",
   "execution_count": 15,
   "metadata": {
    "code_folding": [],
    "hidden": true,
    "scrolled": true
   },
   "outputs": [],
   "source": [
    "papertrade =True\n",
    "\n",
    "#logging.critical(\"BUY\"+symbol)\n",
    "def buy(symbol, price, stoploss,quantity=1): \n",
    "    if papertrade:\n",
    "        logging.critical(\"BUY: \"+symbol+\", price: \"+str(price)+\", stoploss: \"+str(stoploss)+\", quantity: \"+str(quantity))\n",
    "        return\n",
    "    \n",
    "    try:\n",
    "        order_id = kite.place_order(tradingsymbol=symbol,\n",
    "                                exchange=kite.EXCHANGE_NSE,\n",
    "                                transaction_type=kite.TRANSACTION_TYPE_BUY,\n",
    "                                quantity=quantity,\n",
    "                                order_type=kite.ORDER_TYPE_SL,\n",
    "                                product=kite.PRODUCT_MIS,\n",
    "                                trigger_price=stoploss,\n",
    "                                price=price,\n",
    "                                variety=kite.VARIETY_REGULAR\n",
    "                                )\n",
    "        logging.info(\"Order placed. ID is: {}\".format(order_id))\n",
    "    except Exception as e:\n",
    "        logging.info(\"Order placement failed: {}\".format(e.message))\n",
    "        \n",
    "def buy_bo(symbol, price, trigger, stoploss, squareoff, quantity=1): \n",
    "    if papertrade:\n",
    "        logging.critical(\"BUY: \"+symbol+\", price: \"+str(price)+\", squareoff: \"+str(squareoff)+\", stoploss: \"+str(stoploss)+\", quantity: \"+str(quantity))\n",
    "        return\n",
    "    \n",
    "    \n",
    "    try:\n",
    "        order_id = kite.place_order(tradingsymbol=symbol,\n",
    "                                exchange=kite.EXCHANGE_NSE,\n",
    "                                transaction_type=kite.TRANSACTION_TYPE_BUY,\n",
    "                                quantity=quantity,\n",
    "                                order_type=kite.ORDER_TYPE_SL,\n",
    "                                product=kite.PRODUCT_MIS,\n",
    "                                stoploss=stoploss,\n",
    "                                trigger_price=trigger,\n",
    "                                price=price,\n",
    "                                squareoff=squareoff,\n",
    "                                variety=kite.VARIETY_BO\n",
    "                                )\n",
    "        logging.info(\"Order placed. ID is: {}\".format(order_id))\n",
    "    except Exception as e:\n",
    "        logging.info(\"Order placement failed: {}\".format(e.message))\n",
    "\n",
    "\n",
    "def sell(symbol, price, stoploss, quantity=1): \n",
    "    if papertrade:\n",
    "        logging.critical(\"SELL: \"+symbol+\", price: \"+str(price)+\", stoploss: \"+str(stoploss)+\", quantity: \"+str(quantity))\n",
    "        return\n",
    "    try:\n",
    "        order_id = kite.place_order(tradingsymbol=symbol,\n",
    "                            exchange=kite.EXCHANGE_NSE,\n",
    "                            transaction_type=kite.TRANSACTION_TYPE_SELL,\n",
    "                            quantity=quantity,\n",
    "                            order_type=kite.ORDER_TYPE_SL,\n",
    "                            product=kite.PRODUCT_MIS,\n",
    "                            trigger_price=stoploss,\n",
    "                            price=price,\n",
    "                            variety=kite.VARIETY_REGULAR)\n",
    "        logging.info(\"Order placed. ID is: {}\".format(order_id))\n",
    "    except Exception as e:\n",
    "        logging.info(\"Order placement failed: {}\".format(e.message))\n",
    "\n",
    "def sell_bo(symbol, price, trigger, stoploss, squareoff, quantity=1): \n",
    "    if papertrade:\n",
    "        logging.critical(\"SELL: \"+symbol+\", price: \"+str(price)+\", squareoff: \"+str(squareoff)+\", stoploss: \"+str(stoploss)+\", quantity: \"+str(quantity))\n",
    "        return\n",
    "    \n",
    "    \n",
    "    try:\n",
    "        order_id = kite.place_order(tradingsymbol=symbol,\n",
    "                                exchange=kite.EXCHANGE_NSE,\n",
    "                                transaction_type=kite.TRANSACTION_TYPE_SELL,\n",
    "                                quantity=quantity,\n",
    "                                order_type=kite.ORDER_TYPE_SL,\n",
    "                                product=kite.PRODUCT_MIS,\n",
    "                                stoploss=stoploss,\n",
    "                                trigger_price=trigger,\n",
    "                                price=price,\n",
    "                                squareoff=squareoff,\n",
    "                                variety=kite.VARIETY_BO\n",
    "                                )\n",
    "        logging.info(\"Order placed. ID is: {}\".format(order_id))\n",
    "    except Exception as e:\n",
    "        logging.info(\"Order placement failed: {}\".format(e.message))\n",
    "        \n",
    "def getOrders():    \n",
    "    # Fetch all orders\n",
    "    return pd.DataFrame(kite.orders())\n",
    "\n",
    "def cancelOrder(orderId):\n",
    "    if papertrade:\n",
    "        logging.critical(\"In Paper Trade Mode: Order cancellation not possible\")\n",
    "        return\n",
    "    \n",
    "    try:\n",
    "        kite.cancel_order(variety=kite.VARIETY_REGULAR, order_id=orderId, parent_order_id=None)    \n",
    "    except Exception as e:\n",
    "        logging.info(\"Order Cancellation failed: {}\".format(e.message))"
   ]
  },
  {
   "cell_type": "code",
   "execution_count": 16,
   "metadata": {
    "hidden": true
   },
   "outputs": [],
   "source": [
    "buy_bo(\"WIPRO\",283.1,283.1, 0.65,0.25)"
   ]
  },
  {
   "cell_type": "code",
   "execution_count": 36,
   "metadata": {
    "hidden": true
   },
   "outputs": [
    {
     "name": "stdout",
     "output_type": "stream",
     "text": [
      "There is an order update\n",
      "There is an order update\n"
     ]
    }
   ],
   "source": [
    "sell(\"WIPRO\",283,285)"
   ]
  },
  {
   "cell_type": "code",
   "execution_count": 34,
   "metadata": {
    "hidden": true
   },
   "outputs": [],
   "source": [
    "cancelOrder(190412002140702)"
   ]
  },
  {
   "cell_type": "code",
   "execution_count": 20,
   "metadata": {
    "hidden": true
   },
   "outputs": [
    {
     "data": {
      "text/html": [
       "<div>\n",
       "<style scoped>\n",
       "    .dataframe tbody tr th:only-of-type {\n",
       "        vertical-align: middle;\n",
       "    }\n",
       "\n",
       "    .dataframe tbody tr th {\n",
       "        vertical-align: top;\n",
       "    }\n",
       "\n",
       "    .dataframe thead th {\n",
       "        text-align: right;\n",
       "    }\n",
       "</style>\n",
       "<table border=\"1\" class=\"dataframe\">\n",
       "  <thead>\n",
       "    <tr style=\"text-align: right;\">\n",
       "      <th></th>\n",
       "      <th>average_price</th>\n",
       "      <th>buy_m2m</th>\n",
       "      <th>buy_price</th>\n",
       "      <th>buy_quantity</th>\n",
       "      <th>buy_value</th>\n",
       "      <th>close_price</th>\n",
       "      <th>day_buy_price</th>\n",
       "      <th>day_buy_quantity</th>\n",
       "      <th>day_buy_value</th>\n",
       "      <th>day_sell_price</th>\n",
       "      <th>...</th>\n",
       "      <th>product</th>\n",
       "      <th>quantity</th>\n",
       "      <th>realised</th>\n",
       "      <th>sell_m2m</th>\n",
       "      <th>sell_price</th>\n",
       "      <th>sell_quantity</th>\n",
       "      <th>sell_value</th>\n",
       "      <th>tradingsymbol</th>\n",
       "      <th>unrealised</th>\n",
       "      <th>value</th>\n",
       "    </tr>\n",
       "  </thead>\n",
       "  <tbody>\n",
       "    <tr>\n",
       "      <th>0</th>\n",
       "      <td>0</td>\n",
       "      <td>283.4</td>\n",
       "      <td>283.4</td>\n",
       "      <td>1</td>\n",
       "      <td>283.4</td>\n",
       "      <td>0</td>\n",
       "      <td>283.4</td>\n",
       "      <td>1</td>\n",
       "      <td>283.4</td>\n",
       "      <td>283.9</td>\n",
       "      <td>...</td>\n",
       "      <td>BO</td>\n",
       "      <td>0</td>\n",
       "      <td>0</td>\n",
       "      <td>283.9</td>\n",
       "      <td>283.9</td>\n",
       "      <td>1</td>\n",
       "      <td>283.9</td>\n",
       "      <td>WIPRO</td>\n",
       "      <td>0.5</td>\n",
       "      <td>0.5</td>\n",
       "    </tr>\n",
       "  </tbody>\n",
       "</table>\n",
       "<p>1 rows × 29 columns</p>\n",
       "</div>"
      ],
      "text/plain": [
       "   average_price  buy_m2m  buy_price  buy_quantity  buy_value  close_price  \\\n",
       "0              0    283.4      283.4             1      283.4            0   \n",
       "\n",
       "   day_buy_price  day_buy_quantity  day_buy_value  day_sell_price  ...   \\\n",
       "0          283.4                 1          283.4           283.9  ...    \n",
       "\n",
       "   product  quantity realised  sell_m2m  sell_price  sell_quantity  \\\n",
       "0       BO         0        0     283.9       283.9              1   \n",
       "\n",
       "   sell_value  tradingsymbol  unrealised value  \n",
       "0       283.9          WIPRO         0.5   0.5  \n",
       "\n",
       "[1 rows x 29 columns]"
      ]
     },
     "execution_count": 20,
     "metadata": {},
     "output_type": "execute_result"
    }
   ],
   "source": [
    "if mode == \"Live\" & False:\n",
    "    positions_df = pd.DataFrame(kite.positions()['net'])\n",
    "    positions_df"
   ]
  },
  {
   "cell_type": "code",
   "execution_count": 21,
   "metadata": {
    "hidden": true
   },
   "outputs": [],
   "source": [
    "if mode == \"Live\" & False:\n",
    "    orders_df = getOrders()\n",
    "    if orders_df.empty != True:\n",
    "        orders_df[orders_df['status']!=''][['order_id','exchange','tradingsymbol','transaction_type','price','trigger_price', 'quantity', 'order_type', 'product', 'status']]\n",
    "    \n",
    "\n"
   ]
  },
  {
   "cell_type": "code",
   "execution_count": null,
   "metadata": {
    "hidden": true
   },
   "outputs": [],
   "source": []
  },
  {
   "cell_type": "code",
   "execution_count": null,
   "metadata": {
    "code_folding": [],
    "hidden": true
   },
   "outputs": [],
   "source": [
    "if mode == \"Live\" & False:\n",
    "    kite.modify_order(variety=kite.VARIETY_REGULAR, \n",
    "                  order_id=190411002378318, quantity=1, price=282, \n",
    "                  order_type=kite.ORDER_TYPE_SL)\n",
    "\n"
   ]
  },
  {
   "cell_type": "code",
   "execution_count": 24,
   "metadata": {
    "hidden": true
   },
   "outputs": [],
   "source": [
    "logger.setLevel(logging.CRITICAL)"
   ]
  },
  {
   "cell_type": "markdown",
   "metadata": {},
   "source": [
    "### WebSocket: Tick Handler and sampler"
   ]
  },
  {
   "cell_type": "code",
   "execution_count": 53,
   "metadata": {
    "scrolled": false
   },
   "outputs": [],
   "source": [
    "import datetime\n",
    "\n",
    "def resample(ws, freq=\"1min\"):\n",
    "    F = open(\"kite_data/recommendation.csv\",\"a\") \n",
    "    \n",
    "    logging.debug(str(ws.prevtimeStamp)+\": In resampler function\")\n",
    "    \n",
    "    if ws.LiveStream.empty:\n",
    "        logging.debug(str(ws.prevtimeStamp)+\": Empty dataframe, Exiting resampler\")\n",
    "        return\n",
    "      \n",
    "    LiveStream2 = ws.LiveStream.groupby(['symbol','date']).agg({'price':['first','max','min','last'], 'volume':['last']})\n",
    "    LiveStream2.columns = LiveStream2.columns.droplevel()\n",
    "    LiveStream2.columns = ['open', 'high','low','close', 'volume']\n",
    "\n",
    "    for index, data in LiveStream2.groupby(level=0):\n",
    "        sampled = data.loc[index].resample(freq).agg({'open':{'open':'first'},'high':{'high':'max'},'low':{'low':'min'},'close':{'close':'last'},'volume':{'volume':'last'}})\n",
    "        sampled.columns = sampled.columns.droplevel()\n",
    "\n",
    "        sampled['symbol'] = index\n",
    "        sampled.set_index(['symbol',sampled.index], inplace=True)\n",
    "\n",
    "        ws.LiveStreamOHLC = ws.LiveStreamOHLC.append(sampled)\n",
    "        \n",
    "    #logger.info(index+\":\\n\"+str(ws.LiveStreamOHLC.loc[portfolio.iloc[-1,0]].tail(240)))\n",
    "\n",
    "    ws.LiveStreamOHLC.to_csv(\"kite_data/livestreamohlc.csv\", mode='a')\n",
    "\n",
    "    a = algoTrade(ws.LiveStreamOHLC.loc[portfolio.iloc[-1,0]].tail(120))\n",
    "    #reco_df = a.tradeRecommendation()\n",
    "    a.tradeBot(portfolio.iloc[-1,0])\n",
    "    \n",
    "    try:\n",
    "        if reco_df != \"\":\n",
    "            F.write(reco_df)\n",
    "    except   Exception as e:\n",
    "        logging.critical(\"Not able to resample and analyse data\"+str(e))\n",
    "    finally:\n",
    "        F.close()\n",
    "        \n",
    "\n",
    "\n",
    "\n",
    "def ticksHandler(ws, ticks):\n",
    "    timeStamp = dt.datetime.now().replace(second=0, microsecond=0)\n",
    "    tick_df = pd.DataFrame(ticks)\n",
    "    \n",
    "    #logging.debug(\"Prev: \"+str(ws.prevtimeStamp)+\"\\nNow: \"+str(timeStamp))\n",
    "    \n",
    "    try:\n",
    "        tick_df.loc[tick_df['timestamp'].isna(), 'timestamp'] = timeStamp\n",
    "        tick_df = tick_df[['timestamp','instrument_token','last_price','volume']]\n",
    "        tick_df.instrument_token = tick_df.instrument_token.apply(EQSYMBOL)\n",
    "        tick_df.columns = ['date','symbol','price','volume']\n",
    "        tick_df.set_index(['symbol','date'], inplace=True)\n",
    "        \n",
    "        timeStamp = tick_df.index[0][-1].to_pydatetime()\n",
    "        \n",
    "        #logging.info(str(timeStamp - ws.prevtimeStamp))\n",
    "        #print(type(timeStamp))\n",
    "        \n",
    "        #logging.debug(\"Exception: ticksHandler: \"+str(tick_df))\n",
    "        #timeStamp = tick_df.loc[portfolio.iloc[-1,0]].index[-1]\n",
    "    except  Exception as e:\n",
    "        logging.debug(\"Exception: ticksHandler: \"+str(e)+str(tick_df))\n",
    "        \n",
    "    if( (timeStamp - ws.prevtimeStamp) >= datetime.timedelta(minutes=1)):\n",
    "        ws.prevtimeStamp = timeStamp\n",
    "        \n",
    "        #ws.cbufferSampling = ws.cbufferAccum.copy(deep=True) #Copy accumulated stream to sampling buffer\n",
    "        #del ws.cbufferAccum\n",
    "        #gc.collect()\n",
    "        #ws.cbufferAccum = pd.DataFrame() #Reset accumulation buffer\n",
    "        #logging.debug(ws.cbufferSampling)\n",
    "        resample(ws)\n",
    "    \n",
    "    #ws.cbufferAccum = ws.cbufferAccum.append(tick_df)\n",
    "    \n",
    "    ws.LiveStream = ws.LiveStream.append(tick_df)\n",
    "    #ws.LiveStream.to_csv(\"kite_data/livestream.csv\", mode='a')\n",
    "\n",
    "def orderNotification(ws,data):\n",
    "    logger.debug(data)\n",
    "\n",
    "def initTrade(ws):\n",
    "    ws.prevtimeStamp = datetime.datetime.now() - dt.timedelta(minutes=10)\n",
    "    toDate = datetime.datetime.now()\n",
    "    #ws.cbufferAccum = pd.DataFrame()\n",
    "    #ws.cbufferSampling = pd.DataFrame()\n",
    "    ws.LiveStream = pd.DataFrame()\n",
    "    ws.LiveStreamOHLC = pd.DataFrame()\n",
    "    ws.LiveStreamOHLC = portfolioDownload(portfolio, toDate)\n",
    "    "
   ]
  },
  {
   "cell_type": "markdown",
   "metadata": {
    "heading_collapsed": true
   },
   "source": [
    "### WebSocket: Kite Integration"
   ]
  },
  {
   "cell_type": "code",
   "execution_count": 20,
   "metadata": {
    "hidden": true,
    "scrolled": true
   },
   "outputs": [],
   "source": [
    "#!python\n",
    "from kiteconnect import KiteTicker\n",
    "\n",
    "#logging.basicConfig(level=logging.CRITICAL)\n",
    "logger.setLevel(logging.DEBUG)\n",
    "\n",
    "\n",
    "# Initialise\n",
    "kws = KiteTicker(KiteAPIKey, kite.access_token)\n",
    "\n",
    "def on_ticks(ws, ticks):\n",
    "    # Callback to receive ticks.\n",
    "    #logging.debug(\"Ticks: {}\".format(ticks))\n",
    "    ticksHandler(ws, ticks)\n",
    "\n",
    "\n",
    "def on_connect(ws, response):\n",
    "    initTrade(ws)\n",
    "    \n",
    "    # Callback on successful connect.\n",
    "    # Subscribe to a list of instrument_tokens (RELIANCE and ACC here).\n",
    "    ws.subscribe(portfolioToken.tolist())\n",
    "\n",
    "    ws.subscribe([225537])\n",
    "    \n",
    "    # Set RELIANCE to tick in `full` mode.\n",
    "    # MODE_LTP, MODE_QUOTE, or MODE_FULL\n",
    "\n",
    "    ws.set_mode(ws.MODE_FULL, portfolioToken.tolist())\n",
    "    ws.set_mode(ws.MODE_FULL, [225537]) \n",
    "    #ws.set_mode(ws.MODE_LTP, [225537, 3861249]) \n",
    "    #ws.set_mode(ws.MODE_MODE_QUOTE, [2714625,779521]) \n",
    "\n",
    "def on_close(ws, code, reason):\n",
    "    # On connection close stop the main loop\n",
    "    # Reconnection will not happen after executing `ws.stop()`\n",
    "    ws.stop()\n",
    "\n",
    "def on_order_update(ws, data):\n",
    "    logger.info(\"New Order Update\")\n",
    "    orderNotification(ws,data)\n",
    "\n",
    "# Assign the callbacks.\n",
    "kws.on_ticks = on_ticks\n",
    "kws.on_connect = on_connect\n",
    "kws.on_order_update = on_order_update\n",
    "\n",
    "#kws.on_close = on_close\n",
    "\n",
    "# Infinite loop on the main thread. Nothing after this will run.\n",
    "# You have to use the pre-defined callbacks to manage subscriptions."
   ]
  },
  {
   "cell_type": "markdown",
   "metadata": {},
   "source": [
    "### WebSocket: Start/Stop"
   ]
  },
  {
   "cell_type": "code",
   "execution_count": 21,
   "metadata": {
    "scrolled": true
   },
   "outputs": [],
   "source": [
    "if mode == \"Live\":\n",
    "    kws.connect(threaded=True)"
   ]
  },
  {
   "cell_type": "code",
   "execution_count": 56,
   "metadata": {},
   "outputs": [
    {
     "name": "stderr",
     "output_type": "stream",
     "text": [
      "ERROR:kiteconnect.ticker:Connection closed: None - None\n"
     ]
    }
   ],
   "source": [
    "if mode == \"Live\":\n",
    "    kws.close()"
   ]
  },
  {
   "cell_type": "code",
   "execution_count": 28,
   "metadata": {
    "scrolled": true
   },
   "outputs": [
    {
     "data": {
      "text/plain": [
       "True"
      ]
     },
     "execution_count": 28,
     "metadata": {},
     "output_type": "execute_result"
    }
   ],
   "source": [
    "if mode == \"Live\":\n",
    "    kws.is_connected()"
   ]
  },
  {
   "cell_type": "code",
   "execution_count": null,
   "metadata": {},
   "outputs": [],
   "source": []
  },
  {
   "cell_type": "markdown",
   "metadata": {},
   "source": [
    "### Even wait"
   ]
  },
  {
   "cell_type": "code",
   "execution_count": 16,
   "metadata": {},
   "outputs": [
    {
     "name": "stdout",
     "output_type": "stream",
     "text": [
      "waiting for it ...\n",
      "waiting for it ...\n",
      "waiting for it ...\n",
      "waiting for it ...\n",
      "... got it!2\n",
      "... got it!7\n",
      "... got it!10\n",
      "... got it!2\n",
      "... got it!3\n",
      "... got it!4\n",
      "... got it!1\n",
      "... got it!10\n"
     ]
    }
   ],
   "source": [
    "import asyncio\n",
    "import random\n",
    "async def waiter(event):\n",
    "    print('waiting for it ...')\n",
    "    while(1):\n",
    "        await event.wait()\n",
    "        print('... got it!'+str(random.randint(1,10)))\n",
    "        event.clear()\n",
    "        \n",
    "\n",
    "event\n",
    "async def main():\n",
    "    global event\n",
    "    # Create an Event object.\n",
    "    \n",
    "    event = asyncio.Event()\n",
    "\n",
    "    # Spawn a Task to wait until 'event' is set.\n",
    "    waiter_task1 = asyncio.create_task(waiter(event))\n",
    "    waiter_task2 = asyncio.create_task(waiter(event))\n",
    "    waiter_task3 = asyncio.create_task(waiter(event))\n",
    "    waiter_task4 = asyncio.create_task(waiter(event))\n",
    "\n",
    "    # Sleep for 1 second and set the event.\n",
    "    await asyncio.sleep(1)\n",
    "    event.set()\n",
    "\n",
    "    await asyncio.sleep(1)\n",
    "    event.set()\n",
    "    \n",
    "    # Wait until the waiter task is finished.\n",
    "    #await asyncio.gather(waiter_task1, waiter_task2, waiter_task3, waiter_task4)\n",
    "    \n",
    "    #event.set()\n",
    "\n",
    "await main()\n",
    "\n",
    "#event.set()"
   ]
  },
  {
   "cell_type": "code",
   "execution_count": 17,
   "metadata": {},
   "outputs": [
    {
     "ename": "NameError",
     "evalue": "name 'waiter_task1' is not defined",
     "output_type": "error",
     "traceback": [
      "\u001b[0;31m---------------------------------------------------------------------------\u001b[0m",
      "\u001b[0;31mNameError\u001b[0m                                 Traceback (most recent call last)",
      "\u001b[0;32m<ipython-input-17-6dc1cb726d7d>\u001b[0m in \u001b[0;36m<module>\u001b[0;34m\u001b[0m\n\u001b[0;32m----> 1\u001b[0;31m \u001b[0masyncio\u001b[0m\u001b[0;34m.\u001b[0m\u001b[0mgather\u001b[0m\u001b[0;34m(\u001b[0m\u001b[0mwaiter_task1\u001b[0m\u001b[0;34m,\u001b[0m \u001b[0mwaiter_task2\u001b[0m\u001b[0;34m,\u001b[0m \u001b[0mwaiter_task3\u001b[0m\u001b[0;34m,\u001b[0m \u001b[0mwaiter_task4\u001b[0m\u001b[0;34m)\u001b[0m\u001b[0;34m\u001b[0m\u001b[0;34m\u001b[0m\u001b[0m\n\u001b[0m",
      "\u001b[0;31mNameError\u001b[0m: name 'waiter_task1' is not defined"
     ]
    }
   ],
   "source": [
    "asyncio.gather(waiter_task1, waiter_task2, waiter_task3, waiter_task4)"
   ]
  },
  {
   "cell_type": "code",
   "execution_count": 19,
   "metadata": {},
   "outputs": [
    {
     "name": "stdout",
     "output_type": "stream",
     "text": [
      "<_GatheringFuture pending>\n",
      "<_GatheringFuture pending>\n",
      "<_GatheringFuture pending>\n",
      "<_GatheringFuture pending>\n"
     ]
    }
   ],
   "source": [
    "for task in asyncio.all_tasks():\n",
    "    print(asyncio.gather(task))"
   ]
  },
  {
   "cell_type": "code",
   "execution_count": 15,
   "metadata": {},
   "outputs": [],
   "source": [
    "for task in asyncio.all_tasks():\n",
    "    task.cancel()"
   ]
  },
  {
   "cell_type": "code",
   "execution_count": 9,
   "metadata": {},
   "outputs": [
    {
     "data": {
      "text/plain": [
       "set()"
      ]
     },
     "execution_count": 9,
     "metadata": {},
     "output_type": "execute_result"
    }
   ],
   "source": [
    "asyncio.all_tasks()"
   ]
  },
  {
   "cell_type": "code",
   "execution_count": 12,
   "metadata": {},
   "outputs": [
    {
     "name": "stdout",
     "output_type": "stream",
     "text": [
      "Help on class Event in module asyncio.locks:\n",
      "\n",
      "class Event(builtins.object)\n",
      " |  Event(*, loop=None)\n",
      " |  \n",
      " |  Asynchronous equivalent to threading.Event.\n",
      " |  \n",
      " |  Class implementing event objects. An event manages a flag that can be set\n",
      " |  to true with the set() method and reset to false with the clear() method.\n",
      " |  The wait() method blocks until the flag is true. The flag is initially\n",
      " |  false.\n",
      " |  \n",
      " |  Methods defined here:\n",
      " |  \n",
      " |  __init__(self, *, loop=None)\n",
      " |      Initialize self.  See help(type(self)) for accurate signature.\n",
      " |  \n",
      " |  __repr__(self)\n",
      " |      Return repr(self).\n",
      " |  \n",
      " |  clear(self)\n",
      " |      Reset the internal flag to false. Subsequently, coroutines calling\n",
      " |      wait() will block until set() is called to set the internal flag\n",
      " |      to true again.\n",
      " |  \n",
      " |  is_set(self)\n",
      " |      Return True if and only if the internal flag is true.\n",
      " |  \n",
      " |  set(self)\n",
      " |      Set the internal flag to true. All coroutines waiting for it to\n",
      " |      become true are awakened. Coroutine that call wait() once the flag is\n",
      " |      true will not block at all.\n",
      " |  \n",
      " |  wait(self)\n",
      " |      Block until the internal flag is true.\n",
      " |      \n",
      " |      If the internal flag is true on entry, return True\n",
      " |      immediately.  Otherwise, block until another coroutine calls\n",
      " |      set() to set the flag to true, then return True.\n",
      " |  \n",
      " |  ----------------------------------------------------------------------\n",
      " |  Data descriptors defined here:\n",
      " |  \n",
      " |  __dict__\n",
      " |      dictionary for instance variables (if defined)\n",
      " |  \n",
      " |  __weakref__\n",
      " |      list of weak references to the object (if defined)\n",
      "\n"
     ]
    }
   ],
   "source": [
    "help(asyncio.Event)"
   ]
  },
  {
   "cell_type": "code",
   "execution_count": null,
   "metadata": {},
   "outputs": [],
   "source": []
  }
 ],
 "metadata": {
  "kernelspec": {
   "display_name": "Python 3",
   "language": "python",
   "name": "python3"
  },
  "language_info": {
   "codemirror_mode": {
    "name": "ipython",
    "version": 3
   },
   "file_extension": ".py",
   "mimetype": "text/x-python",
   "name": "python",
   "nbconvert_exporter": "python",
   "pygments_lexer": "ipython3",
   "version": "3.7.3"
  },
  "varInspector": {
   "cols": {
    "lenName": 16,
    "lenType": 16,
    "lenVar": 40
   },
   "kernels_config": {
    "python": {
     "delete_cmd_postfix": "",
     "delete_cmd_prefix": "del ",
     "library": "var_list.py",
     "varRefreshCmd": "print(var_dic_list())"
    },
    "r": {
     "delete_cmd_postfix": ") ",
     "delete_cmd_prefix": "rm(",
     "library": "var_list.r",
     "varRefreshCmd": "cat(var_dic_list()) "
    }
   },
   "types_to_exclude": [
    "module",
    "function",
    "builtin_function_or_method",
    "instance",
    "_Feature"
   ],
   "window_display": false
  }
 },
 "nbformat": 4,
 "nbformat_minor": 2
}
