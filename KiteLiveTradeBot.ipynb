{
 "cells": [
  {
   "cell_type": "code",
   "execution_count": 1,
   "metadata": {},
   "outputs": [],
   "source": [
    "mode = \"Live\" # Backtesting/Live/Algo\n",
    "\n",
    "%run \"KiteConnect_Library.ipynb\"   \n",
    "%run \"KiteConnect_Strategies.ipynb\" \n",
    "\n",
    "warnings.filterwarnings('ignore')\n",
    "\n"
   ]
  },
  {
   "cell_type": "code",
   "execution_count": 2,
   "metadata": {},
   "outputs": [],
   "source": [
    "#%run \"KiteConnect_Strategies.ipynb\" \n",
    "STATE = \"\"\n",
    "openpositions = 0\n",
    "tradelogger.setLevel(logging.DEBUG)"
   ]
  },
  {
   "cell_type": "markdown",
   "metadata": {},
   "source": [
    "%%javascript\n",
    "IPython.notebook.kernel.execute(\"URL = '\" + window.location + \"'\");"
   ]
  },
  {
   "cell_type": "code",
   "execution_count": 3,
   "metadata": {},
   "outputs": [],
   "source": [
    "portfolio = pd.DataFrame(downloadlist.tolist())\n",
    "portfolio = pd.DataFrame(['CIPLA','INFRATEL','BHARTIARTL'])\n",
    "\n",
    "portfolioToken = portfolio[0].apply(EQTOKEN).tolist()"
   ]
  },
  {
   "cell_type": "code",
   "execution_count": 4,
   "metadata": {},
   "outputs": [
    {
     "data": {
      "text/plain": [
       "'BHARTIARTL'"
      ]
     },
     "execution_count": 4,
     "metadata": {},
     "output_type": "execute_result"
    }
   ],
   "source": [
    "portfolio[0].iloc[-1]"
   ]
  },
  {
   "cell_type": "code",
   "execution_count": 5,
   "metadata": {},
   "outputs": [],
   "source": [
    "papertrade = True"
   ]
  },
  {
   "cell_type": "code",
   "execution_count": 6,
   "metadata": {},
   "outputs": [],
   "source": [
    "if mode == \"Live\":\n",
    "    kws.connect(threaded=True)"
   ]
  },
  {
   "cell_type": "code",
   "execution_count": 7,
   "metadata": {},
   "outputs": [
    {
     "name": "stdout",
     "output_type": "stream",
     "text": [
      "True\n"
     ]
    }
   ],
   "source": [
    "if mode == \"Live\":\n",
    "    print(kws.is_connected())"
   ]
  },
  {
   "cell_type": "code",
   "execution_count": 8,
   "metadata": {},
   "outputs": [],
   "source": [
    "if mode == \"Live\":\n",
    "    kws.close()"
   ]
  },
  {
   "cell_type": "code",
   "execution_count": 91,
   "metadata": {},
   "outputs": [],
   "source": [
    "def buy_bo(symbol, price, trigger, stoploss, squareoff, quantity=1): \n",
    "    tradelogger.info(\"BUY BO: \"+symbol+\", price: \"+str(price)+\", squareoff: \"+str(squareoff)+\", stoploss: \"+str(stoploss)+\", quantity: \"+str(quantity))\n",
    "    if papertrade:\n",
    "        return\n",
    "    \n",
    "    try:\n",
    "        order_id = kite.place_order(tradingsymbol=symbol, exchange=kite.EXCHANGE_NSE, transaction_type=kite.TRANSACTION_TYPE_BUY,\n",
    "                        order_type=kite.ORDER_TYPE_SL, product=kite.PRODUCT_MIS, variety=kite.VARIETY_BO, \n",
    "                                quantity=quantity, trigger_price=trigger, price=price,\n",
    "                                squareoff=squareoff,  stoploss=stoploss )\n",
    "        tradelogger.info(\"Order placed. ID is: {}\".format(order_id))\n",
    "    except Exception as e:\n",
    "        tradelogger.info(\"Order placement failed: {}\".format(e.message))\n",
    "\n",
    "\n",
    "\n",
    "def sell_bo(symbol, price, trigger, stoploss, squareoff, quantity=1): \n",
    "    tradelogger.info(\"SELL BO: \"+symbol+\", price: \"+str(price)+\", squareoff: \"+str(squareoff)+\", stoploss: \"+str(stoploss)+\", quantity: \"+str(quantity))\n",
    "    if papertrade:\n",
    "        return\n",
    "    \n",
    "    try:\n",
    "        order_id = kite.place_order(tradingsymbol=symbol, exchange=kite.EXCHANGE_NSE, transaction_type=kite.TRANSACTION_TYPE_SELL,\n",
    "                                order_type=kite.ORDER_TYPE_SL, product=kite.PRODUCT_MIS, variety=kite.VARIETY_BO,\n",
    "                                quantity=quantity, trigger_price=trigger, price=price,\n",
    "                                stoploss=stoploss, squareoff=squareoff )\n",
    "        tradelogger.info(\"Order placed. ID is: {}\".format(order_id))\n",
    "    except Exception as e:\n",
    "        tradelogger.info(\"Order placement failed: {}\".format(e.message))"
   ]
  },
  {
   "cell_type": "code",
   "execution_count": 110,
   "metadata": {},
   "outputs": [],
   "source": [
    "symbol = 'BHARTIARTL'\n",
    "symbolToken = EQTOKEN('BHARTIARTL')\n",
    "\n",
    "price = kite.ltp(symbolToken)[str(symbolToken)]['last_price']\n",
    "toTick = lambda x,n=5: np.round((np.floor(x *100)+n-1)/n)*n/100\n",
    "\n",
    "sl = toTick(price * 0.001)\n",
    "target = toTick(price * 0.01)"
   ]
  },
  {
   "cell_type": "code",
   "execution_count": 111,
   "metadata": {},
   "outputs": [],
   "source": [
    "papertrade = False\n",
    "buy_bo(symbol, price=price, trigger=price, stoploss=sl, squareoff=target, quantity=1)"
   ]
  },
  {
   "cell_type": "code",
   "execution_count": null,
   "metadata": {},
   "outputs": [],
   "source": [
    "papertrade = False\n",
    "sell_bo(symbol, price, price, sl, target, 1)"
   ]
  },
  {
   "cell_type": "code",
   "execution_count": 92,
   "metadata": {},
   "outputs": [
    {
     "data": {
      "text/plain": [
       "315.05"
      ]
     },
     "execution_count": 92,
     "metadata": {},
     "output_type": "execute_result"
    }
   ],
   "source": [
    "price-sl"
   ]
  },
  {
   "cell_type": "code",
   "execution_count": 107,
   "metadata": {},
   "outputs": [],
   "source": [
    "orders_df = pd.DataFrame(kite.orders())\n",
    "open_orders = orders_df[orders_df['status']=='TRIGGER PENDING']"
   ]
  },
  {
   "cell_type": "code",
   "execution_count": 108,
   "metadata": {},
   "outputs": [],
   "source": [
    "parent_order_id = open_orders['parent_order_id'].iloc[0]\n",
    "order_id = open_orders['order_id'].iloc[0]"
   ]
  },
  {
   "cell_type": "code",
   "execution_count": 109,
   "metadata": {},
   "outputs": [],
   "source": [
    "kite.exit_order(variety=kite.VARIETY_BO, order_id=order_id, parent_order_id=parent_order_id)\n",
    "\n"
   ]
  },
  {
   "cell_type": "code",
   "execution_count": 94,
   "metadata": {},
   "outputs": [
    {
     "data": {
      "text/html": [
       "<div>\n",
       "<style scoped>\n",
       "    .dataframe tbody tr th:only-of-type {\n",
       "        vertical-align: middle;\n",
       "    }\n",
       "\n",
       "    .dataframe tbody tr th {\n",
       "        vertical-align: top;\n",
       "    }\n",
       "\n",
       "    .dataframe thead th {\n",
       "        text-align: right;\n",
       "    }\n",
       "</style>\n",
       "<table border=\"1\" class=\"dataframe\">\n",
       "  <thead>\n",
       "    <tr style=\"text-align: right;\">\n",
       "      <th></th>\n",
       "      <th>average_price</th>\n",
       "      <th>cancelled_quantity</th>\n",
       "      <th>disclosed_quantity</th>\n",
       "      <th>exchange</th>\n",
       "      <th>exchange_order_id</th>\n",
       "      <th>exchange_timestamp</th>\n",
       "      <th>exchange_update_timestamp</th>\n",
       "      <th>filled_quantity</th>\n",
       "      <th>guid</th>\n",
       "      <th>instrument_token</th>\n",
       "      <th>...</th>\n",
       "      <th>product</th>\n",
       "      <th>quantity</th>\n",
       "      <th>status</th>\n",
       "      <th>status_message</th>\n",
       "      <th>tag</th>\n",
       "      <th>tradingsymbol</th>\n",
       "      <th>transaction_type</th>\n",
       "      <th>trigger_price</th>\n",
       "      <th>validity</th>\n",
       "      <th>variety</th>\n",
       "    </tr>\n",
       "  </thead>\n",
       "  <tbody>\n",
       "    <tr>\n",
       "      <th>16</th>\n",
       "      <td>0.0</td>\n",
       "      <td>0</td>\n",
       "      <td>1</td>\n",
       "      <td>NSE</td>\n",
       "      <td>1000000003411529</td>\n",
       "      <td>2019-04-24 12:12:07</td>\n",
       "      <td>None</td>\n",
       "      <td>0</td>\n",
       "      <td>None</td>\n",
       "      <td>2714625</td>\n",
       "      <td>...</td>\n",
       "      <td>BO</td>\n",
       "      <td>1</td>\n",
       "      <td>OPEN</td>\n",
       "      <td>None</td>\n",
       "      <td>None</td>\n",
       "      <td>BHARTIARTL</td>\n",
       "      <td>SELL</td>\n",
       "      <td>0.0</td>\n",
       "      <td>DAY</td>\n",
       "      <td>bo</td>\n",
       "    </tr>\n",
       "  </tbody>\n",
       "</table>\n",
       "<p>1 rows × 28 columns</p>\n",
       "</div>"
      ],
      "text/plain": [
       "    average_price  cancelled_quantity  disclosed_quantity exchange  \\\n",
       "16            0.0                   0                   1      NSE   \n",
       "\n",
       "   exchange_order_id  exchange_timestamp exchange_update_timestamp  \\\n",
       "16  1000000003411529 2019-04-24 12:12:07                      None   \n",
       "\n",
       "    filled_quantity  guid  instrument_token   ...     product quantity status  \\\n",
       "16                0  None           2714625   ...          BO        1   OPEN   \n",
       "\n",
       "   status_message   tag  tradingsymbol transaction_type  trigger_price  \\\n",
       "16           None  None     BHARTIARTL             SELL            0.0   \n",
       "\n",
       "   validity  variety  \n",
       "16      DAY       bo  \n",
       "\n",
       "[1 rows x 28 columns]"
      ]
     },
     "execution_count": 94,
     "metadata": {},
     "output_type": "execute_result"
    }
   ],
   "source": [
    "open_orders"
   ]
  },
  {
   "cell_type": "code",
   "execution_count": null,
   "metadata": {},
   "outputs": [],
   "source": []
  }
 ],
 "metadata": {
  "kernelspec": {
   "display_name": "Python 3",
   "language": "python",
   "name": "python3"
  },
  "language_info": {
   "codemirror_mode": {
    "name": "ipython",
    "version": 3
   },
   "file_extension": ".py",
   "mimetype": "text/x-python",
   "name": "python",
   "nbconvert_exporter": "python",
   "pygments_lexer": "ipython3",
   "version": "3.7.1"
  },
  "varInspector": {
   "cols": {
    "lenName": 16,
    "lenType": 16,
    "lenVar": 40
   },
   "kernels_config": {
    "python": {
     "delete_cmd_postfix": "",
     "delete_cmd_prefix": "del ",
     "library": "var_list.py",
     "varRefreshCmd": "print(var_dic_list())"
    },
    "r": {
     "delete_cmd_postfix": ") ",
     "delete_cmd_prefix": "rm(",
     "library": "var_list.r",
     "varRefreshCmd": "cat(var_dic_list()) "
    }
   },
   "types_to_exclude": [
    "module",
    "function",
    "builtin_function_or_method",
    "instance",
    "_Feature"
   ],
   "window_display": false
  }
 },
 "nbformat": 4,
 "nbformat_minor": 2
}
