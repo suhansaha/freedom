{
 "cells": [
  {
   "cell_type": "code",
   "execution_count": 1,
   "metadata": {},
   "outputs": [],
   "source": [
    "open(\"log/live_log.log\",\"w\")\n",
    "\n",
    "mode = \"Live\" # Backtesting/Live/Algo\n",
    "\n",
    "%run \"KiteConnect_Library.ipynb\"   \n",
    "warnings.filterwarnings('ignore')\n",
    "\n"
   ]
  },
  {
   "cell_type": "code",
   "execution_count": 2,
   "metadata": {},
   "outputs": [],
   "source": [
    "%run \"KiteConnect_Strategies_v2.ipynb\" "
   ]
  },
  {
   "cell_type": "code",
   "execution_count": 3,
   "metadata": {},
   "outputs": [
    {
     "data": {
      "text/plain": [
       "7"
      ]
     },
     "execution_count": 3,
     "metadata": {},
     "output_type": "execute_result"
    }
   ],
   "source": [
    "logger.setLevel(logging.DEBUG)\n",
    "\n",
    "gc.collect()"
   ]
  },
  {
   "cell_type": "markdown",
   "metadata": {},
   "source": [
    "%%javascript\n",
    "IPython.notebook.kernel.execute(\"URL = '\" + window.location + \"'\");"
   ]
  },
  {
   "cell_type": "code",
   "execution_count": 4,
   "metadata": {},
   "outputs": [],
   "source": [
    "portfolio = pd.DataFrame(downloadlist.tolist())\n",
    "portfolio = pd.DataFrame(['BHARTIARTL','TCS'])\n",
    "\n",
    "portfolioToken = portfolio[0].apply(EQTOKEN).tolist()"
   ]
  },
  {
   "cell_type": "code",
   "execution_count": 5,
   "metadata": {},
   "outputs": [
    {
     "data": {
      "text/plain": [
       "'TCS'"
      ]
     },
     "execution_count": 5,
     "metadata": {},
     "output_type": "execute_result"
    }
   ],
   "source": [
    "portfolio[0].iloc[-1]"
   ]
  },
  {
   "cell_type": "code",
   "execution_count": 6,
   "metadata": {},
   "outputs": [],
   "source": [
    "papertrade = False"
   ]
  },
  {
   "cell_type": "code",
   "execution_count": 7,
   "metadata": {},
   "outputs": [],
   "source": [
    "if papertrade:\n",
    "    x = portfolio[0].iloc[-1]\n",
    "    gc.collect()\n",
    "    portfolio = pd.DataFrame([x])\n",
    "    toDate = dt.datetime(2019,4,30,15,15)\n",
    "    #portfolio = pd.DataFrame(downloadlist.tolist())    \n",
    "    print(\"\\nPortfolio return: \"+ '%.2f'%trade_simulator(portfolio, toDate)+\"%\")"
   ]
  },
  {
   "cell_type": "code",
   "execution_count": 8,
   "metadata": {},
   "outputs": [],
   "source": [
    "if mode == \"Live\":\n",
    "    kws.connect(threaded=True)"
   ]
  },
  {
   "cell_type": "code",
   "execution_count": 21,
   "metadata": {},
   "outputs": [
    {
     "name": "stdout",
     "output_type": "stream",
     "text": [
      "False\n"
     ]
    }
   ],
   "source": [
    "if mode == \"Live\":\n",
    "    print(kws.is_connected())"
   ]
  },
  {
   "cell_type": "code",
   "execution_count": 20,
   "metadata": {},
   "outputs": [],
   "source": [
    "if mode == \"Live\":\n",
    "    kws.close()"
   ]
  },
  {
   "cell_type": "code",
   "execution_count": null,
   "metadata": {},
   "outputs": [],
   "source": [
    "if mode == \"Live\":\n",
    "    print(kws.is_connected())"
   ]
  },
  {
   "cell_type": "raw",
   "metadata": {},
   "source": [
    "symbol = 'BHARTIARTL'\n",
    "symbolToken = EQTOKEN('BHARTIARTL')\n",
    "\n",
    "price = kite.ltp(symbolToken)[str(symbolToken)]['last_price']\n",
    "toTick = lambda x,n=5: np.round((np.floor(x *100)+n-1)/n)*n/100\n",
    "\n",
    "sl = toTick(price * 0.001)\n",
    "target = toTick(price * 0.01)"
   ]
  },
  {
   "cell_type": "raw",
   "metadata": {},
   "source": [
    "papertrade = False\n",
    "buy_bo(symbol, price=price, trigger=price, stoploss=sl, squareoff=target, quantity=1)\n",
    "papertrade = True"
   ]
  },
  {
   "cell_type": "raw",
   "metadata": {},
   "source": [
    "papertrade = False\n",
    "sell_bo(symbol, price, price, sl, target, 1)"
   ]
  },
  {
   "cell_type": "code",
   "execution_count": 23,
   "metadata": {},
   "outputs": [
    {
     "ename": "AttributeError",
     "evalue": "'algoTrade' object has no attribute 'CLOSE'",
     "output_type": "error",
     "traceback": [
      "\u001b[1;31m---------------------------------------------------------------------------\u001b[0m",
      "\u001b[1;31mAttributeError\u001b[0m                            Traceback (most recent call last)",
      "\u001b[1;32m<ipython-input-23-fe7f6d162fa1>\u001b[0m in \u001b[0;36m<module>\u001b[1;34m\u001b[0m\n\u001b[1;32m----> 1\u001b[1;33m \u001b[0mkws\u001b[0m\u001b[1;33m.\u001b[0m\u001b[0mtradebook_df\u001b[0m\u001b[1;33m.\u001b[0m\u001b[0mloc\u001b[0m\u001b[1;33m[\u001b[0m\u001b[1;34m'BHARTIARTL'\u001b[0m\u001b[1;33m,\u001b[0m\u001b[1;34m'symbol'\u001b[0m\u001b[1;33m]\u001b[0m\u001b[1;33m.\u001b[0m\u001b[0mCLOSE\u001b[0m\u001b[1;33m\u001b[0m\u001b[1;33m\u001b[0m\u001b[0m\n\u001b[0m",
      "\u001b[1;31mAttributeError\u001b[0m: 'algoTrade' object has no attribute 'CLOSE'"
     ]
    }
   ],
   "source": [
    "kws.tradebook_df.loc['BHARTIARTL','symbol'].CLOSE"
   ]
  },
  {
   "cell_type": "code",
   "execution_count": 86,
   "metadata": {},
   "outputs": [],
   "source": []
  },
  {
   "cell_type": "raw",
   "metadata": {},
   "source": [
    "orders_df = pd.DataFrame(kite.orders())\n",
    "open_orders = orders_df[(orders_df['tradingsymbol']=='BHARTIARTL') & ((orders_df['status'] != 'REJECTED')&(orders_df['status'] != 'COMPLETE')&(orders_df['status'] != 'CANCELLED') ) & (orders_df['tag'] == 'bot')]\n",
    "\n"
   ]
  },
  {
   "cell_type": "raw",
   "metadata": {},
   "source": [
    "parent_order_id = open_orders['parent_order_id'].iloc[0]\n",
    "order_id = open_orders['order_id'].iloc[0]"
   ]
  },
  {
   "cell_type": "raw",
   "metadata": {},
   "source": [
    "kite.exit_order(variety=kite.VARIETY_BO, order_id=order_id, parent_order_id=parent_order_id)"
   ]
  },
  {
   "cell_type": "raw",
   "metadata": {},
   "source": [
    "open_orders"
   ]
  },
  {
   "cell_type": "raw",
   "metadata": {},
   "source": [
    "orders_df = pd.DataFrame(kite.orders())\n",
    "open_orders = orders_df[(orders_df['tradingsymbol']=='BHARTIARTL') & (orders_df['status'] != 'REJECTED')  & (orders_df['tag'] == 'bot')]\n",
    "for index, row in open_orders.iterrows():\n",
    "    print(row.order_id, row.parent_order_id)\n",
    "    kite.exit_order(variety=kite.VARIETY_AMO, order_id=row.order_id, parent_order_id=row.parent_order_id)"
   ]
  },
  {
   "cell_type": "raw",
   "metadata": {},
   "source": [
    "papertrade = False\n",
    "buy_bo('BHARTIARTL',price=320, trigger=320, stoploss=1,squareoff=10,tag=\"bot\")"
   ]
  },
  {
   "cell_type": "code",
   "execution_count": null,
   "metadata": {},
   "outputs": [],
   "source": []
  },
  {
   "cell_type": "code",
   "execution_count": null,
   "metadata": {},
   "outputs": [],
   "source": []
  }
 ],
 "metadata": {
  "kernelspec": {
   "display_name": "Python 3",
   "language": "python",
   "name": "python3"
  },
  "language_info": {
   "codemirror_mode": {
    "name": "ipython",
    "version": 3
   },
   "file_extension": ".py",
   "mimetype": "text/x-python",
   "name": "python",
   "nbconvert_exporter": "python",
   "pygments_lexer": "ipython3",
   "version": "3.7.1"
  },
  "varInspector": {
   "cols": {
    "lenName": 16,
    "lenType": 16,
    "lenVar": 40
   },
   "kernels_config": {
    "python": {
     "delete_cmd_postfix": "",
     "delete_cmd_prefix": "del ",
     "library": "var_list.py",
     "varRefreshCmd": "print(var_dic_list())"
    },
    "r": {
     "delete_cmd_postfix": ") ",
     "delete_cmd_prefix": "rm(",
     "library": "var_list.r",
     "varRefreshCmd": "cat(var_dic_list()) "
    }
   },
   "types_to_exclude": [
    "module",
    "function",
    "builtin_function_or_method",
    "instance",
    "_Feature"
   ],
   "window_display": false
  }
 },
 "nbformat": 4,
 "nbformat_minor": 2
}
