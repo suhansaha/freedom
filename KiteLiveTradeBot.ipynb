{
 "cells": [
  {
   "cell_type": "code",
   "execution_count": 1,
   "metadata": {},
   "outputs": [],
   "source": [
    "open(\"log/live_log.log\",\"w\")\n",
    "\n",
    "mode = \"Live\" # Backtesting/Live/Algo\n",
    "\n",
    "%run \"KiteConnect_Library.ipynb\"   \n",
    "warnings.filterwarnings('ignore')\n",
    "\n"
   ]
  },
  {
   "cell_type": "code",
   "execution_count": 2,
   "metadata": {},
   "outputs": [],
   "source": [
    "%run \"KiteConnect_Strategies_v2.ipynb\" "
   ]
  },
  {
   "cell_type": "code",
   "execution_count": 3,
   "metadata": {},
   "outputs": [
    {
     "data": {
      "text/plain": [
       "67"
      ]
     },
     "execution_count": 3,
     "metadata": {},
     "output_type": "execute_result"
    }
   ],
   "source": [
    "tradelogger.setLevel(logging.DEBUG)\n",
    "\n",
    "gc.collect()"
   ]
  },
  {
   "cell_type": "markdown",
   "metadata": {},
   "source": [
    "%%javascript\n",
    "IPython.notebook.kernel.execute(\"URL = '\" + window.location + \"'\");"
   ]
  },
  {
   "cell_type": "code",
   "execution_count": 12,
   "metadata": {},
   "outputs": [],
   "source": [
    "portfolio = pd.DataFrame(downloadlist.tolist())\n",
    "portfolio = pd.DataFrame(['BHARTIARTL'])\n",
    "\n",
    "portfolioToken = portfolio[0].apply(EQTOKEN).tolist()"
   ]
  },
  {
   "cell_type": "code",
   "execution_count": 20,
   "metadata": {},
   "outputs": [
    {
     "data": {
      "text/plain": [
       "'BHARTIARTL'"
      ]
     },
     "execution_count": 20,
     "metadata": {},
     "output_type": "execute_result"
    }
   ],
   "source": [
    "portfolio[0].iloc[-1]"
   ]
  },
  {
   "cell_type": "code",
   "execution_count": 14,
   "metadata": {},
   "outputs": [],
   "source": [
    "papertrade = True"
   ]
  },
  {
   "cell_type": "code",
   "execution_count": 15,
   "metadata": {},
   "outputs": [
    {
     "name": "stdout",
     "output_type": "stream",
     "text": [
      "BHARTIARTL \t -0.45 \t -0.14%\n",
      "\n",
      "Portfolio return: -0.14%\n"
     ]
    }
   ],
   "source": [
    "x = portfolio[0].iloc[-1]\n",
    "gc.collect()\n",
    "portfolio = pd.DataFrame([x])\n",
    "toDate = dt.datetime(2019,4,30,15,15)\n",
    "#portfolio = pd.DataFrame(downloadlist.tolist())    \n",
    "print(\"\\nPortfolio return: \"+ '%.2f'%trade_simulator(portfolio, toDate)+\"%\")"
   ]
  },
  {
   "cell_type": "code",
   "execution_count": 16,
   "metadata": {},
   "outputs": [],
   "source": [
    "if mode == \"Live\":\n",
    "    kws.connect(threaded=True)"
   ]
  },
  {
   "cell_type": "code",
   "execution_count": 17,
   "metadata": {},
   "outputs": [
    {
     "name": "stdout",
     "output_type": "stream",
     "text": [
      "True\n"
     ]
    }
   ],
   "source": [
    "if mode == \"Live\":\n",
    "    print(kws.is_connected())"
   ]
  },
  {
   "cell_type": "code",
   "execution_count": 10,
   "metadata": {},
   "outputs": [],
   "source": [
    "if mode == \"Live\":\n",
    "    kws.close()"
   ]
  },
  {
   "cell_type": "code",
   "execution_count": 26,
   "metadata": {},
   "outputs": [],
   "source": [
    "def orderNotification(ws,data):\n",
    "    #logger.debug(data)\n",
    "    order_df = pd.DataFrame.from_dict(data, orient='index')\n",
    "    \n",
    "    logger.debug(order_df)"
   ]
  },
  {
   "cell_type": "code",
   "execution_count": 27,
   "metadata": {},
   "outputs": [],
   "source": [
    "symbol = 'BHARTIARTL'\n",
    "symbolToken = EQTOKEN('BHARTIARTL')\n",
    "\n",
    "price = kite.ltp(symbolToken)[str(symbolToken)]['last_price']\n",
    "toTick = lambda x,n=5: np.round((np.floor(x *100)+n-1)/n)*n/100\n",
    "\n",
    "sl = toTick(price * 0.001)\n",
    "target = toTick(price * 0.01)"
   ]
  },
  {
   "cell_type": "code",
   "execution_count": 28,
   "metadata": {},
   "outputs": [],
   "source": [
    "papertrade = False\n",
    "buy_bo(symbol, price=price, trigger=price, stoploss=sl, squareoff=target, quantity=1)\n",
    "papertrade = True"
   ]
  },
  {
   "cell_type": "code",
   "execution_count": null,
   "metadata": {},
   "outputs": [],
   "source": [
    "papertrade = False\n",
    "sell_bo(symbol, price, price, sl, target, 1)"
   ]
  },
  {
   "cell_type": "code",
   "execution_count": null,
   "metadata": {},
   "outputs": [],
   "source": []
  },
  {
   "cell_type": "code",
   "execution_count": 33,
   "metadata": {},
   "outputs": [],
   "source": [
    "orders_df = pd.DataFrame(kite.orders())\n",
    "open_orders = orders_df[(orders_df['tradingsymbol']=='BHARTIARTL') & ((orders_df['status'] != 'REJECTED')&(orders_df['status'] != 'COMPLETE')&(orders_df['status'] != 'CANCELLED') ) & (orders_df['tag'] == 'bot')]\n",
    "\n"
   ]
  },
  {
   "cell_type": "code",
   "execution_count": 30,
   "metadata": {},
   "outputs": [],
   "source": [
    "parent_order_id = open_orders['parent_order_id'].iloc[0]\n",
    "order_id = open_orders['order_id'].iloc[0]"
   ]
  },
  {
   "cell_type": "code",
   "execution_count": 32,
   "metadata": {},
   "outputs": [],
   "source": [
    "kite.exit_order(variety=kite.VARIETY_BO, order_id=order_id, parent_order_id=parent_order_id)"
   ]
  },
  {
   "cell_type": "code",
   "execution_count": 34,
   "metadata": {},
   "outputs": [
    {
     "data": {
      "text/html": [
       "<div>\n",
       "<style scoped>\n",
       "    .dataframe tbody tr th:only-of-type {\n",
       "        vertical-align: middle;\n",
       "    }\n",
       "\n",
       "    .dataframe tbody tr th {\n",
       "        vertical-align: top;\n",
       "    }\n",
       "\n",
       "    .dataframe thead th {\n",
       "        text-align: right;\n",
       "    }\n",
       "</style>\n",
       "<table border=\"1\" class=\"dataframe\">\n",
       "  <thead>\n",
       "    <tr style=\"text-align: right;\">\n",
       "      <th></th>\n",
       "      <th>average_price</th>\n",
       "      <th>cancelled_quantity</th>\n",
       "      <th>disclosed_quantity</th>\n",
       "      <th>exchange</th>\n",
       "      <th>exchange_order_id</th>\n",
       "      <th>exchange_timestamp</th>\n",
       "      <th>exchange_update_timestamp</th>\n",
       "      <th>filled_quantity</th>\n",
       "      <th>guid</th>\n",
       "      <th>instrument_token</th>\n",
       "      <th>...</th>\n",
       "      <th>product</th>\n",
       "      <th>quantity</th>\n",
       "      <th>status</th>\n",
       "      <th>status_message</th>\n",
       "      <th>tag</th>\n",
       "      <th>tradingsymbol</th>\n",
       "      <th>transaction_type</th>\n",
       "      <th>trigger_price</th>\n",
       "      <th>validity</th>\n",
       "      <th>variety</th>\n",
       "    </tr>\n",
       "  </thead>\n",
       "  <tbody>\n",
       "  </tbody>\n",
       "</table>\n",
       "<p>0 rows × 28 columns</p>\n",
       "</div>"
      ],
      "text/plain": [
       "Empty DataFrame\n",
       "Columns: [average_price, cancelled_quantity, disclosed_quantity, exchange, exchange_order_id, exchange_timestamp, exchange_update_timestamp, filled_quantity, guid, instrument_token, market_protection, order_id, order_timestamp, order_type, parent_order_id, pending_quantity, placed_by, price, product, quantity, status, status_message, tag, tradingsymbol, transaction_type, trigger_price, validity, variety]\n",
       "Index: []\n",
       "\n",
       "[0 rows x 28 columns]"
      ]
     },
     "execution_count": 34,
     "metadata": {},
     "output_type": "execute_result"
    }
   ],
   "source": [
    "open_orders"
   ]
  },
  {
   "cell_type": "code",
   "execution_count": 32,
   "metadata": {},
   "outputs": [
    {
     "name": "stdout",
     "output_type": "stream",
     "text": [
      "190429000023899 None\n"
     ]
    }
   ],
   "source": [
    "orders_df = pd.DataFrame(kite.orders())\n",
    "open_orders = orders_df[(orders_df['tradingsymbol']=='BHARTIARTL') & (orders_df['status'] != 'REJECTED')  & (orders_df['tag'] == 'bot')]\n",
    "for index, row in open_orders.iterrows():\n",
    "    print(row.order_id, row.parent_order_id)\n",
    "    kite.exit_order(variety=kite.VARIETY_AMO, order_id=row.order_id, parent_order_id=row.parent_order_id)"
   ]
  },
  {
   "cell_type": "code",
   "execution_count": 36,
   "metadata": {},
   "outputs": [],
   "source": [
    "papertrade = False\n",
    "buy_bo('BHARTIARTL',price=320, trigger=320, stoploss=1,squareoff=10,tag=\"bot\")"
   ]
  },
  {
   "cell_type": "code",
   "execution_count": null,
   "metadata": {},
   "outputs": [],
   "source": []
  }
 ],
 "metadata": {
  "kernelspec": {
   "display_name": "Python 3",
   "language": "python",
   "name": "python3"
  },
  "language_info": {
   "codemirror_mode": {
    "name": "ipython",
    "version": 3
   },
   "file_extension": ".py",
   "mimetype": "text/x-python",
   "name": "python",
   "nbconvert_exporter": "python",
   "pygments_lexer": "ipython3",
   "version": "3.7.3"
  },
  "varInspector": {
   "cols": {
    "lenName": 16,
    "lenType": 16,
    "lenVar": 40
   },
   "kernels_config": {
    "python": {
     "delete_cmd_postfix": "",
     "delete_cmd_prefix": "del ",
     "library": "var_list.py",
     "varRefreshCmd": "print(var_dic_list())"
    },
    "r": {
     "delete_cmd_postfix": ") ",
     "delete_cmd_prefix": "rm(",
     "library": "var_list.r",
     "varRefreshCmd": "cat(var_dic_list()) "
    }
   },
   "types_to_exclude": [
    "module",
    "function",
    "builtin_function_or_method",
    "instance",
    "_Feature"
   ],
   "window_display": false
  }
 },
 "nbformat": 4,
 "nbformat_minor": 2
}
