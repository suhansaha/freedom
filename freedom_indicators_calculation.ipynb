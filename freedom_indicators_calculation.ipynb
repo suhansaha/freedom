{
 "cells": [
  {
   "cell_type": "raw",
   "metadata": {},
   "source": [
    "!pip install quandl\n",
    "!pip install pandas_datareader\n",
    "\n",
    "# Microsoft Visual C++ Build Tools is needed for TA-Lib: https://visualstudio.microsoft.com/downloads/\n",
    "# https://mrjbq7.github.io/ta-lib/install.html\n",
    "!pip install TA-Lib\n",
    "\n",
    "!pip install plotly"
   ]
  },
  {
   "cell_type": "code",
   "execution_count": 32,
   "metadata": {},
   "outputs": [
    {
     "data": {
      "text/html": [
       "<script type=\"text/javascript\">window.PlotlyConfig = {MathJaxConfig: 'local'};</script><script type=\"text/javascript\">if (window.MathJax) {MathJax.Hub.Config({SVG: {font: \"STIX-Web\"}});}</script><script>requirejs.config({paths: { 'plotly': ['https://cdn.plot.ly/plotly-latest.min']},});if(!window._Plotly) {require(['plotly'],function(plotly) {window._Plotly=plotly;});}</script>"
      ],
      "text/vnd.plotly.v1+html": [
       "<script type=\"text/javascript\">window.PlotlyConfig = {MathJaxConfig: 'local'};</script><script type=\"text/javascript\">if (window.MathJax) {MathJax.Hub.Config({SVG: {font: \"STIX-Web\"}});}</script><script>requirejs.config({paths: { 'plotly': ['https://cdn.plot.ly/plotly-latest.min']},});if(!window._Plotly) {require(['plotly'],function(plotly) {window._Plotly=plotly;});}</script>"
      ]
     },
     "metadata": {},
     "output_type": "display_data"
    }
   ],
   "source": [
    "#%matplotlib inline\n",
    "\n",
    "import quandl\n",
    "import pandas_datareader.data as web\n",
    "import pandas as pd\n",
    "import numpy as np\n",
    "from talib import RSI, BBANDS, MACD, AROON\n",
    "import datetime as dt\n",
    "from datetime import date\n",
    "\n",
    "import pandas as pd\n",
    "import numpy as np\n",
    "import matplotlib.pyplot as plt\n",
    "import seaborn as sns\n",
    "import plotly.graph_objs as go\n",
    "from plotly import tools\n",
    "from plotly.offline import download_plotlyjs, init_notebook_mode, plot, iplot\n",
    "\n",
    "init_notebook_mode(connected=True)"
   ]
  },
  {
   "cell_type": "raw",
   "metadata": {},
   "source": [
    "max_holding = 100\n",
    "\n",
    "source = \"CSV\"\n",
    "\n",
    "symbol = 'SBIN'\n",
    "\n",
    "filename =\"./data/\"+symbol+\"_\"+date.today().strftime(\"%d_%b_%Y\")+\".csv\"\n",
    "\n",
    "#dateTimeFormat = '%Y-%m-%d'\n",
    "dateTimeFormat = '%d-%b-%Y'\n",
    "\n",
    "# filter\n",
    "days = 30 * 24\n",
    "\n",
    "# frequency\n",
    "freq = \"1D\""
   ]
  },
  {
   "cell_type": "markdown",
   "metadata": {},
   "source": [
    "### Convert tick data to OHLC"
   ]
  },
  {
   "cell_type": "raw",
   "metadata": {},
   "source": [
    "# Random tick generator\n",
    "\n",
    "import datetime as dt\n",
    "import time \n",
    "\n",
    "maxN = 1000\n",
    "\n",
    "index = pd.date_range(start=dt.datetime.now(), periods=maxN, freq=\"15s\", name=\"Date\")\n",
    "\n",
    "\n",
    "if False:\n",
    "    arr = np.zeros(maxN+1, dtype='datetime64[ns]')\n",
    "\n",
    "    arr[0] = dt.datetime.now()\n",
    "\n",
    "    for i in np.linspace(1,maxN,maxN, dtype='int'):\n",
    "        arr[i] = arr[i-1] + np.timedelta64(np.random.randint(40,360), 's' )\n",
    "    \n",
    "df5 = pd.DataFrame(data = {\"A\":np.linspace(1,maxN,maxN)}, index=index)\n",
    "\n",
    "\n",
    "# Converts pandas frame with tick data to OHLC\n",
    "'''\n",
    "\n",
    "df6 = df5.groupby([df5['Date'].dt.hour, df5['Date'].dt.minute])\n",
    "\n",
    "df7 = pd.DataFrame(\n",
    "    data = {\"date\": df6.max()[\"Date\"].apply(lambda x: dt.datetime.replace(x, microsecond=0, second=0)), \n",
    "            \"high\":df6.max()[\"A\"], \"low\":df6.min()[\"A\"], \"open\": df6.first()[\"A\"], \"close\": df6.last()[\"A\"]})\n",
    "'''\n",
    "\n",
    "df7 = df5.resample('15min').agg({'A':{'open':'first','high':'max','low':'min','close':'last'}})[\"A\"]\n",
    "df7.head()"
   ]
  },
  {
   "cell_type": "markdown",
   "metadata": {},
   "source": [
    "### Import data from CSV/Quandl"
   ]
  },
  {
   "cell_type": "code",
   "execution_count": 34,
   "metadata": {},
   "outputs": [],
   "source": [
    "if source == \"CSV\":\n",
    "    df = pd.read_csv(filename)\n",
    "    df = df.set_index('Date')\n",
    "\n",
    "    #Convert date from string to date format if required - uncomment below line\n",
    "    df.index = [dt.datetime.strptime(date, dateTimeFormat) for date in df.index]\n",
    "\n",
    "    rawData = pd.DataFrame({'open':df[\"Open Price\"],'high':df[\"High Price\"],'low':df[\"Low Price\"],'close':df[\"Close Price\"],'adjClose':df[\"Close Price\"],\"volume\":df[\"Total Traded Quantity\"]})\n",
    "    #rawData = pd.DataFrame({'open':df[\"Open\"],'high':df[\"High\"],'low':df[\"Low\"],'close':df[\"Close\"],'adjClose':df[\"Adj Close\"],\"volume\":df[\"Volume\"]})\n",
    "\n",
    "#dt.datetime.strptime(\"28-Mar-2017\", dateTimeFormat)"
   ]
  },
  {
   "cell_type": "raw",
   "metadata": {},
   "source": [
    "#Fetch Data and pre-process data - Source:Quandl: NSE\n",
    "if source == \"Quandl\":\n",
    "    start = '2018-03-24'\n",
    "    end = '2019-03-24'\n",
    "\n",
    "    symbol = 'NSE/INFY'\n",
    "    max_holding = 100\n",
    "    df = web.DataReader(name=symbol, data_source='quandl', start=start, end=end,  access_key=\"B2LcBEywuebxqE9s15L9\")\n",
    "\n",
    "    #Convert date from string to date format if required - uncomment below line\n",
    "    #df.index = [dt.datetime.strptime(date, '%Y-%m-%d').date() for date in df.index]\n",
    "\n",
    "    rawData = pd.DataFrame({'open':df[\"Open\"],'high':df[\"High\"],'low':df[\"Low\"],'close':df[\"Close\"],'adjClose':df[\"Close\"],\"volume\":df[\"TotalTradeQuantity\"]})\n"
   ]
  },
  {
   "cell_type": "raw",
   "metadata": {},
   "source": [
    "rawData.head()"
   ]
  },
  {
   "cell_type": "markdown",
   "metadata": {},
   "source": [
    "#### Filter Data"
   ]
  },
  {
   "cell_type": "code",
   "execution_count": 35,
   "metadata": {},
   "outputs": [],
   "source": [
    "#Clean up and filter data\n",
    "price = rawData[rawData.index> dt.datetime.now() - dt.timedelta(days = days)]\n",
    "#price = price.iloc[::-1]\n",
    "price = price.dropna()\n",
    "close = price[\"adjClose\"].values"
   ]
  },
  {
   "cell_type": "markdown",
   "metadata": {},
   "source": [
    "#### Resample Data"
   ]
  },
  {
   "cell_type": "code",
   "execution_count": 36,
   "metadata": {},
   "outputs": [
    {
     "name": "stderr",
     "output_type": "stream",
     "text": [
      "/Library/Frameworks/Python.framework/Versions/3.6/lib/python3.6/site-packages/ipykernel_launcher.py:1: FutureWarning:\n",
      "\n",
      "using a dict with renaming is deprecated and will be removed in a future version\n",
      "\n"
     ]
    }
   ],
   "source": [
    "price = price.resample(freq).agg({'open':{'open':'first'},'high':{'high':'max'},'low':{'low':'min'},'close':{'close':'last'},'adjClose':{'adjClose':'last'},'volume':{'volume':'sum'}})\n",
    "\n",
    "price.dropna(inplace=True)\n",
    "price.columns = price.columns.droplevel()\n"
   ]
  },
  {
   "cell_type": "markdown",
   "metadata": {},
   "source": [
    "# Machine Learning - Classification model"
   ]
  },
  {
   "cell_type": "markdown",
   "metadata": {},
   "source": [
    "#### Technical Indicators Calculations"
   ]
  },
  {
   "cell_type": "code",
   "execution_count": 37,
   "metadata": {},
   "outputs": [],
   "source": [
    "from talib import RSI, BBANDS, MACD, AROON, STOCH, ATR, OBV, ADOSC\n",
    "#help(ADOSC)"
   ]
  },
  {
   "cell_type": "code",
   "execution_count": 38,
   "metadata": {},
   "outputs": [],
   "source": [
    "price['macd'], price['macdsignal'], price['macdhist'] = MACD(price.adjClose, fastperiod=12, slowperiod=26, signalperiod=9)\n",
    "\n",
    "price['RSI'] = RSI(price.adjClose, timeperiod=14)\n",
    "\n",
    "price['slowk'], price['slowd'] = STOCH(price.high, price.low, price.close)\n",
    "\n",
    "price['aroondown'], price['aroonup'] = AROON(price.high, price.low)\n",
    "\n",
    "price['atr'] = ATR(price.high, price.low, price.close)\n",
    "\n",
    "price['bbup'], price['bbmid'], price['bblow'] = BBANDS(price.close, timeperiod=20, nbdevup=2, nbdevdn=2, matype=0)\n",
    "\n",
    "price['obv'] = OBV(np.linspace(1,100,price.index.shape[0]), price.volume)\n",
    "\n",
    "price['adosc'] = ADOSC(price.high, price.low, price.close, price.volume)"
   ]
  },
  {
   "cell_type": "markdown",
   "metadata": {},
   "source": [
    "#### Support and resistance calculation"
   ]
  },
  {
   "cell_type": "code",
   "execution_count": 39,
   "metadata": {},
   "outputs": [],
   "source": [
    "# Pivot points\n",
    "\n",
    "PP = (price.high+price.low+price.close)/3\n",
    "R1 = 2 * PP - price.low\n",
    "S1 = 2 * PP - price.high\n",
    "\n",
    "R2 = PP + (price.high - price.low)\n",
    "S2 = PP - (price.high - price.low)\n",
    "\n",
    "R3 = price.high + 2 * (PP - price.low)\n",
    "S3 = price.low - 2 * (price.high - PP)"
   ]
  },
  {
   "cell_type": "code",
   "execution_count": 40,
   "metadata": {},
   "outputs": [],
   "source": [
    "# Fibonacci Pivot\n",
    "\n",
    "PP = (price.high+price.low+price.close)/3\n",
    "S1 = PP - 0.382 * (price.high - price.low)\n",
    "S2 = PP - 0.618 * (price.high - price.low)\n",
    "S3 = PP -         (price.high - price.low)\n",
    "\n",
    "R1 = PP + 0.382 * (price.high - price.low)\n",
    "R2 = PP + 0.618 * (price.high - price.low)\n",
    "R3 = PP +         (price.high - price.low)"
   ]
  },
  {
   "cell_type": "markdown",
   "metadata": {},
   "source": [
    "#### Candle stick pattern recognition"
   ]
  },
  {
   "cell_type": "code",
   "execution_count": 41,
   "metadata": {},
   "outputs": [
    {
     "data": {
      "text/html": [
       "<div>\n",
       "<style scoped>\n",
       "    .dataframe tbody tr th:only-of-type {\n",
       "        vertical-align: middle;\n",
       "    }\n",
       "\n",
       "    .dataframe tbody tr th {\n",
       "        vertical-align: top;\n",
       "    }\n",
       "\n",
       "    .dataframe thead th {\n",
       "        text-align: right;\n",
       "    }\n",
       "</style>\n",
       "<table border=\"1\" class=\"dataframe\">\n",
       "  <thead>\n",
       "    <tr style=\"text-align: right;\">\n",
       "      <th></th>\n",
       "      <th>open</th>\n",
       "      <th>high</th>\n",
       "      <th>low</th>\n",
       "      <th>close</th>\n",
       "      <th>adjClose</th>\n",
       "      <th>volume</th>\n",
       "      <th>macd</th>\n",
       "      <th>macdsignal</th>\n",
       "      <th>macdhist</th>\n",
       "      <th>RSI</th>\n",
       "      <th>slowk</th>\n",
       "      <th>slowd</th>\n",
       "      <th>aroondown</th>\n",
       "      <th>aroonup</th>\n",
       "      <th>atr</th>\n",
       "      <th>bbup</th>\n",
       "      <th>bbmid</th>\n",
       "      <th>bblow</th>\n",
       "      <th>obv</th>\n",
       "      <th>adosc</th>\n",
       "    </tr>\n",
       "  </thead>\n",
       "  <tbody>\n",
       "  </tbody>\n",
       "</table>\n",
       "</div>"
      ],
      "text/plain": [
       "Empty DataFrame\n",
       "Columns: [open, high, low, close, adjClose, volume, macd, macdsignal, macdhist, RSI, slowk, slowd, aroondown, aroonup, atr, bbup, bbmid, bblow, obv, adosc]\n",
       "Index: []"
      ]
     },
     "execution_count": 41,
     "metadata": {},
     "output_type": "execute_result"
    }
   ],
   "source": [
    "from talib import CDLABANDONEDBABY, CDL3BLACKCROWS,CDLDOJI, CDLDOJISTAR, CDLDRAGONFLYDOJI,CDLENGULFING,CDLEVENINGDOJISTAR,CDLEVENINGSTAR, CDLGRAVESTONEDOJI, CDLHAMMER, CDLHANGINGMAN,CDLHARAMI,CDLHARAMICROSS,CDLINVERTEDHAMMER,CDLMARUBOZU,CDLMORNINGDOJISTAR,CDLMORNINGSTAR,CDLSHOOTINGSTAR,CDLSPINNINGTOP,CDL3BLACKCROWS, CDL3LINESTRIKE\n",
    "\n",
    "price[CDLABANDONEDBABY(price.open, price.high, price.low, price.close) != 0]"
   ]
  },
  {
   "cell_type": "code",
   "execution_count": 42,
   "metadata": {},
   "outputs": [
    {
     "data": {
      "text/plain": [
       "2017-04-10      0\n",
       "2017-04-11      0\n",
       "2017-04-12      0\n",
       "2017-04-13      0\n",
       "2017-04-17      0\n",
       "2017-04-18      0\n",
       "2017-04-19      0\n",
       "2017-04-20      0\n",
       "2017-04-21      0\n",
       "2017-04-24      0\n",
       "2017-04-25      0\n",
       "2017-04-26      0\n",
       "2017-04-27      0\n",
       "2017-04-28      0\n",
       "2017-05-02      0\n",
       "2017-05-03      0\n",
       "2017-05-04      0\n",
       "2017-05-05      0\n",
       "2017-05-08      0\n",
       "2017-05-09      0\n",
       "2017-05-10      0\n",
       "2017-05-11      0\n",
       "2017-05-12      0\n",
       "2017-05-15      0\n",
       "2017-05-16      0\n",
       "2017-05-17      0\n",
       "2017-05-18      0\n",
       "2017-05-19      0\n",
       "2017-05-22      0\n",
       "2017-05-23      0\n",
       "             ... \n",
       "2019-02-14      0\n",
       "2019-02-15      0\n",
       "2019-02-18      0\n",
       "2019-02-19      0\n",
       "2019-02-20      0\n",
       "2019-02-21      0\n",
       "2019-02-22      0\n",
       "2019-02-25      0\n",
       "2019-02-26      0\n",
       "2019-02-27      0\n",
       "2019-02-28      0\n",
       "2019-03-01      0\n",
       "2019-03-05      0\n",
       "2019-03-06      0\n",
       "2019-03-07      0\n",
       "2019-03-08      0\n",
       "2019-03-11      0\n",
       "2019-03-12      0\n",
       "2019-03-13      0\n",
       "2019-03-14      0\n",
       "2019-03-15      0\n",
       "2019-03-18      0\n",
       "2019-03-19      0\n",
       "2019-03-20      0\n",
       "2019-03-22    100\n",
       "2019-03-25      0\n",
       "2019-03-26      0\n",
       "2019-03-27      0\n",
       "2019-03-28      0\n",
       "2019-03-29      0\n",
       "Length: 490, dtype: int32"
      ]
     },
     "execution_count": 42,
     "metadata": {},
     "output_type": "execute_result"
    }
   ],
   "source": [
    "#https://github.com/mrjbq7/ta-lib\n",
    "\n",
    "CDLABANDONEDBABY(price.open, price.high, price.low, price.close)\n",
    "\n",
    "CDL3BLACKCROWS(price.open, price.high, price.low, price.close)\n",
    "\n",
    "CDLDOJI(price.open, price.high, price.low, price.close)\n",
    "\n",
    "CDLDOJISTAR(price.open, price.high, price.low, price.close)\n",
    "\n",
    "CDLDRAGONFLYDOJI(price.open, price.high, price.low, price.close)\n",
    "\n",
    "CDLENGULFING(price.open, price.high, price.low, price.close)\n",
    "\n",
    "CDLEVENINGDOJISTAR(price.open, price.high, price.low, price.close)\n",
    "\n",
    "CDLEVENINGSTAR(price.open, price.high, price.low, price.close)\n",
    "\n",
    "CDLGRAVESTONEDOJI(price.open, price.high, price.low, price.close)\n",
    "\n",
    "CDLHAMMER(price.open, price.high, price.low, price.close)\n",
    "\n",
    "CDLHANGINGMAN(price.open, price.high, price.low, price.close)\n",
    "\n",
    "CDLHARAMI(price.open, price.high, price.low, price.close)\n",
    "\n",
    "CDLHARAMICROSS(price.open, price.high, price.low, price.close)\n",
    "\n",
    "CDLINVERTEDHAMMER(price.open, price.high, price.low, price.close)\n",
    "\n",
    "CDLMARUBOZU(price.open, price.high, price.low, price.close)\n",
    "\n",
    "CDLMORNINGDOJISTAR(price.open, price.high, price.low, price.close)\n",
    "\n",
    "CDLMORNINGSTAR(price.open, price.high, price.low, price.close)\n",
    "\n",
    "CDLSHOOTINGSTAR(price.open, price.high, price.low, price.close)\n",
    "\n",
    "\n",
    "CDLSPINNINGTOP(price.open, price.high, price.low, price.close)\n",
    "\n",
    "CDL3BLACKCROWS(price.open, price.high, price.low, price.close)\n",
    "\n",
    "CDL3LINESTRIKE(price.open, price.high, price.low, price.close)"
   ]
  },
  {
   "cell_type": "raw",
   "metadata": {},
   "source": [
    "print(price.index.shape[0])\n",
    "\n",
    "price.head(50)"
   ]
  },
  {
   "cell_type": "raw",
   "metadata": {},
   "source": [
    "def bbp(price):\n",
    "    up, mid, low = BBANDS(close, timeperiod=20, nbdevup=2, nbdevdn=2, matype=0)\n",
    "    bbp = (price[\"adjClose\"] - low) / (up - low)\n",
    "    return bbp\n",
    "\n",
    "holdings = pd.DataFrame(index=price.index, data={'Holdings': np.array([np.nan] * price.index.shape[0])})\n",
    "\n",
    "price['BBP'] = bbp(price)\n",
    "\n",
    "holdings.loc[((price['RSI'] < 30) & (price['BBP'] < 0)), 'Holdings'] = max_holding\n",
    "holdings.loc[((price['RSI'] > 70) & (price['BBP'] > 1)), 'Holdings'] = 0\n",
    "holdings.ffill(inplace=True)\n",
    "holdings.fillna(0, inplace=True)\n",
    "\n",
    "holdings['Order'] = holdings.diff()\n",
    "holdings.dropna(inplace=True)"
   ]
  },
  {
   "cell_type": "raw",
   "metadata": {},
   "source": [
    "#price[holdings[holdings.Order >0].index]\n",
    "listBuy = price.loc[holdings[holdings.Order >0].index]\n",
    "listSell = price.loc[holdings[holdings.Order <0].index]\n",
    "#holdings[holdings.Order ==0].index.values"
   ]
  },
  {
   "cell_type": "raw",
   "metadata": {},
   "source": [
    "#Plotting data\n",
    "trace0 = go.Candlestick(x=price.index, open=price['open'], high=price['high'], low=price['low'], close=price['close'], name=\"Closing Price\")\n",
    "\n",
    "\n",
    "trace61 = go.Scatter(x=listBuy.index, y=listBuy.close, marker = dict(color='green', size=10), mode='markers')\n",
    "trace62 = go.Scatter(x=listSell.index, y=listSell.close, marker = dict(color='red', size=10), mode='markers')\n",
    "\n",
    "trace1 = go.Scatter(x=price.index, y=price['adjClose'], mode='lines', line=dict(color='rgb(63, 72, 204)'),name='Closing Price',yaxis=\"y1\")\n",
    "trace5 = go.Scatter(x=price.index, y=price['bbup'], name='BB_up')\n",
    "trace7 = go.Scatter(x=price.index, y=price['bblow'], name='BB_low', fill = 'tonexty', fillcolor=\"rgba(0,40,100,0.02)\")\n",
    "\n",
    "fig = tools.make_subplots(rows=3, cols=1, shared_xaxes=True, shared_yaxes=False, vertical_spacing=0.05, row_width=[1,2,3])\n",
    "\n",
    "\n",
    "fig.append_trace(trace0, 1, 1)\n",
    "\n",
    "fig.append_trace(trace1, 2, 1)\n",
    "fig.append_trace(trace5, 2, 1)\n",
    "fig.append_trace(trace7, 2, 1)\n",
    "\n",
    "fig.append_trace(trace61, 2, 1)\n",
    "fig.append_trace(trace62, 2, 1)\n",
    "\n",
    "\n",
    "fig['layout'].update(height=750, title=\"Stock Analysis for \"+symbol)\n",
    "fig['layout']['xaxis']['rangeslider'].update(thickness=0.05)\n",
    "#fig['layout']['yaxis1'].update(range=[8000,12000], domain=[0.5,1.0])\n",
    "#fig['layout']['yaxis'].update(domain=[0.10,0.15])\n",
    "#fig['layout']['yaxis2'].update(domain=[0.9,1])\n",
    "#fig['layout'].update(annotations=[dict(text=\"Buy\",x=data1[::-1,0],y=data1[::-1,1])])\n",
    "\n",
    "iplot(fig, filename=\"Stock Analysis 2\")"
   ]
  },
  {
   "cell_type": "markdown",
   "metadata": {},
   "source": [
    "#### TODO: BUY/SELL decisions"
   ]
  },
  {
   "cell_type": "raw",
   "metadata": {},
   "source": [
    "from enum import Enum\n",
    "class S(Enum):\n",
    "    BUY = 1\n",
    "    SELL = 2\n",
    "    HOLD = 3\n",
    "    \n",
    "price.dropna(inplace=True)\n",
    "\n",
    "#price.drop(columns=['prevClose'], inplace=True)\n",
    "\n",
    "#print(price.head(5))\n",
    "\n",
    "#price['Delta'] = price['prevClose']/price['close'] - 1\n",
    "\n",
    "labels = pd.DataFrame(data = {\"holdings\":np.zeros(price.index.shape[0])},index=price.index)\n",
    "\n",
    "#labels[price['Delta']>0] = S.BUY\n",
    "#labels[price['Delta']<=0] = S.SELL\n",
    "\n",
    "#price['Holdings'] = labels\n",
    "\n",
    "#Entry Criterion\n",
    "labels[\n",
    "    (price.close < price.bbmid ) & (price['macdhist'] > price['macdhist'].shift(1)) & (price['macdhist'].shift(1) < 0 ) & (price['macdhist'] >= 0 )] = S.BUY\n",
    "\n",
    "#Exit Criterion\n",
    "labels[\n",
    "     (price.bbup - price.close <=-5 ) |\n",
    "     (price.close > price.bbmid ) & (price['macdhist'] < price['macdhist'].shift(1)) & (price['macdhist'].shift(1) > 0 ) & (price['macdhist'] <= 0 )] = S.SELL\n",
    "\n",
    "\n",
    "# buy and sell decisions are stored in arrays for plotting purpose(visualisation)\n",
    "\n",
    "buy = price[labels['holdings']==S.BUY]\n",
    "sell = price[labels['holdings']==S.SELL]"
   ]
  },
  {
   "cell_type": "raw",
   "metadata": {},
   "source": [
    "labels.head()"
   ]
  },
  {
   "cell_type": "raw",
   "metadata": {},
   "source": [
    "help(pd.DataFrame.aggregate)"
   ]
  },
  {
   "cell_type": "raw",
   "metadata": {},
   "source": [
    "import talib\n",
    "import pprint\n",
    "\n",
    "pp = pprint.PrettyPrinter(indent=1)\n",
    "pp.pprint ( talib.get_function_groups())"
   ]
  }
 ],
 "metadata": {
  "kernelspec": {
   "display_name": "Python 3",
   "language": "python",
   "name": "python3"
  },
  "language_info": {
   "codemirror_mode": {
    "name": "ipython",
    "version": 3
   },
   "file_extension": ".py",
   "mimetype": "text/x-python",
   "name": "python",
   "nbconvert_exporter": "python",
   "pygments_lexer": "ipython3",
   "version": "3.6.4"
  }
 },
 "nbformat": 4,
 "nbformat_minor": 2
}
