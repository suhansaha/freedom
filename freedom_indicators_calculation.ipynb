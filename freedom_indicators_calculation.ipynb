{
 "cells": [
  {
   "cell_type": "raw",
   "metadata": {},
   "source": [
    "!pip install quandl\n",
    "!pip install pandas_datareader\n",
    "\n",
    "# Microsoft Visual C++ Build Tools is needed for TA-Lib: https://visualstudio.microsoft.com/downloads/\n",
    "# https://mrjbq7.github.io/ta-lib/install.html\n",
    "!pip install TA-Lib\n"
   ]
  },
  {
   "cell_type": "code",
   "execution_count": 1,
   "metadata": {},
   "outputs": [],
   "source": [
    "#%matplotlib inline\n",
    "import quandl\n",
    "import pandas_datareader.data as web\n",
    "import pandas as pd\n",
    "import numpy as np\n",
    "import datetime as dt\n",
    "from datetime import date\n",
    "\n",
    "from talib import RSI, BBANDS, MACD, AROON, STOCH, ATR, OBV, ADOSC, MINUS_DI, PLUS_DI, ADX\n",
    "from talib import CDLABANDONEDBABY, CDL3BLACKCROWS,CDLDOJI, CDLDOJISTAR, CDLDRAGONFLYDOJI,CDLENGULFING,CDLEVENINGDOJISTAR,CDLEVENINGSTAR, CDLGRAVESTONEDOJI, CDLHAMMER, CDLHANGINGMAN,CDLHARAMI,CDLHARAMICROSS,CDLINVERTEDHAMMER,CDLMARUBOZU,CDLMORNINGDOJISTAR,CDLMORNINGSTAR,CDLSHOOTINGSTAR,CDLSPINNINGTOP,CDL3BLACKCROWS, CDL3LINESTRIKE\n"
   ]
  },
  {
   "cell_type": "markdown",
   "metadata": {},
   "source": [
    "### Convert tick data to OHLC"
   ]
  },
  {
   "cell_type": "raw",
   "metadata": {},
   "source": [
    "# Random tick generator\n",
    "\n",
    "import datetime as dt\n",
    "import time \n",
    "\n",
    "maxN = 1000\n",
    "\n",
    "index = pd.date_range(start=dt.datetime.now(), periods=maxN, freq=\"15s\", name=\"Date\")\n",
    "\n",
    "\n",
    "if False:\n",
    "    arr = np.zeros(maxN+1, dtype='datetime64[ns]')\n",
    "\n",
    "    arr[0] = dt.datetime.now()\n",
    "\n",
    "    for i in np.linspace(1,maxN,maxN, dtype='int'):\n",
    "        arr[i] = arr[i-1] + np.timedelta64(np.random.randint(40,360), 's' )\n",
    "    \n",
    "df5 = pd.DataFrame(data = {\"A\":np.linspace(1,maxN,maxN)}, index=index)\n",
    "\n",
    "\n",
    "# Converts pandas frame with tick data to OHLC\n",
    "'''\n",
    "\n",
    "df6 = df5.groupby([df5['Date'].dt.hour, df5['Date'].dt.minute])\n",
    "\n",
    "df7 = pd.DataFrame(\n",
    "    data = {\"date\": df6.max()[\"Date\"].apply(lambda x: dt.datetime.replace(x, microsecond=0, second=0)), \n",
    "            \"high\":df6.max()[\"A\"], \"low\":df6.min()[\"A\"], \"open\": df6.first()[\"A\"], \"close\": df6.last()[\"A\"]})\n",
    "'''\n",
    "\n",
    "df7 = df5.resample('15min').agg({'A':{'open':'first','high':'max','low':'min','close':'last'}})[\"A\"]\n",
    "df7.head()"
   ]
  },
  {
   "cell_type": "markdown",
   "metadata": {},
   "source": [
    "### Import data from CSV/Quandl"
   ]
  },
  {
   "cell_type": "code",
   "execution_count": 34,
   "metadata": {},
   "outputs": [],
   "source": [
    "if source == \"CSV\":\n",
    "    df = pd.read_csv(filename)\n",
    "    df = df.set_index('Date')\n",
    "\n",
    "    #Convert date from string to date format if required - uncomment below line\n",
    "    df.index = [dt.datetime.strptime(date, dateTimeFormat) for date in df.index]\n",
    "\n",
    "    rawData = pd.DataFrame({'open':df[\"Open Price\"],'high':df[\"High Price\"],'low':df[\"Low Price\"],'close':df[\"Close Price\"],'adjClose':df[\"Close Price\"],\"volume\":df[\"Total Traded Quantity\"]})\n",
    "    #rawData = pd.DataFrame({'open':df[\"Open\"],'high':df[\"High\"],'low':df[\"Low\"],'close':df[\"Close\"],'adjClose':df[\"Adj Close\"],\"volume\":df[\"Volume\"]})\n",
    "\n",
    "#dt.datetime.strptime(\"28-Mar-2017\", dateTimeFormat)"
   ]
  },
  {
   "cell_type": "raw",
   "metadata": {},
   "source": [
    "#Fetch Data and pre-process data - Source:Quandl: NSE\n",
    "if source == \"Quandl\":\n",
    "    start = '2018-03-24'\n",
    "    end = '2019-03-24'\n",
    "\n",
    "    symbol = 'NSE/INFY'\n",
    "    max_holding = 100\n",
    "    df = web.DataReader(name=symbol, data_source='quandl', start=start, end=end,  access_key=\"B2LcBEywuebxqE9s15L9\")\n",
    "\n",
    "    #Convert date from string to date format if required - uncomment below line\n",
    "    #df.index = [dt.datetime.strptime(date, '%Y-%m-%d').date() for date in df.index]\n",
    "\n",
    "    rawData = pd.DataFrame({'open':df[\"Open\"],'high':df[\"High\"],'low':df[\"Low\"],'close':df[\"Close\"],'adjClose':df[\"Close\"],\"volume\":df[\"TotalTradeQuantity\"]})\n"
   ]
  },
  {
   "cell_type": "markdown",
   "metadata": {},
   "source": [
    "#### Filter Data"
   ]
  },
  {
   "cell_type": "code",
   "execution_count": 35,
   "metadata": {},
   "outputs": [],
   "source": [
    "#Clean up and filter data\n",
    "price = rawData[rawData.index> dt.datetime.now() - dt.timedelta(days = days)]\n",
    "#price = price.iloc[::-1]\n",
    "price = price.dropna()\n",
    "close = price[\"adjClose\"].values"
   ]
  },
  {
   "cell_type": "markdown",
   "metadata": {},
   "source": [
    "#### Resample Data"
   ]
  },
  {
   "cell_type": "code",
   "execution_count": null,
   "metadata": {},
   "outputs": [],
   "source": [
    "price = price.resample(freq).agg({'open':{'open':'first'},'high':{'high':'max'},'low':{'low':'min'},'close':{'close':'last'},'adjClose':{'adjClose':'last'},'volume':{'volume':'sum'}})\n",
    "\n",
    "price.dropna(inplace=True)\n",
    "price.columns = price.columns.droplevel()\n"
   ]
  },
  {
   "cell_type": "markdown",
   "metadata": {},
   "source": [
    "# Technical Indicators Calculations"
   ]
  },
  {
   "cell_type": "code",
   "execution_count": 37,
   "metadata": {},
   "outputs": [],
   "source": []
  },
  {
   "cell_type": "code",
   "execution_count": 38,
   "metadata": {},
   "outputs": [],
   "source": [
    "price['macd'], price['macdsignal'], price['macdhist'] = MACD(price.adjClose, fastperiod=12, slowperiod=26, signalperiod=9)\n",
    "\n",
    "price['RSI'] = RSI(price.adjClose, timeperiod=14)\n",
    "\n",
    "price['slowk'], price['slowd'] = STOCH(price.high, price.low, price.close)\n",
    "\n",
    "price['aroondown'], price['aroonup'] = AROON(price.high, price.low)\n",
    "\n",
    "price['atr'] = ATR(price.high, price.low, price.close, timeperiod=22)\n",
    "\n",
    "price['bbup'], price['bbmid'], price['bblow'] = BBANDS(price.close, timeperiod=20, nbdevup=2, nbdevdn=2, matype=0)\n",
    "\n",
    "price['obv'] = OBV(np.linspace(1,100,price.index.shape[0]), price.volume)\n",
    "\n",
    "price['adosc'] = ADOSC(price.high, price.low, price.close, price.volume)\n",
    "\n",
    "price['ADX'] = ADX(price.high, price.low, price.close)\n",
    "price['DI_P'] = PLUS_DI(price.high, price.low, price.close)\n",
    "price['DI_M'] = MINUS_DI(price.high, price.low, price.close)\n",
    "\n",
    "# Heikin-Ashi\n",
    "price['HAopen'] = (price.open.shift(1) + price.close.shift(1))/2\n",
    "price['HAhigh'] = price[['high','open','close']].max(axis = 1, skipna = True)\n",
    "price['HAlow'] = price[['low','open','close']].min(axis = 1, skipna = True)\n",
    "price['HAclose'] = (price.open+price.high+price.low+price.close)/4\n",
    "\n",
    "price['chandlierLong'] = price.close-chandlierMultiplier*price.atr\n",
    "price['chandlierShort'] = price.close+chandlierMultiplier*price.atr"
   ]
  },
  {
   "cell_type": "markdown",
   "metadata": {},
   "source": [
    "#### Support and resistance calculation"
   ]
  },
  {
   "cell_type": "code",
   "execution_count": 39,
   "metadata": {},
   "outputs": [],
   "source": [
    "# Pivot points\n",
    "\n",
    "PP = (price.high+price.low+price.close)/3\n",
    "R1 = 2 * PP - price.low\n",
    "S1 = 2 * PP - price.high\n",
    "\n",
    "R2 = PP + (price.high - price.low)\n",
    "S2 = PP - (price.high - price.low)\n",
    "\n",
    "R3 = price.high + 2 * (PP - price.low)\n",
    "S3 = price.low - 2 * (price.high - PP)"
   ]
  },
  {
   "cell_type": "code",
   "execution_count": 40,
   "metadata": {},
   "outputs": [],
   "source": [
    "# Fibonacci Pivot\n",
    "\n",
    "PP = (price.high+price.low+price.close)/3\n",
    "S1 = PP - 0.382 * (price.high - price.low)\n",
    "S2 = PP - 0.618 * (price.high - price.low)\n",
    "S3 = PP -         (price.high - price.low)\n",
    "\n",
    "R1 = PP + 0.382 * (price.high - price.low)\n",
    "R2 = PP + 0.618 * (price.high - price.low)\n",
    "R3 = PP +         (price.high - price.low)"
   ]
  },
  {
   "cell_type": "markdown",
   "metadata": {},
   "source": [
    "#### Candle stick pattern recognition"
   ]
  },
  {
   "cell_type": "code",
   "execution_count": null,
   "metadata": {},
   "outputs": [],
   "source": [
    "\n",
    "price[CDLABANDONEDBABY(price.open, price.high, price.low, price.close) != 0]"
   ]
  },
  {
   "cell_type": "code",
   "execution_count": null,
   "metadata": {},
   "outputs": [],
   "source": [
    "#https://github.com/mrjbq7/ta-lib\n",
    "\n",
    "CDLABANDONEDBABY(price.open, price.high, price.low, price.close)\n",
    "\n",
    "CDL3BLACKCROWS(price.open, price.high, price.low, price.close)\n",
    "\n",
    "CDLDOJI(price.open, price.high, price.low, price.close)\n",
    "\n",
    "CDLDOJISTAR(price.open, price.high, price.low, price.close)\n",
    "\n",
    "CDLDRAGONFLYDOJI(price.open, price.high, price.low, price.close)\n",
    "\n",
    "CDLENGULFING(price.open, price.high, price.low, price.close)\n",
    "\n",
    "CDLEVENINGDOJISTAR(price.open, price.high, price.low, price.close)\n",
    "\n",
    "CDLEVENINGSTAR(price.open, price.high, price.low, price.close)\n",
    "\n",
    "CDLGRAVESTONEDOJI(price.open, price.high, price.low, price.close)\n",
    "\n",
    "CDLHAMMER(price.open, price.high, price.low, price.close)\n",
    "\n",
    "CDLHANGINGMAN(price.open, price.high, price.low, price.close)\n",
    "\n",
    "CDLHARAMI(price.open, price.high, price.low, price.close)\n",
    "\n",
    "CDLHARAMICROSS(price.open, price.high, price.low, price.close)\n",
    "\n",
    "CDLINVERTEDHAMMER(price.open, price.high, price.low, price.close)\n",
    "\n",
    "CDLMARUBOZU(price.open, price.high, price.low, price.close)\n",
    "\n",
    "CDLMORNINGDOJISTAR(price.open, price.high, price.low, price.close)\n",
    "\n",
    "CDLMORNINGSTAR(price.open, price.high, price.low, price.close)\n",
    "\n",
    "CDLSHOOTINGSTAR(price.open, price.high, price.low, price.close)\n",
    "\n",
    "\n",
    "CDLSPINNINGTOP(price.open, price.high, price.low, price.close)\n",
    "\n",
    "CDL3BLACKCROWS(price.open, price.high, price.low, price.close)\n",
    "\n",
    "CDL3LINESTRIKE(price.open, price.high, price.low, price.close)"
   ]
  }
 ],
 "metadata": {
  "kernelspec": {
   "display_name": "Python 3",
   "language": "python",
   "name": "python3"
  },
  "language_info": {
   "codemirror_mode": {
    "name": "ipython",
    "version": 3
   },
   "file_extension": ".py",
   "mimetype": "text/x-python",
   "name": "python",
   "nbconvert_exporter": "python",
   "pygments_lexer": "ipython3",
   "version": "3.6.4"
  }
 },
 "nbformat": 4,
 "nbformat_minor": 2
}
