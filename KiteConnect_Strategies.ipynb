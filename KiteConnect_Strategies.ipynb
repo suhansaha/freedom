{
 "cells": [
  {
   "cell_type": "markdown",
   "metadata": {},
   "source": [
    "## <span style=\"color:grey\">Initialization</span>"
   ]
  },
  {
   "cell_type": "code",
   "execution_count": 1,
   "metadata": {},
   "outputs": [],
   "source": [
    "try:\n",
    "    mode\n",
    "except Exception as e:\n",
    "    %run \"KiteConnect_Library.ipynb\"  \n",
    "    logging.debug(e)\n",
    "    mode = \"Algo\"\n",
    "    papertrade = True\n"
   ]
  },
  {
   "cell_type": "markdown",
   "metadata": {},
   "source": [
    "### Filter Stocks - portfolio maker"
   ]
  },
  {
   "cell_type": "code",
   "execution_count": 2,
   "metadata": {
    "scrolled": true
   },
   "outputs": [],
   "source": [
    "if mode == \"Algo\":\n",
    "    portfolio = ['HDFCBANK']"
   ]
  },
  {
   "cell_type": "markdown",
   "metadata": {},
   "source": [
    "##  <span style=\"color:green\">Trading Strategy </span>"
   ]
  },
  {
   "cell_type": "code",
   "execution_count": 3,
   "metadata": {
    "cell_style": "center",
    "code_folding": [
     38
    ],
    "scrolled": false
   },
   "outputs": [
    {
     "name": "stdout",
     "output_type": "stream",
     "text": [
      "WIPRO: -7.8, (-2.734 %)\n"
     ]
    }
   ],
   "source": [
    "# ====== Tradescript Wrapper =======\n",
    "# Variables\n",
    "OPEN = 0\n",
    "CLOSE = 0\n",
    "HIGH = 0\n",
    "LOW = 0\n",
    "VOLUME = 0\n",
    "BBT = 0\n",
    "BBM = 0\n",
    "BBB = 0\n",
    "AroonUp = 0\n",
    "AroonDown = 0\n",
    "iMACD = 0\n",
    "iMACDhist = 0\n",
    "iMACDsignal = 0\n",
    "UP = 0\n",
    "DOWN = 1\n",
    "SD = 0\n",
    "iRSI = 0 \n",
    "atr = 0\n",
    "STATE = \"SELL\"\n",
    "sma20 = 0\n",
    "sma50 = 0\n",
    "\n",
    "# Methods\n",
    "REF = lambda df, i: df.shift(i)\n",
    "#TREND_UP = lambda a, days: ROC(a,days) >= 0.01\n",
    "#TREND_DOWN = lambda a, days: ROC(a,days) <= -0.01\n",
    "\n",
    "TREND_UP = lambda high, low: ((REF(high,1) >= REF(high,2)) & (REF(low,1) >= REF(low,2)))\n",
    "TREND_DOWN =  lambda high, low: ((REF(high,1) <= REF(high,2)) & (REF(low,1) <= REF(low,2)))\n",
    "CROSSOVER = lambda a, b: (REF(a,1)<=REF(b,1)) & (a > b)\n",
    "profit = 0\n",
    "stoploss = 0\n",
    "squareoff = 0\n",
    "\n",
    "class algoTrade:\n",
    "    \n",
    "    def __init__(s, price):\n",
    "        #logging.debug(price.tail(10))\n",
    "        global OPEN, CLOSE, HIGH, LOW, VOLUME, BBT, BBM, BBB, AroonDown, AroonUp\n",
    "        global iMACD, iMACDhist, iMACDsignal, SD, iRSI, sma20, sma50\n",
    "        OPEN = price['open']\n",
    "        CLOSE = price['close']\n",
    "        HIGH = price['high']\n",
    "        LOW = price['low']\n",
    "        VOLUME = price['volume']\n",
    "        BBT, BBM, BBB = BBANDS( CLOSE, 20,2,2,1)\n",
    "        iMACD, iMACDsignal, iMACDhist = MACDEXT(CLOSE, fastperiod=12, slowperiod=26, signalperiod=9,  fastmatype=1, slowmatype=1,signalmatype=1)\n",
    "        SD = STDDEV(CLOSE)\n",
    "        sma20 = SMA(CLOSE, timeperiod=20)\n",
    "        sma50 = SMA(CLOSE, timeperiod=50)\n",
    "    \n",
    "    # Long Strategies\n",
    "    def long_bb(self):\n",
    "        return pd.DataFrame( (REF(CLOSE, 1) < REF(BBB, 1)) & (CLOSE > BBB), columns=[\"buy\"] )\n",
    "     \n",
    "    # Short Strategies\n",
    "    def short_bb(self):\n",
    "        return pd.DataFrame((REF(CLOSE,1) > REF(BBT,1)) & (CLOSE<BBT), columns=[\"sell\"])\n",
    "    \n",
    "    \n",
    "    def long_pa(self):\n",
    "        return pd.DataFrame(TREND_DOWN(HIGH, LOW) & \n",
    "                            ((CDLENGULFING(OPEN, HIGH, LOW, CLOSE) == 100)\n",
    "                            | (CDLHARAMI(OPEN, HIGH, LOW, CLOSE) == 100)\n",
    "                            #| (CDLABANDONEDBABY(OPEN, HIGH, LOW, CLOSE) != 0) \n",
    "                            ), columns=[\"buy\"])\n",
    "    def short_pa(self):\n",
    "        return pd.DataFrame( TREND_UP(HIGH, LOW) & \n",
    "                            ((CDLENGULFING(OPEN, HIGH, LOW, CLOSE) == -100)\n",
    "                            | (CDLHARAMI(OPEN, HIGH, LOW, CLOSE) == -100)\n",
    "                            #| (CDLEVENINGSTAR(OPEN, HIGH, LOW, CLOSE) != 0)\n",
    "                            ) , columns=[\"sell\"])\n",
    "    \n",
    "    def tradeDecision(self):\n",
    "        \n",
    "        buy  = self.long_pa()   \n",
    "        sell = self.short_pa()\n",
    "        \n",
    "        buy['low'] = LOW\n",
    "        sell['high'] = HIGH\n",
    "        buy['close'] = sell['close'] = CLOSE\n",
    "        buy['sl'] = CLOSE - SD\n",
    "        sell['sl'] = CLOSE + SD\n",
    "        buy['so'] = CLOSE + 4 * SD\n",
    "        sell['so'] = CLOSE - 4 * SD\n",
    "\n",
    "        buy = buy[buy['buy']]\n",
    "        sell = sell[sell['sell']]\n",
    "        return (buy,sell)\n",
    "    \n",
    "    \n",
    "    def tradeBot(self, symbol, timestamp=dt.datetime.now().replace(second=0, microsecond=0)):\n",
    "        global STATE, profit, squareoff, stoploss\n",
    "        \n",
    "        #logger.debug(symbol+\",\"+STATE)\n",
    "        timeNow = timestamp\n",
    "        \n",
    "        delT1 = timeNow - dt.timedelta(minutes = 1)\n",
    "        delT2 = timeNow - dt.timedelta(minutes = 2)\n",
    "\n",
    "        #logger.debug(timeNow)\n",
    "\n",
    "        price = CLOSE[-1]\n",
    "        trigger = CLOSE[-1]\n",
    "        stoploss = price - 2 * SD[-1] \n",
    "        squareoff = 3 * SD[-1] \n",
    "\n",
    "        \n",
    "        if (timeNow.time() > dt.time(11,30)) and (timeNow.time() < dt.time(14,0)):\n",
    "            # Mostly Choppy period# Mostly Trending period\n",
    "            buy  = self.long_bb()   \n",
    "            sell = self.short_bb()\n",
    "\n",
    "            buy = buy[buy['buy']]\n",
    "            sell = sell[sell['sell']]\n",
    "            \n",
    "        else:\n",
    "            # Mostly Trending period\n",
    "            buy  = self.long_pa()   \n",
    "            sell = self.short_pa()\n",
    "\n",
    "            buy = buy[buy['buy']]\n",
    "            sell = sell[sell['sell']]\n",
    "\n",
    "        if buy.empty | sell.empty:\n",
    "            return\n",
    "        \n",
    "        if ((delT1 == buy.index[-1]) or (delT2 == buy.index[-1])) and (STATE != \"SELL\"):\n",
    "            if STATE == \"\":\n",
    "                profit = profit - price\n",
    "            else:\n",
    "                profit = profit - 2*price\n",
    "            \n",
    "            logger.debug(\"buy:\"+str(buy.index[-1]))\n",
    "            \n",
    "            ##### Order Placement #####\n",
    "            #buy_bo(symbol, price, trigger, stoploss, squareoff, quantity=1)\n",
    "            buy_slm(symbol, price, stoploss, quantity=1)\n",
    "            STATE = \"SELL\"\n",
    "        elif ((delT1 == sell.index[-1]) | (delT2 == sell.index[-1])) and (STATE != \"BUY\"):\n",
    "            if STATE == \"\":\n",
    "                profit = profit + price\n",
    "            else:\n",
    "                profit = profit + 2*price\n",
    "                \n",
    "            logger.debug(\"sell:\"+str(sell.index[-1]))\n",
    "            \n",
    "            ##### Order Placement #####\n",
    "            #sell_bo(symbol, price, trigger, stoploss, squareoff, quantity=1)\n",
    "            sell_slm(symbol, price, stoploss, quantity=1)\n",
    "            STATE = \"BUY\"\n",
    "            \n",
    "        return profit\n",
    "\n",
    "\n",
    "#portfolio = pd.DataFrame(downloadlist)\n",
    "if mode == \"Algo\":\n",
    "    toDate = dt.datetime(2019,4,18,15,15)\n",
    "    fromDate = toDate - dt.timedelta(days = 2, hours=4)\n",
    "    \n",
    "    logger.setLevel(logging.DEBUG)\n",
    "    offset = 90\n",
    "    portfolio = pd.DataFrame(['WIPRO'])\n",
    "    papertrade = True\n",
    "    backtest(portfolio, fromDate, toDate)\n",
    "    gc.collect()"
   ]
  },
  {
   "cell_type": "markdown",
   "metadata": {},
   "source": [
    "- Lunch Time: 11:00 am to 2:00 pm => Choppy Market\n",
    "- Bollinger band ZONE: for breakout\n",
    "\n",
    "Choppy market Trading:\n",
    "- Identify stocks with highest SD and trade using bollinger\n",
    "\n",
    "Trending Market Trading:\n",
    "- MACD or price action trading based on candle stick"
   ]
  }
 ],
 "metadata": {
  "kernelspec": {
   "display_name": "Python 3",
   "language": "python",
   "name": "python3"
  },
  "language_info": {
   "codemirror_mode": {
    "name": "ipython",
    "version": 3
   },
   "file_extension": ".py",
   "mimetype": "text/x-python",
   "name": "python",
   "nbconvert_exporter": "python",
   "pygments_lexer": "ipython3",
   "version": "3.7.1"
  },
  "varInspector": {
   "cols": {
    "lenName": 16,
    "lenType": 16,
    "lenVar": 40
   },
   "kernels_config": {
    "python": {
     "delete_cmd_postfix": "",
     "delete_cmd_prefix": "del ",
     "library": "var_list.py",
     "varRefreshCmd": "print(var_dic_list())"
    },
    "r": {
     "delete_cmd_postfix": ") ",
     "delete_cmd_prefix": "rm(",
     "library": "var_list.r",
     "varRefreshCmd": "cat(var_dic_list()) "
    }
   },
   "position": {
    "height": "433px",
    "left": "1016px",
    "right": "20px",
    "top": "120px",
    "width": "373px"
   },
   "types_to_exclude": [
    "module",
    "function",
    "builtin_function_or_method",
    "instance",
    "_Feature"
   ],
   "window_display": false
  }
 },
 "nbformat": 4,
 "nbformat_minor": 2
}
