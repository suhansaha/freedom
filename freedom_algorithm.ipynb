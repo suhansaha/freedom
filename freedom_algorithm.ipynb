{
 "cells": [
  {
   "cell_type": "code",
   "execution_count": 8,
   "metadata": {},
   "outputs": [],
   "source": [
    "from talib import MACD, RSI, BBANDS, MACD, AROON, STOCH, ATR, OBV, ADOSC, MINUS_DI, PLUS_DI, ADX, EMA, SMA\n",
    "from talib import LINEARREG, BETA, LINEARREG_INTERCEPT, LINEARREG_SLOPE, STDDEV, TSF, ADOSC, VAR, ROC\n",
    "from talib import CDLABANDONEDBABY, CDL3BLACKCROWS,CDLDOJI, CDLDOJISTAR, CDLDRAGONFLYDOJI,CDLENGULFING,CDLEVENINGDOJISTAR,CDLEVENINGSTAR, CDLGRAVESTONEDOJI, CDLHAMMER, CDLHANGINGMAN,CDLHARAMI,CDLHARAMICROSS,CDLINVERTEDHAMMER,CDLMARUBOZU,CDLMORNINGDOJISTAR,CDLMORNINGSTAR,CDLSHOOTINGSTAR,CDLSPINNINGTOP,CDL3BLACKCROWS, CDL3LINESTRIKE, CDLKICKING"
   ]
  },
  {
   "cell_type": "code",
   "execution_count": 12,
   "metadata": {},
   "outputs": [
    {
     "name": "stdout",
     "output_type": "stream",
     "text": [
      "Help on function AROON in module talib._ta_lib:\n",
      "\n",
      "AROON(...)\n",
      "    AROON(high, low[, timeperiod=?])\n",
      "    \n",
      "    Aroon (Momentum Indicators)\n",
      "    \n",
      "    Inputs:\n",
      "        prices: ['high', 'low']\n",
      "    Parameters:\n",
      "        timeperiod: 14\n",
      "    Outputs:\n",
      "        aroondown\n",
      "        aroonup\n",
      "\n"
     ]
    }
   ],
   "source": [
    "help(AROON)"
   ]
  },
  {
   "cell_type": "code",
   "execution_count": null,
   "metadata": {},
   "outputs": [],
   "source": [
    "def long_macd(price):\n",
    "        label = pd.DataFrame( (price['ADX'] > 20) & (price['DI_P'] > 20) & ( price['RSI'] > 40) & \n",
    "                            (price['macdsignal'].shift(1) < price['macd'].shift(1)) &\n",
    "                             (price['macdsignal'] < price['macd']), columns=[\"buy\"])\n",
    "        return label\n",
    "\n",
    "    def short_macd(price):\n",
    "        #myTrend = trend(price['close'] , 5) > 0\n",
    "\n",
    "        label = pd.DataFrame( (ROC(price['close'] , 5) > 0) & (price['open'].shift(1) > price['close'].shift(1)) & (price['open'].shift(2) > price['close'].shift(2)) ,columns=[\"sell\"] )\n",
    "        return label\n",
    "\n",
    "    def long_bull_engulf(price):\n",
    "        label = pd.DataFrame(\n",
    "            (ROC(price['close'],5) < 0) &\n",
    "            ( CDLENGULFING(price['open'], price['high'], price['low'], price['close']) == 100 )\n",
    "            ,columns=[\"buy\"] \n",
    "        )\n",
    "        return label\n",
    "\n",
    "    def short_bear_engulf(price):\n",
    "        label = pd.DataFrame(\n",
    "            (ROC(price['close'],5) > 0) &\n",
    "            ( CDLENGULFING(price['open'], price['high'], price['low'], price['close']) == -100 )\n",
    "            ,columns=[\"sell\"]\n",
    "        )\n",
    "        return label\n",
    "\n",
    "    def long_macd_crossover(price):\n",
    "        return"
   ]
  }
 ],
 "metadata": {
  "kernelspec": {
   "display_name": "Python 3",
   "language": "python",
   "name": "python3"
  },
  "language_info": {
   "codemirror_mode": {
    "name": "ipython",
    "version": 3
   },
   "file_extension": ".py",
   "mimetype": "text/x-python",
   "name": "python",
   "nbconvert_exporter": "python",
   "pygments_lexer": "ipython3",
   "version": "3.6.4"
  }
 },
 "nbformat": 4,
 "nbformat_minor": 2
}
