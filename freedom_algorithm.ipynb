{
 "cells": [
  {
   "cell_type": "code",
   "execution_count": null,
   "metadata": {},
   "outputs": [],
   "source": [
    "# Algo 1\n",
    "\n",
    "#Entry Criterion\n",
    "labels[\n",
    "    (delBBUP > 0.15)&(\n",
    "    ((price.slowk<=10) & (price.close<price.bblow) &(price.RSI<30) ) |\n",
    "    ((price.slowk<=17) & (price.aroonup>price.aroondown)) |\n",
    "    (( price.bbup-price.close > 0.1 * (price.bbup - price.bbmid))&(price.macd.shift(3)<0)&(price.macd.shift(2)<0)&(price.macd.shift(1)<0)&(price.macd>=1) &(price.RSI<70)&(price.aroonup>price.aroondown))|\n",
    "#   ((price.slowk < 15) & ( price.close< price.bbmid - (price.bbmid - price.bblow)*0.2))|\n",
    "    (((price.aroonup>price.aroondown) | (price.slowk<17)) & (price.close < price.bbmid) & (price['macdhist'] > price['macdhist'].shift(1)) & (price['macdhist'].shift(1) < 0 ) & (price['macdhist'] >= 0 ))\n",
    "    )\n",
    "] = S.BUY\n",
    "\n",
    "#Exit Criterion\n",
    "labels[\n",
    "     (((price.slowk.shift(3)>=80) | (price.slowk.shift(2)>=80) | (price.slowk.shift(1)>=80)) & (price.slowk <75) &(price.aroondown>price.aroonup) & (price.RSI>=60) )|\n",
    "     ((price.bbup - price.close <=-5 ))| \n",
    "     ((price.close > price.bbmid + (price.bbup - price.bbmid) * 0.5 ) & (price['macdhist'] < price['macdhist'].shift(1)) & (price['macdhist'].shift(1) > 0 ) & (price['macdhist'] <= 0 ))] = S.SELL\n",
    "\n"
   ]
  }
 ],
 "metadata": {
  "kernelspec": {
   "display_name": "Python 3",
   "language": "python",
   "name": "python3"
  },
  "language_info": {
   "codemirror_mode": {
    "name": "ipython",
    "version": 3
   },
   "file_extension": ".py",
   "mimetype": "text/x-python",
   "name": "python",
   "nbconvert_exporter": "python",
   "pygments_lexer": "ipython3",
   "version": "3.6.4"
  }
 },
 "nbformat": 4,
 "nbformat_minor": 2
}
