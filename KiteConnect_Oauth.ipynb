{
 "cells": [
  {
   "cell_type": "code",
   "execution_count": 5,
   "metadata": {},
   "outputs": [
    {
     "name": "stdout",
     "output_type": "stream",
     "text": [
      "YCnvdV0wZSRwWqP8ia03W7g7Vf6YY6iJ\n"
     ]
    }
   ],
   "source": [
    "from kiteconnect import KiteConnect\n",
    "import platform\n",
    "from selenium import webdriver\n",
    "\n",
    "KiteAPIKey = \"b2w0sfnr1zr92nxm\"\n",
    "KiteAPISecret = \"jtga2mp2e5fn29h8w0pe2kb722g3dh1q\"\n",
    "\n",
    "kite = KiteConnect(api_key=KiteAPIKey)\n",
    "reauthentication = False\n",
    "\n",
    "f = open(\"kite_data/access_token.txt\", mode=\"r\")\n",
    "access_token = f.readlines()\n",
    "kite.set_access_token(access_token[0])\n",
    "\n",
    "try:\n",
    "    print(\"Welcome \"+kite.profile()['user_name'])\n",
    "except:\n",
    "    if platform.system() == \"Windows\":\n",
    "        driver = webdriver.Chrome(\"./automation/chromedriver.exe\")\n",
    "    else:\n",
    "        driver = webdriver.Chrome(\"./automation/chromedriver\")\n",
    "    driver.implicitly_wait(60) ;\n",
    "    driver.get(kite.login_url())\n",
    "    reauthentication = True\n",
    "    "
   ]
  },
  {
   "cell_type": "code",
   "execution_count": 7,
   "metadata": {},
   "outputs": [],
   "source": [
    "import re\n",
    "if reauthentication:\n",
    "    try:\n",
    "        request_token = re.findall(\"request_token=(.*)&action\",driver.current_url)\n",
    "    except:\n",
    "        request_token = re.findall(\"request_token=(.*)\",driver.current_url)\n",
    "\n",
    "    data = kite.generate_session(request_token[0], api_secret=KiteAPISecret)\n",
    "    access_token = data[\"access_token\"]\n",
    "    kite.set_access_token(access_token)\n",
    "    f = open(\"kite_data/access_token.txt\", mode=\"w\")\n",
    "    f.write(access_token)\n",
    "    f.close()\n",
    "    driver.close()"
   ]
  },
  {
   "cell_type": "code",
   "execution_count": null,
   "metadata": {},
   "outputs": [],
   "source": []
  }
 ],
 "metadata": {
  "kernelspec": {
   "display_name": "Python 3",
   "language": "python",
   "name": "python3"
  },
  "language_info": {
   "codemirror_mode": {
    "name": "ipython",
    "version": 3
   },
   "file_extension": ".py",
   "mimetype": "text/x-python",
   "name": "python",
   "nbconvert_exporter": "python",
   "pygments_lexer": "ipython3",
   "version": "3.7.1"
  }
 },
 "nbformat": 4,
 "nbformat_minor": 2
}
