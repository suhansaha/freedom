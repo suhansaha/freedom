{
 "cells": [
  {
   "cell_type": "code",
   "execution_count": 2,
   "metadata": {},
   "outputs": [],
   "source": [
    "import pandas as pd"
   ]
  },
  {
   "cell_type": "code",
   "execution_count": 8,
   "metadata": {},
   "outputs": [],
   "source": [
    "df = pd.read_csv(\"data/ind_nifty50list.csv\")"
   ]
  },
  {
   "cell_type": "code",
   "execution_count": 7,
   "metadata": {},
   "outputs": [
    {
     "data": {
      "text/plain": [
       "array(['SERVICES', 'CONSUMER GOODS', 'FINANCIAL SERVICES', 'AUTOMOBILE',\n",
       "       'ENERGY', 'TELECOM', 'PHARMA', 'METALS',\n",
       "       'CEMENT & CEMENT PRODUCTS', 'IT', 'CONSTRUCTION',\n",
       "       'FERTILISERS & PESTICIDES', 'MEDIA & ENTERTAINMENT'], dtype=object)"
      ]
     },
     "execution_count": 7,
     "metadata": {},
     "output_type": "execute_result"
    }
   ],
   "source": [
    "df.Industry.unique()"
   ]
  },
  {
   "cell_type": "code",
   "execution_count": 11,
   "metadata": {},
   "outputs": [
    {
     "data": {
      "text/plain": [
       "<bound method NDFrame.head of                                     Company Name                  Industry  \\\n",
       "0     Adani Ports and Special Economic Zone Ltd.                  SERVICES   \n",
       "1                              Asian Paints Ltd.            CONSUMER GOODS   \n",
       "2                                 Axis Bank Ltd.        FINANCIAL SERVICES   \n",
       "3                                Bajaj Auto Ltd.                AUTOMOBILE   \n",
       "4                             Bajaj Finance Ltd.        FINANCIAL SERVICES   \n",
       "5                             Bajaj Finserv Ltd.        FINANCIAL SERVICES   \n",
       "6              Bharat Petroleum Corporation Ltd.                    ENERGY   \n",
       "7                             Bharti Airtel Ltd.                   TELECOM   \n",
       "8                           Bharti Infratel Ltd.                   TELECOM   \n",
       "9                      Britannia Industries Ltd.            CONSUMER GOODS   \n",
       "10                                    Cipla Ltd.                    PHARMA   \n",
       "11                               Coal India Ltd.                    METALS   \n",
       "12                 Dr. Reddy's Laboratories Ltd.                    PHARMA   \n",
       "13                            Eicher Motors Ltd.                AUTOMOBILE   \n",
       "14                             GAIL (India) Ltd.                    ENERGY   \n",
       "15                        Grasim Industries Ltd.  CEMENT & CEMENT PRODUCTS   \n",
       "16                         HCL Technologies Ltd.                        IT   \n",
       "17                                HDFC Bank Ltd.        FINANCIAL SERVICES   \n",
       "18                            Hero MotoCorp Ltd.                AUTOMOBILE   \n",
       "19                      Hindalco Industries Ltd.                    METALS   \n",
       "20                       Hindustan Unilever Ltd.            CONSUMER GOODS   \n",
       "21  Housing Development Finance Corporation Ltd.        FINANCIAL SERVICES   \n",
       "22                                    I T C Ltd.            CONSUMER GOODS   \n",
       "23                               ICICI Bank Ltd.        FINANCIAL SERVICES   \n",
       "24               Indiabulls Housing Finance Ltd.        FINANCIAL SERVICES   \n",
       "25                   Indian Oil Corporation Ltd.                    ENERGY   \n",
       "26                            IndusInd Bank Ltd.        FINANCIAL SERVICES   \n",
       "27                                  Infosys Ltd.                        IT   \n",
       "28                                JSW Steel Ltd.                    METALS   \n",
       "29                      Kotak Mahindra Bank Ltd.        FINANCIAL SERVICES   \n",
       "30                          Larsen & Toubro Ltd.              CONSTRUCTION   \n",
       "31                      Mahindra & Mahindra Ltd.                AUTOMOBILE   \n",
       "32                      Maruti Suzuki India Ltd.                AUTOMOBILE   \n",
       "33                                     NTPC Ltd.                    ENERGY   \n",
       "34            Oil & Natural Gas Corporation Ltd.                    ENERGY   \n",
       "35          Power Grid Corporation of India Ltd.                    ENERGY   \n",
       "36                      Reliance Industries Ltd.                    ENERGY   \n",
       "37                           State Bank of India        FINANCIAL SERVICES   \n",
       "38            Sun Pharmaceutical Industries Ltd.                    PHARMA   \n",
       "39                Tata Consultancy Services Ltd.                        IT   \n",
       "40                              Tata Motors Ltd.                AUTOMOBILE   \n",
       "41                               Tata Steel Ltd.                    METALS   \n",
       "42                            Tech Mahindra Ltd.                        IT   \n",
       "43                            Titan Company Ltd.            CONSUMER GOODS   \n",
       "44                                      UPL Ltd.  FERTILISERS & PESTICIDES   \n",
       "45                         UltraTech Cement Ltd.  CEMENT & CEMENT PRODUCTS   \n",
       "46                                  Vedanta Ltd.                    METALS   \n",
       "47                                    Wipro Ltd.                        IT   \n",
       "48                                 Yes Bank Ltd.        FINANCIAL SERVICES   \n",
       "49            Zee Entertainment Enterprises Ltd.     MEDIA & ENTERTAINMENT   \n",
       "\n",
       "        Symbol Series     ISIN Code  \n",
       "0   ADANIPORTS     EQ  INE742F01042  \n",
       "1   ASIANPAINT     EQ  INE021A01026  \n",
       "2     AXISBANK     EQ  INE238A01034  \n",
       "3   BAJAJ-AUTO     EQ  INE917I01010  \n",
       "4   BAJFINANCE     EQ  INE296A01024  \n",
       "5   BAJAJFINSV     EQ  INE918I01018  \n",
       "6         BPCL     EQ  INE029A01011  \n",
       "7   BHARTIARTL     EQ  INE397D01024  \n",
       "8     INFRATEL     EQ  INE121J01017  \n",
       "9    BRITANNIA     EQ  INE216A01030  \n",
       "10       CIPLA     EQ  INE059A01026  \n",
       "11   COALINDIA     EQ  INE522F01014  \n",
       "12     DRREDDY     EQ  INE089A01023  \n",
       "13   EICHERMOT     EQ  INE066A01013  \n",
       "14        GAIL     EQ  INE129A01019  \n",
       "15      GRASIM     EQ  INE047A01021  \n",
       "16     HCLTECH     EQ  INE860A01027  \n",
       "17    HDFCBANK     EQ  INE040A01026  \n",
       "18  HEROMOTOCO     EQ  INE158A01026  \n",
       "19    HINDALCO     EQ  INE038A01020  \n",
       "20  HINDUNILVR     EQ  INE030A01027  \n",
       "21        HDFC     EQ  INE001A01036  \n",
       "22         ITC     EQ  INE154A01025  \n",
       "23   ICICIBANK     EQ  INE090A01021  \n",
       "24  IBULHSGFIN     EQ  INE148I01020  \n",
       "25         IOC     EQ  INE242A01010  \n",
       "26  INDUSINDBK     EQ  INE095A01012  \n",
       "27        INFY     EQ  INE009A01021  \n",
       "28    JSWSTEEL     EQ  INE019A01038  \n",
       "29   KOTAKBANK     EQ  INE237A01028  \n",
       "30          LT     EQ  INE018A01030  \n",
       "31         M&M     EQ  INE101A01026  \n",
       "32      MARUTI     EQ  INE585B01010  \n",
       "33        NTPC     EQ  INE733E01010  \n",
       "34        ONGC     EQ  INE213A01029  \n",
       "35   POWERGRID     EQ  INE752E01010  \n",
       "36    RELIANCE     EQ  INE002A01018  \n",
       "37        SBIN     EQ  INE062A01020  \n",
       "38   SUNPHARMA     EQ  INE044A01036  \n",
       "39         TCS     EQ  INE467B01029  \n",
       "40  TATAMOTORS     EQ  INE155A01022  \n",
       "41   TATASTEEL     EQ  INE081A01012  \n",
       "42       TECHM     EQ  INE669C01036  \n",
       "43       TITAN     EQ  INE280A01028  \n",
       "44         UPL     EQ  INE628A01036  \n",
       "45  ULTRACEMCO     EQ  INE481G01011  \n",
       "46        VEDL     EQ  INE205A01025  \n",
       "47       WIPRO     EQ  INE075A01022  \n",
       "48     YESBANK     EQ  INE528G01027  \n",
       "49        ZEEL     EQ  INE256A01028  >"
      ]
     },
     "execution_count": 11,
     "metadata": {},
     "output_type": "execute_result"
    }
   ],
   "source": [
    "df.head"
   ]
  }
 ],
 "metadata": {
  "kernelspec": {
   "display_name": "Python 3",
   "language": "python",
   "name": "python3"
  },
  "language_info": {
   "codemirror_mode": {
    "name": "ipython",
    "version": 3
   },
   "file_extension": ".py",
   "mimetype": "text/x-python",
   "name": "python",
   "nbconvert_exporter": "python",
   "pygments_lexer": "ipython3",
   "version": "3.6.4"
  }
 },
 "nbformat": 4,
 "nbformat_minor": 2
}
