{
 "cells": [
  {
   "cell_type": "code",
   "execution_count": 1,
   "metadata": {},
   "outputs": [],
   "source": [
    "from selenium import webdriver\n",
    "from selenium.webdriver.common.keys import Keys\n",
    "from selenium.webdriver.support.ui import WebDriverWait\n",
    "from selenium.webdriver.support.ui import Select\n",
    "from selenium.webdriver.support import expected_conditions as EC\n",
    "from selenium.webdriver.common.by import By\n",
    "from urllib.parse import unquote\n",
    "from io import StringIO\n",
    "import pandas as pd\n",
    "import re\n",
    "from datetime import date\n",
    "import os.path\n",
    "from os import path\n"
   ]
  },
  {
   "cell_type": "raw",
   "metadata": {},
   "source": [
    "symbol = \"AIRTEL\""
   ]
  },
  {
   "cell_type": "code",
   "execution_count": null,
   "metadata": {},
   "outputs": [],
   "source": [
    "outputfilename =\"./data/\"+symbol+\"_\"+date.today().strftime(\"%d_%b_%Y\")+\".csv\""
   ]
  },
  {
   "cell_type": "code",
   "execution_count": 3,
   "metadata": {},
   "outputs": [],
   "source": [
    "if path.exists(outputfilename):\n",
    "    nseData = pd.read_csv(outputfilename)\n",
    "else:\n",
    "    driver = webdriver.Chrome(\"./automation/chromedriver\")\n",
    "    driver.get(\"https://www.nseindia.com/products/content/equities/equities/eq_security.htm\")\n",
    "\n",
    "\n",
    "\n",
    "    #assert \"Python\" in driver.title\n",
    "    elem = driver.find_element_by_name(\"symbol\")\n",
    "    elem.clear()\n",
    "    elem.send_keys(symbol)\n",
    "\n",
    "    dateRange = Select(driver.find_element_by_name(\"dateRange\"))\n",
    "    dateRange.select_by_value(\"24month\")\n",
    "\n",
    "\n",
    "    dateRange = Select(driver.find_element_by_name(\"series\"))\n",
    "    dateRange.select_by_value(\"EQ\")\n",
    "\n",
    "    #submitBtn = driver.find_element_by_id(\"submitMe\")\n",
    "    #elem.submit()\n",
    "\n",
    "    driver.execute_script(\"submitData()\")\n",
    "\n",
    "\n",
    "\n",
    "    #dateRange.set_attribute()\n",
    "    #print(dateRange.get_attribute(\"value\"))\n",
    "\n",
    "    #elem.send_keys(Keys.RETURN)\n",
    "    #assert \"No results found.\" not in driver.page_source\n",
    "    #driver.close()\n",
    "\n",
    "    xpathStr = \"//div[@class='historic-bar']//span[@class='download-data-link']\"\n",
    "\n",
    "    if False:\n",
    "        try:\n",
    "            element = WebDriverWait(driver, 10).until(\n",
    "                EC.element_to_be_clickable((By.XPATH, xpathStr))\n",
    "            )\n",
    "        finally:\n",
    "            driver.quit()\n",
    "\n",
    "    driver.implicitly_wait(10)     \n",
    "    driver.find_element_by_xpath(xpathStr).click()\n",
    "\n",
    "    data = driver.find_element_by_xpath(xpathStr+\"/a\").get_attribute('href')\n",
    "\n",
    "    dataDecoded = unquote(data)\n",
    "\n",
    "    dataDecoded = re.sub(\"data:application/csv;charset=utf-8,\",\"\", dataDecoded)\n",
    "    nseData = pd.read_csv(StringIO(dataDecoded), sep=\",\")\n",
    "    nseData.set_index(\"Date\", inplace=True)\n",
    "\n",
    "    nseData.to_csv(outputfilename)\n",
    "    driver.quit()"
   ]
  }
 ],
 "metadata": {
  "kernelspec": {
   "display_name": "Python 3",
   "language": "python",
   "name": "python3"
  },
  "language_info": {
   "codemirror_mode": {
    "name": "ipython",
    "version": 3
   },
   "file_extension": ".py",
   "mimetype": "text/x-python",
   "name": "python",
   "nbconvert_exporter": "python",
   "pygments_lexer": "ipython3",
   "version": "3.6.4"
  }
 },
 "nbformat": 4,
 "nbformat_minor": 2
}
