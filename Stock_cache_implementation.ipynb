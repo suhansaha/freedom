{
 "cells": [
  {
   "cell_type": "code",
   "execution_count": 28,
   "metadata": {},
   "outputs": [],
   "source": [
    "import pandas as pd\n",
    "from kiteconnect import KiteConnect\n",
    "\n",
    "KiteAPIKey = \"b2w0sfnr1zr92nxm\"\n",
    "KiteAPISecret = \"jtga2mp2e5fn29h8w0pe2kb722g3dh1q\"\n",
    "kite = KiteConnect(api_key=KiteAPIKey)\n",
    "\n",
    "f = open(\"kite_data/access_token.txt\", mode=\"r\")\n",
    "access_token = f.readlines()\n",
    "kite.set_access_token(access_token[0])\n",
    "f.close()\n",
    "\n",
    "%run \"KiteConnect_Library.ipynb\"  "
   ]
  },
  {
   "cell_type": "code",
   "execution_count": 29,
   "metadata": {},
   "outputs": [],
   "source": [
    "#pd.read_hdf(\"kite_data\")\n",
    "pd.HDFStore(\"kite_data/kite_data.h5\").close()"
   ]
  },
  {
   "cell_type": "code",
   "execution_count": 30,
   "metadata": {},
   "outputs": [],
   "source": [
    "instruments_df = pd.read_hdf('kite_data/kite_data.h5', key=\"NSE\", mode='a')\n",
    "\n",
    "EQSYMBOL = lambda x:instruments_df[instruments_df['instrument_token']==x].index[0]\n",
    "EQTOKEN = lambda x:instruments_df.loc[x,'instrument_token']"
   ]
  },
  {
   "cell_type": "code",
   "execution_count": 68,
   "metadata": {},
   "outputs": [],
   "source": [
    "exchange = \"NSE\"\n",
    "symbol = \"HDFC\"\n",
    "freq = \"day\"\n",
    "\n",
    "key = freq+\"/\"+exchange+\"/\"+symbol"
   ]
  },
  {
   "cell_type": "code",
   "execution_count": 126,
   "metadata": {},
   "outputs": [],
   "source": [
    "temp_data = downloadData(symbol,  fromDate = dt.datetime(2019,4,10), toDate = dt.datetime(2019,4,12), freq = freq)\n",
    "temp_data.to_hdf(\"kite_data/kite_cache.h5\", key=key, mode=\"a\", format=\"table\")"
   ]
  },
  {
   "cell_type": "code",
   "execution_count": 127,
   "metadata": {},
   "outputs": [],
   "source": [
    "symbol = \"SBIN\"\n",
    "key = freq+\"/\"+exchange+\"/\"+symbol\n",
    "temp_data = downloadData(symbol,  fromDate = dt.datetime(2019,4,10), toDate = dt.datetime(2019,4,12), freq = freq)\n",
    "temp_data.to_hdf(\"kite_data/kite_cache.h5\", key=key, mode=\"a\", format=\"table\")"
   ]
  },
  {
   "cell_type": "code",
   "execution_count": 128,
   "metadata": {},
   "outputs": [
    {
     "data": {
      "text/html": [
       "<div>\n",
       "<style scoped>\n",
       "    .dataframe tbody tr th:only-of-type {\n",
       "        vertical-align: middle;\n",
       "    }\n",
       "\n",
       "    .dataframe tbody tr th {\n",
       "        vertical-align: top;\n",
       "    }\n",
       "\n",
       "    .dataframe thead th {\n",
       "        text-align: right;\n",
       "    }\n",
       "</style>\n",
       "<table border=\"1\" class=\"dataframe\">\n",
       "  <thead>\n",
       "    <tr style=\"text-align: right;\">\n",
       "      <th></th>\n",
       "      <th>close</th>\n",
       "      <th>high</th>\n",
       "      <th>low</th>\n",
       "      <th>open</th>\n",
       "      <th>volume</th>\n",
       "    </tr>\n",
       "    <tr>\n",
       "      <th>date</th>\n",
       "      <th></th>\n",
       "      <th></th>\n",
       "      <th></th>\n",
       "      <th></th>\n",
       "      <th></th>\n",
       "    </tr>\n",
       "  </thead>\n",
       "  <tbody>\n",
       "    <tr>\n",
       "      <th>2019-04-10</th>\n",
       "      <td>310.90</td>\n",
       "      <td>317.05</td>\n",
       "      <td>310.0</td>\n",
       "      <td>314.85</td>\n",
       "      <td>19237974</td>\n",
       "    </tr>\n",
       "    <tr>\n",
       "      <th>2019-04-11</th>\n",
       "      <td>314.90</td>\n",
       "      <td>315.40</td>\n",
       "      <td>308.7</td>\n",
       "      <td>311.00</td>\n",
       "      <td>14897935</td>\n",
       "    </tr>\n",
       "    <tr>\n",
       "      <th>2019-04-12</th>\n",
       "      <td>315.25</td>\n",
       "      <td>316.40</td>\n",
       "      <td>311.2</td>\n",
       "      <td>314.60</td>\n",
       "      <td>14751964</td>\n",
       "    </tr>\n",
       "  </tbody>\n",
       "</table>\n",
       "</div>"
      ],
      "text/plain": [
       "             close    high    low    open    volume\n",
       "date                                               \n",
       "2019-04-10  310.90  317.05  310.0  314.85  19237974\n",
       "2019-04-11  314.90  315.40  308.7  311.00  14897935\n",
       "2019-04-12  315.25  316.40  311.2  314.60  14751964"
      ]
     },
     "execution_count": 128,
     "metadata": {},
     "output_type": "execute_result"
    }
   ],
   "source": [
    "temp_data"
   ]
  },
  {
   "cell_type": "code",
   "execution_count": 129,
   "metadata": {},
   "outputs": [],
   "source": [
    "rDate = pd.HDFStore(\"kite_data/kite_cache.h5\").get('/day/NSE/SBIN').tail(1).index"
   ]
  },
  {
   "cell_type": "code",
   "execution_count": 130,
   "metadata": {},
   "outputs": [],
   "source": [
    "lDate = pd.HDFStore(\"kite_data/kite_cache.h5\").get('/day/NSE/SBIN').head(1).index"
   ]
  },
  {
   "cell_type": "code",
   "execution_count": 131,
   "metadata": {},
   "outputs": [
    {
     "data": {
      "text/plain": [
       "(DatetimeIndex(['2019-04-10'], dtype='datetime64[ns]', name='date', freq='D'),\n",
       " DatetimeIndex(['2019-04-12'], dtype='datetime64[ns]', name='date', freq='D'))"
      ]
     },
     "execution_count": 131,
     "metadata": {},
     "output_type": "execute_result"
    }
   ],
   "source": [
    "lDate, rDate"
   ]
  },
  {
   "cell_type": "code",
   "execution_count": 198,
   "metadata": {},
   "outputs": [],
   "source": [
    "symbol = \"SBIN\"\n",
    "key = freq+\"/\"+exchange+\"/\"+symbol\n",
    "\n",
    "temp_data = downloadData(symbol,  fromDate = dt.datetime(2019,4,10), toDate = dt.datetime(2019,4,12), freq = freq)\n",
    "temp_data.to_hdf(\"kite_data/kite_cache.h5\", key=key, mode=\"a\", format=\"table\")"
   ]
  },
  {
   "cell_type": "code",
   "execution_count": 199,
   "metadata": {},
   "outputs": [
    {
     "data": {
      "text/html": [
       "<div>\n",
       "<style scoped>\n",
       "    .dataframe tbody tr th:only-of-type {\n",
       "        vertical-align: middle;\n",
       "    }\n",
       "\n",
       "    .dataframe tbody tr th {\n",
       "        vertical-align: top;\n",
       "    }\n",
       "\n",
       "    .dataframe thead th {\n",
       "        text-align: right;\n",
       "    }\n",
       "</style>\n",
       "<table border=\"1\" class=\"dataframe\">\n",
       "  <thead>\n",
       "    <tr style=\"text-align: right;\">\n",
       "      <th></th>\n",
       "      <th>close</th>\n",
       "      <th>high</th>\n",
       "      <th>low</th>\n",
       "      <th>open</th>\n",
       "      <th>volume</th>\n",
       "    </tr>\n",
       "    <tr>\n",
       "      <th>date</th>\n",
       "      <th></th>\n",
       "      <th></th>\n",
       "      <th></th>\n",
       "      <th></th>\n",
       "      <th></th>\n",
       "    </tr>\n",
       "  </thead>\n",
       "  <tbody>\n",
       "    <tr>\n",
       "      <th>2019-04-10</th>\n",
       "      <td>310.90</td>\n",
       "      <td>317.05</td>\n",
       "      <td>310.0</td>\n",
       "      <td>314.85</td>\n",
       "      <td>19237974</td>\n",
       "    </tr>\n",
       "    <tr>\n",
       "      <th>2019-04-11</th>\n",
       "      <td>314.90</td>\n",
       "      <td>315.40</td>\n",
       "      <td>308.7</td>\n",
       "      <td>311.00</td>\n",
       "      <td>14897935</td>\n",
       "    </tr>\n",
       "    <tr>\n",
       "      <th>2019-04-12</th>\n",
       "      <td>315.25</td>\n",
       "      <td>316.40</td>\n",
       "      <td>311.2</td>\n",
       "      <td>314.60</td>\n",
       "      <td>14751964</td>\n",
       "    </tr>\n",
       "  </tbody>\n",
       "</table>\n",
       "</div>"
      ],
      "text/plain": [
       "             close    high    low    open    volume\n",
       "date                                               \n",
       "2019-04-10  310.90  317.05  310.0  314.85  19237974\n",
       "2019-04-11  314.90  315.40  308.7  311.00  14897935\n",
       "2019-04-12  315.25  316.40  311.2  314.60  14751964"
      ]
     },
     "execution_count": 199,
     "metadata": {},
     "output_type": "execute_result"
    }
   ],
   "source": [
    "temp_data"
   ]
  },
  {
   "cell_type": "markdown",
   "metadata": {},
   "source": [
    "New data will be downloaded if:\n",
    "1. fromDate < lDate and toDate < lDate                        : download fromDate to lDate\n",
    "2. fromDate < lDate and toDate >= lDate and toDate <= rDate   : download fromDate to lDate\n",
    "3. fromDate >= lDate and toDate <= rDate                      : No Download\n",
    "4. fromDate >=lDate and toDate > rDate and fromDate <= rDate  : download rDate to toDate\n",
    "5. fromDate > rDate and toDate > rDate                        : download rDate to toDate\n",
    "6. fromDate < lDate and toDate > rDate                        : download fromDate to lDate and rDate to toDate"
   ]
  },
  {
   "cell_type": "code",
   "execution_count": 210,
   "metadata": {},
   "outputs": [
    {
     "name": "stdout",
     "output_type": "stream",
     "text": [
      "Not downloading data\n"
     ]
    }
   ],
   "source": [
    "symbol = \"SBIN\"\n",
    "key = freq+\"/\"+exchange+\"/\"+symbol\n",
    "\n",
    "fromDate = dt.datetime(2019,4,8)\n",
    "toDate = dt.datetime(2019,4,10)\n",
    "rDate = pd.HDFStore(\"kite_data/kite_cache.h5\").get(key).tail(1).index\n",
    "lDate = pd.HDFStore(\"kite_data/kite_cache.h5\").get(key).head(1).index\n",
    "\n",
    "raw_data = pd.read_hdf(\"kite_data/kite_cache.h5\", key=key, mode=\"a\", format=\"table\")\n",
    "\n",
    "if   (fromDate < lDate ) and (toDate <= rDate):\n",
    "    print(\"Downloading data from fromDate to lDate\")\n",
    "    temp_data = downloadData(symbol,  fromDate, lDate, freq)\n",
    "    temp_data = temp_data.append(raw_data.tail(-1))\n",
    "    temp_data.to_hdf(\"kite_data/kite_cache.h5\", key=key, mode=\"a\", format=\"table\")\n",
    "elif (fromDate >=lDate ) and (toDate <= rDate):\n",
    "    print(\"Not downloading data\")\n",
    "elif (fromDate >= lDate ) and (toDate > rDate):\n",
    "    print(\"Downloading data from rDate to toDate\")\n",
    "    temp_data = downloadData(symbol,  rDate, toDate, freq)\n",
    "    temp_data = raw_data.append(temp_data.tail(-1))\n",
    "    temp_data.to_hdf(\"kite_data/kite_cache.h5\", key=key, mode=\"a\", format=\"table\")\n",
    "elif (fromDate < lDate ) and (toDate > rDate):\n",
    "    print(\"Downloading data from fromDate to lDate\")\n",
    "    temp_data = downloadData(symbol,  fromDate, lDate, freq)\n",
    "    temp_data = temp_data.append(raw_data.tail(-1))\n",
    "    print(\"Downloading data from rDate to toDate\")\n",
    "    temp_data2 = downloadData(symbol,  rDate, toDate, freq)\n",
    "    temp_data = temp_data.append(temp_data2.tail(-1))\n",
    "    temp_data.to_hdf(\"kite_data/kite_cache.h5\", key=key, mode=\"a\", format=\"table\")\n"
   ]
  },
  {
   "cell_type": "code",
   "execution_count": 211,
   "metadata": {},
   "outputs": [
    {
     "data": {
      "text/html": [
       "<div>\n",
       "<style scoped>\n",
       "    .dataframe tbody tr th:only-of-type {\n",
       "        vertical-align: middle;\n",
       "    }\n",
       "\n",
       "    .dataframe tbody tr th {\n",
       "        vertical-align: top;\n",
       "    }\n",
       "\n",
       "    .dataframe thead th {\n",
       "        text-align: right;\n",
       "    }\n",
       "</style>\n",
       "<table border=\"1\" class=\"dataframe\">\n",
       "  <thead>\n",
       "    <tr style=\"text-align: right;\">\n",
       "      <th></th>\n",
       "      <th>close</th>\n",
       "      <th>high</th>\n",
       "      <th>low</th>\n",
       "      <th>open</th>\n",
       "      <th>volume</th>\n",
       "    </tr>\n",
       "    <tr>\n",
       "      <th>date</th>\n",
       "      <th></th>\n",
       "      <th></th>\n",
       "      <th></th>\n",
       "      <th></th>\n",
       "      <th></th>\n",
       "    </tr>\n",
       "  </thead>\n",
       "  <tbody>\n",
       "    <tr>\n",
       "      <th>2019-04-08</th>\n",
       "      <td>312.80</td>\n",
       "      <td>319.25</td>\n",
       "      <td>311.1</td>\n",
       "      <td>318.25</td>\n",
       "      <td>17394139</td>\n",
       "    </tr>\n",
       "    <tr>\n",
       "      <th>2019-04-09</th>\n",
       "      <td>314.75</td>\n",
       "      <td>315.70</td>\n",
       "      <td>308.1</td>\n",
       "      <td>313.95</td>\n",
       "      <td>25556039</td>\n",
       "    </tr>\n",
       "    <tr>\n",
       "      <th>2019-04-10</th>\n",
       "      <td>310.90</td>\n",
       "      <td>317.05</td>\n",
       "      <td>310.0</td>\n",
       "      <td>314.85</td>\n",
       "      <td>19237974</td>\n",
       "    </tr>\n",
       "  </tbody>\n",
       "</table>\n",
       "</div>"
      ],
      "text/plain": [
       "             close    high    low    open    volume\n",
       "date                                               \n",
       "2019-04-08  312.80  319.25  311.1  318.25  17394139\n",
       "2019-04-09  314.75  315.70  308.1  313.95  25556039\n",
       "2019-04-10  310.90  317.05  310.0  314.85  19237974"
      ]
     },
     "execution_count": 211,
     "metadata": {},
     "output_type": "execute_result"
    }
   ],
   "source": [
    "temp_data[(temp_data.index >= fromDate) & (temp_data.index <= toDate)]"
   ]
  },
  {
   "cell_type": "code",
   "execution_count": 152,
   "metadata": {},
   "outputs": [
    {
     "data": {
      "text/html": [
       "<div>\n",
       "<style scoped>\n",
       "    .dataframe tbody tr th:only-of-type {\n",
       "        vertical-align: middle;\n",
       "    }\n",
       "\n",
       "    .dataframe tbody tr th {\n",
       "        vertical-align: top;\n",
       "    }\n",
       "\n",
       "    .dataframe thead th {\n",
       "        text-align: right;\n",
       "    }\n",
       "</style>\n",
       "<table border=\"1\" class=\"dataframe\">\n",
       "  <thead>\n",
       "    <tr style=\"text-align: right;\">\n",
       "      <th></th>\n",
       "      <th>close</th>\n",
       "      <th>high</th>\n",
       "      <th>low</th>\n",
       "      <th>open</th>\n",
       "      <th>volume</th>\n",
       "    </tr>\n",
       "    <tr>\n",
       "      <th>date</th>\n",
       "      <th></th>\n",
       "      <th></th>\n",
       "      <th></th>\n",
       "      <th></th>\n",
       "      <th></th>\n",
       "    </tr>\n",
       "  </thead>\n",
       "  <tbody>\n",
       "    <tr>\n",
       "      <th>2019-04-11</th>\n",
       "      <td>314.90</td>\n",
       "      <td>315.4</td>\n",
       "      <td>308.7</td>\n",
       "      <td>311.0</td>\n",
       "      <td>14897935</td>\n",
       "    </tr>\n",
       "    <tr>\n",
       "      <th>2019-04-12</th>\n",
       "      <td>315.25</td>\n",
       "      <td>316.4</td>\n",
       "      <td>311.2</td>\n",
       "      <td>314.6</td>\n",
       "      <td>14751964</td>\n",
       "    </tr>\n",
       "  </tbody>\n",
       "</table>\n",
       "</div>"
      ],
      "text/plain": [
       "             close   high    low   open    volume\n",
       "date                                             \n",
       "2019-04-11  314.90  315.4  308.7  311.0  14897935\n",
       "2019-04-12  315.25  316.4  311.2  314.6  14751964"
      ]
     },
     "execution_count": 152,
     "metadata": {},
     "output_type": "execute_result"
    }
   ],
   "source": [
    "raw_data.tail(-1)"
   ]
  },
  {
   "cell_type": "code",
   "execution_count": 156,
   "metadata": {},
   "outputs": [
    {
     "data": {
      "text/html": [
       "<div>\n",
       "<style scoped>\n",
       "    .dataframe tbody tr th:only-of-type {\n",
       "        vertical-align: middle;\n",
       "    }\n",
       "\n",
       "    .dataframe tbody tr th {\n",
       "        vertical-align: top;\n",
       "    }\n",
       "\n",
       "    .dataframe thead th {\n",
       "        text-align: right;\n",
       "    }\n",
       "</style>\n",
       "<table border=\"1\" class=\"dataframe\">\n",
       "  <thead>\n",
       "    <tr style=\"text-align: right;\">\n",
       "      <th></th>\n",
       "      <th>close</th>\n",
       "      <th>high</th>\n",
       "      <th>low</th>\n",
       "      <th>open</th>\n",
       "      <th>volume</th>\n",
       "    </tr>\n",
       "    <tr>\n",
       "      <th>date</th>\n",
       "      <th></th>\n",
       "      <th></th>\n",
       "      <th></th>\n",
       "      <th></th>\n",
       "      <th></th>\n",
       "    </tr>\n",
       "  </thead>\n",
       "  <tbody>\n",
       "    <tr>\n",
       "      <th>2019-04-01</th>\n",
       "      <td>322.75</td>\n",
       "      <td>327.65</td>\n",
       "      <td>321.05</td>\n",
       "      <td>321.80</td>\n",
       "      <td>22372357</td>\n",
       "    </tr>\n",
       "    <tr>\n",
       "      <th>2019-04-02</th>\n",
       "      <td>329.00</td>\n",
       "      <td>331.00</td>\n",
       "      <td>322.10</td>\n",
       "      <td>323.65</td>\n",
       "      <td>27897583</td>\n",
       "    </tr>\n",
       "    <tr>\n",
       "      <th>2019-04-03</th>\n",
       "      <td>320.50</td>\n",
       "      <td>332.45</td>\n",
       "      <td>319.50</td>\n",
       "      <td>331.00</td>\n",
       "      <td>30552104</td>\n",
       "    </tr>\n",
       "    <tr>\n",
       "      <th>2019-04-04</th>\n",
       "      <td>321.80</td>\n",
       "      <td>325.75</td>\n",
       "      <td>318.30</td>\n",
       "      <td>321.50</td>\n",
       "      <td>27832294</td>\n",
       "    </tr>\n",
       "    <tr>\n",
       "      <th>2019-04-05</th>\n",
       "      <td>317.05</td>\n",
       "      <td>323.70</td>\n",
       "      <td>315.00</td>\n",
       "      <td>323.70</td>\n",
       "      <td>23117232</td>\n",
       "    </tr>\n",
       "    <tr>\n",
       "      <th>2019-04-08</th>\n",
       "      <td>312.80</td>\n",
       "      <td>319.25</td>\n",
       "      <td>311.10</td>\n",
       "      <td>318.25</td>\n",
       "      <td>17394139</td>\n",
       "    </tr>\n",
       "    <tr>\n",
       "      <th>2019-04-09</th>\n",
       "      <td>314.75</td>\n",
       "      <td>315.70</td>\n",
       "      <td>308.10</td>\n",
       "      <td>313.95</td>\n",
       "      <td>25556039</td>\n",
       "    </tr>\n",
       "    <tr>\n",
       "      <th>2019-04-10</th>\n",
       "      <td>310.90</td>\n",
       "      <td>317.05</td>\n",
       "      <td>310.00</td>\n",
       "      <td>314.85</td>\n",
       "      <td>19237974</td>\n",
       "    </tr>\n",
       "    <tr>\n",
       "      <th>2019-04-10</th>\n",
       "      <td>310.90</td>\n",
       "      <td>317.05</td>\n",
       "      <td>310.00</td>\n",
       "      <td>314.85</td>\n",
       "      <td>19237974</td>\n",
       "    </tr>\n",
       "  </tbody>\n",
       "</table>\n",
       "</div>"
      ],
      "text/plain": [
       "             close    high     low    open    volume\n",
       "date                                                \n",
       "2019-04-01  322.75  327.65  321.05  321.80  22372357\n",
       "2019-04-02  329.00  331.00  322.10  323.65  27897583\n",
       "2019-04-03  320.50  332.45  319.50  331.00  30552104\n",
       "2019-04-04  321.80  325.75  318.30  321.50  27832294\n",
       "2019-04-05  317.05  323.70  315.00  323.70  23117232\n",
       "2019-04-08  312.80  319.25  311.10  318.25  17394139\n",
       "2019-04-09  314.75  315.70  308.10  313.95  25556039\n",
       "2019-04-10  310.90  317.05  310.00  314.85  19237974\n",
       "2019-04-10  310.90  317.05  310.00  314.85  19237974"
      ]
     },
     "execution_count": 156,
     "metadata": {},
     "output_type": "execute_result"
    }
   ],
   "source": [
    "temp_data.head(-2)"
   ]
  },
  {
   "cell_type": "code",
   "execution_count": null,
   "metadata": {},
   "outputs": [],
   "source": []
  }
 ],
 "metadata": {
  "kernelspec": {
   "display_name": "Python 3",
   "language": "python",
   "name": "python3"
  },
  "language_info": {
   "codemirror_mode": {
    "name": "ipython",
    "version": 3
   },
   "file_extension": ".py",
   "mimetype": "text/x-python",
   "name": "python",
   "nbconvert_exporter": "python",
   "pygments_lexer": "ipython3",
   "version": "3.7.1"
  }
 },
 "nbformat": 4,
 "nbformat_minor": 2
}
