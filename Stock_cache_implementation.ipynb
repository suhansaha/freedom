{
 "cells": [
  {
   "cell_type": "code",
   "execution_count": 2,
   "metadata": {},
   "outputs": [],
   "source": [
    "import pandas as pd\n",
    "from kiteconnect import KiteConnect\n",
    "\n",
    "KiteAPIKey = \"b2w0sfnr1zr92nxm\"\n",
    "KiteAPISecret = \"jtga2mp2e5fn29h8w0pe2kb722g3dh1q\"\n",
    "kite = KiteConnect(api_key=KiteAPIKey)\n",
    "\n",
    "f = open(\"kite_data/access_token.txt\", mode=\"r\")\n",
    "access_token = f.readlines()\n",
    "kite.set_access_token(access_token[0])\n",
    "f.close()\n",
    "\n",
    "%run \"KiteConnect_Library.ipynb\"  "
   ]
  },
  {
   "cell_type": "code",
   "execution_count": 29,
   "metadata": {},
   "outputs": [],
   "source": [
    "#pd.read_hdf(\"kite_data\")\n",
    "pd.HDFStore(\"kite_data/kite_data.h5\").close()"
   ]
  },
  {
   "cell_type": "code",
   "execution_count": 9,
   "metadata": {},
   "outputs": [],
   "source": [
    "instruments_df = pd.read_hdf('kite_data/kite_data.h5', key=\"NSE\", mode='a')\n",
    "\n",
    "EQSYMBOL = lambda x:instruments_df[instruments_df['instrument_token']==x].index[0]\n",
    "EQTOKEN = lambda x:instruments_df.loc[x,'instrument_token']"
   ]
  },
  {
   "cell_type": "code",
   "execution_count": 68,
   "metadata": {},
   "outputs": [],
   "source": [
    "exchange = \"NSE\"\n",
    "symbol = \"HDFC\"\n",
    "freq = \"day\"\n",
    "\n",
    "key = freq+\"/\"+exchange+\"/\"+symbol"
   ]
  },
  {
   "cell_type": "code",
   "execution_count": 126,
   "metadata": {},
   "outputs": [],
   "source": [
    "temp_data = downloadData(symbol,  fromDate = dt.datetime(2019,4,10), toDate = dt.datetime(2019,4,12), freq = freq)\n",
    "temp_data.to_hdf(\"kite_data/kite_cache.h5\", key=key, mode=\"a\", format=\"table\")"
   ]
  },
  {
   "cell_type": "code",
   "execution_count": 127,
   "metadata": {},
   "outputs": [],
   "source": [
    "symbol = \"SBIN\"\n",
    "key = freq+\"/\"+exchange+\"/\"+symbol\n",
    "temp_data = downloadData(symbol,  fromDate = dt.datetime(2019,4,10), toDate = dt.datetime(2019,4,12), freq = freq)\n",
    "temp_data.to_hdf(\"kite_data/kite_cache.h5\", key=key, mode=\"a\", format=\"table\")"
   ]
  },
  {
   "cell_type": "code",
   "execution_count": 128,
   "metadata": {},
   "outputs": [
    {
     "data": {
      "text/html": [
       "<div>\n",
       "<style scoped>\n",
       "    .dataframe tbody tr th:only-of-type {\n",
       "        vertical-align: middle;\n",
       "    }\n",
       "\n",
       "    .dataframe tbody tr th {\n",
       "        vertical-align: top;\n",
       "    }\n",
       "\n",
       "    .dataframe thead th {\n",
       "        text-align: right;\n",
       "    }\n",
       "</style>\n",
       "<table border=\"1\" class=\"dataframe\">\n",
       "  <thead>\n",
       "    <tr style=\"text-align: right;\">\n",
       "      <th></th>\n",
       "      <th>close</th>\n",
       "      <th>high</th>\n",
       "      <th>low</th>\n",
       "      <th>open</th>\n",
       "      <th>volume</th>\n",
       "    </tr>\n",
       "    <tr>\n",
       "      <th>date</th>\n",
       "      <th></th>\n",
       "      <th></th>\n",
       "      <th></th>\n",
       "      <th></th>\n",
       "      <th></th>\n",
       "    </tr>\n",
       "  </thead>\n",
       "  <tbody>\n",
       "    <tr>\n",
       "      <th>2019-04-10</th>\n",
       "      <td>310.90</td>\n",
       "      <td>317.05</td>\n",
       "      <td>310.0</td>\n",
       "      <td>314.85</td>\n",
       "      <td>19237974</td>\n",
       "    </tr>\n",
       "    <tr>\n",
       "      <th>2019-04-11</th>\n",
       "      <td>314.90</td>\n",
       "      <td>315.40</td>\n",
       "      <td>308.7</td>\n",
       "      <td>311.00</td>\n",
       "      <td>14897935</td>\n",
       "    </tr>\n",
       "    <tr>\n",
       "      <th>2019-04-12</th>\n",
       "      <td>315.25</td>\n",
       "      <td>316.40</td>\n",
       "      <td>311.2</td>\n",
       "      <td>314.60</td>\n",
       "      <td>14751964</td>\n",
       "    </tr>\n",
       "  </tbody>\n",
       "</table>\n",
       "</div>"
      ],
      "text/plain": [
       "             close    high    low    open    volume\n",
       "date                                               \n",
       "2019-04-10  310.90  317.05  310.0  314.85  19237974\n",
       "2019-04-11  314.90  315.40  308.7  311.00  14897935\n",
       "2019-04-12  315.25  316.40  311.2  314.60  14751964"
      ]
     },
     "execution_count": 128,
     "metadata": {},
     "output_type": "execute_result"
    }
   ],
   "source": [
    "temp_data"
   ]
  },
  {
   "cell_type": "code",
   "execution_count": 129,
   "metadata": {},
   "outputs": [],
   "source": [
    "rDate = pd.HDFStore(\"kite_data/kite_cache.h5\").get('/day/NSE/SBIN').tail(1).index"
   ]
  },
  {
   "cell_type": "code",
   "execution_count": 130,
   "metadata": {},
   "outputs": [],
   "source": [
    "lDate = pd.HDFStore(\"kite_data/kite_cache.h5\").get('/day/NSE/SBIN').head(1).index"
   ]
  },
  {
   "cell_type": "code",
   "execution_count": 131,
   "metadata": {},
   "outputs": [
    {
     "data": {
      "text/plain": [
       "(DatetimeIndex(['2019-04-10'], dtype='datetime64[ns]', name='date', freq='D'),\n",
       " DatetimeIndex(['2019-04-12'], dtype='datetime64[ns]', name='date', freq='D'))"
      ]
     },
     "execution_count": 131,
     "metadata": {},
     "output_type": "execute_result"
    }
   ],
   "source": [
    "lDate, rDate"
   ]
  },
  {
   "cell_type": "code",
   "execution_count": 198,
   "metadata": {},
   "outputs": [],
   "source": [
    "symbol = \"SBIN\"\n",
    "key = freq+\"/\"+exchange+\"/\"+symbol\n",
    "\n",
    "temp_data = downloadData(symbol,  fromDate = dt.datetime(2019,4,10), toDate = dt.datetime(2019,4,12), freq = freq)\n",
    "temp_data.to_hdf(\"kite_data/kite_cache.h5\", key=key, mode=\"a\", format=\"table\")"
   ]
  },
  {
   "cell_type": "code",
   "execution_count": 199,
   "metadata": {},
   "outputs": [
    {
     "data": {
      "text/html": [
       "<div>\n",
       "<style scoped>\n",
       "    .dataframe tbody tr th:only-of-type {\n",
       "        vertical-align: middle;\n",
       "    }\n",
       "\n",
       "    .dataframe tbody tr th {\n",
       "        vertical-align: top;\n",
       "    }\n",
       "\n",
       "    .dataframe thead th {\n",
       "        text-align: right;\n",
       "    }\n",
       "</style>\n",
       "<table border=\"1\" class=\"dataframe\">\n",
       "  <thead>\n",
       "    <tr style=\"text-align: right;\">\n",
       "      <th></th>\n",
       "      <th>close</th>\n",
       "      <th>high</th>\n",
       "      <th>low</th>\n",
       "      <th>open</th>\n",
       "      <th>volume</th>\n",
       "    </tr>\n",
       "    <tr>\n",
       "      <th>date</th>\n",
       "      <th></th>\n",
       "      <th></th>\n",
       "      <th></th>\n",
       "      <th></th>\n",
       "      <th></th>\n",
       "    </tr>\n",
       "  </thead>\n",
       "  <tbody>\n",
       "    <tr>\n",
       "      <th>2019-04-10</th>\n",
       "      <td>310.90</td>\n",
       "      <td>317.05</td>\n",
       "      <td>310.0</td>\n",
       "      <td>314.85</td>\n",
       "      <td>19237974</td>\n",
       "    </tr>\n",
       "    <tr>\n",
       "      <th>2019-04-11</th>\n",
       "      <td>314.90</td>\n",
       "      <td>315.40</td>\n",
       "      <td>308.7</td>\n",
       "      <td>311.00</td>\n",
       "      <td>14897935</td>\n",
       "    </tr>\n",
       "    <tr>\n",
       "      <th>2019-04-12</th>\n",
       "      <td>315.25</td>\n",
       "      <td>316.40</td>\n",
       "      <td>311.2</td>\n",
       "      <td>314.60</td>\n",
       "      <td>14751964</td>\n",
       "    </tr>\n",
       "  </tbody>\n",
       "</table>\n",
       "</div>"
      ],
      "text/plain": [
       "             close    high    low    open    volume\n",
       "date                                               \n",
       "2019-04-10  310.90  317.05  310.0  314.85  19237974\n",
       "2019-04-11  314.90  315.40  308.7  311.00  14897935\n",
       "2019-04-12  315.25  316.40  311.2  314.60  14751964"
      ]
     },
     "execution_count": 199,
     "metadata": {},
     "output_type": "execute_result"
    }
   ],
   "source": [
    "temp_data"
   ]
  },
  {
   "cell_type": "markdown",
   "metadata": {},
   "source": [
    "New data will be downloaded if:\n",
    "1. fromDate < lDate and toDate < lDate                        : download fromDate to lDate\n",
    "2. fromDate < lDate and toDate >= lDate and toDate <= rDate   : download fromDate to lDate\n",
    "3. fromDate >= lDate and toDate <= rDate                      : No Download\n",
    "4. fromDate >=lDate and toDate > rDate and fromDate <= rDate  : download rDate to toDate\n",
    "5. fromDate > rDate and toDate > rDate                        : download rDate to toDate\n",
    "6. fromDate < lDate and toDate > rDate                        : download fromDate to lDate and rDate to toDate"
   ]
  },
  {
   "cell_type": "code",
   "execution_count": 87,
   "metadata": {},
   "outputs": [],
   "source": [
    "\n",
    "        "
   ]
  },
  {
   "cell_type": "code",
   "execution_count": 99,
   "metadata": {},
   "outputs": [
    {
     "name": "stdout",
     "output_type": "stream",
     "text": [
      "Downloading data from rDate to toDate\n"
     ]
    },
    {
     "data": {
      "text/html": [
       "<div>\n",
       "<style scoped>\n",
       "    .dataframe tbody tr th:only-of-type {\n",
       "        vertical-align: middle;\n",
       "    }\n",
       "\n",
       "    .dataframe tbody tr th {\n",
       "        vertical-align: top;\n",
       "    }\n",
       "\n",
       "    .dataframe thead th {\n",
       "        text-align: right;\n",
       "    }\n",
       "</style>\n",
       "<table border=\"1\" class=\"dataframe\">\n",
       "  <thead>\n",
       "    <tr style=\"text-align: right;\">\n",
       "      <th></th>\n",
       "      <th>close</th>\n",
       "      <th>high</th>\n",
       "      <th>low</th>\n",
       "      <th>open</th>\n",
       "      <th>volume</th>\n",
       "    </tr>\n",
       "    <tr>\n",
       "      <th>date</th>\n",
       "      <th></th>\n",
       "      <th></th>\n",
       "      <th></th>\n",
       "      <th></th>\n",
       "      <th></th>\n",
       "    </tr>\n",
       "  </thead>\n",
       "  <tbody>\n",
       "    <tr>\n",
       "      <th>2019-03-20</th>\n",
       "      <td>2299.00</td>\n",
       "      <td>2300.00</td>\n",
       "      <td>2261.05</td>\n",
       "      <td>2269.00</td>\n",
       "      <td>2927998</td>\n",
       "    </tr>\n",
       "    <tr>\n",
       "      <th>2019-03-22</th>\n",
       "      <td>2276.15</td>\n",
       "      <td>2307.00</td>\n",
       "      <td>2270.80</td>\n",
       "      <td>2300.00</td>\n",
       "      <td>7600970</td>\n",
       "    </tr>\n",
       "    <tr>\n",
       "      <th>2019-03-25</th>\n",
       "      <td>2281.30</td>\n",
       "      <td>2287.85</td>\n",
       "      <td>2253.00</td>\n",
       "      <td>2260.00</td>\n",
       "      <td>2299815</td>\n",
       "    </tr>\n",
       "    <tr>\n",
       "      <th>2019-03-26</th>\n",
       "      <td>2311.35</td>\n",
       "      <td>2315.00</td>\n",
       "      <td>2272.60</td>\n",
       "      <td>2275.90</td>\n",
       "      <td>2946712</td>\n",
       "    </tr>\n",
       "    <tr>\n",
       "      <th>2019-03-27</th>\n",
       "      <td>2299.45</td>\n",
       "      <td>2328.05</td>\n",
       "      <td>2279.05</td>\n",
       "      <td>2318.55</td>\n",
       "      <td>3471325</td>\n",
       "    </tr>\n",
       "    <tr>\n",
       "      <th>2019-03-28</th>\n",
       "      <td>2302.80</td>\n",
       "      <td>2325.00</td>\n",
       "      <td>2287.85</td>\n",
       "      <td>2298.80</td>\n",
       "      <td>4888582</td>\n",
       "    </tr>\n",
       "    <tr>\n",
       "      <th>2019-03-29</th>\n",
       "      <td>2318.90</td>\n",
       "      <td>2325.00</td>\n",
       "      <td>2294.00</td>\n",
       "      <td>2304.60</td>\n",
       "      <td>2986742</td>\n",
       "    </tr>\n",
       "    <tr>\n",
       "      <th>2019-04-01</th>\n",
       "      <td>2311.80</td>\n",
       "      <td>2332.00</td>\n",
       "      <td>2304.60</td>\n",
       "      <td>2325.25</td>\n",
       "      <td>2411769</td>\n",
       "    </tr>\n",
       "    <tr>\n",
       "      <th>2019-04-02</th>\n",
       "      <td>2294.85</td>\n",
       "      <td>2320.00</td>\n",
       "      <td>2285.45</td>\n",
       "      <td>2320.00</td>\n",
       "      <td>2727624</td>\n",
       "    </tr>\n",
       "    <tr>\n",
       "      <th>2019-04-03</th>\n",
       "      <td>2292.75</td>\n",
       "      <td>2316.00</td>\n",
       "      <td>2288.25</td>\n",
       "      <td>2292.10</td>\n",
       "      <td>1914863</td>\n",
       "    </tr>\n",
       "    <tr>\n",
       "      <th>2019-04-04</th>\n",
       "      <td>2283.95</td>\n",
       "      <td>2313.00</td>\n",
       "      <td>2280.00</td>\n",
       "      <td>2292.75</td>\n",
       "      <td>2302888</td>\n",
       "    </tr>\n",
       "    <tr>\n",
       "      <th>2019-04-05</th>\n",
       "      <td>2305.60</td>\n",
       "      <td>2313.75</td>\n",
       "      <td>2282.00</td>\n",
       "      <td>2287.80</td>\n",
       "      <td>2087795</td>\n",
       "    </tr>\n",
       "    <tr>\n",
       "      <th>2019-04-08</th>\n",
       "      <td>2289.40</td>\n",
       "      <td>2322.95</td>\n",
       "      <td>2280.10</td>\n",
       "      <td>2319.00</td>\n",
       "      <td>1599533</td>\n",
       "    </tr>\n",
       "    <tr>\n",
       "      <th>2019-04-09</th>\n",
       "      <td>2287.25</td>\n",
       "      <td>2303.00</td>\n",
       "      <td>2267.00</td>\n",
       "      <td>2296.60</td>\n",
       "      <td>2694400</td>\n",
       "    </tr>\n",
       "    <tr>\n",
       "      <th>2019-04-10</th>\n",
       "      <td>2237.35</td>\n",
       "      <td>2284.00</td>\n",
       "      <td>2231.00</td>\n",
       "      <td>2250.00</td>\n",
       "      <td>27032175</td>\n",
       "    </tr>\n",
       "    <tr>\n",
       "      <th>2019-04-11</th>\n",
       "      <td>2257.50</td>\n",
       "      <td>2263.00</td>\n",
       "      <td>2236.95</td>\n",
       "      <td>2244.90</td>\n",
       "      <td>2198325</td>\n",
       "    </tr>\n",
       "    <tr>\n",
       "      <th>2019-04-12</th>\n",
       "      <td>2265.25</td>\n",
       "      <td>2272.20</td>\n",
       "      <td>2252.10</td>\n",
       "      <td>2252.10</td>\n",
       "      <td>2292611</td>\n",
       "    </tr>\n",
       "    <tr>\n",
       "      <th>2019-04-15</th>\n",
       "      <td>2288.80</td>\n",
       "      <td>2292.90</td>\n",
       "      <td>2264.35</td>\n",
       "      <td>2270.00</td>\n",
       "      <td>2554945</td>\n",
       "    </tr>\n",
       "    <tr>\n",
       "      <th>2019-04-16</th>\n",
       "      <td>2305.05</td>\n",
       "      <td>2309.90</td>\n",
       "      <td>2280.30</td>\n",
       "      <td>2290.95</td>\n",
       "      <td>2068444</td>\n",
       "    </tr>\n",
       "    <tr>\n",
       "      <th>2019-04-18</th>\n",
       "      <td>2300.35</td>\n",
       "      <td>2315.05</td>\n",
       "      <td>2295.85</td>\n",
       "      <td>2313.00</td>\n",
       "      <td>2064352</td>\n",
       "    </tr>\n",
       "  </tbody>\n",
       "</table>\n",
       "</div>"
      ],
      "text/plain": [
       "              close     high      low     open    volume\n",
       "date                                                    \n",
       "2019-03-20  2299.00  2300.00  2261.05  2269.00   2927998\n",
       "2019-03-22  2276.15  2307.00  2270.80  2300.00   7600970\n",
       "2019-03-25  2281.30  2287.85  2253.00  2260.00   2299815\n",
       "2019-03-26  2311.35  2315.00  2272.60  2275.90   2946712\n",
       "2019-03-27  2299.45  2328.05  2279.05  2318.55   3471325\n",
       "2019-03-28  2302.80  2325.00  2287.85  2298.80   4888582\n",
       "2019-03-29  2318.90  2325.00  2294.00  2304.60   2986742\n",
       "2019-04-01  2311.80  2332.00  2304.60  2325.25   2411769\n",
       "2019-04-02  2294.85  2320.00  2285.45  2320.00   2727624\n",
       "2019-04-03  2292.75  2316.00  2288.25  2292.10   1914863\n",
       "2019-04-04  2283.95  2313.00  2280.00  2292.75   2302888\n",
       "2019-04-05  2305.60  2313.75  2282.00  2287.80   2087795\n",
       "2019-04-08  2289.40  2322.95  2280.10  2319.00   1599533\n",
       "2019-04-09  2287.25  2303.00  2267.00  2296.60   2694400\n",
       "2019-04-10  2237.35  2284.00  2231.00  2250.00  27032175\n",
       "2019-04-11  2257.50  2263.00  2236.95  2244.90   2198325\n",
       "2019-04-12  2265.25  2272.20  2252.10  2252.10   2292611\n",
       "2019-04-15  2288.80  2292.90  2264.35  2270.00   2554945\n",
       "2019-04-16  2305.05  2309.90  2280.30  2290.95   2068444\n",
       "2019-04-18  2300.35  2315.05  2295.85  2313.00   2064352"
      ]
     },
     "execution_count": 99,
     "metadata": {},
     "output_type": "execute_result"
    }
   ],
   "source": [
    "getData(\"HDFCBANK\", dt.datetime.now()-dt.timedelta(days=30),dt.datetime(2019,4,18,14,30),freq=\"day\")"
   ]
  },
  {
   "cell_type": "code",
   "execution_count": null,
   "metadata": {},
   "outputs": [],
   "source": []
  },
  {
   "cell_type": "code",
   "execution_count": null,
   "metadata": {},
   "outputs": [],
   "source": []
  }
 ],
 "metadata": {
  "kernelspec": {
   "display_name": "Python 3",
   "language": "python",
   "name": "python3"
  },
  "language_info": {
   "codemirror_mode": {
    "name": "ipython",
    "version": 3
   },
   "file_extension": ".py",
   "mimetype": "text/x-python",
   "name": "python",
   "nbconvert_exporter": "python",
   "pygments_lexer": "ipython3",
   "version": "3.7.3"
  },
  "varInspector": {
   "cols": {
    "lenName": 16,
    "lenType": 16,
    "lenVar": 40
   },
   "kernels_config": {
    "python": {
     "delete_cmd_postfix": "",
     "delete_cmd_prefix": "del ",
     "library": "var_list.py",
     "varRefreshCmd": "print(var_dic_list())"
    },
    "r": {
     "delete_cmd_postfix": ") ",
     "delete_cmd_prefix": "rm(",
     "library": "var_list.r",
     "varRefreshCmd": "cat(var_dic_list()) "
    }
   },
   "types_to_exclude": [
    "module",
    "function",
    "builtin_function_or_method",
    "instance",
    "_Feature"
   ],
   "window_display": false
  }
 },
 "nbformat": 4,
 "nbformat_minor": 2
}
