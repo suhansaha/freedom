{
 "cells": [
  {
   "cell_type": "raw",
   "metadata": {},
   "source": [
    "!pip install quandl\n",
    "!pip install pandas_datareader\n",
    "\n",
    "# Microsoft Visual C++ Build Tools is needed for TA-Lib: https://visualstudio.microsoft.com/downloads/\n",
    "# https://mrjbq7.github.io/ta-lib/install.html\n",
    "!pip install TA-Lib\n",
    "\n",
    "!pip install plotly"
   ]
  },
  {
   "cell_type": "code",
   "execution_count": 1,
   "metadata": {},
   "outputs": [
    {
     "data": {
      "text/html": [
       "<script type=\"text/javascript\">window.PlotlyConfig = {MathJaxConfig: 'local'};</script><script type=\"text/javascript\">if (window.MathJax) {MathJax.Hub.Config({SVG: {font: \"STIX-Web\"}});}</script><script>requirejs.config({paths: { 'plotly': ['https://cdn.plot.ly/plotly-latest.min']},});if(!window._Plotly) {require(['plotly'],function(plotly) {window._Plotly=plotly;});}</script>"
      ],
      "text/vnd.plotly.v1+html": [
       "<script type=\"text/javascript\">window.PlotlyConfig = {MathJaxConfig: 'local'};</script><script type=\"text/javascript\">if (window.MathJax) {MathJax.Hub.Config({SVG: {font: \"STIX-Web\"}});}</script><script>requirejs.config({paths: { 'plotly': ['https://cdn.plot.ly/plotly-latest.min']},});if(!window._Plotly) {require(['plotly'],function(plotly) {window._Plotly=plotly;});}</script>"
      ]
     },
     "metadata": {},
     "output_type": "display_data"
    }
   ],
   "source": [
    "%matplotlib inline\n",
    "\n",
    "import quandl\n",
    "import matplotlib.pyplot as plt\n",
    "import seaborn as sns\n",
    "import pandas_datareader.data as web\n",
    "import pandas as pd\n",
    "import numpy as np\n",
    "from talib import RSI, BBANDS, MACD, AROON\n",
    "import datetime as dt\n",
    "\n",
    "import plotly.graph_objs as go\n",
    "from plotly import tools\n",
    "from plotly.offline import download_plotlyjs, init_notebook_mode, plot, iplot\n",
    "\n",
    "init_notebook_mode(connected=True)"
   ]
  },
  {
   "cell_type": "code",
   "execution_count": 2,
   "metadata": {},
   "outputs": [],
   "source": [
    "max_holding = 100\n",
    "\n",
    "source = \"CSV\"\n",
    "\n",
    "symbol = 'NSE/TCS'"
   ]
  },
  {
   "cell_type": "code",
   "execution_count": 3,
   "metadata": {},
   "outputs": [],
   "source": [
    "if source == \"CSV\":\n",
    "    df = pd.read_csv(\"nse_50.csv\")\n",
    "    df = df.set_index('Date')\n",
    "\n",
    "    #Convert date from string to date format if required - uncomment below line\n",
    "    df.index = [dt.datetime.strptime(date, '%Y-%m-%d') for date in df.index]\n",
    "\n",
    "    price = pd.DataFrame({'open':df[\"Open\"],'high':df[\"High\"],'low':df[\"Low\"],'close':df[\"Close\"],'adjClose':df[\"Adj Close\"],\"volume\":df[\"Volume\"]})\n"
   ]
  },
  {
   "cell_type": "raw",
   "metadata": {},
   "source": [
    "#Fetch Data and pre-process data - Source:Quandl: NSE\n",
    "if source == \"Quandl\":\n",
    "    start = '2018-03-24'\n",
    "    end = '2019-03-24'\n",
    "\n",
    "    symbol = 'NSE/INFY'\n",
    "    max_holding = 100\n",
    "    df = web.DataReader(name=symbol, data_source='quandl', start=start, end=end,  access_key=\"B2LcBEywuebxqE9s15L9\")\n",
    "\n",
    "    #Convert date from string to date format if required - uncomment below line\n",
    "    #df.index = [dt.datetime.strptime(date, '%Y-%m-%d').date() for date in df.index]\n",
    "\n",
    "    price = pd.DataFrame({'open':df[\"Open\"],'high':df[\"High\"],'low':df[\"Low\"],'close':df[\"Close\"],'adjClose':df[\"Close\"],\"volume\":df[\"TotalTradeQuantity\"]})\n"
   ]
  },
  {
   "cell_type": "code",
   "execution_count": 4,
   "metadata": {},
   "outputs": [
    {
     "data": {
      "text/html": [
       "<div>\n",
       "<style scoped>\n",
       "    .dataframe tbody tr th:only-of-type {\n",
       "        vertical-align: middle;\n",
       "    }\n",
       "\n",
       "    .dataframe tbody tr th {\n",
       "        vertical-align: top;\n",
       "    }\n",
       "\n",
       "    .dataframe thead th {\n",
       "        text-align: right;\n",
       "    }\n",
       "</style>\n",
       "<table border=\"1\" class=\"dataframe\">\n",
       "  <thead>\n",
       "    <tr style=\"text-align: right;\">\n",
       "      <th></th>\n",
       "      <th>open</th>\n",
       "      <th>high</th>\n",
       "      <th>low</th>\n",
       "      <th>close</th>\n",
       "      <th>adjClose</th>\n",
       "      <th>volume</th>\n",
       "    </tr>\n",
       "  </thead>\n",
       "  <tbody>\n",
       "    <tr>\n",
       "      <th>2014-03-21</th>\n",
       "      <td>6515.200195</td>\n",
       "      <td>6522.899902</td>\n",
       "      <td>6485.700195</td>\n",
       "      <td>6493.200195</td>\n",
       "      <td>6493.200195</td>\n",
       "      <td>189900.0</td>\n",
       "    </tr>\n",
       "    <tr>\n",
       "      <th>2014-03-22</th>\n",
       "      <td>NaN</td>\n",
       "      <td>NaN</td>\n",
       "      <td>NaN</td>\n",
       "      <td>NaN</td>\n",
       "      <td>NaN</td>\n",
       "      <td>NaN</td>\n",
       "    </tr>\n",
       "    <tr>\n",
       "      <th>2014-03-24</th>\n",
       "      <td>6510.500000</td>\n",
       "      <td>6591.500000</td>\n",
       "      <td>6510.500000</td>\n",
       "      <td>6583.500000</td>\n",
       "      <td>6583.500000</td>\n",
       "      <td>158400.0</td>\n",
       "    </tr>\n",
       "    <tr>\n",
       "      <th>2014-03-25</th>\n",
       "      <td>6550.100098</td>\n",
       "      <td>6595.549805</td>\n",
       "      <td>6544.850098</td>\n",
       "      <td>6589.750000</td>\n",
       "      <td>6589.750000</td>\n",
       "      <td>168100.0</td>\n",
       "    </tr>\n",
       "    <tr>\n",
       "      <th>2014-03-26</th>\n",
       "      <td>6615.649902</td>\n",
       "      <td>6627.450195</td>\n",
       "      <td>6580.600098</td>\n",
       "      <td>6601.399902</td>\n",
       "      <td>6601.399902</td>\n",
       "      <td>186600.0</td>\n",
       "    </tr>\n",
       "  </tbody>\n",
       "</table>\n",
       "</div>"
      ],
      "text/plain": [
       "                   open         high          low        close     adjClose  \\\n",
       "2014-03-21  6515.200195  6522.899902  6485.700195  6493.200195  6493.200195   \n",
       "2014-03-22          NaN          NaN          NaN          NaN          NaN   \n",
       "2014-03-24  6510.500000  6591.500000  6510.500000  6583.500000  6583.500000   \n",
       "2014-03-25  6550.100098  6595.549805  6544.850098  6589.750000  6589.750000   \n",
       "2014-03-26  6615.649902  6627.450195  6580.600098  6601.399902  6601.399902   \n",
       "\n",
       "              volume  \n",
       "2014-03-21  189900.0  \n",
       "2014-03-22       NaN  \n",
       "2014-03-24  158400.0  \n",
       "2014-03-25  168100.0  \n",
       "2014-03-26  186600.0  "
      ]
     },
     "execution_count": 4,
     "metadata": {},
     "output_type": "execute_result"
    }
   ],
   "source": [
    "price.head()"
   ]
  },
  {
   "cell_type": "code",
   "execution_count": 5,
   "metadata": {},
   "outputs": [],
   "source": [
    "#Clean up and filter data\n",
    "price = price[price.index> dt.datetime(2018,1,1)]\n",
    "#price = price.iloc[::-1]\n",
    "price = price.dropna()\n",
    "close = price[\"adjClose\"].values"
   ]
  },
  {
   "cell_type": "raw",
   "metadata": {},
   "source": [
    "macd, macdsignal, macdhist = MACD(close, fastperiod=12, slowperiod=26, signalperiod=9)"
   ]
  },
  {
   "cell_type": "raw",
   "metadata": {},
   "source": [
    "up, mid, low = BBANDS(close, timeperiod=20, nbdevup=2, nbdevdn=2, matype=0)\n",
    "rsi = RSI(close, timeperiod=14)\n",
    "print(\"RSI (first 10 elements)\\n\", rsi[14:24])\n",
    "\n",
    "def bbp(price):\n",
    "    up, mid, low = BBANDS(close, timeperiod=20, nbdevup=2, nbdevdn=2, matype=0)\n",
    "    bbp = (price[\"adjClose\"] - low) / (up - low)\n",
    "    return bbp\n",
    "price['RSI']=rsi\n",
    "price['BBP']=bbp(price)\n",
    "\n",
    "holdings = pd.DataFrame(index=price.index, data={'Holdings': np.array([np.nan] * price.index.shape[0])})"
   ]
  },
  {
   "cell_type": "raw",
   "metadata": {},
   "source": [
    "holdings.loc[((price['RSI'] < 30) & (price['BBP'] < 0)), 'Holdings'] = max_holding\n",
    "holdings.loc[((price['RSI'] > 70) & (price['BBP'] > 1)), 'Holdings'] = 0\n",
    "holdings.ffill(inplace=True)\n",
    "holdings.fillna(0, inplace=True)\n",
    "\n",
    "holdings['Order'] = holdings.diff()\n",
    "holdings.dropna(inplace=True)"
   ]
  },
  {
   "cell_type": "raw",
   "metadata": {},
   "source": [
    "data1 = []\n",
    "data2 = []\n",
    "for day, holding in holdings.iterrows():\n",
    "    order = holding['Order']\n",
    "    #print(day,order, price.loc[day, 'Adj Close'])\n",
    "    if order > 0:\n",
    "        data1.append((day, price.loc[day, 'adjClose']))\n",
    "    elif order < 0:\n",
    "        data2.append((day, price.loc[day, 'adjClose']))\n",
    "        \n",
    "data1 = np.asarray(data1)\n",
    "data2 = np.asarray(data2)"
   ]
  },
  {
   "cell_type": "raw",
   "metadata": {},
   "source": [
    "trace0 = go.Ohlc(x=price.index, open=price['open'], high=price['high'], low=price['low'], close=price['close'], name=\"Closing Price\")\n",
    "\n",
    "#trace0 = go.Scatter(x=price.index, y=price['Adj Close'], mode='lines', line=dict(color='rgb(63, 72, 204)'),name='Closing Price',yaxis=\"y1\")\n",
    "\n",
    "trace61 = go.Scatter(x=data1[::-1,0], y=data1[::-1,1], marker = dict(color='green', size=10), mode='markers')\n",
    "#trace62 = go.Scatter(x=data2[::-1,0], y=data2[::-1,1], marker = dict(color='red', size=10), mode='markers')\n",
    "\n",
    "trace1 = go.Scatter(x=price.index, y=price['RSI'],mode='lines', line=dict(color='rgb(63, 72, 204)'), name='RSI')\n",
    "\n",
    "trace2 = go.Scatter(x=price.index, y=macd, name='MACD')\n",
    "trace3 = go.Bar(x=price.index, y=macdhist, name='MACD Hist')\n",
    "trace4 = go.Scatter(x=price.index, y=macdsignal, name='MACD signal')\n",
    "\n",
    "\n",
    "price['BB_up'] = up\n",
    "price['BB_low'] = low\n",
    "\n",
    "trace5 = go.Scatter(x=price.index, y=price['BB_up'], name='BB_up')\n",
    "#trace6 = go.Scatter(x=price.index, y=price['Adj Close'], name='AdjClose')\n",
    "trace7 = go.Scatter(x=price.index, y=price['BB_low'], name='BB_low', fill = 'tonexty', fillcolor=\"rgba(0,40,100,0.02)\")\n",
    "\n",
    "fig = tools.make_subplots(rows=3, cols=1, shared_xaxes=True, shared_yaxes=False, vertical_spacing=0.05, row_width=[1,2,3])\n",
    "\n",
    "\n",
    "fig.append_trace(trace0, 1, 1)\n",
    "fig.append_trace(trace5, 1, 1)\n",
    "fig.append_trace(trace7, 1, 1)\n",
    "fig.append_trace(trace61, 1, 1)\n",
    "#fig.append_trace(trace62, 1, 1)\n",
    "\n",
    "fig.append_trace(trace1, 3, 1)\n",
    "fig.append_trace(trace2, 2, 1)\n",
    "fig.append_trace(trace3, 2, 1)\n",
    "fig.append_trace(trace4, 2, 1)\n",
    "\n",
    "fig['layout'].update(height=750, title=\"Stock Analysis for \"+symbol)\n",
    "fig['layout']['xaxis']['rangeslider'].update(thickness=0.05)\n",
    "#fig['layout']['yaxis1'].update(range=[8000,12000], domain=[0.5,1.0])\n",
    "#fig['layout']['yaxis'].update(domain=[0.10,0.15])\n",
    "#fig['layout']['yaxis2'].update(domain=[0.9,1])\n",
    "#fig['layout'].update(annotations=[dict(text=\"Buy\",x=data1[::-1,0],y=data1[::-1,1])])\n",
    "\n",
    "iplot(fig, filename=\"Stock Analysis 2\")"
   ]
  },
  {
   "cell_type": "raw",
   "metadata": {},
   "source": [
    "help(tools.make_subplots)"
   ]
  },
  {
   "cell_type": "markdown",
   "metadata": {},
   "source": [
    "# Machine Learning - Classification model"
   ]
  },
  {
   "cell_type": "raw",
   "metadata": {},
   "source": [
    "df3 = pd.DataFrame(data={\"A\":np.linspace(1,10,10),\"B\":np.linspace(1,10,10)*2}, index=np.linspace(1,10,10))\n",
    "\n",
    "df3.loc[:,'C'] = df3.loc[:,'B'].shift(1)\n",
    "\n",
    "print(df3.head())\n",
    "\n",
    "df3.dropna(inplace=True)\n"
   ]
  },
  {
   "cell_type": "raw",
   "metadata": {},
   "source": [
    "df3['B'].shift(1)"
   ]
  },
  {
   "cell_type": "raw",
   "metadata": {},
   "source": [
    "df3['B']"
   ]
  },
  {
   "cell_type": "markdown",
   "metadata": {},
   "source": [
    "price.head(50)"
   ]
  },
  {
   "cell_type": "raw",
   "metadata": {},
   "source": [
    "price.loc[:,\"prevClose\"] = price.loc[:,\"close\"].shift(1)\n"
   ]
  },
  {
   "cell_type": "markdown",
   "metadata": {},
   "source": [
    "#### Technical Indicators Calculations"
   ]
  },
  {
   "cell_type": "code",
   "execution_count": null,
   "metadata": {},
   "outputs": [],
   "source": [
    "from talib import RSI, BBANDS, MACD, AROON, STOCH, ATR, OBV, ADOSC\n",
    "#help(ADOSC)"
   ]
  },
  {
   "cell_type": "code",
   "execution_count": 6,
   "metadata": {},
   "outputs": [
    {
     "ename": "NameError",
     "evalue": "name 'STOCH' is not defined",
     "output_type": "error",
     "traceback": [
      "\u001b[0;31m---------------------------------------------------------------------------\u001b[0m",
      "\u001b[0;31mNameError\u001b[0m                                 Traceback (most recent call last)",
      "\u001b[0;32m<ipython-input-6-029f4189f588>\u001b[0m in \u001b[0;36m<module>\u001b[0;34m\u001b[0m\n\u001b[1;32m      3\u001b[0m \u001b[0mprice\u001b[0m\u001b[0;34m[\u001b[0m\u001b[0;34m'RSI'\u001b[0m\u001b[0;34m]\u001b[0m \u001b[0;34m=\u001b[0m \u001b[0mRSI\u001b[0m\u001b[0;34m(\u001b[0m\u001b[0mprice\u001b[0m\u001b[0;34m.\u001b[0m\u001b[0madjClose\u001b[0m\u001b[0;34m,\u001b[0m \u001b[0mtimeperiod\u001b[0m\u001b[0;34m=\u001b[0m\u001b[0;36m14\u001b[0m\u001b[0;34m)\u001b[0m\u001b[0;34m\u001b[0m\u001b[0m\n\u001b[1;32m      4\u001b[0m \u001b[0;34m\u001b[0m\u001b[0m\n\u001b[0;32m----> 5\u001b[0;31m \u001b[0mprice\u001b[0m\u001b[0;34m[\u001b[0m\u001b[0;34m'slowk'\u001b[0m\u001b[0;34m]\u001b[0m\u001b[0;34m,\u001b[0m \u001b[0mprice\u001b[0m\u001b[0;34m[\u001b[0m\u001b[0;34m'slowd'\u001b[0m\u001b[0;34m]\u001b[0m \u001b[0;34m=\u001b[0m \u001b[0mSTOCH\u001b[0m\u001b[0;34m(\u001b[0m\u001b[0mprice\u001b[0m\u001b[0;34m.\u001b[0m\u001b[0mhigh\u001b[0m\u001b[0;34m,\u001b[0m \u001b[0mprice\u001b[0m\u001b[0;34m.\u001b[0m\u001b[0mlow\u001b[0m\u001b[0;34m,\u001b[0m \u001b[0mprice\u001b[0m\u001b[0;34m.\u001b[0m\u001b[0mclose\u001b[0m\u001b[0;34m)\u001b[0m\u001b[0;34m\u001b[0m\u001b[0m\n\u001b[0m\u001b[1;32m      6\u001b[0m \u001b[0;34m\u001b[0m\u001b[0m\n\u001b[1;32m      7\u001b[0m \u001b[0mprice\u001b[0m\u001b[0;34m[\u001b[0m\u001b[0;34m'aroondown'\u001b[0m\u001b[0;34m]\u001b[0m\u001b[0;34m,\u001b[0m \u001b[0mprice\u001b[0m\u001b[0;34m[\u001b[0m\u001b[0;34m'aroonup'\u001b[0m\u001b[0;34m]\u001b[0m \u001b[0;34m=\u001b[0m \u001b[0mAROON\u001b[0m\u001b[0;34m(\u001b[0m\u001b[0mprice\u001b[0m\u001b[0;34m.\u001b[0m\u001b[0mhigh\u001b[0m\u001b[0;34m,\u001b[0m \u001b[0mprice\u001b[0m\u001b[0;34m.\u001b[0m\u001b[0mlow\u001b[0m\u001b[0;34m)\u001b[0m\u001b[0;34m\u001b[0m\u001b[0m\n",
      "\u001b[0;31mNameError\u001b[0m: name 'STOCH' is not defined"
     ]
    }
   ],
   "source": [
    "price['macd'], price['macdsignal'], price['macdhist'] = MACD(price.adjClose, fastperiod=12, slowperiod=26, signalperiod=9)\n",
    "\n",
    "price['RSI'] = RSI(price.adjClose, timeperiod=14)\n",
    "\n",
    "price['slowk'], price['slowd'] = STOCH(price.high, price.low, price.close)\n",
    "\n",
    "price['aroondown'], price['aroonup'] = AROON(price.high, price.low)\n",
    "\n",
    "price['atr'] = ATR(price.high, price.low, price.close)\n",
    "\n",
    "price['bbup'], price['bbmid'], price['bblow'] = BBANDS(price.close, timeperiod=20, nbdevup=2, nbdevdn=2, matype=0)\n",
    "\n",
    "price['obv'] = OBV(np.linspace(1,100,price.index.shape[0]), price.volume)\n",
    "\n",
    "price['adosc'] = ADOSC(price.high, price.low, price.close, price.volume)"
   ]
  },
  {
   "cell_type": "markdown",
   "metadata": {},
   "source": [
    "#### Support and resistance calculation"
   ]
  },
  {
   "cell_type": "code",
   "execution_count": null,
   "metadata": {},
   "outputs": [],
   "source": [
    "# Pivot points\n",
    "\n",
    "PP = (price.high+price.low+price.close)/3\n",
    "R1 = 2 * PP - price.low\n",
    "S1 = 2 * PP - price.high\n",
    "\n",
    "R2 = PP + (price.high - price.low)\n",
    "S2 = PP - (price.high - price.low)\n",
    "\n",
    "R3 = price.high + 2 * (PP - price.low)\n",
    "S3 = price.low - 2 * (price.high - PP)"
   ]
  },
  {
   "cell_type": "code",
   "execution_count": null,
   "metadata": {},
   "outputs": [],
   "source": [
    "# Fibonacci Pivot\n",
    "\n",
    "PP = (price.high+price.low+price.close)/3\n",
    "S1 = PP - 0.382 * (price.high - price.low)\n",
    "S2 = PP - 0.618 * (price.high - price.low)\n",
    "S3 = PP -         (price.high - price.low)\n",
    "\n",
    "R1 = PP + 0.382 * (price.high - price.low)\n",
    "R2 = PP + 0.618 * (price.high - price.low)\n",
    "R3 = PP +         (price.high - price.low)"
   ]
  },
  {
   "cell_type": "markdown",
   "metadata": {},
   "source": [
    "#### Candle stick pattern recognition"
   ]
  },
  {
   "cell_type": "raw",
   "metadata": {},
   "source": [
    "#https://github.com/mrjbq7/ta-lib\n",
    "\n",
    "CDLABANDONEDBABY\n",
    "\n",
    "CDL3BLACKCROWS\n",
    "\n",
    "CDLDOJI\n",
    "\n",
    "CDLDOJISTAR\n",
    "\n",
    "CDLDRAGONFLYDOJI\n",
    "\n",
    "CDLENGULFING\n",
    "\n",
    "CDLEVENINGDOJISTAR  \n",
    "\n",
    "CDLEVENINGSTAR\n",
    "\n",
    "CDLGRAVESTONEDOJI\n",
    "\n",
    "CDLHAMMER\n",
    "\n",
    "CDLHANGINGMAN\n",
    "\n",
    "CDLHARAMI\n",
    "\n",
    "CDLHARAMICROSS\n",
    "\n",
    "CDLINVERTEDHAMMER\n",
    "\n",
    "CDLMARUBOZU\n",
    "\n",
    "CDLMORNINGDOJISTAR\n",
    "\n",
    "CDLMORNINGSTAR\n",
    "\n",
    "CDLSHOOTINGSTAR\n",
    "\n",
    "\n",
    "CDLSPINNINGTOP\n",
    "\n",
    "CDL3BLACKCROWS\n",
    "\n",
    "CDL3LINESTRIKE"
   ]
  },
  {
   "cell_type": "raw",
   "metadata": {},
   "source": [
    "print(price.index.shape[0])\n",
    "\n",
    "price.head(50)"
   ]
  },
  {
   "cell_type": "markdown",
   "metadata": {},
   "source": [
    "#### TODO: BUY/SELL decisions"
   ]
  },
  {
   "cell_type": "code",
   "execution_count": null,
   "metadata": {},
   "outputs": [],
   "source": [
    "from enum import Enum\n",
    "class S(Enum):\n",
    "    BUY = 1\n",
    "    SELL = 2\n",
    "    HOLD = 3\n",
    "    \n",
    "price.dropna(inplace=True)\n",
    "\n",
    "#price.drop(columns=['prevClose'], inplace=True)\n",
    "\n",
    "#print(price.head(5))\n",
    "\n",
    "#price['Delta'] = price['prevClose']/price['close'] - 1\n",
    "\n",
    "labels = pd.DataFrame(data = {\"holdings\":np.zeros(price.index.shape[0])},index=price.index)\n",
    "\n",
    "#labels[price['Delta']>0] = S.BUY\n",
    "#labels[price['Delta']<=0] = S.SELL\n",
    "\n",
    "#price['Holdings'] = labels\n",
    "\n",
    "labels[(price['macdhist'] > price['macdhist'].shift(1)) & (price['macdhist'].shift(1) < 0 ) & (price['macdhist'] >= 0 )] = S.BUY\n",
    "labels[(price['macdhist'] < price['macdhist'].shift(1)) & (price['macdhist'].shift(1) > 0 ) & (price['macdhist'] <= 0 )] = S.SELL"
   ]
  },
  {
   "cell_type": "raw",
   "metadata": {},
   "source": [
    "labels.head()"
   ]
  },
  {
   "cell_type": "code",
   "execution_count": null,
   "metadata": {},
   "outputs": [],
   "source": [
    "# buy and sell decisions are stored in arrays for plotting purpose(visualisation)\n",
    "\n",
    "buy = price[labels['holdings']==S.BUY]\n",
    "sell = price[labels['holdings']==S.SELL]"
   ]
  },
  {
   "cell_type": "markdown",
   "metadata": {},
   "source": [
    "# Plotting Results"
   ]
  },
  {
   "cell_type": "code",
   "execution_count": null,
   "metadata": {},
   "outputs": [],
   "source": [
    "# Price vs date curve with green and red dots to indicate buy and sell points\n",
    "\n",
    "trace0 = go.Scatter(x=buy.index, y=buy.adjClose, marker = dict(color='green', size=8), mode='markers', name=\"Buy\")\n",
    "trace1 = go.Scatter(x=sell.index, y=sell.adjClose, marker = dict(color='red', size=8), mode='markers', name=\"Sell\")\n",
    "\n",
    "# Closing Price line chart\n",
    "trace2 = go.Scatter(x=price.index, y=price.adjClose, marker = dict(color='lightgrey', size=2), mode='lines', name=\"Close Price\", yaxis='y1')\n",
    "\n",
    "\n",
    "# RSI plots\n",
    "traceRSI = go.Scatter(x=price.index, y=price['RSI'],mode='lines', line=dict(color='rgb(63, 72, 204)'), name='RSI')\n",
    "\n",
    "# MACD plots\n",
    "traceMACD = go.Scatter(x=price.index, y=price['macd'], name='MACD', line=dict(color='blue'))\n",
    "traceMACDHist = go.Bar(x=price.index, y=price['macdhist'], name='MACD Hist', marker=dict(color=\"lightgrey\"))\n",
    "traceMACDSignal = go.Scatter(x=price.index, y=price['macdsignal'], name='MACD signal', line=dict(color='red'))\n",
    "\n",
    "# Volume Chart\n",
    "traceV = go.Bar(x=price.index, y=price.volume, name='Volume', marker=dict(color='lightgrey'),yaxis='y2')\n",
    "\n",
    "fig = tools.make_subplots(rows=4, cols=1, row_width=[1,2,1,4])\n",
    "\n",
    "# Price\n",
    "fig.append_trace(trace0, 1, 1)\n",
    "fig.append_trace(trace1, 1, 1)\n",
    "fig.append_trace(trace2, 1, 1)\n",
    "\n",
    "fig.append_trace(traceV,2,1)\n",
    "\n",
    "# MACD\n",
    "fig.append_trace(traceMACD, 3, 1)\n",
    "fig.append_trace(traceMACDHist, 3, 1)\n",
    "fig.append_trace(traceMACDSignal, 3, 1)\n",
    "\n",
    "# RSI\n",
    "fig.append_trace(traceRSI, 4, 1)\n",
    "\n",
    "# Update layout\n",
    "fig['layout'].update(height=850, plot_bgcolor='rgba(0,0,0,0)')\n",
    "\n",
    "\n",
    "fig['layout'].update(yaxis = dict(side='right', domain=[0.50,1]), \n",
    "                    xaxis  = dict(visible=False),\n",
    "                    yaxis2 = dict(side='left', showgrid=False),\n",
    "                    yaxis3 = dict(side='right'),\n",
    "                    yaxis4 = dict(side='right'))\n",
    "\n",
    "\n",
    "                     \n",
    "iplot(fig, filename=\"Test\")"
   ]
  },
  {
   "cell_type": "markdown",
   "metadata": {},
   "source": [
    "## Convert tick data to OHLC"
   ]
  },
  {
   "cell_type": "code",
   "execution_count": null,
   "metadata": {},
   "outputs": [],
   "source": [
    "# Random tick generator\n",
    "\n",
    "import datetime as dt\n",
    "import time \n",
    "\n",
    "maxN = 1000\n",
    "\n",
    "arr = np.zeros(maxN+1, dtype='datetime64[ns]')\n",
    "\n",
    "arr[0] = dt.datetime.now()\n",
    "\n",
    "for i in np.linspace(1,maxN,maxN, dtype='int'):\n",
    "    arr[i] = arr[i-1] + np.timedelta64(np.random.randint(40,360), 's' )\n",
    "    \n",
    "df5 = pd.DataFrame(data = {\"A\":np.linspace(0,maxN,maxN+1), \"Date\": arr})\n"
   ]
  },
  {
   "cell_type": "code",
   "execution_count": null,
   "metadata": {},
   "outputs": [],
   "source": [
    "# Converts pandas frame with tick data to OHLC\n",
    "df6 = df5.groupby([df5['Date'].dt.hour, df5['Date'].dt.minute])\n",
    "\n",
    "df7 = pd.DataFrame(\n",
    "    data = {\"date\": df6.max()[\"Date\"].apply(lambda x: dt.datetime.replace(x, microsecond=0, second=0)), \n",
    "            \"high\":df6.max()[\"A\"], \"low\":df6.min()[\"A\"], \"open\": df6.first()[\"A\"], \"close\": df6.last()[\"A\"]})\n",
    "\n",
    "#df7.head()"
   ]
  },
  {
   "cell_type": "code",
   "execution_count": null,
   "metadata": {},
   "outputs": [],
   "source": [
    "help(dt.datetime.replace)"
   ]
  }
 ],
 "metadata": {
  "kernelspec": {
   "display_name": "Python 3",
   "language": "python",
   "name": "python3"
  },
  "language_info": {
   "codemirror_mode": {
    "name": "ipython",
    "version": 3
   },
   "file_extension": ".py",
   "mimetype": "text/x-python",
   "name": "python",
   "nbconvert_exporter": "python",
   "pygments_lexer": "ipython3",
   "version": "3.6.4"
  }
 },
 "nbformat": 4,
 "nbformat_minor": 2
}
