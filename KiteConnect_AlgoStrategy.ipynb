{
  "cells": [
    {
      "metadata": {
        "trusted": true
      },
      "cell_type": "code",
      "source": "!conda install -y -c quantopian ta-lib",
      "execution_count": 1,
      "outputs": [
        {
          "output_type": "stream",
          "text": "Fetching package metadata ...............\nSolving package specifications: .\n\nPackage plan for installation in environment /home/nbuser/anaconda3_420:\n\nThe following NEW packages will be INSTALLED:\n\n    readline:  7.0-ha6073c6_4              \n    ta-lib:    0.4.9-np111py35_0 quantopian\n\nThe following packages will be UPDATED:\n\n    conda:     4.3.31-py35_0                --> 4.5.11-py35_0       \n    conda-env: 2.6.0-h36134e3_1             --> 2.6.0-1             \n    pycosat:   0.6.1-py35_1                 --> 0.6.3-py35h6b6bb97_0\n\nconda-env-2.6. 100% |################################| Time: 0:00:00 551.99 kB/s\nreadline-7.0-h 100% |################################| Time: 0:00:00   7.26 MB/s\npycosat-0.6.3- 100% |################################| Time: 0:00:00   7.21 MB/s\nta-lib-0.4.9-n 100% |################################| Time: 0:00:00   4.67 MB/s\nconda-4.5.11-p 100% |################################| Time: 0:00:00   8.58 MB/s\n",
          "name": "stdout"
        }
      ]
    },
    {
      "metadata": {
        "trusted": true,
        "scrolled": false
      },
      "cell_type": "code",
      "source": "import kiteconnect",
      "execution_count": 4,
      "outputs": []
    },
    {
      "metadata": {},
      "cell_type": "markdown",
      "source": "## <span style=\"color:grey\">Initialization</span>"
    },
    {
      "metadata": {
        "code_folding": [],
        "trusted": true
      },
      "cell_type": "code",
      "source": "%run \"KiteConnect_AlgoBase.ipynb\" ",
      "execution_count": 2,
      "outputs": [
        {
          "output_type": "stream",
          "text": "/home/nbuser/anaconda3_420/lib/python3.5/site-packages/matplotlib/font_manager.py:281: UserWarning: Matplotlib is building the font cache using fc-list. This may take a moment.\n  'Matplotlib is building the font cache using fc-list. '\n:0: UserWarning:\n\nYou do not have a working installation of the service_identity module: 'cannot import name 'opentype''.  Please install it from <https://pypi.python.org/pypi/service_identity> and make sure all of its dependencies are satisfied.  Without the service_identity module, Twisted can perform only rudimentary TLS client hostname verification.  Many valid certificate/hostname mappings may be rejected.\n\n",
          "name": "stderr"
        }
      ]
    },
    {
      "metadata": {},
      "cell_type": "markdown",
      "source": "##  <span style=\"color:green\">Trading Strategy </span>"
    },
    {
      "metadata": {
        "cell_style": "center",
        "code_folding": [
          33,
          39
        ],
        "trusted": true
      },
      "cell_type": "code",
      "source": "class algoTrade(algoTrade_base):\n   \n    def __init__(s, symbol):\n        logger.debug(\"AlgoTrade Called: \"+symbol)\n        super(algoTrade, s).__init__(symbol)\n        \n    \n    # Long Strategies\n    def long_indicators(s):\n        temp_df = 0\n        temp_df = temp_df | (REF(s.fastk,1) <=20)&(s.fastk>20)\n        temp_df = temp_df | CROSSOVER(s.fastk, s.fastd)\n        temp_df = temp_df | (REF(s.macd,1) <=0)&(s.macd>0)\n        temp_df = temp_df | CROSSOVER(s.macd, s.macdsignal)\n        temp_df = temp_df | (REF(s.rsi,1) <=50)\n        #temp_df = temp_df | (s.CLOSE.shift(1) == s.min.shift(1)) & (s.CLOSE > s.OPEN)\n        #temp_df = temp_df & CROSSOVER(s.BBB, s.CLOSE)\n        \n        return pd.DataFrame(  temp_df, columns=[\"buy\"] )\n     \n    # Short Strategies\n    def short_indicators(s):\n        temp_df = 0\n        temp_df = temp_df | (REF(s.fastk,1) >=80)&(s.fastk<80)\n        temp_df = temp_df | CROSSOVER(s.fastd, s.fastk)\n        temp_df = temp_df | (REF(s.macd,1) >=0)&(s.macd<0)\n        temp_df = temp_df | CROSSOVER(s.macdsignal, s.macd)\n        temp_df = temp_df | (REF(s.rsi,1) >=50)\n        #temp_df = temp_df & CROSSOVER(s.CLOSE, s.BBT)\n        return pd.DataFrame( temp_df, columns=[\"sell\"])\n    \n\n    \n    def long_breakout(s):\n        temp_df = s.haCLOSE >= s.BBT.shift(1)\n        temp_df = temp_df | (s.haCLOSE >= s.haOPEN.shift(2))\n        temp_df = temp_df & ( CROSSOVER(s.OPEN, s.BBT) | CROSSOVER(s.OPEN, s.BBB) | CROSSOVER(s.OPEN, s.BBM))\n        return pd.DataFrame( temp_df , columns=[\"buy\"])\n    \n    def short_breakout(s):\n        temp_df = s.haOPEN <= s.BBB.shift(1)\n        temp_df = temp_df | (s.haCLOSE <= s.haOPEN.shift(2))\n        temp_df = temp_df & ( CROSSOVER(s.BBT, s.OPEN) | CROSSOVER(s.BBB, s.OPEN) | CROSSOVER(s.BBM, s.OPEN))\n        return pd.DataFrame( temp_df , columns=[\"sell\"])\n    \n    def long_ha(s):\n        temp_df = (REF(s.haCLOSE,2) < REF(s.haOPEN,2)) & (REF(s.haCLOSE,1) < REF(s.haOPEN,1)) & (s.haCLOSE > s.haOPEN) \n        #temp_df = temp_df & (s.rsi < 40 )\n        return pd.DataFrame( temp_df , columns=[\"buy\"])\n    \n    def short_ha(s):\n        temp_df = (REF(s.haCLOSE,2) > REF(s.haOPEN,2)) & (REF(s.haCLOSE,1) > REF(s.haOPEN,1)) & (s.haCLOSE < s.haOPEN)\n        #temp_df = temp_df & (s.rsi > 60 )\n        return pd.DataFrame( temp_df , columns=[\"sell\"])\n\n    def tradeDecision(s, price_ohlc_df):\n        global blackoutEnabled\n\n        super(algoTrade, s).tradeDecision(price_ohlc_df)\n        \n        #s.rsi = RSI(s.CLOSE, timeperiod=20)\n        #s.min = MIN(s.CLOSE, timeperiod=30)\n        #s.max = MAX(s.CLOSE, timeperiod=30)\n        \n        s.buy  = s.long_ha() & s.long_indicators()\n        s.sell = s.short_ha() & s.short_indicators()\n        \n        s.postprocess()\n        \n        return (s.buy,s.sell)\n        \nif mode == \"Algo\":\n    x = 'YESBANK'\n    gc.collect()\n    days=1\n    portfolio = pd.DataFrame([x])\n    toDate = dt.datetime(2019,5,3,15,15)\n    #portfolio = pd.DataFrame(downloadlist)    \n    print(\"\\nPortfolio return: \"+ '%.2f'%trade_simulator(portfolio, toDate, cd=False, plot=True)+\"%\")\n    \n    ",
      "execution_count": 6,
      "outputs": [
        {
          "output_type": "error",
          "ename": "UnboundLocalError",
          "evalue": "local variable 'temp_data' referenced before assignment",
          "traceback": [
            "\u001b[0;31m---------------------------------------------------------------------------\u001b[0m",
            "\u001b[0;31mTokenException\u001b[0m                            Traceback (most recent call last)",
            "\u001b[0;32m<ipython-input-2-c5347bbfba5c>\u001b[0m in \u001b[0;36mgetData\u001b[0;34m(symbol, fromDate, toDate, exchange, freq, force, symbolToken)\u001b[0m\n\u001b[1;32m     48\u001b[0m             \u001b[0mlogging\u001b[0m\u001b[0;34m.\u001b[0m\u001b[0minfo\u001b[0m\u001b[0;34m(\u001b[0m\u001b[0;34m\"Downloading data from fromDate to lDate\"\u001b[0m\u001b[0;34m)\u001b[0m\u001b[0;34m\u001b[0m\u001b[0m\n\u001b[0;32m---> 49\u001b[0;31m             \u001b[0mtemp_data\u001b[0m \u001b[0;34m=\u001b[0m \u001b[0mdownloadData\u001b[0m\u001b[0;34m(\u001b[0m\u001b[0msymbol\u001b[0m\u001b[0;34m,\u001b[0m  \u001b[0mfromDate\u001b[0m\u001b[0;34m,\u001b[0m \u001b[0mlDate\u001b[0m\u001b[0;34m,\u001b[0m \u001b[0mfreq\u001b[0m\u001b[0;34m)\u001b[0m\u001b[0;34m\u001b[0m\u001b[0m\n\u001b[0m\u001b[1;32m     50\u001b[0m             \u001b[0mtemp_data\u001b[0m \u001b[0;34m=\u001b[0m \u001b[0mtemp_data\u001b[0m\u001b[0;34m.\u001b[0m\u001b[0mappend\u001b[0m\u001b[0;34m(\u001b[0m\u001b[0mraw_data\u001b[0m\u001b[0;34m.\u001b[0m\u001b[0mtail\u001b[0m\u001b[0;34m(\u001b[0m\u001b[0;34m-\u001b[0m\u001b[0;36m1\u001b[0m\u001b[0;34m)\u001b[0m\u001b[0;34m)\u001b[0m\u001b[0;34m\u001b[0m\u001b[0m\n",
            "\u001b[0;32m<ipython-input-2-c5347bbfba5c>\u001b[0m in \u001b[0;36mdownloadData\u001b[0;34m(symbol, fromDate, toDate, freq)\u001b[0m\n\u001b[1;32m     12\u001b[0m     \u001b[0mlogging\u001b[0m\u001b[0;34m.\u001b[0m\u001b[0mdebug\u001b[0m\u001b[0;34m(\u001b[0m\u001b[0mfreq\u001b[0m\u001b[0;34m)\u001b[0m\u001b[0;34m\u001b[0m\u001b[0m\n\u001b[0;32m---> 13\u001b[0;31m     \u001b[0mraw_data\u001b[0m \u001b[0;34m=\u001b[0m \u001b[0mpd\u001b[0m\u001b[0;34m.\u001b[0m\u001b[0mDataFrame\u001b[0m\u001b[0;34m(\u001b[0m\u001b[0mdata\u001b[0m\u001b[0;34m=\u001b[0m\u001b[0mkite\u001b[0m\u001b[0;34m.\u001b[0m\u001b[0mhistorical_data\u001b[0m\u001b[0;34m(\u001b[0m\u001b[0msymbolToken\u001b[0m\u001b[0;34m,\u001b[0m \u001b[0mfromDate\u001b[0m\u001b[0;34m,\u001b[0m \u001b[0mtoDate\u001b[0m\u001b[0;34m,\u001b[0m \u001b[0mfreq\u001b[0m\u001b[0;34m,\u001b[0m \u001b[0mcontinuous\u001b[0m\u001b[0;34m=\u001b[0m\u001b[0;32mFalse\u001b[0m\u001b[0;34m)\u001b[0m\u001b[0;34m)\u001b[0m\u001b[0;34m\u001b[0m\u001b[0m\n\u001b[0m\u001b[1;32m     14\u001b[0m     \u001b[0mraw_data\u001b[0m \u001b[0;34m=\u001b[0m \u001b[0mraw_data\u001b[0m\u001b[0;34m.\u001b[0m\u001b[0mset_index\u001b[0m\u001b[0;34m(\u001b[0m\u001b[0;34m'date'\u001b[0m\u001b[0;34m)\u001b[0m\u001b[0;34m.\u001b[0m\u001b[0mtz_localize\u001b[0m\u001b[0;34m(\u001b[0m\u001b[0;32mNone\u001b[0m\u001b[0;34m)\u001b[0m\u001b[0;34m\u001b[0m\u001b[0m\n",
            "\u001b[0;32m~/.local/lib/python3.5/site-packages/kiteconnect-3.7.7-py3.5.egg/kiteconnect/connect.py\u001b[0m in \u001b[0;36mhistorical_data\u001b[0;34m(self, instrument_token, from_date, to_date, interval, continuous)\u001b[0m\n\u001b[1;32m    607\u001b[0m             \u001b[0;34m\"interval\"\u001b[0m\u001b[0;34m:\u001b[0m \u001b[0minterval\u001b[0m\u001b[0;34m,\u001b[0m\u001b[0;34m\u001b[0m\u001b[0m\n\u001b[0;32m--> 608\u001b[0;31m             \u001b[0;34m\"continuous\"\u001b[0m\u001b[0;34m:\u001b[0m \u001b[0;36m1\u001b[0m \u001b[0;32mif\u001b[0m \u001b[0mcontinuous\u001b[0m \u001b[0;32melse\u001b[0m \u001b[0;36m0\u001b[0m\u001b[0;34m\u001b[0m\u001b[0m\n\u001b[0m\u001b[1;32m    609\u001b[0m         })\n",
            "\u001b[0;32m~/.local/lib/python3.5/site-packages/kiteconnect-3.7.7-py3.5.egg/kiteconnect/connect.py\u001b[0m in \u001b[0;36m_get\u001b[0;34m(self, route, params)\u001b[0m\n\u001b[1;32m    696\u001b[0m         \u001b[0;34m\"\"\"Alias for sending a GET request.\"\"\"\u001b[0m\u001b[0;34m\u001b[0m\u001b[0m\n\u001b[0;32m--> 697\u001b[0;31m         \u001b[0;32mreturn\u001b[0m \u001b[0mself\u001b[0m\u001b[0;34m.\u001b[0m\u001b[0m_request\u001b[0m\u001b[0;34m(\u001b[0m\u001b[0mroute\u001b[0m\u001b[0;34m,\u001b[0m \u001b[0;34m\"GET\"\u001b[0m\u001b[0;34m,\u001b[0m \u001b[0mparams\u001b[0m\u001b[0;34m)\u001b[0m\u001b[0;34m\u001b[0m\u001b[0m\n\u001b[0m\u001b[1;32m    698\u001b[0m \u001b[0;34m\u001b[0m\u001b[0m\n",
            "\u001b[0;32m~/.local/lib/python3.5/site-packages/kiteconnect-3.7.7-py3.5.egg/kiteconnect/connect.py\u001b[0m in \u001b[0;36m_request\u001b[0;34m(self, route, method, parameters)\u001b[0m\n\u001b[1;32m    765\u001b[0m                 \u001b[0mexp\u001b[0m \u001b[0;34m=\u001b[0m \u001b[0mgetattr\u001b[0m\u001b[0;34m(\u001b[0m\u001b[0mex\u001b[0m\u001b[0;34m,\u001b[0m \u001b[0mdata\u001b[0m\u001b[0;34m[\u001b[0m\u001b[0;34m\"error_type\"\u001b[0m\u001b[0;34m]\u001b[0m\u001b[0;34m,\u001b[0m \u001b[0mex\u001b[0m\u001b[0;34m.\u001b[0m\u001b[0mGeneralException\u001b[0m\u001b[0;34m)\u001b[0m\u001b[0;34m\u001b[0m\u001b[0m\n\u001b[0;32m--> 766\u001b[0;31m                 \u001b[0;32mraise\u001b[0m \u001b[0mexp\u001b[0m\u001b[0;34m(\u001b[0m\u001b[0mdata\u001b[0m\u001b[0;34m[\u001b[0m\u001b[0;34m\"message\"\u001b[0m\u001b[0;34m]\u001b[0m\u001b[0;34m,\u001b[0m \u001b[0mcode\u001b[0m\u001b[0;34m=\u001b[0m\u001b[0mr\u001b[0m\u001b[0;34m.\u001b[0m\u001b[0mstatus_code\u001b[0m\u001b[0;34m)\u001b[0m\u001b[0;34m\u001b[0m\u001b[0m\n\u001b[0m\u001b[1;32m    767\u001b[0m \u001b[0;34m\u001b[0m\u001b[0m\n",
            "\u001b[0;31mTokenException\u001b[0m: Incorrect `api_key` or `access_token`.",
            "\nDuring handling of the above exception, another exception occurred:\n",
            "\u001b[0;31mTokenException\u001b[0m                            Traceback (most recent call last)",
            "\u001b[0;32m<ipython-input-2-c5347bbfba5c>\u001b[0m in \u001b[0;36mgetData\u001b[0;34m(symbol, fromDate, toDate, exchange, freq, force, symbolToken)\u001b[0m\n\u001b[1;32m     70\u001b[0m         \u001b[0mlogging\u001b[0m\u001b[0;34m.\u001b[0m\u001b[0mdebug\u001b[0m\u001b[0;34m(\u001b[0m\u001b[0me\u001b[0m\u001b[0;34m)\u001b[0m\u001b[0;34m\u001b[0m\u001b[0m\n\u001b[0;32m---> 71\u001b[0;31m         \u001b[0mtemp_data\u001b[0m \u001b[0;34m=\u001b[0m \u001b[0mdownloadData\u001b[0m\u001b[0;34m(\u001b[0m\u001b[0msymbol\u001b[0m\u001b[0;34m,\u001b[0m \u001b[0mfromDate\u001b[0m\u001b[0;34m,\u001b[0m \u001b[0mtoDate\u001b[0m\u001b[0;34m,\u001b[0m \u001b[0mfreq\u001b[0m\u001b[0;34m)\u001b[0m\u001b[0;34m\u001b[0m\u001b[0m\n\u001b[0m\u001b[1;32m     72\u001b[0m     \u001b[0;32mfinally\u001b[0m\u001b[0;34m:\u001b[0m\u001b[0;34m\u001b[0m\u001b[0m\n",
            "\u001b[0;32m<ipython-input-2-c5347bbfba5c>\u001b[0m in \u001b[0;36mdownloadData\u001b[0;34m(symbol, fromDate, toDate, freq)\u001b[0m\n\u001b[1;32m     12\u001b[0m     \u001b[0mlogging\u001b[0m\u001b[0;34m.\u001b[0m\u001b[0mdebug\u001b[0m\u001b[0;34m(\u001b[0m\u001b[0mfreq\u001b[0m\u001b[0;34m)\u001b[0m\u001b[0;34m\u001b[0m\u001b[0m\n\u001b[0;32m---> 13\u001b[0;31m     \u001b[0mraw_data\u001b[0m \u001b[0;34m=\u001b[0m \u001b[0mpd\u001b[0m\u001b[0;34m.\u001b[0m\u001b[0mDataFrame\u001b[0m\u001b[0;34m(\u001b[0m\u001b[0mdata\u001b[0m\u001b[0;34m=\u001b[0m\u001b[0mkite\u001b[0m\u001b[0;34m.\u001b[0m\u001b[0mhistorical_data\u001b[0m\u001b[0;34m(\u001b[0m\u001b[0msymbolToken\u001b[0m\u001b[0;34m,\u001b[0m \u001b[0mfromDate\u001b[0m\u001b[0;34m,\u001b[0m \u001b[0mtoDate\u001b[0m\u001b[0;34m,\u001b[0m \u001b[0mfreq\u001b[0m\u001b[0;34m,\u001b[0m \u001b[0mcontinuous\u001b[0m\u001b[0;34m=\u001b[0m\u001b[0;32mFalse\u001b[0m\u001b[0;34m)\u001b[0m\u001b[0;34m)\u001b[0m\u001b[0;34m\u001b[0m\u001b[0m\n\u001b[0m\u001b[1;32m     14\u001b[0m     \u001b[0mraw_data\u001b[0m \u001b[0;34m=\u001b[0m \u001b[0mraw_data\u001b[0m\u001b[0;34m.\u001b[0m\u001b[0mset_index\u001b[0m\u001b[0;34m(\u001b[0m\u001b[0;34m'date'\u001b[0m\u001b[0;34m)\u001b[0m\u001b[0;34m.\u001b[0m\u001b[0mtz_localize\u001b[0m\u001b[0;34m(\u001b[0m\u001b[0;32mNone\u001b[0m\u001b[0;34m)\u001b[0m\u001b[0;34m\u001b[0m\u001b[0m\n",
            "\u001b[0;32m~/.local/lib/python3.5/site-packages/kiteconnect-3.7.7-py3.5.egg/kiteconnect/connect.py\u001b[0m in \u001b[0;36mhistorical_data\u001b[0;34m(self, instrument_token, from_date, to_date, interval, continuous)\u001b[0m\n\u001b[1;32m    607\u001b[0m             \u001b[0;34m\"interval\"\u001b[0m\u001b[0;34m:\u001b[0m \u001b[0minterval\u001b[0m\u001b[0;34m,\u001b[0m\u001b[0;34m\u001b[0m\u001b[0m\n\u001b[0;32m--> 608\u001b[0;31m             \u001b[0;34m\"continuous\"\u001b[0m\u001b[0;34m:\u001b[0m \u001b[0;36m1\u001b[0m \u001b[0;32mif\u001b[0m \u001b[0mcontinuous\u001b[0m \u001b[0;32melse\u001b[0m \u001b[0;36m0\u001b[0m\u001b[0;34m\u001b[0m\u001b[0m\n\u001b[0m\u001b[1;32m    609\u001b[0m         })\n",
            "\u001b[0;32m~/.local/lib/python3.5/site-packages/kiteconnect-3.7.7-py3.5.egg/kiteconnect/connect.py\u001b[0m in \u001b[0;36m_get\u001b[0;34m(self, route, params)\u001b[0m\n\u001b[1;32m    696\u001b[0m         \u001b[0;34m\"\"\"Alias for sending a GET request.\"\"\"\u001b[0m\u001b[0;34m\u001b[0m\u001b[0m\n\u001b[0;32m--> 697\u001b[0;31m         \u001b[0;32mreturn\u001b[0m \u001b[0mself\u001b[0m\u001b[0;34m.\u001b[0m\u001b[0m_request\u001b[0m\u001b[0;34m(\u001b[0m\u001b[0mroute\u001b[0m\u001b[0;34m,\u001b[0m \u001b[0;34m\"GET\"\u001b[0m\u001b[0;34m,\u001b[0m \u001b[0mparams\u001b[0m\u001b[0;34m)\u001b[0m\u001b[0;34m\u001b[0m\u001b[0m\n\u001b[0m\u001b[1;32m    698\u001b[0m \u001b[0;34m\u001b[0m\u001b[0m\n",
            "\u001b[0;32m~/.local/lib/python3.5/site-packages/kiteconnect-3.7.7-py3.5.egg/kiteconnect/connect.py\u001b[0m in \u001b[0;36m_request\u001b[0;34m(self, route, method, parameters)\u001b[0m\n\u001b[1;32m    765\u001b[0m                 \u001b[0mexp\u001b[0m \u001b[0;34m=\u001b[0m \u001b[0mgetattr\u001b[0m\u001b[0;34m(\u001b[0m\u001b[0mex\u001b[0m\u001b[0;34m,\u001b[0m \u001b[0mdata\u001b[0m\u001b[0;34m[\u001b[0m\u001b[0;34m\"error_type\"\u001b[0m\u001b[0;34m]\u001b[0m\u001b[0;34m,\u001b[0m \u001b[0mex\u001b[0m\u001b[0;34m.\u001b[0m\u001b[0mGeneralException\u001b[0m\u001b[0;34m)\u001b[0m\u001b[0;34m\u001b[0m\u001b[0m\n\u001b[0;32m--> 766\u001b[0;31m                 \u001b[0;32mraise\u001b[0m \u001b[0mexp\u001b[0m\u001b[0;34m(\u001b[0m\u001b[0mdata\u001b[0m\u001b[0;34m[\u001b[0m\u001b[0;34m\"message\"\u001b[0m\u001b[0;34m]\u001b[0m\u001b[0;34m,\u001b[0m \u001b[0mcode\u001b[0m\u001b[0;34m=\u001b[0m\u001b[0mr\u001b[0m\u001b[0;34m.\u001b[0m\u001b[0mstatus_code\u001b[0m\u001b[0;34m)\u001b[0m\u001b[0;34m\u001b[0m\u001b[0m\n\u001b[0m\u001b[1;32m    767\u001b[0m \u001b[0;34m\u001b[0m\u001b[0m\n",
            "\u001b[0;31mTokenException\u001b[0m: Incorrect `api_key` or `access_token`.",
            "\nDuring handling of the above exception, another exception occurred:\n",
            "\u001b[0;31mUnboundLocalError\u001b[0m                         Traceback (most recent call last)",
            "\u001b[0;32m<ipython-input-6-5159d96e5ea1>\u001b[0m in \u001b[0;36m<module>\u001b[0;34m()\u001b[0m\n\u001b[1;32m     77\u001b[0m     \u001b[0mtoDate\u001b[0m \u001b[0;34m=\u001b[0m \u001b[0mdt\u001b[0m\u001b[0;34m.\u001b[0m\u001b[0mdatetime\u001b[0m\u001b[0;34m(\u001b[0m\u001b[0;36m2019\u001b[0m\u001b[0;34m,\u001b[0m\u001b[0;36m5\u001b[0m\u001b[0;34m,\u001b[0m\u001b[0;36m3\u001b[0m\u001b[0;34m,\u001b[0m\u001b[0;36m15\u001b[0m\u001b[0;34m,\u001b[0m\u001b[0;36m15\u001b[0m\u001b[0;34m)\u001b[0m\u001b[0;34m\u001b[0m\u001b[0m\n\u001b[1;32m     78\u001b[0m     \u001b[0;31m#portfolio = pd.DataFrame(downloadlist)\u001b[0m\u001b[0;34m\u001b[0m\u001b[0;34m\u001b[0m\u001b[0m\n\u001b[0;32m---> 79\u001b[0;31m     \u001b[0mprint\u001b[0m\u001b[0;34m(\u001b[0m\u001b[0;34m\"\\nPortfolio return: \"\u001b[0m\u001b[0;34m+\u001b[0m \u001b[0;34m'%.2f'\u001b[0m\u001b[0;34m%\u001b[0m\u001b[0mtrade_simulator\u001b[0m\u001b[0;34m(\u001b[0m\u001b[0mportfolio\u001b[0m\u001b[0;34m,\u001b[0m \u001b[0mtoDate\u001b[0m\u001b[0;34m,\u001b[0m \u001b[0mcd\u001b[0m\u001b[0;34m=\u001b[0m\u001b[0;32mFalse\u001b[0m\u001b[0;34m,\u001b[0m \u001b[0mplot\u001b[0m\u001b[0;34m=\u001b[0m\u001b[0;32mTrue\u001b[0m\u001b[0;34m)\u001b[0m\u001b[0;34m+\u001b[0m\u001b[0;34m\"%\"\u001b[0m\u001b[0;34m)\u001b[0m\u001b[0;34m\u001b[0m\u001b[0m\n\u001b[0m\u001b[1;32m     80\u001b[0m \u001b[0;34m\u001b[0m\u001b[0m\n\u001b[1;32m     81\u001b[0m \u001b[0;34m\u001b[0m\u001b[0m\n",
            "\u001b[0;32m<ipython-input-2-37cbfa938c69>\u001b[0m in \u001b[0;36mtrade_simulator\u001b[0;34m(portfolio, toDate, plot, cd, mode)\u001b[0m\n\u001b[1;32m     46\u001b[0m         \u001b[0mlogger\u001b[0m\u001b[0;34m.\u001b[0m\u001b[0minfo\u001b[0m\u001b[0;34m(\u001b[0m\u001b[0my\u001b[0m\u001b[0;34m[\u001b[0m\u001b[0;36m0\u001b[0m\u001b[0;34m]\u001b[0m\u001b[0;34m)\u001b[0m\u001b[0;34m\u001b[0m\u001b[0m\n\u001b[1;32m     47\u001b[0m \u001b[0;34m\u001b[0m\u001b[0m\n\u001b[0;32m---> 48\u001b[0;31m         \u001b[0mtemp_data\u001b[0m \u001b[0;34m=\u001b[0m \u001b[0mgetData\u001b[0m\u001b[0;34m(\u001b[0m\u001b[0my\u001b[0m\u001b[0;34m[\u001b[0m\u001b[0;36m0\u001b[0m\u001b[0;34m]\u001b[0m\u001b[0;34m,\u001b[0m \u001b[0mfromDate\u001b[0m\u001b[0;34m,\u001b[0m \u001b[0mtoDate\u001b[0m\u001b[0;34m,\u001b[0m \u001b[0;34m\"minute\"\u001b[0m\u001b[0;34m,\u001b[0m\u001b[0mforce\u001b[0m \u001b[0;34m=\u001b[0m\u001b[0;32mFalse\u001b[0m\u001b[0;34m)\u001b[0m\u001b[0;34m\u001b[0m\u001b[0m\n\u001b[0m\u001b[1;32m     49\u001b[0m \u001b[0;34m\u001b[0m\u001b[0m\n\u001b[1;32m     50\u001b[0m         \u001b[0;31m#print(temp_data.head())\u001b[0m\u001b[0;34m\u001b[0m\u001b[0;34m\u001b[0m\u001b[0m\n",
            "\u001b[0;32m<ipython-input-2-c5347bbfba5c>\u001b[0m in \u001b[0;36mgetData\u001b[0;34m(symbol, fromDate, toDate, exchange, freq, force, symbolToken)\u001b[0m\n\u001b[1;32m     71\u001b[0m         \u001b[0mtemp_data\u001b[0m \u001b[0;34m=\u001b[0m \u001b[0mdownloadData\u001b[0m\u001b[0;34m(\u001b[0m\u001b[0msymbol\u001b[0m\u001b[0;34m,\u001b[0m \u001b[0mfromDate\u001b[0m\u001b[0;34m,\u001b[0m \u001b[0mtoDate\u001b[0m\u001b[0;34m,\u001b[0m \u001b[0mfreq\u001b[0m\u001b[0;34m)\u001b[0m\u001b[0;34m\u001b[0m\u001b[0m\n\u001b[1;32m     72\u001b[0m     \u001b[0;32mfinally\u001b[0m\u001b[0;34m:\u001b[0m\u001b[0;34m\u001b[0m\u001b[0m\n\u001b[0;32m---> 73\u001b[0;31m         \u001b[0mtemp_data\u001b[0m\u001b[0;34m.\u001b[0m\u001b[0mto_hdf\u001b[0m\u001b[0;34m(\u001b[0m\u001b[0;34m\"kite_data/kite_cache.h5\"\u001b[0m\u001b[0;34m,\u001b[0m \u001b[0mkey\u001b[0m\u001b[0;34m=\u001b[0m\u001b[0mkey\u001b[0m\u001b[0;34m,\u001b[0m \u001b[0mmode\u001b[0m\u001b[0;34m=\u001b[0m\u001b[0;34m\"a\"\u001b[0m\u001b[0;34m,\u001b[0m \u001b[0mformat\u001b[0m\u001b[0;34m=\u001b[0m\u001b[0;34m\"table\"\u001b[0m\u001b[0;34m)\u001b[0m\u001b[0;34m\u001b[0m\u001b[0m\n\u001b[0m\u001b[1;32m     74\u001b[0m         \u001b[0;32mreturn\u001b[0m \u001b[0mtemp_data\u001b[0m\u001b[0;34m[\u001b[0m\u001b[0;34m(\u001b[0m\u001b[0mtemp_data\u001b[0m\u001b[0;34m.\u001b[0m\u001b[0mindex\u001b[0m \u001b[0;34m>=\u001b[0m \u001b[0mfromDate\u001b[0m\u001b[0;34m)\u001b[0m \u001b[0;34m&\u001b[0m \u001b[0;34m(\u001b[0m\u001b[0mtemp_data\u001b[0m\u001b[0;34m.\u001b[0m\u001b[0mindex\u001b[0m \u001b[0;34m<=\u001b[0m \u001b[0mtoDate\u001b[0m\u001b[0;34m)\u001b[0m\u001b[0;34m]\u001b[0m\u001b[0;34m\u001b[0m\u001b[0m\n\u001b[1;32m     75\u001b[0m \u001b[0;34m\u001b[0m\u001b[0m\n",
            "\u001b[0;31mUnboundLocalError\u001b[0m: local variable 'temp_data' referenced before assignment"
          ]
        }
      ]
    },
    {
      "metadata": {
        "trusted": false
      },
      "cell_type": "code",
      "source": "",
      "execution_count": null,
      "outputs": []
    },
    {
      "metadata": {
        "trusted": false
      },
      "cell_type": "code",
      "source": "# Backtesting for no of days\n\nif mode == \"Algo\":\n    x = 'YESBANK'\n    gc.collect()\n    days=2\n    portfolio = pd.DataFrame([x])\n    \n    noofdays = 180\n    for i in np.linspace(noofdays,1,noofdays):\n        toDate = dt.datetime(2019,5,2,15,15) - dt.timedelta(days=i)\n        #print(toDate)\n        if isholiday(toDate) == True:\n            continue\n        print(toDate)\n        #portfolio = pd.DataFrame(downloadlist)    \n        trade_simulator(portfolio, toDate, cd=False, plot=False)\n    \n    ",
      "execution_count": null,
      "outputs": []
    },
    {
      "metadata": {
        "trusted": false
      },
      "cell_type": "code",
      "source": "if mode == \"Algo\":\n    x = 'RELIANCE'\n    gc.collect()\n    days =2\n    portfolio = pd.DataFrame([x])\n    toDate = dt.datetime(2019,4,30,15,15)\n    #portfolio = pd.DataFrame(downloadlist)    \n    print(\"\\nPortfolio return: \"+ '%.2f'%trade_simulator(portfolio, toDate, cd=True, plot=True)+\"%\")",
      "execution_count": null,
      "outputs": []
    },
    {
      "metadata": {
        "trusted": false
      },
      "cell_type": "code",
      "source": "",
      "execution_count": null,
      "outputs": []
    },
    {
      "metadata": {
        "trusted": false
      },
      "cell_type": "code",
      "source": "if mode == \"Algo\":\n    x = 'INFRATEL'\n    gc.collect()\n    portfolio = pd.DataFrame([x])\n    toDate = dt.datetime(2019,4,30,15,15)\n    #portfolio = pd.DataFrame(downloadlist)    \n    print(\"\\nPortfolio return: \"+ '%.2f'%trade_simulator(portfolio, toDate, mode=\"simulator\")+\"%\")",
      "execution_count": null,
      "outputs": []
    },
    {
      "metadata": {
        "trusted": true
      },
      "cell_type": "code",
      "source": "import pandas as pd",
      "execution_count": 1,
      "outputs": []
    },
    {
      "metadata": {
        "trusted": true
      },
      "cell_type": "code",
      "source": "",
      "execution_count": null,
      "outputs": []
    },
    {
      "metadata": {
        "trusted": true
      },
      "cell_type": "code",
      "source": "!ls -l --block-size=MB kite_data",
      "execution_count": 2,
      "outputs": [
        {
          "output_type": "stream",
          "text": "total 0MB\r\n-rw-r--r-- 1 nbuser nbuser   1MB May 21 09:17 access_token.txt\r\n-rw-r--r-- 1 nbuser nbuser 132MB May 21 15:44 kite_cache.h5\r\n",
          "name": "stdout"
        }
      ]
    },
    {
      "metadata": {
        "trusted": true
      },
      "cell_type": "code",
      "source": "pd.HDFStore('kite_data/kite_cache.h5').get('/minute/NSE/YESBANK').head()",
      "execution_count": 7,
      "outputs": [
        {
          "output_type": "execute_result",
          "execution_count": 7,
          "data": {
            "text/html": "<div>\n<table border=\"1\" class=\"dataframe\">\n  <thead>\n    <tr style=\"text-align: right;\">\n      <th></th>\n      <th>close</th>\n      <th>high</th>\n      <th>low</th>\n      <th>open</th>\n      <th>volume</th>\n    </tr>\n    <tr>\n      <th>date</th>\n      <th></th>\n      <th></th>\n      <th></th>\n      <th></th>\n      <th></th>\n    </tr>\n  </thead>\n  <tbody>\n    <tr>\n      <th>2019-04-22 09:15:00</th>\n      <td>250.80</td>\n      <td>253.95</td>\n      <td>249.40</td>\n      <td>253.95</td>\n      <td>577837</td>\n    </tr>\n    <tr>\n      <th>2019-04-22 09:16:00</th>\n      <td>247.30</td>\n      <td>251.60</td>\n      <td>247.30</td>\n      <td>251.50</td>\n      <td>466210</td>\n    </tr>\n    <tr>\n      <th>2019-04-22 09:17:00</th>\n      <td>249.30</td>\n      <td>249.60</td>\n      <td>247.45</td>\n      <td>247.45</td>\n      <td>257220</td>\n    </tr>\n    <tr>\n      <th>2019-04-22 09:18:00</th>\n      <td>249.20</td>\n      <td>249.40</td>\n      <td>248.00</td>\n      <td>249.35</td>\n      <td>343875</td>\n    </tr>\n    <tr>\n      <th>2019-04-22 09:19:00</th>\n      <td>247.95</td>\n      <td>249.20</td>\n      <td>247.95</td>\n      <td>249.10</td>\n      <td>297897</td>\n    </tr>\n  </tbody>\n</table>\n</div>",
            "text/plain": "                      close    high     low    open  volume\ndate                                                       \n2019-04-22 09:15:00  250.80  253.95  249.40  253.95  577837\n2019-04-22 09:16:00  247.30  251.60  247.30  251.50  466210\n2019-04-22 09:17:00  249.30  249.60  247.45  247.45  257220\n2019-04-22 09:18:00  249.20  249.40  248.00  249.35  343875\n2019-04-22 09:19:00  247.95  249.20  247.95  249.10  297897"
          },
          "metadata": {}
        }
      ]
    },
    {
      "metadata": {
        "trusted": true
      },
      "cell_type": "code",
      "source": "",
      "execution_count": null,
      "outputs": []
    }
  ],
  "metadata": {
    "kernelspec": {
      "name": "python3",
      "display_name": "Python 3",
      "language": "python"
    },
    "language_info": {
      "mimetype": "text/x-python",
      "nbconvert_exporter": "python",
      "name": "python",
      "file_extension": ".py",
      "version": "3.5.4",
      "pygments_lexer": "ipython3",
      "codemirror_mode": {
        "version": 3,
        "name": "ipython"
      }
    },
    "varInspector": {
      "cols": {
        "lenName": 16,
        "lenType": 16,
        "lenVar": 40
      },
      "kernels_config": {
        "python": {
          "delete_cmd_postfix": "",
          "delete_cmd_prefix": "del ",
          "library": "var_list.py",
          "varRefreshCmd": "print(var_dic_list())"
        },
        "r": {
          "delete_cmd_postfix": ") ",
          "delete_cmd_prefix": "rm(",
          "library": "var_list.r",
          "varRefreshCmd": "cat(var_dic_list()) "
        }
      },
      "position": {
        "height": "433px",
        "left": "1016px",
        "right": "20px",
        "top": "120px",
        "width": "373px"
      },
      "types_to_exclude": [
        "module",
        "function",
        "builtin_function_or_method",
        "instance",
        "_Feature"
      ],
      "window_display": false
    }
  },
  "nbformat": 4,
  "nbformat_minor": 2
}