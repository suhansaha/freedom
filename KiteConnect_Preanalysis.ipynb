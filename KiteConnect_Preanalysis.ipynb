{
 "cells": [
  {
   "cell_type": "markdown",
   "metadata": {},
   "source": [
    "## <span style=\"color:grey\">Initialization</span>"
   ]
  },
  {
   "cell_type": "code",
   "execution_count": null,
   "metadata": {},
   "outputs": [],
   "source": [
    "try:\n",
    "    mode\n",
    "except Exception as e:\n",
    "    %run \"KiteConnect_Library.ipynb\"  \n",
    "    logging.debug(e)\n",
    "    toDate = dt.datetime(2019,4,18,15,15)\n",
    "    fromDate = toDate - dt.timedelta(days = 1, hours=4)\n",
    "    mode = \"Preanalysis\"\n",
    "    papertrade = True\n"
   ]
  },
  {
   "cell_type": "markdown",
   "metadata": {},
   "source": [
    "##  <span style=\"color:green\">Trading Strategy </span>"
   ]
  },
  {
   "cell_type": "code",
   "execution_count": null,
   "metadata": {},
   "outputs": [],
   "source": [
    "%run \"KiteConnect_Strategies_v2.ipynb\"  "
   ]
  },
  {
   "cell_type": "code",
   "execution_count": null,
   "metadata": {},
   "outputs": [],
   "source": []
  },
  {
   "cell_type": "markdown",
   "metadata": {},
   "source": [
    "## Batch Analysis - Multithreaded"
   ]
  },
  {
   "cell_type": "code",
   "execution_count": null,
   "metadata": {},
   "outputs": [],
   "source": [
    "import matplotlib.pyplot as plt\n",
    "import seaborn as sns\n",
    "import plotly.graph_objs as go\n",
    "from plotly import tools\n",
    "from plotly.offline import download_plotlyjs, init_notebook_mode, plot, iplot\n",
    "\n",
    "noofcandles = 50\n",
    "threaded = True\n",
    "from multiprocessing import Pool\n",
    "def threadedBatchAnalysis(x):\n",
    "    global fig\n",
    "    #fig = \"\"\n",
    "    temp_data = getData(x, fromDate=toDate - dt.timedelta(days=365), toDate=toDate, freq=\"day\")\n",
    "    #logging.debug(temp_data)\n",
    "\n",
    "    fig = createPlot(x)\n",
    "    \n",
    "    plot_set1(temp_data)\n",
    "    \n",
    "    a = algoTrade(temp_data)\n",
    "    buy, sell = a.tradeDecision()\n",
    "    buy_df = annotateBuySell(buy, \"Buy\")\n",
    "    sell_df = annotateBuySell(sell, \"Sell\")\n",
    "    #print(os.getcwd())\n",
    "    plotData(x, False)\n",
    "\n",
    "if __name__ == '__main__':\n",
    "    portfolio = pd.DataFrame(['TCS', 'RIIL', 'HDFC','BAJAJ-AUTO'])\n",
    "    multithreading = False\n",
    "    if multithreading:\n",
    "        p = Pool(10)\n",
    "        p.map_async(threadedBatchAnalysis, portfolio[0])\n",
    "        #p.apply_async(threadedBatchAnalysis, ['SBIN'])\n",
    "        #portfolio\n",
    "    else:\n",
    "        for index, row in portfolio.iterrows():\n",
    "            threadedBatchAnalysis(row[0])"
   ]
  },
  {
   "cell_type": "markdown",
   "metadata": {},
   "source": [
    "## Batch Downloader for stock data"
   ]
  },
  {
   "cell_type": "code",
   "execution_count": null,
   "metadata": {},
   "outputs": [],
   "source": [
    "stock_list = pd.read_csv('data/zerodha_margin.csv')\n",
    "\n",
    "stock_list.drop(['Serial No.','Unnamed: 3','Serial No..1','Stocks not allowed for MIS','Unnamed: 6', 'Reason', 'Stocks which were allowed but temporarily banned', 'Serial No..2'], axis=1, inplace=True)\n",
    "\n",
    "\n",
    "\n",
    "stock_list.dropna(inplace=True)\n",
    "\n",
    "stock_list.columns = ['symbol', 'margin']\n",
    "\n",
    "stock_list['symbol'] = stock_list['symbol'].str.replace(':EQ','')\n",
    "\n",
    "stock_list['margin'] = stock_list['margin'].str.replace('X','')\n",
    "\n",
    "stock_list = stock_list.sort_values(['margin','symbol'])\n",
    "\n",
    "portfolio = stock_list['symbol']"
   ]
  },
  {
   "cell_type": "code",
   "execution_count": null,
   "metadata": {},
   "outputs": [],
   "source": [
    "import time\n",
    "#logger.info(\"Resume download\")\n",
    "toDate = dt.datetime.now() #-dt.timedelta(days=2*365)\n",
    "fromDate = toDate - dt.timedelta(days=2*365)\n",
    "freq = 'minute'\n",
    "counter = 0\n",
    "#portfolio = ['NIFTY SMALL 100','NIFTY INFRA','NIFTY MEDIA','NIFTY MNC','NIFTY 200','NIFTY FIN SERVICE','NIFTY PHARMA','NIFTY COMMODITIES','NIFTY REALTY','NIFTY PSU BANK','NIFTY BANK','NIFTY IT','NIFTY 50','NIFTY AUTO','NIFTY 100','NIFTY METAL','NIFTY JUNIOR','NIFTY ENERGY','NIFTY MIDCAP 50','NDIA VIX','NIFTY MIDCAP 100','NIFTY FMCG']\n",
    "portfolio = ['NIFTY19MAYFUT']\n",
    "for symbol in portfolio:\n",
    "    try:\n",
    "        logger.debug('Dowloading data for:'+symbol)\n",
    "        getData(symbol, fromDate, toDate, exchange=\"NFO\", freq=freq, force=False, symbolToken='13427458')\n",
    "    except:\n",
    "        logger.debug('Could not download: '+symbol)\n",
    "        time.sleep(2)\n",
    "        \n",
    "    gc.collect()"
   ]
  },
  {
   "cell_type": "raw",
   "metadata": {},
   "source": [
    "key_list=pd.HDFStore(\"kite_data/kite_cache.h5\").keys()"
   ]
  },
  {
   "cell_type": "raw",
   "metadata": {},
   "source": [
    "pd.HDFStore(\"kite_data/kite_cache.h5\").get('/minute/NSE/INFY').tail()"
   ]
  },
  {
   "cell_type": "markdown",
   "metadata": {},
   "source": [
    "## Futures Download - NIFTY"
   ]
  },
  {
   "cell_type": "code",
   "execution_count": null,
   "metadata": {},
   "outputs": [],
   "source": [
    "futures_df = getInstruments('NFO')\n",
    "\n",
    "futures_df[futures_df.index=='NIFTY19MAYFUT']\n",
    "\n",
    "toDate = dt.datetime.now() #-dt.timedelta(days=2*365)\n",
    "fromDate = toDate - dt.timedelta(days=2*365)\n",
    "freq = 'minute'\n",
    "symbolToken = 13427458\n",
    "\n",
    "\n",
    "raw_data = pd.DataFrame(data=kite.historical_data(symbolToken, fromDate, toDate, freq, continuous=False))\n",
    "raw_data = raw_data.set_index('date').tz_localize(None)\n",
    "\n",
    "exchange = 'NFO'\n",
    "key = freq+\"/\"+exchange+\"/\"+symbol\n",
    "raw_data.to_hdf(\"kite_data/kite_cache.h5\", key=key, mode=\"a\", format=\"table\")"
   ]
  },
  {
   "cell_type": "code",
   "execution_count": null,
   "metadata": {},
   "outputs": [],
   "source": []
  }
 ],
 "metadata": {
  "kernelspec": {
   "display_name": "Python 3",
   "language": "python",
   "name": "python3"
  },
  "varInspector": {
   "cols": {
    "lenName": 16,
    "lenType": 16,
    "lenVar": 40
   },
   "kernels_config": {
    "python": {
     "delete_cmd_postfix": "",
     "delete_cmd_prefix": "del ",
     "library": "var_list.py",
     "varRefreshCmd": "print(var_dic_list())"
    },
    "r": {
     "delete_cmd_postfix": ") ",
     "delete_cmd_prefix": "rm(",
     "library": "var_list.r",
     "varRefreshCmd": "cat(var_dic_list()) "
    }
   },
   "position": {
    "height": "433px",
    "left": "1016px",
    "right": "20px",
    "top": "120px",
    "width": "373px"
   },
   "types_to_exclude": [
    "module",
    "function",
    "builtin_function_or_method",
    "instance",
    "_Feature"
   ],
   "window_display": false
  }
 },
 "nbformat": 4,
 "nbformat_minor": 2
}
