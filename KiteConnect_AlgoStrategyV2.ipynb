{
  "cells": [
    {
      "metadata": {},
      "cell_type": "markdown",
      "source": "## <span style=\"color:grey\">Initialization</span>"
    },
    {
      "metadata": {
        "code_folding": [],
        "trusted": true
      },
      "cell_type": "code",
      "source": "%run \"KiteConnect_AlgoBase.ipynb\" ",
      "execution_count": null,
      "outputs": []
    },
    {
      "metadata": {},
      "cell_type": "markdown",
      "source": "##  <span style=\"color:green\">Trading Strategy </span>"
    },
    {
      "metadata": {
        "cell_style": "center",
        "code_folding": [
          33,
          39
        ],
        "trusted": true
      },
      "cell_type": "code",
      "source": "class algoTrade(algoTrade_base):\n   \n    def __init__(s, symbol):\n        logger.debug(\"AlgoTrade Called: \"+symbol)\n        super(algoTrade, s).__init__(symbol)\n        \n    \n    # Long Strategies\n    def long_indicators(s):\n        temp_df = 0\n        #temp_df = temp_df | (REF(s.fastk,1) <=20)&(s.fastk>20)\n        #temp_df = temp_df | CROSSOVER(s.fastk, s.fastd)\n        #temp_df = temp_df | (REF(s.macd,1) <=0)&(s.macd>0)\n        #temp_df = temp_df | CROSSOVER(s.macd, s.macdsignal)\n        temp_df = temp_df | (REF(s.rsi,1) <=40)\n        #temp_df = temp_df | (s.CLOSE.shift(1) == s.min.shift(1)) & (s.CLOSE > s.OPEN)\n        #temp_df = temp_df & CROSSOVER(s.BBB, s.CLOSE)\n        \n        return pd.DataFrame(  temp_df, columns=[\"buy\"] )\n     \n    # Short Strategies\n    def short_indicators(s):\n        temp_df = 0\n        #temp_df = temp_df | (REF(s.fastk,1) >=80)&(s.fastk<80)\n        #temp_df = temp_df | CROSSOVER(s.fastd, s.fastk)\n        #temp_df = temp_df | (REF(s.macd,1) >=0)&(s.macd<0)\n        #temp_df = temp_df | CROSSOVER(s.macdsignal, s.macd)\n        temp_df = temp_df | (REF(s.rsi,1) >=60)\n        #temp_df = temp_df & CROSSOVER(s.CLOSE, s.BBT)\n        return pd.DataFrame( temp_df, columns=[\"sell\"])\n    \n\n    \n    def long_breakout(s):\n        temp_df = s.haCLOSE >= s.BBT.shift(1)\n        temp_df = temp_df | (s.haCLOSE >= s.haOPEN.shift(2))\n        temp_df = temp_df & ( CROSSOVER(s.OPEN, s.BBT) | CROSSOVER(s.OPEN, s.BBB) | CROSSOVER(s.OPEN, s.BBM))\n        return pd.DataFrame( temp_df , columns=[\"buy\"])\n    \n    def short_breakout(s):\n        temp_df = s.haOPEN <= s.BBB.shift(1)\n        temp_df = temp_df | (s.haCLOSE <= s.haOPEN.shift(2))\n        temp_df = temp_df & ( CROSSOVER(s.BBT, s.OPEN) | CROSSOVER(s.BBB, s.OPEN) | CROSSOVER(s.BBM, s.OPEN))\n        return pd.DataFrame( temp_df , columns=[\"sell\"])\n    \n    def long_ha(s):\n        temp_df = (REF(s.haCLOSE,3) < REF(s.haOPEN,3)) & (REF(s.haCLOSE,2) < REF(s.haOPEN,2)) & (REF(s.haCLOSE,1) > REF(s.haOPEN,1)) & (s.haCLOSE > s.haOPEN)  \n        #temp_df = temp_df & (s.rsi < 40 )\n        return pd.DataFrame( temp_df , columns=[\"buy\"])\n    \n    def short_ha(s):\n        temp_df = (REF(s.haCLOSE,3) > REF(s.haOPEN,3)) & (REF(s.haCLOSE,2) > REF(s.haOPEN,2)) & (REF(s.haCLOSE,1) < REF(s.haOPEN,1)) & (s.haCLOSE < s.haOPEN)\n        #temp_df = temp_df & (s.rsi > 60 )\n        return pd.DataFrame( temp_df , columns=[\"sell\"])\n\n    def tradeDecision(s, price_ohlc_df):\n        global blackoutEnabled\n\n        super(algoTrade, s).tradeDecision(price_ohlc_df)\n        \n        #s.rsi = RSI(s.CLOSE, timeperiod=20)\n        #s.min = MIN(s.CLOSE, timeperiod=30)\n        #s.max = MAX(s.CLOSE, timeperiod=30)\n        \n        s.buy  = s.long_ha() & s.long_indicators()\n        s.sell = s.short_ha() & s.short_indicators()\n        \n        s.postprocess()\n        \n        return (s.buy,s.sell)\n    \n      \n    def trade_setup(s, price):\n        s.price = price\n        s.trigger = price\n        s.stoploss = toTick(price * 0.1/100)\n        s.target = toTick(price * 1/100)\n        s.quantity = 1\n        s.tag = \"bot\"\n        \nif mode == \"Algo\":\n    x = 'ICICIBANK'\n    gc.collect()\n    days=1\n    portfolio = pd.DataFrame([x])\n    toDate = dt.datetime(2019,5,2,15,15)\n    #portfolio = pd.DataFrame(downloadlist)    \n    print(\"\\nPortfolio return: \"+ '%.2f'%trade_simulator(portfolio, toDate, cd=False, plot=True)+\"%\")\n    \n    ",
      "execution_count": null,
      "outputs": []
    },
    {
      "metadata": {
        "trusted": true
      },
      "cell_type": "code",
      "source": "",
      "execution_count": null,
      "outputs": []
    },
    {
      "metadata": {
        "scrolled": false,
        "trusted": true
      },
      "cell_type": "code",
      "source": "# Backtesting for no of days\n\nif mode == \"Algo\":\n    x = 'YESBANK'\n    gc.collect()\n    days=2\n    portfolio = pd.DataFrame([x])\n    \n    noofdays = 180\n    for i in np.linspace(noofdays,1,noofdays):\n        toDate = dt.datetime(2019,5,3,15,15) - dt.timedelta(days=i)\n        #print(toDate)\n        if isholiday(toDate) == True:\n            continue\n        print(toDate)\n        #portfolio = pd.DataFrame(downloadlist)    \n        trade_simulator(portfolio, toDate, cd=False, plot=False)\n    \n    ",
      "execution_count": null,
      "outputs": []
    },
    {
      "metadata": {
        "trusted": true
      },
      "cell_type": "code",
      "source": "cumsum",
      "execution_count": null,
      "outputs": []
    },
    {
      "metadata": {
        "trusted": true
      },
      "cell_type": "code",
      "source": "if mode == \"Algo\":\n    x = 'RELIANCE'\n    gc.collect()\n    days =2\n    portfolio = pd.DataFrame([x])\n    toDate = dt.datetime(2019,5,3,15,15)\n    portfolio = pd.DataFrame(downloadlist.drop(24))    \n    print(\"\\nPortfolio return: \"+ '%.2f'%trade_simulator(portfolio, toDate, cd=True, plot=True)+\"%\")",
      "execution_count": null,
      "outputs": []
    },
    {
      "metadata": {
        "trusted": true
      },
      "cell_type": "code",
      "source": "",
      "execution_count": null,
      "outputs": []
    },
    {
      "metadata": {
        "trusted": true
      },
      "cell_type": "code",
      "source": "if mode == \"Algo\":\n    x = 'INFRATEL'\n    gc.collect()\n    portfolio = pd.DataFrame([x])\n    toDate = dt.datetime(2019,4,30,15,15)\n    #portfolio = pd.DataFrame(downloadlist)    \n    print(\"\\nPortfolio return: \"+ '%.2f'%trade_simulator(portfolio, toDate, mode=\"simulator\")+\"%\")",
      "execution_count": null,
      "outputs": []
    },
    {
      "metadata": {
        "trusted": true
      },
      "cell_type": "code",
      "source": "",
      "execution_count": null,
      "outputs": []
    },
    {
      "metadata": {
        "trusted": true
      },
      "cell_type": "code",
      "source": "import pandas as pd\nstock_df = pd.HDFStore('kite_data/kite_cache.h5')",
      "execution_count": null,
      "outputs": []
    },
    {
      "metadata": {
        "scrolled": false,
        "trusted": true
      },
      "cell_type": "code",
      "source": "for key in stock_df.keys():\n    temp_df = stock_df.get(key).tail(3000)\n    temp_df.to_hdf('kite_data/minidump.h5',key)\n    ",
      "execution_count": null,
      "outputs": []
    },
    {
      "metadata": {
        "trusted": true
      },
      "cell_type": "code",
      "source": "",
      "execution_count": null,
      "outputs": []
    }
  ],
  "metadata": {
    "kernelspec": {
      "name": "python36",
      "display_name": "Python 3.6",
      "language": "python"
    },
    "language_info": {
      "mimetype": "text/x-python",
      "nbconvert_exporter": "python",
      "name": "python",
      "pygments_lexer": "ipython3",
      "version": "3.6.6",
      "file_extension": ".py",
      "codemirror_mode": {
        "version": 3,
        "name": "ipython"
      }
    },
    "varInspector": {
      "cols": {
        "lenName": 16,
        "lenType": 16,
        "lenVar": 40
      },
      "kernels_config": {
        "python": {
          "delete_cmd_postfix": "",
          "delete_cmd_prefix": "del ",
          "library": "var_list.py",
          "varRefreshCmd": "print(var_dic_list())"
        },
        "r": {
          "delete_cmd_postfix": ") ",
          "delete_cmd_prefix": "rm(",
          "library": "var_list.r",
          "varRefreshCmd": "cat(var_dic_list()) "
        }
      },
      "position": {
        "height": "433px",
        "left": "1016px",
        "right": "20px",
        "top": "120px",
        "width": "373px"
      },
      "types_to_exclude": [
        "module",
        "function",
        "builtin_function_or_method",
        "instance",
        "_Feature"
      ],
      "window_display": false
    }
  },
  "nbformat": 4,
  "nbformat_minor": 2
}